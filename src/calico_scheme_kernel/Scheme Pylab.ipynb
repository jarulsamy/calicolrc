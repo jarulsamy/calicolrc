{
 "metadata": {
  "kernelspec": {
   "codemirror_mode": "scheme",
   "display_name": "Scheme",
   "language": "scheme",
   "name": "echo_kernel"
  },
  "name": "",
  "signature": "sha256:848878b0edd83cbce82c703bd3bdc3b924b68876f82bef519fa6123c8f3ed4c3"
 },
 "nbformat": 3,
 "nbformat_minor": 0,
 "worksheets": [
  {
   "cells": [
    {
     "cell_type": "code",
     "collapsed": false,
     "input": [
      "(using \"pylab\")"
     ],
     "language": "python",
     "metadata": {},
     "outputs": [
      {
       "metadata": {},
       "output_type": "pyout",
       "prompt_number": 1,
       "text": [
        "(pylab)"
       ]
      }
     ],
     "prompt_number": 1
    },
    {
     "cell_type": "code",
     "collapsed": false,
     "input": [
      "(define t (pylab.arange 0.0 2.0 0.01))\n",
      "(define s (pylab.sin (* t pylab.pi 2)))\n",
      "(pylab.plot t s)\n",
      "\n",
      ";;xlabel('time (s)')\n",
      ";;ylabel('voltage (mV)')\n",
      ";;title('About as simple as it gets, folks')\n",
      ";;grid(True)\n",
      ";;savefig(\"test.png\")\n",
      ";;show()\n"
     ],
     "language": "python",
     "metadata": {},
     "outputs": [
      {
       "metadata": {},
       "output_type": "pyout",
       "prompt_number": 2,
       "text": [
        "[<matplotlib.lines.Line2D object at 0x7f7ae0fc2050>]"
       ]
      }
     ],
     "prompt_number": 2
    },
    {
     "cell_type": "code",
     "collapsed": false,
     "input": [
      "(dir pylab)"
     ],
     "language": "python",
     "metadata": {},
     "outputs": [
      {
       "metadata": {},
       "output_type": "pyout",
       "prompt_number": 5,
       "text": [
        "(ALLOW_THREADS Annotation Arrow Artist AutoLocator Axes BUFSIZE Button CLIP Circle ComplexWarning DAILY DataSource DateFormatter DateLocator DayLocator ERR_CALL ERR_DEFAULT ERR_DEFAULT2 ERR_IGNORE ERR_LOG ERR_PRINT ERR_RAISE ERR_WARN FLOATING_POINT_SUPPORT FPE_DIVIDEBYZERO FPE_INVALID FPE_OVERFLOW FPE_UNDERFLOW FR False_ Figure FigureCanvasBase FixedFormatter FixedLocator FormatStrFormatter Formatter FuncFormatter GridSpec HOURLY HourLocator IndexDateFormatter IndexLocator Inf Infinity LinAlgError Line2D LinearLocator Locator LogFormatter LogFormatterExponent LogFormatterMathtext LogLocator MAXDIMS MINUTELY MO MONTHLY MachAr MaxNLocator MinuteLocator ModuleDeprecationWarning MonthLocator MultipleLocator NAN NINF NZERO NaN Normalize NullFormatter NullLocator PINF PZERO PackageLoader PolarAxes Polygon RAISE RRuleLocator RankWarning Rectangle SA SECONDLY SHIFT_DIVIDEBYZERO SHIFT_INVALID SHIFT_OVERFLOW SHIFT_UNDERFLOW SU ScalarFormatter ScalarType SecondLocator Slider Subplot SubplotTool TH TU Tester Text TickHelper True_ UFUNC_BUFSIZE_DEFAULT UFUNC_PYVALS_NAME WE WEEKLY WRAP WeekdayLocator Widget YEARLY YearLocator __builtins__ __doc__ __file__ __name__ __package__ absolute absolute_import acorr add add_docstring add_newdoc add_newdoc_ufunc add_newdocs alen all allclose alltrue alterdot amap amax amin angle annotate any append apply_along_axis apply_over_axes arange arccos arccosh arcsin arcsinh arctan arctan2 arctanh argmax argmin argpartition argsort argwhere around array array2string array_equal array_equiv array_repr array_split array_str arrow asanyarray asarray asarray_chkfinite ascontiguousarray asfarray asfortranarray asmatrix asscalar atleast_1d atleast_2d atleast_3d autoscale autumn average axes axhline axhspan axis axvline axvspan bar barbs barh bartlett base_repr bench beta binary_repr bincount binomial bitwise_and bitwise_not bitwise_or bitwise_xor bivariate_normal blackman bmat bone bool8 bool_ box boxplot broadcast broadcast_arrays broken_barh busday_count busday_offset busdaycalendar byte byte_bounds bytes bytes_ c_ can_cast cast cbook cdouble ceil center_matrix cfloat char character chararray chisquare cholesky choose cla clabel clf clim clip clongdouble clongfloat close cm cohere colorbar colormaps colors column_stack common_type compare_chararrays complex128 complex256 complex64 complex_ complexfloating compress concatenate cond conj conjugate connect contour contourf convolve cool copper copy copysign copyto corrcoef correlate cos cosh count_nonzero cov cross csd csingle csv2rec ctypeslib cumprod cumproduct cumsum date2num datestr2num datetime datetime64 datetime_as_string datetime_data dedent deg2rad degrees delaxes delete demean deprecate deprecate_with_doc det detrend detrend_linear detrend_mean detrend_none diag diag_indices diag_indices_from diagflat diagonal diff digitize disconnect disp dist dist_point_to_segment distances_along_curve divide division docstring dot double drange draw draw_if_interactive dsplit dstack dtype e ediff1d eig eigh eigvals eigvalsh einsum emath empty empty_like entropy epoch2num equal errorbar errstate euler_gamma eventplot exception_to_str exp exp2 exp_safe expand_dims expm1 exponential extract eye f fabs fastCopyAndTranspose fft fft2 fftfreq fftn fftpack fftpack_lite fftshift fftsurr figaspect figimage figlegend fignum_exists figtext figure fill fill_between fill_betweenx fill_diagonal find find_common_type findobj finfo fix flag flatiter flatnonzero flatten flexible fliplr flipud float128 float16 float32 float64 float_ floating floor floor_divide fmax fmin fmod format_parser frange frexp frombuffer fromfile fromfunction fromiter frompyfunc fromregex fromstring full full_like fv gamma gca gcf gci generic genfromtxt geometric get get_array_wrap get_backend get_cmap get_current_fig_manager get_figlabels get_fignums get_include get_numarray_include get_plot_commands get_printoptions get_scale_docs get_scale_names get_sparse_matrix get_state get_xyz_where getbuffer getbufsize geterr geterrcall geterrobj getp ginput gradient gray greater greater_equal grid griddata gumbel half hamming hanning helper hexbin hfft hist hist2d histogram histogram2d histogramdd hlines hold hot hsplit hstack hsv hypergeometric hypot i0 identity ifft ifft2 ifftn ifftshift ihfft iinfo imag imread imsave imshow in1d index_exp indices inexact inf info infty inner insert inside_poly int0 int16 int32 int64 int8 int_ int_asbuffer intc integer interactive interp intersect1d intp inv invert ioff ion ipmt irfft irfft2 irfftn irr is_busday is_closed_polygon is_numlike is_string_like isclose iscomplex iscomplexobj isfinite isfortran ishold isinf isinteractive isnan isneginf isposinf ispower2 isreal isrealobj isscalar issctype issubclass_ issubdtype issubsctype isvector iterable ix_ jet kaiser kron l1norm l2norm lapack_lite laplace ldexp left_shift legend less less_equal levypdf lexsort linalg linspace little_endian load loads loadtxt locator_params log log10 log1p log2 logaddexp logaddexp2 logical_and logical_not logical_or logical_xor logistic loglog lognormal logseries logspace longcomplex longdouble longest_contiguous_ones longest_ones longfloat longlong lookfor lstsq ma mafromtxt margins mask_indices mat math matplotlib matrix matrix_power matrix_rank matshow maximum maximum_sctype may_share_memory mean median memmap meshgrid mgrid min_scalar_type minimum minorticks_off minorticks_on mintypecode mirr mlab mod modf movavg mpl msort multinomial multiply multivariate_normal mx2num nan nan_to_num nanargmax nanargmin nanmax nanmean nanmin nanstd nansum nanvar nbytes ndarray ndenumerate ndfromtxt ndim ndindex nditer negative negative_binomial nested_iters new_figure_manager newaxis newbuffer nextafter noncentral_chisquare noncentral_f nonzero norm norm_flat normal normalize normpdf not_equal np nper npv num2date num2epoch number obj2sctype object0 object_ ogrid ones ones_like outer over packbits pad pareto partition path_length pause pcolor pcolormesh percentile permutation pi pie piecewise pink pinv pkgload place plot plot_date plotfile plotting plt pmt poisson polar poly poly1d poly_below poly_between polyadd polyder polydiv polyfit polyint polymul polysub polyval power ppmt prctile prctile_rank prepca print_function prism prod product promote_types psd ptp put putmask pv pylab_setup qr quiver quiverkey r_ rad2deg radians rand randint randn random random_integers random_sample ranf rank rate ravel ravel_multi_index rayleigh rc rcParams rcParamsDefault rc_context rcdefaults real real_if_close rec rec2csv rec_append_fields rec_drop_fields rec_join recarray recfromcsv recfromtxt reciprocal record register_cmap relativedelta remainder repeat require reshape resize restoredot result_type rfft rfft2 rfftfreq rfftn rgrids right_shift rint rk4 rms_flat roll rollaxis roots rot90 round_ row_stack rrule s_ safe_eval sample save savefig savetxt savez savez_compressed sca scatter sci sctype2char sctypeDict sctypeNA sctypes searchsorted seed segments_intersect select semilogx semilogy set_cmap set_numeric_ops set_printoptions set_state set_string_function setbufsize setdiff1d seterr seterrcall seterrobj setp setxor1d shape short show show_config shuffle sign signbit signedinteger silent_list sin sinc single singlecomplex sinh size slogdet slopes solve sometrue sort sort_complex source spacing specgram spectral split spring spy sqrt square squeeze stackplot standard_cauchy standard_exponential standard_gamma standard_normal standard_t std stem step stineman_interp str_ streamplot string0 string_ strpdate2num subplot subplot2grid subplot_tool subplots subplots_adjust subtract sum summer suptitle svd swapaxes switch_backend sys table take tan tanh tensordot tensorinv tensorsolve test text thetagrids tick_params ticklabel_format tight_layout tile timedelta64 title trace transpose trapz tri triangular tricontour tricontourf tril tril_indices tril_indices_from trim_zeros tripcolor triplot triu triu_indices triu_indices_from true_divide trunc twinx twiny typeDict typeNA typecodes typename ubyte ufunc uint uint0 uint16 uint32 uint64 uint8 uintc uintp ulonglong unicode0 unicode_ uniform union1d unique unpackbits unravel_index unsignedinteger unwrap ushort vander var vdot vector_lengths vectorize vlines void void0 vonmises vsplit vstack waitforbuttonpress wald warnings weibull where who window_hanning window_none winter xcorr xkcd xlabel xlim xscale xticks ylabel ylim yscale yticks zeros zeros_like zipf)"
       ]
      }
     ],
     "prompt_number": 5
    },
    {
     "cell_type": "code",
     "collapsed": false,
     "input": [
      "(pylab.show)"
     ],
     "language": "python",
     "metadata": {},
     "outputs": [
      {
       "metadata": {},
       "output_type": "pyout",
       "prompt_number": 7,
       "text": [
        "None"
       ]
      }
     ],
     "prompt_number": 7
    },
    {
     "cell_type": "code",
     "collapsed": false,
     "input": [],
     "language": "python",
     "metadata": {},
     "outputs": []
    }
   ],
   "metadata": {}
  }
 ]
}