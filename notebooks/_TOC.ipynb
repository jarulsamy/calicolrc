{
 "metadata": {
  "name": "",
  "signature": "sha256:a43a444c48dacadaebca197059dfd16ac4d1d44572f643177e4473164a69b4b6"
 },
 "nbformat": 3,
 "nbformat_minor": 0,
 "worksheets": [
  {
   "cells": [
    {
     "cell_type": "code",
     "collapsed": false,
     "input": [
      "calico.FileLinks(\".\")"
     ],
     "language": "python",
     "metadata": {},
     "outputs": [
      {
       "html": [
        "<a href=\"Calico Overview.ipynb\" target=\"_blank\">Calico Overview.ipynb</a><br/>\n",
        "<a href=\"Interop Python and F#.ipynb\" target=\"_blank\">Interop Python and F#.ipynb</a><br/>\n",
        "<a href=\"Makefile\" target=\"_blank\">Makefile</a><br/>\n",
        "<a href=\"README.md\" target=\"_blank\">README.md</a><br/>\n",
        "<a href=\"_TOC.ipynb\" target=\"_blank\">_TOC.ipynb</a><br/>\n",
        "<a href=\"code2notebook.py\" target=\"_blank\">code2notebook.py</a>"
       ],
       "metadata": {},
       "output_type": "pyout",
       "prompt_number": 1,
       "text": [
        "'Calico Overview.ipynb''Interop Python and F#.ipynb''Makefile''README.md''_TOC.ipynb''code2notebook.py'"
       ]
      }
     ],
     "prompt_number": 1
    },
    {
     "cell_type": "code",
     "collapsed": false,
     "input": [],
     "language": "python",
     "metadata": {},
     "outputs": []
    }
   ],
   "metadata": {}
  }
 ]
}