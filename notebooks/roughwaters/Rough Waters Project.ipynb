{
 "metadata": {
  "name": "",
  "signature": "sha256:3d3e4b67d60cee5cd4748dd4834cd5b1dafcea5f145e0f13a657ce2551bc24de"
 },
 "nbformat": 3,
 "nbformat_minor": 0,
 "worksheets": [
  {
   "cells": [
    {
     "cell_type": "code",
     "collapsed": false,
     "input": [
      "import random\n",
      "\n",
      "class Fish:\n",
      "    def __init__(self, name):\n",
      "        self.name = name\n",
      "        self.x = random.randint(0, 800)\n",
      "        self.y = random.randint(0, 600)\n",
      "        self.z = random.random()\n",
      "        self.speed = 0\n",
      "        self.direction = \"left\"\n",
      "        self.rotation = 0\n",
      "        print(\"Hi, I am a fish named\", self.name)"
     ],
     "language": "python",
     "metadata": {},
     "outputs": [],
     "prompt_number": 1
    },
    {
     "cell_type": "code",
     "collapsed": false,
     "input": [
      "fish1 = Fish(\"Nemo\")"
     ],
     "language": "python",
     "metadata": {},
     "outputs": [
      {
       "output_type": "stream",
       "stream": "stdout",
       "text": [
        "Hi, I am a fish named"
       ]
      },
      {
       "output_type": "stream",
       "stream": "stdout",
       "text": [
        " "
       ]
      },
      {
       "output_type": "stream",
       "stream": "stdout",
       "text": [
        "Nemo"
       ]
      },
      {
       "output_type": "stream",
       "stream": "stdout",
       "text": [
        "\n"
       ]
      }
     ],
     "prompt_number": 2
    },
    {
     "cell_type": "code",
     "collapsed": false,
     "input": [
      "fish1"
     ],
     "language": "python",
     "metadata": {},
     "outputs": [
      {
       "metadata": {},
       "output_type": "pyout",
       "prompt_number": 3,
       "text": [
        "<__builtin__.Fish instance at 0x000000000000002B>"
       ]
      }
     ],
     "prompt_number": 3
    },
    {
     "cell_type": "code",
     "collapsed": false,
     "input": [
      "fish2 = Fish(\"Dori\")"
     ],
     "language": "python",
     "metadata": {},
     "outputs": [
      {
       "output_type": "stream",
       "stream": "stdout",
       "text": [
        "Hi, I am a fish named"
       ]
      },
      {
       "output_type": "stream",
       "stream": "stdout",
       "text": [
        " "
       ]
      },
      {
       "output_type": "stream",
       "stream": "stdout",
       "text": [
        "Dori"
       ]
      },
      {
       "output_type": "stream",
       "stream": "stdout",
       "text": [
        "\n"
       ]
      }
     ],
     "prompt_number": 4
    },
    {
     "cell_type": "code",
     "collapsed": false,
     "input": [
      "fish2.name"
     ],
     "language": "python",
     "metadata": {},
     "outputs": [
      {
       "metadata": {},
       "output_type": "pyout",
       "prompt_number": 5,
       "text": [
        "'Dori'"
       ]
      }
     ],
     "prompt_number": 5
    },
    {
     "cell_type": "code",
     "collapsed": false,
     "input": [
      "fish2.x, fish2.y"
     ],
     "language": "python",
     "metadata": {},
     "outputs": [
      {
       "metadata": {},
       "output_type": "pyout",
       "prompt_number": 6,
       "text": [
        "(632, 522)"
       ]
      }
     ],
     "prompt_number": 6
    },
    {
     "cell_type": "code",
     "collapsed": false,
     "input": [
      "fish1.x, fish1.y"
     ],
     "language": "python",
     "metadata": {},
     "outputs": [
      {
       "metadata": {},
       "output_type": "pyout",
       "prompt_number": 7,
       "text": [
        "(38, 279)"
       ]
      }
     ],
     "prompt_number": 7
    },
    {
     "cell_type": "code",
     "collapsed": false,
     "input": [
      "fish2.z\n"
     ],
     "language": "python",
     "metadata": {},
     "outputs": [
      {
       "metadata": {},
       "output_type": "pyout",
       "prompt_number": 8,
       "text": [
        "0.914929985494786"
       ]
      }
     ],
     "prompt_number": 8
    },
    {
     "cell_type": "code",
     "collapsed": false,
     "input": [
      "from Graphics import Picture, Window"
     ],
     "language": "python",
     "metadata": {},
     "outputs": [],
     "prompt_number": 1
    },
    {
     "cell_type": "code",
     "collapsed": false,
     "input": [
      "window = Window(300, 200)"
     ],
     "language": "python",
     "metadata": {},
     "outputs": [],
     "prompt_number": 2
    },
    {
     "cell_type": "code",
     "collapsed": false,
     "input": [
      "pic = Picture(\"fish1.gif\")"
     ],
     "language": "python",
     "metadata": {},
     "outputs": [],
     "prompt_number": 3
    },
    {
     "cell_type": "code",
     "collapsed": false,
     "input": [
      "pic.draw(window)\n",
      "pic.outline = None"
     ],
     "language": "python",
     "metadata": {},
     "outputs": [],
     "prompt_number": 4
    },
    {
     "cell_type": "code",
     "collapsed": false,
     "input": [
      "import random\n",
      "from Graphics import Picture, Window, Color\n",
      "\n",
      "class Animal:\n",
      "    def __init__(self, filename):\n",
      "        self.filename = filename\n",
      "        self.picture = Picture(filename)\n",
      "        self.picture.outline = None\n",
      "        self.x = random.randint(0, 500)\n",
      "        self.y = random.randint(0, 500)\n",
      "        self.z = random.random()\n",
      "        self.speed = 2\n",
      "        self.size = 1.0\n",
      "        self.direction = \"right\"\n",
      "        self.rotation = 0 \n",
      "        self.initialize()\n",
      "    def putInOcean(self, ocean):\n",
      "        self.ocean = ocean\n",
      "        self.picture.draw(ocean)\n",
      "        self.picture.moveTo(self.x, self.y)\n",
      "    def step(self):\n",
      "        pass\n",
      "\n",
      "class Dolphin(Animal):\n",
      "    def initialize(self):\n",
      "        self.state = \"going down\"\n",
      "    def step(self):\n",
      "        if self.state == \"going up\":\n",
      "            self.going_up()\n",
      "        elif self.state == \"going down\":\n",
      "            self.going_down()\n",
      "        elif self.state == \"needs air\":\n",
      "            self.needs_air()\n",
      "        elif self.state == \"gets air\":\n",
      "            self.gets_air()\n",
      "        elif self.state == \"dead\":\n",
      "            self.dead()\n",
      "        else:\n",
      "            raise Exception(\"bad state: \" + self.state)\n",
      "        self.moveTo(self.x, self.y)\n",
      "        \n",
      "    def going_up(self):\n",
      "        if self.y < 10:\n",
      "            self.state = \"going down\"\n",
      "        else:\n",
      "            self.y -= 1\n",
      "    def going_down(self):\n",
      "        if self.y > 300:\n",
      "            self.state = \"going up\"\n",
      "        else:\n",
      "            self.y += 1\n",
      "    def needs_air(self):\n",
      "        if self.y < 10:\n",
      "            self.state = \"going down\"\n",
      "        else:\n",
      "            self.y -= 1\n",
      "    def gets_air(self):\n",
      "        print(\"Gulp!\")\n",
      "        self.state = \"going down\"\n",
      "    def dead(self):\n",
      "        pass\n",
      "        \n",
      "ocean = Window(500, 500)\n",
      "ocean.setBackground(Color(0, 0, 255))\n",
      "background = Picture(\"background.jpg\")\n",
      "background.scale(3.0)\n",
      "#background = Picture(\"http://baldwinschool.haikulearning.com/\"\n",
      "#                     \"lblankenship1/computerscienceii/wk/2936341/cms_file/show_img/\"\n",
      "#                     \"20254735.jpg\")\n",
      "background.draw(ocean)"
     ],
     "language": "python",
     "metadata": {},
     "outputs": [],
     "prompt_number": 52
    },
    {
     "cell_type": "code",
     "collapsed": false,
     "input": [
      "fishes = [Fish(\"fish1.gif\"), Puffer(\"puffer.gif\")]\n",
      "\n",
      "for fish in fishes:\n",
      "    fish.putInOcean(ocean)\n",
      "\n",
      "while True:\n",
      "    for fish in fishes:\n",
      "        fish.step()\n",
      "        background.move(random.randint(-1,1), \n",
      "                   random.randint(-1,1))\n",
      "    ocean.step(.01)\n"
     ],
     "language": "python",
     "metadata": {},
     "outputs": [
      {
       "output_type": "stream",
       "stream": "stdout",
       "text": [
        "Ok\n"
       ]
      },
      {
       "output_type": "stream",
       "stream": "stderr",
       "text": [
        "Running script aborted!"
       ]
      },
      {
       "output_type": "stream",
       "stream": "stderr",
       "text": [
        "\n"
       ]
      }
     ],
     "prompt_number": 53
    },
    {
     "cell_type": "code",
     "collapsed": false,
     "input": [
      "fish.step()"
     ],
     "language": "python",
     "metadata": {},
     "outputs": [],
     "prompt_number": 6
    },
    {
     "cell_type": "code",
     "collapsed": false,
     "input": [
      "fish.picture.flipHorizontal()"
     ],
     "language": "python",
     "metadata": {},
     "outputs": [],
     "prompt_number": 23
    },
    {
     "cell_type": "code",
     "collapsed": false,
     "input": [
      "def binary_search(list, search):\n",
      "    \"\"\"\n",
      "    binary_search takes a sorted list, and an item to search for.\n",
      "    \"\"\"\n",
      "    # First, take care of the \"base\" cases:\n",
      "    if len(list) == 0:\n",
      "        return False\n",
      "    elif len(list) == 1:\n",
      "        return search == list[0]\n",
      "    # now we can pretend that binary_search exists:\n",
      "    midpoint = int(len(list)/2)\n",
      "    if search < list[midpoint]:\n",
      "        return binary_search(list[:midpoint], search)\n",
      "    else:\n",
      "        return binary_search(list[midpoint:], search)\n",
      "\n",
      "L = [23, 56, 78, 99, 100]\n",
      "for i in L:\n",
      "    print(\"should be true:\", binary_search(L, i))\n",
      "\n",
      "not_L = [101, 98, 79, 77, 57, 55, 24, 22, 0]\n",
      "for i in not_L:\n",
      "    print(\"should be false:\", binary_search(L, i))\n"
     ],
     "language": "python",
     "metadata": {},
     "outputs": []
    },
    {
     "cell_type": "code",
     "collapsed": false,
     "input": [
      "class Base:\n",
      "    def __init__(self):\n",
      "        self.size = 0\n",
      "        self.direction = \"\"\n",
      "        self.initialization()\n",
      "        self.color = \"white\"\n",
      "    def initialization(self):\n",
      "        pass\n",
      "    \n",
      "class SpecificA(Base):\n",
      "    def initialization(self):\n",
      "        self.color = \"red\"\n",
      "        \n",
      "class Dog(Base):\n",
      "    def initialization(self):\n",
      "        self.size = 10\n",
      "\n",
      "class Wolf(Dog):\n",
      "    def initialization(self):\n",
      "        self.size = 20\n",
      "        self.color = \"brown\"\n",
      "    \n",
      "    \n",
      "    \n",
      "    \n",
      "    \n",
      "    \n",
      "    \n",
      "    \n",
      "    \n",
      "    "
     ],
     "language": "python",
     "metadata": {},
     "outputs": []
    }
   ],
   "metadata": {}
  }
 ]
}