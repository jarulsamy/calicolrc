{
 "metadata": {
  "name": "", 
  "signature": ""
 }, 
 "nbformat": 3, 
 "nbformat_minor": 0, 
 "worksheets": [
  {
   "cells": [
    {
     "cell_type": "markdown", 
     "collapsed": false, 
     "metadata": {}, 
     "source": [
      "Notebooks in Advanced:\n", 
      "\n", 
      "*  [ProgrammaticNotebook](ProgrammaticNotebook.ipynb)\n", 
      "*  [Stupid Calico Tricks](Stupid Calico Tricks.ipynb)\n"
     ]
    }
   ], 
   "metadata": {}
  }
 ]
}