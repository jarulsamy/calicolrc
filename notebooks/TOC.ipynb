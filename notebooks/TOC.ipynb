{
 "metadata": {
  "name": "",
  "signature": "sha256:745d84a7981d62e2658fd30c92b1972188418321e710d4fe16fed592e45b00fc"
 },
 "nbformat": 3,
 "nbformat_minor": 0,
 "worksheets": [
  {
   "cells": [
    {
     "cell_type": "code",
     "collapsed": false,
     "input": [
      "calico.FileLinks(\".\")"
     ],
     "language": "python",
     "metadata": {},
     "outputs": [
      {
       "html": [
        "<a href=\"BrainScrew Examples.ipynb\" target=\"_blank\">BrainScrew Examples.ipynb</a><br/>\n",
        "<a href=\"Calico Overview.ipynb\" target=\"_blank\">Calico Overview.ipynb</a><br/>\n",
        "<a href=\"Calico Scheme.ipynb\" target=\"_blank\">Calico Scheme.ipynb</a><br/>\n",
        "<a href=\"Camera with Calico.ipynb\" target=\"_blank\">Camera with Calico.ipynb</a><br/>\n",
        "<a href=\"F# Demonstration.ipynb\" target=\"_blank\">F# Demonstration.ipynb</a><br/>\n",
        "<a href=\"Frame Differencing.ipynb\" target=\"_blank\">Frame Differencing.ipynb</a><br/>\n",
        "<a href=\"GeoChart.ipynb\" target=\"_blank\">GeoChart.ipynb</a><br/>\n",
        "<a href=\"Graphics with Python.ipynb\" target=\"_blank\">Graphics with Python.ipynb</a><br/>\n",
        "<a href=\"Interop Python and F#.ipynb\" target=\"_blank\">Interop Python and F#.ipynb</a><br/>\n",
        "<a href=\"LC3 Examples.ipynb\" target=\"_blank\">LC3 Examples.ipynb</a><br/>\n",
        "<a href=\"Logo_Calico.ipynb\" target=\"_blank\">Logo_Calico.ipynb</a><br/>\n",
        "<a href=\"Makefile\" target=\"_blank\">Makefile</a><br/>\n",
        "<a href=\"Myro Library with Python.ipynb\" target=\"_blank\">Myro Library with Python.ipynb</a><br/>\n",
        "<a href=\"Myro with Java.ipynb\" target=\"_blank\">Myro with Java.ipynb</a><br/>\n",
        "<a href=\"NeuralNetworks-Calico.ipynb\" target=\"_blank\">NeuralNetworks-Calico.ipynb</a><br/>\n",
        "<a href=\"Password Widget.ipynb\" target=\"_blank\">Password Widget.ipynb</a><br/>\n",
        "<a href=\"Plotting in Python.ipynb\" target=\"_blank\">Plotting in Python.ipynb</a><br/>\n",
        "<a href=\"Plucking a Guitar String.ipynb\" target=\"_blank\">Plucking a Guitar String.ipynb</a><br/>\n",
        "<a href=\"Processing with Python.ipynb\" target=\"_blank\">Processing with Python.ipynb</a><br/>\n",
        "<a href=\"ProgrammaticNotebook.ipynb\" target=\"_blank\">ProgrammaticNotebook.ipynb</a><br/>\n",
        "<a href=\"Puzzle in F#.ipynb\" target=\"_blank\">Puzzle in F#.ipynb</a><br/>\n",
        "<a href=\"Python Lists and Dictionaries.ipynb\" target=\"_blank\">Python Lists and Dictionaries.ipynb</a><br/>\n",
        "<a href=\"README.md\" target=\"_blank\">README.md</a><br/>\n",
        "<a href=\"Rich Media.ipynb\" target=\"_blank\">Rich Media.ipynb</a><br/>\n",
        "<a href=\"Rolling an N-sided Dice N times.ipynb\" target=\"_blank\">Rolling an N-sided Dice N times.ipynb</a><br/>\n",
        "<a href=\"Rough Waters Project.ipynb\" target=\"_blank\">Rough Waters Project.ipynb</a><br/>\n",
        "<a href=\"SIGCSE ICalico.ipynb\" target=\"_blank\">SIGCSE ICalico.ipynb</a><br/>\n",
        "<a href=\"SIGCSE ICalico.slides.html\" target=\"_blank\">SIGCSE ICalico.slides.html</a><br/>\n",
        "<a href=\"Scheme and Python.ipynb\" target=\"_blank\">Scheme and Python.ipynb</a><br/>\n",
        "<a href=\"Simulated World Notes.ipynb\" target=\"_blank\">Simulated World Notes.ipynb</a><br/>\n",
        "<a href=\"Simulations.ipynb\" target=\"_blank\">Simulations.ipynb</a><br/>\n",
        "<a href=\"Stupid Calico Tricks.ipynb\" target=\"_blank\">Stupid Calico Tricks.ipynb</a><br/>\n",
        "<a href=\"Testing Calico Widgets.ipynb\" target=\"_blank\">Testing Calico Widgets.ipynb</a><br/>\n",
        "<a href=\"Travelling Salesperson.ipynb\" target=\"_blank\">Travelling Salesperson.ipynb</a><br/>\n",
        "<a href=\"Untitled0.ipynb\" target=\"_blank\">Untitled0.ipynb</a><br/>\n",
        "<a href=\"Untitled1.ipynb\" target=\"_blank\">Untitled1.ipynb</a><br/>\n",
        "<a href=\"Untitled2.ipynb\" target=\"_blank\">Untitled2.ipynb</a><br/>\n",
        "<a href=\"Widgets with Calico Python.ipynb\" target=\"_blank\">Widgets with Calico Python.ipynb</a><br/>\n",
        "<a href=\"code2notebook.py\" target=\"_blank\">code2notebook.py</a><br/>\n",
        "<a href=\"myroardrone.ipynb\" target=\"_blank\">myroardrone.ipynb</a><br/>\n",
        "<a href=\"out.wav\" target=\"_blank\">out.wav</a>"
       ],
       "metadata": {},
       "output_type": "pyout",
       "prompt_number": 3,
       "text": [
        "'BrainScrew Examples.ipynb''Calico Overview.ipynb''Calico Scheme.ipynb''Camera with Calico.ipynb''F# Demonstration.ipynb''Frame Differencing.ipynb''GeoChart.ipynb''Graphics with Python.ipynb''Interop Python and F#.ipynb''LC3 Examples.ipynb''Logo_Calico.ipynb''Makefile''Myro Library with Python.ipynb''Myro with Java.ipynb''NeuralNetworks-Calico.ipynb''Password Widget.ipynb''Plotting in Python.ipynb''Plucking a Guitar String.ipynb''Processing with Python.ipynb''ProgrammaticNotebook.ipynb''Puzzle in F#.ipynb''Python Lists and Dictionaries.ipynb''README.md''Rich Media.ipynb''Rolling an N-sided Dice N times.ipynb''Rough Waters Project.ipynb''SIGCSE ICalico.ipynb''SIGCSE ICalico.slides.html''Scheme and Python.ipynb''Simulated World Notes.ipynb''Simulations.ipynb''Stupid Calico Tricks.ipynb''Testing Calico Widgets.ipynb''Travelling Salesperson.ipynb''Untitled0.ipynb''Untitled1.ipynb''Untitled2.ipynb''Widgets with Calico Python.ipynb''code2notebook.py''myroardrone.ipynb''out.wav'"
       ]
      }
     ],
     "prompt_number": 3
    },
    {
     "cell_type": "code",
     "collapsed": false,
     "input": [],
     "language": "python",
     "metadata": {},
     "outputs": []
    }
   ],
   "metadata": {}
  }
 ]
}