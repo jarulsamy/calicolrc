{
 "metadata": {
  "name": "",
  "signature": "sha256:1b07d05a4cb52b7545cee172bb829e9c2fcccc438ba86d3b2a9094156209e829"
 },
 "nbformat": 3,
 "nbformat_minor": 0,
 "worksheets": []
}