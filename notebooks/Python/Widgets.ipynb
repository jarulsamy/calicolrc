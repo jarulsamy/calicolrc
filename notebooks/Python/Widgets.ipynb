{
 "metadata": {
  "name": "",
  "signature": "sha256:f939ed1145fea1a04a41a0cd4450af0b05b76cb3329bedce533f7b77d7c58383"
 },
 "nbformat": 3,
 "nbformat_minor": 0,
 "worksheets": [
  {
   "cells": [
    {
     "cell_type": "code",
     "collapsed": false,
     "input": [
      "widget = calico.FloatSliderWidget()\n",
      "calico.display(widget)"
     ],
     "language": "python",
     "metadata": {},
     "outputs": [],
     "prompt_number": 1
    },
    {
     "cell_type": "code",
     "collapsed": false,
     "input": [
      "widget.value"
     ],
     "language": "python",
     "metadata": {},
     "outputs": [
      {
       "metadata": {},
       "output_type": "pyout",
       "prompt_number": 2,
       "text": [
        "33.6"
       ]
      }
     ],
     "prompt_number": 2
    },
    {
     "cell_type": "code",
     "collapsed": false,
     "input": [
      "x = 0\n",
      "def test(a, b):\n",
      "    global x\n",
      "    x = b\n",
      "    print(a, b)\n",
      "\n",
      "widget.on_value_change(test, \"value\")"
     ],
     "language": "python",
     "metadata": {},
     "outputs": [],
     "prompt_number": 3
    },
    {
     "cell_type": "code",
     "collapsed": false,
     "input": [
      "x"
     ],
     "language": "python",
     "metadata": {},
     "outputs": [
      {
       "metadata": {},
       "output_type": "pyout",
       "prompt_number": 4,
       "text": [
        "0"
       ]
      }
     ],
     "prompt_number": 4
    },
    {
     "cell_type": "code",
     "collapsed": false,
     "input": [
      "print(x)"
     ],
     "language": "python",
     "metadata": {},
     "outputs": [
      {
       "output_type": "stream",
       "stream": "stdout",
       "text": [
        "0"
       ]
      },
      {
       "output_type": "stream",
       "stream": "stdout",
       "text": [
        "\n"
       ]
      }
     ],
     "prompt_number": 5
    },
    {
     "cell_type": "code",
     "collapsed": false,
     "input": [
      "[x for x in dir(calico) if x.endswith(\"Widget\") and x.startswith(\"make\")]"
     ],
     "language": "python",
     "metadata": {},
     "outputs": [
      {
       "metadata": {},
       "output_type": "pyout",
       "prompt_number": 6,
       "text": [
        "['makeAccordionWidget', 'makeBoundedFloatTextWidget', 'makeBoundedIntTextWidget', 'makeButtonWidget', 'makeCameraWidget', 'makeCheckboxWidget', 'makeContainerWidget', 'makeDropdownWidget', 'makeFloatProgressWidget', 'makeFloatSliderWidget', 'makeFloatTextProgressWidget', 'makeFloatTextWidget', 'makeHTMLWidget', 'makeImageWidget', 'makeIntProgressWidget', 'makeIntSliderWidget', 'makeIntTextWidget', 'makeLatexWidget', 'makePasswordWidget', 'makePopupWidget', 'makeRadioButtonsWidget', 'makeSelectWidget', 'makeSelectionWidget', 'makeTabWidget', 'makeTextWidget', 'makeTextareaWidget', 'makeToggleButtonWidget', 'makeToggleButtonsWidget']"
       ]
      }
     ],
     "prompt_number": 6
    },
    {
     "cell_type": "code",
     "collapsed": false,
     "input": [
      "button = calico.ButtonWidget()\n",
      "calico.display(button)"
     ],
     "language": "python",
     "metadata": {},
     "outputs": [
      {
       "output_type": "stream",
       "stream": "stdout",
       "text": [
        "Ouch!"
       ]
      },
      {
       "output_type": "stream",
       "stream": "stdout",
       "text": [
        "\n"
       ]
      }
     ],
     "prompt_number": 7
    },
    {
     "cell_type": "code",
     "collapsed": false,
     "input": [
      "button.description = \"Press me!\""
     ],
     "language": "python",
     "metadata": {},
     "outputs": [],
     "prompt_number": 8
    },
    {
     "cell_type": "code",
     "collapsed": false,
     "input": [
      "button.on_click(lambda obj: print(\"Ouch!\"))"
     ],
     "language": "python",
     "metadata": {},
     "outputs": [],
     "prompt_number": 9
    },
    {
     "cell_type": "code",
     "collapsed": false,
     "input": [
      "import time\n",
      "for s in \"This is a test\".split():\n",
      "    button.description = s\n",
      "    time.sleep(1)"
     ],
     "language": "python",
     "metadata": {},
     "outputs": [],
     "prompt_number": 10
    },
    {
     "cell_type": "code",
     "collapsed": false,
     "input": [
      "checkbox = calico.CheckboxWidget(description=\"I like food\")\n",
      "calico.display(checkbox)"
     ],
     "language": "python",
     "metadata": {},
     "outputs": [],
     "prompt_number": 11
    },
    {
     "cell_type": "code",
     "collapsed": false,
     "input": [
      "checkbox.value"
     ],
     "language": "python",
     "metadata": {},
     "outputs": [
      {
       "metadata": {},
       "output_type": "pyout",
       "prompt_number": 12,
       "text": [
        "True"
       ]
      }
     ],
     "prompt_number": 12
    },
    {
     "cell_type": "code",
     "collapsed": false,
     "input": [
      "checkbox.value"
     ],
     "language": "python",
     "metadata": {},
     "outputs": [
      {
       "metadata": {},
       "output_type": "pyout",
       "prompt_number": 13,
       "text": [
        "True"
       ]
      }
     ],
     "prompt_number": 13
    },
    {
     "cell_type": "code",
     "collapsed": false,
     "input": [
      "checkbox.on_value_change(lambda value_name, new_value: print(value_name, new_value), \"value\")"
     ],
     "language": "python",
     "metadata": {},
     "outputs": [],
     "prompt_number": 14
    },
    {
     "cell_type": "code",
     "collapsed": false,
     "input": [
      "fpw = calico.FloatProgressWidget()\n",
      "calico.display(fpw)"
     ],
     "language": "python",
     "metadata": {},
     "outputs": [],
     "prompt_number": 15
    },
    {
     "cell_type": "code",
     "collapsed": false,
     "input": [
      "fpw.value = 50"
     ],
     "language": "python",
     "metadata": {},
     "outputs": [],
     "prompt_number": 16
    },
    {
     "cell_type": "code",
     "collapsed": false,
     "input": [
      "fpw.description = \"Float Progress Widget\""
     ],
     "language": "python",
     "metadata": {},
     "outputs": [],
     "prompt_number": 17
    },
    {
     "cell_type": "code",
     "collapsed": false,
     "input": [
      "widgets = [x for x in dir(calico) if x.endswith(\"Widget\") and x.startswith(\"make\")]"
     ],
     "language": "python",
     "metadata": {},
     "outputs": [],
     "prompt_number": 18
    },
    {
     "cell_type": "code",
     "collapsed": false,
     "input": [
      "w = []\n",
      "for widget in widgets:\n",
      "    w.append(getattr(calico, widget)())\n",
      "    try:\n",
      "        w[-1].description = w[-1].__class__.__name__\n",
      "    except:\n",
      "        print(w[-1].__class__.__name__, dir(w[-1]))\n",
      "for widget in w:\n",
      "    calico.display(widget)"
     ],
     "language": "python",
     "metadata": {},
     "outputs": [
      {
       "output_type": "stream",
       "stream": "stdout",
       "text": [
        "ContainerWidget"
       ]
      },
      {
       "output_type": "stream",
       "stream": "stdout",
       "text": [
        " "
       ]
      },
      {
       "output_type": "stream",
       "stream": "stdout",
       "text": [
        "['Dispatch', 'Equals', 'Finalize', 'GetDisplay', 'GetHashCode', 'GetInitialState', 'GetState', 'GetType', 'MemberwiseClone', 'ReferenceEquals', 'ToString', '__class__', '__delattr__', '__doc__', '__format__', '__getattribute__', '__hash__', '__init__', '__new__', '__reduce__', '__reduce_ex__', '__repr__', '__setattr__', '__sizeof__', '__str__', '__subclasshook__', '_view_name', 'children', 'comm_id', 'data', 'disabled', 'execution_count', 'get', 'get_css', 'onClick', 'on_click', 'on_click_func', 'on_value_change', 'on_value_change_callback', 'set', 'set_css', 'target_name', 'visible']"
       ]
      },
      {
       "output_type": "stream",
       "stream": "stdout",
       "text": [
        "\n"
       ]
      },
      {
       "output_type": "stream",
       "stream": "stdout",
       "text": [
        "ImageWidget"
       ]
      },
      {
       "output_type": "stream",
       "stream": "stdout",
       "text": [
        " "
       ]
      },
      {
       "output_type": "stream",
       "stream": "stdout",
       "text": [
        "['Dispatch', 'Equals', 'Finalize', 'GetDisplay', 'GetHashCode', 'GetInitialState', 'GetState', 'GetType', 'MemberwiseClone', 'ReferenceEquals', 'ToString', '__class__', '__delattr__', '__doc__', '__format__', '__getattribute__', '__hash__', '__init__', '__new__', '__reduce__', '__reduce_ex__', '__repr__', '__setattr__', '__sizeof__', '__str__', '__subclasshook__', '_b64value', '_view_name', 'comm_id', 'data', 'disabled', 'execution_count', 'format', 'get', 'get_css', 'height', 'onClick', 'on_click', 'on_click_func', 'on_value_change', 'on_value_change_callback', 'set', 'set_css', 'target_name', 'value', 'visible', 'width']"
       ]
      },
      {
       "output_type": "stream",
       "stream": "stdout",
       "text": [
        "\n"
       ]
      }
     ]
    },
    {
     "cell_type": "code",
     "collapsed": false,
     "input": [
      "t = calico.Table([[\"Doug\", 1, 2, 3], [\"Keith\", 4, 5, 6], [\"Stephanie\", 7, 8, 9]]); t"
     ],
     "language": "python",
     "metadata": {},
     "outputs": [
      {
       "output_type": "stream",
       "stream": "stdout",
       "text": [
        "<Calico.MimeRepresentation object at 0x000000000000002B [Calico.MimeRepresentation]>"
       ]
      },
      {
       "output_type": "stream",
       "stream": "stdout",
       "text": [
        "\n"
       ]
      }
     ],
     "prompt_number": 19
    },
    {
     "cell_type": "code",
     "collapsed": false,
     "input": [
      "t"
     ],
     "language": "python",
     "metadata": {},
     "outputs": [
      {
       "html": [
        "<table border=\"1\"><tr><th>Item1</th><th>Item2</th><th>Item3</th><th>Item4</th></tr><tr><td>Doug</td><td>1</td><td>2</td><td>3</td></tr><tr><td>Keith</td><td>4</td><td>5</td><td>6</td></tr><tr><td>Stephanie</td><td>7</td><td>8</td><td>9</td></tr></table>"
       ],
       "metadata": {},
       "output_type": "pyout",
       "prompt_number": 20,
       "text": [
        "<Table>"
       ]
      }
     ],
     "prompt_number": 20
    },
    {
     "cell_type": "code",
     "collapsed": false,
     "input": [
      "calico.display(t)"
     ],
     "language": "python",
     "metadata": {},
     "outputs": [
      {
       "html": [
        "<table border=\"1\"><tr><th>Item1</th><th>Item2</th><th>Item3</th><th>Item4</th></tr><tr><td>Doug</td><td>1</td><td>2</td><td>3</td></tr><tr><td>Keith</td><td>4</td><td>5</td><td>6</td></tr><tr><td>Stephanie</td><td>7</td><td>8</td><td>9</td></tr></table>"
       ],
       "metadata": {},
       "output_type": "display_data",
       "text": [
        "<Table>"
       ]
      }
     ],
     "prompt_number": 22
    },
    {
     "cell_type": "code",
     "collapsed": false,
     "input": [
      "_"
     ],
     "language": "python",
     "metadata": {},
     "outputs": [
      {
       "html": [
        "<table border=\"1\"><tr><th>Item1</th><th>Item2</th><th>Item3</th><th>Item4</th></tr><tr><td>Doug</td><td>1</td><td>2</td><td>3</td></tr><tr><td>Keith</td><td>4</td><td>5</td><td>6</td></tr><tr><td>Stephanie</td><td>7</td><td>8</td><td>9</td></tr></table>"
       ],
       "metadata": {},
       "output_type": "pyout",
       "prompt_number": 23,
       "text": [
        "<Table>"
       ]
      }
     ],
     "prompt_number": 23
    },
    {
     "cell_type": "code",
     "collapsed": false,
     "input": [
      "print = calico.display"
     ],
     "language": "python",
     "metadata": {},
     "outputs": [],
     "prompt_number": 24
    },
    {
     "cell_type": "code",
     "collapsed": false,
     "input": [
      "t = calico.Table([[\"Doug\", 1, 2, 3], [\"Keith\", 4, 5, 6], [\"Stephanie\", 7, 8, 9]])\n",
      "print(t)"
     ],
     "language": "python",
     "metadata": {},
     "outputs": [
      {
       "html": [
        "<table border=\"1\"><tr><th>Item1</th><th>Item2</th><th>Item3</th><th>Item4</th></tr><tr><td>Doug</td><td>1</td><td>2</td><td>3</td></tr><tr><td>Keith</td><td>4</td><td>5</td><td>6</td></tr><tr><td>Stephanie</td><td>7</td><td>8</td><td>9</td></tr></table>"
       ],
       "metadata": {},
       "output_type": "display_data",
       "text": [
        "<Table>"
       ]
      }
     ],
     "prompt_number": 25
    },
    {
     "cell_type": "code",
     "collapsed": false,
     "input": [
      "calico.display(t)"
     ],
     "language": "python",
     "metadata": {},
     "outputs": [
      {
       "html": [
        "<table border=\"1\"><tr><th>Item1</th><th>Item2</th><th>Item3</th><th>Item4</th></tr><tr><td>Doug</td><td>1</td><td>2</td><td>3</td></tr><tr><td>Keith</td><td>4</td><td>5</td><td>6</td></tr><tr><td>Stephanie</td><td>7</td><td>8</td><td>9</td></tr></table>"
       ],
       "metadata": {},
       "output_type": "display_data",
       "text": [
        "<Table>"
       ]
      }
     ],
     "prompt_number": 4
    },
    {
     "cell_type": "code",
     "collapsed": false,
     "input": [
      "print = calico.display"
     ],
     "language": "python",
     "metadata": {},
     "outputs": [],
     "prompt_number": 6
    },
    {
     "cell_type": "code",
     "collapsed": false,
     "input": [
      "print(1)"
     ],
     "language": "python",
     "metadata": {},
     "outputs": [
      {
       "metadata": {},
       "output_type": "display_data",
       "text": [
        "1"
       ]
      }
     ],
     "prompt_number": 7
    },
    {
     "cell_type": "code",
     "collapsed": false,
     "input": [
      "print(t)"
     ],
     "language": "python",
     "metadata": {},
     "outputs": [
      {
       "html": [
        "<table border=\"1\"><tr><th>Item1</th><th>Item2</th><th>Item3</th><th>Item4</th></tr><tr><td>Doug</td><td>1</td><td>2</td><td>3</td></tr><tr><td>Keith</td><td>4</td><td>5</td><td>6</td></tr><tr><td>Stephanie</td><td>7</td><td>8</td><td>9</td></tr></table>"
       ],
       "metadata": {},
       "output_type": "display_data",
       "text": [
        "<Table>"
       ]
      }
     ],
     "prompt_number": 10
    },
    {
     "cell_type": "code",
     "collapsed": false,
     "input": [
      "t"
     ],
     "language": "python",
     "metadata": {},
     "outputs": [
      {
       "html": [
        "<table border=\"1\"><tr><th>Item1</th><th>Item2</th><th>Item3</th><th>Item4</th></tr><tr><td>Doug</td><td>1</td><td>2</td><td>3</td></tr><tr><td>Keith</td><td>4</td><td>5</td><td>6</td></tr><tr><td>Stephanie</td><td>7</td><td>8</td><td>9</td></tr></table>"
       ],
       "metadata": {},
       "output_type": "pyout",
       "prompt_number": 8,
       "text": [
        "<Table>"
       ]
      }
     ],
     "prompt_number": 8
    },
    {
     "cell_type": "code",
     "collapsed": false,
     "input": [
      "print(1)"
     ],
     "language": "python",
     "metadata": {},
     "outputs": [
      {
       "metadata": {},
       "output_type": "display_data",
       "text": [
        "1"
       ]
      }
     ],
     "prompt_number": 9
    },
    {
     "cell_type": "code",
     "collapsed": false,
     "input": [
      "%%%lang scheme\n",
      "(calico.display t)"
     ],
     "language": "python",
     "metadata": {},
     "outputs": [
      {
       "output_type": "stream",
       "stream": "stdout",
       "text": [
        "Calico Language is now \"Scheme\""
       ]
      },
      {
       "output_type": "stream",
       "stream": "stdout",
       "text": [
        "\n"
       ]
      },
      {
       "html": [
        "<table border=\"1\"><tr><th>Item1</th><th>Item2</th><th>Item3</th><th>Item4</th></tr><tr><td>Doug</td><td>1</td><td>2</td><td>3</td></tr><tr><td>Keith</td><td>4</td><td>5</td><td>6</td></tr><tr><td>Stephanie</td><td>7</td><td>8</td><td>9</td></tr></table>"
       ],
       "metadata": {},
       "output_type": "display_data",
       "text": [
        "<Table>"
       ]
      },
      {
       "metadata": {},
       "output_type": "pyout",
       "prompt_number": 26,
       "text": [
        "<void>"
       ]
      }
     ],
     "prompt_number": 26
    },
    {
     "cell_type": "code",
     "collapsed": false,
     "input": [
      "pw = calico.makePasswordWidget()\n",
      "calico.display(pw)\n",
      "\n",
      "def f(obj):\n",
      "    print(obj.value, \"submitted!\")\n",
      "    \n",
      "pw.on_submit(f)"
     ],
     "language": "python",
     "metadata": {},
     "outputs": [
      {
       "javascript": [
        "require([\"widgets/js/widget\"], function(WidgetManager){  var PasswordView = WidgetManager._view_types['TextView'].extend({           update: function(options){            this.$textbox.attr('type', 'password');            return PasswordView.__super__.update.apply(this);         },   });   WidgetManager.register_widget_view('PasswordView', PasswordView);});"
       ],
       "metadata": {},
       "output_type": "display_data",
       "text": [
        "<JavaScript viewable in executing notebook>"
       ]
      },
      {
       "output_type": "stream",
       "stream": "stdout",
       "text": [
        "hello"
       ]
      },
      {
       "output_type": "stream",
       "stream": "stdout",
       "text": [
        " "
       ]
      },
      {
       "output_type": "stream",
       "stream": "stdout",
       "text": [
        "submitted!"
       ]
      },
      {
       "output_type": "stream",
       "stream": "stdout",
       "text": [
        "\n"
       ]
      }
     ],
     "prompt_number": 3
    },
    {
     "cell_type": "code",
     "collapsed": false,
     "input": [
      "print(pw.value)\n",
      "print(pw._view_name)"
     ],
     "language": "python",
     "metadata": {},
     "outputs": [
      {
       "output_type": "stream",
       "stream": "stdout",
       "text": [
        "hello"
       ]
      },
      {
       "output_type": "stream",
       "stream": "stdout",
       "text": [
        "\n"
       ]
      },
      {
       "output_type": "stream",
       "stream": "stdout",
       "text": [
        "PasswordView"
       ]
      },
      {
       "output_type": "stream",
       "stream": "stdout",
       "text": [
        "\n"
       ]
      }
     ],
     "prompt_number": 4
    },
    {
     "cell_type": "code",
     "collapsed": false,
     "input": [],
     "language": "python",
     "metadata": {},
     "outputs": []
    }
   ],
   "metadata": {}
  }
 ]
}