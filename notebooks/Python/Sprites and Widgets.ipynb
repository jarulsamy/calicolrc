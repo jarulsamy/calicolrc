{
 "metadata": {
  "name": "",
  "signature": "sha256:142093d745839a85ffd2047c1fff0fef54af3e205085340d2f54d55966f88e26"
 },
 "nbformat": 3,
 "nbformat_minor": 0,
 "worksheets": [
  {
   "cells": [
    {
     "cell_type": "markdown",
     "metadata": {},
     "source": [
      "Sprites and ICalico Widgets\n",
      "===========================\n",
      "\n",
      "This example shows an example of the Graphics.Sprite class, and the ICalico Widgets to show animation.\n"
     ]
    },
    {
     "cell_type": "markdown",
     "metadata": {},
     "source": [
      "First, we load one of the built-in sprites, \"bear\":"
     ]
    },
    {
     "cell_type": "code",
     "collapsed": false,
     "input": [
      "from Graphics import *\n",
      "win = Canvas(200, 200)\n",
      "sprite = Sprite((100, 100), \"bear\")\n",
      "sprite.draw(win)"
     ],
     "language": "python",
     "metadata": {},
     "outputs": [
      {
       "jpeg": "[encoded data removed]",
       "metadata": {},
       "output_type": "pyout",
       "png": "[encoded data removed]",
       "prompt_number": 1,
       "text": [
        "Graphics+Canvas"
       ]
      }
     ],
     "prompt_number": 1
    },
    {
     "cell_type": "markdown",
     "metadata": {},
     "source": [
      "We can programmatically see what costumes are available:"
     ]
    },
    {
     "cell_type": "code",
     "collapsed": false,
     "input": [
      "sprite.getCostumeNames()"
     ],
     "language": "python",
     "metadata": {},
     "outputs": [
      {
       "metadata": {},
       "output_type": "pyout",
       "prompt_number": 2,
       "text": [
        "[left, right]"
       ]
      }
     ],
     "prompt_number": 2
    },
    {
     "cell_type": "markdown",
     "metadata": {},
     "source": [
      "Now, let's build a user interface to show the animation frames for each costume:"
     ]
    },
    {
     "cell_type": "code",
     "collapsed": false,
     "input": [
      "frame_count = len(sprite.getFrames())\n",
      "costume_names = sprite.getCostumeNames()\n",
      "\n",
      "slider = calico.IntSliderWidget(min=0, max=frame_count-1, description=\"Frames in Sprite Animation\")\n",
      "pick = calico.DropdownWidget(value_names=costume_names, value_name=sprite.costume)\n",
      "\n",
      "def change_frame(value_name, value):\n",
      "    sprite.flipToFrame(value)\n",
      "    calico.animate(sprite.shape)\n",
      "\n",
      "def change_costume(value_name, value):\n",
      "    sprite.changeCostume(value)\n",
      "    calico.animate(sprite.shape)\n",
      "\n",
      "slider.on_value_change(change_frame, \"value\")\n",
      "pick.on_value_change(change_costume, \"value_name\")\n",
      "\n",
      "calico.display(sprite.shape)\n",
      "calico.ContainerWidget(children=[pick, slider])"
     ],
     "language": "python",
     "metadata": {},
     "outputs": [
      {
       "jpeg": "[encoded data removed]",
       "metadata": {},
       "output_type": "display_data",
       "png": "[encoded data removed]",
       "text": [
        "<Picture (width=60, height=80)>"
       ]
      }
     ],
     "prompt_number": 3
    },
    {
     "cell_type": "code",
     "collapsed": false,
     "input": [
      "# FIXME: this doesn't work yet\n",
      "pick.value_name = \"left\""
     ],
     "language": "python",
     "metadata": {},
     "outputs": [],
     "prompt_number": 4
    },
    {
     "cell_type": "code",
     "collapsed": false,
     "input": [],
     "language": "python",
     "metadata": {},
     "outputs": []
    }
   ],
   "metadata": {}
  }
 ]
}