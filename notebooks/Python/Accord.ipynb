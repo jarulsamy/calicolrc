{
 "metadata": {
  "name": "",
  "signature": "sha256:e87d639b77c2960e9e05b6ea8e580c733e65fd0e392883a495400c1e6c44bdc4"
 },
 "nbformat": 3,
 "nbformat_minor": 0,
 "worksheets": [
  {
   "cells": [
    {
     "cell_type": "markdown",
     "metadata": {},
     "source": [
      "This notebook uses the [Accord](http://accord-framework.net/intro.html) library for math, statistics, and machine learning.\n",
      "\n"
     ]
    },
    {
     "cell_type": "code",
     "collapsed": false,
     "input": [
      "import clr\n",
      "libs = [\"/Users/keithohara/mono/AForge/lib/AForge.dll\",\n",
      "        \"/Users/keithohara/mono/AForge.Math/lib/AForge.Math.dll\",\n",
      "        \"/Users/keithohara/mono/Accord/lib/Accord.dll\",    \n",
      "        \"/Users/keithohara/mono/Accord.Imaging/lib/Accord.Imaging.dll\",\n",
      "        \"/Users/keithohara/mono/Accord.Statistics/lib/Accord.Statistics.dll\",\n",
      "        \"/Users/keithohara/mono/Accord.MachineLearning/lib/Accord.MachineLearning.dll\",\n",
      "        \"/Users/keithohara/mono/Accord.Math/lib/Accord.Math.dll\"\n",
      "        ]\n",
      "for l in libs:\n",
      "    clr.AddReferenceToFileAndPath(l)"
     ],
     "language": "python",
     "metadata": {},
     "outputs": [],
     "prompt_number": 95
    },
    {
     "cell_type": "code",
     "collapsed": false,
     "input": [
      "from System import Array"
     ],
     "language": "python",
     "metadata": {},
     "outputs": [],
     "prompt_number": 2
    },
    {
     "cell_type": "code",
     "collapsed": false,
     "input": [
      "import Accord\n",
      "import Accord.Math\n",
      "clr.ImportExtensions(Accord.Math)"
     ],
     "language": "python",
     "metadata": {},
     "outputs": [],
     "prompt_number": 4
    },
    {
     "cell_type": "code",
     "collapsed": false,
     "input": [
      "Accord.Math.Matrix.Indices(0, 10)"
     ],
     "language": "python",
     "metadata": {},
     "outputs": [
      {
       "metadata": {},
       "output_type": "pyout",
       "prompt_number": 6,
       "text": [
        "[0, 1, 2, 3, 4, 5, 6, 7, 8, 9]"
       ]
      }
     ],
     "prompt_number": 6
    },
    {
     "cell_type": "code",
     "collapsed": false,
     "input": [
      "from Accord.Math import Matrix\n",
      "v = Matrix.Identity(3)\n",
      "print(v)"
     ],
     "language": "python",
     "metadata": {},
     "outputs": [
      {
       "output_type": "stream",
       "stream": "stdout",
       "text": [
        "<2 dimensional Array[float] at 0x000000000000002B>"
       ]
      },
      {
       "output_type": "stream",
       "stream": "stdout",
       "text": [
        "\n"
       ]
      }
     ],
     "prompt_number": 7
    },
    {
     "cell_type": "code",
     "collapsed": false,
     "input": [
      "I = Array.CreateInstance(float, 2, 2)\n",
      "I[0,0] = 1\n",
      "print(I)"
     ],
     "language": "python",
     "metadata": {},
     "outputs": [
      {
       "output_type": "stream",
       "stream": "stdout",
       "text": [
        "<2 dimensional Array[float] at 0x000000000000002C>"
       ]
      },
      {
       "output_type": "stream",
       "stream": "stdout",
       "text": [
        "\n"
       ]
      }
     ],
     "prompt_number": 8
    },
    {
     "cell_type": "code",
     "collapsed": false,
     "input": [
      "u = Array[float]([1, 6])\n",
      "v = Array[float]([-2, 10])"
     ],
     "language": "python",
     "metadata": {},
     "outputs": [],
     "prompt_number": 9
    },
    {
     "cell_type": "code",
     "collapsed": false,
     "input": [
      "u.InnerProduct(v)"
     ],
     "language": "python",
     "metadata": {},
     "outputs": [
      {
       "metadata": {},
       "output_type": "pyout",
       "prompt_number": 10,
       "text": [
        "58"
       ]
      }
     ],
     "prompt_number": 10
    },
    {
     "cell_type": "code",
     "collapsed": false,
     "input": [
      "outer = u.OuterProduct(v)\n",
      "print(outer)"
     ],
     "language": "python",
     "metadata": {},
     "outputs": [
      {
       "output_type": "stream",
       "stream": "stdout",
       "text": [
        "<2 dimensional Array[float] at 0x000000000000002D>"
       ]
      },
      {
       "output_type": "stream",
       "stream": "stdout",
       "text": [
        "\n"
       ]
      }
     ],
     "prompt_number": 11
    },
    {
     "cell_type": "code",
     "collapsed": false,
     "input": [
      "I.Multiply(u)"
     ],
     "language": "python",
     "metadata": {},
     "outputs": [
      {
       "metadata": {},
       "output_type": "pyout",
       "prompt_number": 12,
       "text": [
        "[1, 0]"
       ]
      }
     ],
     "prompt_number": 12
    },
    {
     "cell_type": "code",
     "collapsed": false,
     "input": [
      "I.Multiply(v)"
     ],
     "language": "python",
     "metadata": {},
     "outputs": [
      {
       "metadata": {},
       "output_type": "pyout",
       "prompt_number": 13,
       "text": [
        "[-2, 0]"
       ]
      }
     ],
     "prompt_number": 13
    },
    {
     "cell_type": "code",
     "collapsed": false,
     "input": [
      "from Accord.Math.Decompositions import SingularValueDecomposition"
     ],
     "language": "python",
     "metadata": {},
     "outputs": [],
     "prompt_number": 14
    },
    {
     "cell_type": "code",
     "collapsed": false,
     "input": [
      "i = SingularValueDecomposition(I)\n",
      "\n",
      "i.Diagonal"
     ],
     "language": "python",
     "metadata": {},
     "outputs": [
      {
       "metadata": {},
       "output_type": "pyout",
       "prompt_number": 96,
       "text": [
        "[1, 0]"
       ]
      }
     ],
     "prompt_number": 96
    },
    {
     "cell_type": "markdown",
     "metadata": {},
     "source": [
      "# Principal Component Analysis Example"
     ]
    },
    {
     "cell_type": "code",
     "collapsed": false,
     "input": [
      "from Processing import *\n",
      "size(500, 500)\n",
      "background(0)\n",
      "smooth()"
     ],
     "language": "python",
     "metadata": {},
     "outputs": [],
     "prompt_number": 97
    },
    {
     "cell_type": "code",
     "collapsed": false,
     "input": [
      "points = []"
     ],
     "language": "python",
     "metadata": {},
     "outputs": [],
     "prompt_number": 104
    },
    {
     "cell_type": "code",
     "collapsed": false,
     "input": [
      "def drawPoint():\n",
      "    fill(255, 0, 0)\n",
      "    noStroke()\n",
      "    points.append([mouseX(), mouseY()])\n",
      "    ellipse(mouseX(), mouseY(), 5, 5)\n",
      "onMouseDragged += drawPoint\n",
      "loop()"
     ],
     "language": "python",
     "metadata": {},
     "outputs": [],
     "prompt_number": 105
    },
    {
     "cell_type": "code",
     "collapsed": false,
     "input": [
      "def clear():\n",
      "    global points\n",
      "    points = []\n",
      "    background(0)\n",
      "onKeyPressed += clear"
     ],
     "language": "python",
     "metadata": {},
     "outputs": [],
     "prompt_number": 100
    },
    {
     "cell_type": "code",
     "collapsed": false,
     "input": [
      "points"
     ],
     "language": "python",
     "metadata": {},
     "outputs": [
      {
       "metadata": {},
       "output_type": "pyout",
       "prompt_number": 106,
       "text": [
        "[[342.0, 133.0], [342.0, 133.0], [342.0, 133.0], [342.0, 133.0], [332.0, 133.0], [332.0, 133.0], [332.0, 133.0], [332.0, 133.0], [321.0, 134.0], [321.0, 134.0], [321.0, 134.0], [321.0, 134.0], [299.0, 144.0], [299.0, 144.0], [299.0, 144.0], [299.0, 144.0], [272.0, 159.0], [272.0, 159.0], [272.0, 159.0], [272.0, 159.0], [244.0, 179.0], [244.0, 179.0], [244.0, 179.0], [244.0, 179.0], [212.0, 201.0], [212.0, 201.0], [212.0, 201.0], [212.0, 201.0], [185.0, 224.0], [185.0, 224.0], [185.0, 224.0], [185.0, 224.0], [166.0, 241.0], [166.0, 241.0], [166.0, 241.0], [166.0, 241.0], [146.0, 262.0], [146.0, 262.0], [146.0, 262.0], [146.0, 262.0], [132.0, 283.0], [132.0, 283.0], [132.0, 283.0], [132.0, 283.0], [125.0, 297.0], [125.0, 297.0], [125.0, 297.0], [125.0, 297.0], [120.0, 314.0], [120.0, 314.0], [120.0, 314.0], [120.0, 314.0], [120.0, 328.0], [120.0, 328.0], [120.0, 328.0], [120.0, 328.0], [120.0, 341.0], [120.0, 341.0], [120.0, 341.0], [120.0, 341.0], [122.0, 351.0], [122.0, 351.0], [122.0, 351.0], [122.0, 351.0], [131.0, 355.0], [131.0, 355.0], [131.0, 355.0], [131.0, 355.0], [148.0, 360.0], [148.0, 360.0], [148.0, 360.0], [148.0, 360.0], [181.0, 360.0], [181.0, 360.0], [181.0, 360.0], [181.0, 360.0], [215.0, 354.0], [215.0, 354.0], [215.0, 354.0], [215.0, 354.0], [254.0, 338.0], [254.0, 338.0], [254.0, 338.0], [254.0, 338.0], [287.0, 317.0], [287.0, 317.0], [287.0, 317.0], [287.0, 317.0], [317.0, 290.0], [317.0, 290.0], [317.0, 290.0], [317.0, 290.0], [344.0, 256.0], [344.0, 256.0], [344.0, 256.0], [344.0, 256.0], [360.0, 231.0], [360.0, 231.0], [360.0, 231.0], [360.0, 231.0], [376.0, 197.0], [376.0, 197.0], [376.0, 197.0], [376.0, 197.0], [383.0, 173.0], [383.0, 173.0], [383.0, 173.0], [383.0, 173.0], [388.0, 151.0], [388.0, 151.0], [388.0, 151.0], [388.0, 151.0], [389.0, 140.0], [389.0, 140.0], [389.0, 140.0], [389.0, 140.0], [389.0, 128.0], [389.0, 128.0], [389.0, 128.0], [389.0, 128.0], [389.0, 122.0], [389.0, 122.0], [389.0, 122.0], [389.0, 122.0], [388.0, 117.0], [388.0, 117.0], [388.0, 117.0], [388.0, 117.0], [383.0, 113.0], [383.0, 113.0], [383.0, 113.0], [383.0, 113.0], [373.0, 110.0], [373.0, 110.0], [373.0, 110.0], [373.0, 110.0], [364.0, 109.0], [364.0, 109.0], [364.0, 109.0], [364.0, 109.0], [352.0, 108.0], [352.0, 108.0], [352.0, 108.0], [352.0, 108.0], [341.0, 107.0], [341.0, 107.0], [341.0, 107.0], [341.0, 107.0], [325.0, 105.0], [325.0, 105.0], [325.0, 105.0], [325.0, 105.0], [313.0, 103.0], [313.0, 103.0], [313.0, 103.0], [313.0, 103.0], [298.0, 103.0], [298.0, 103.0], [298.0, 103.0], [298.0, 103.0], [282.0, 103.0], [282.0, 103.0], [282.0, 103.0], [282.0, 103.0], [268.0, 104.0], [268.0, 104.0], [268.0, 104.0], [268.0, 104.0], [257.0, 109.0], [257.0, 109.0], [257.0, 109.0], [257.0, 109.0], [247.0, 116.0], [247.0, 116.0], [247.0, 116.0], [247.0, 116.0], [239.0, 124.0], [239.0, 124.0], [239.0, 124.0], [239.0, 124.0], [234.0, 132.0], [234.0, 132.0], [234.0, 132.0], [234.0, 132.0], [231.0, 136.0], [231.0, 136.0], [231.0, 136.0], [231.0, 136.0], [231.0, 143.0], [231.0, 143.0], [231.0, 143.0], [231.0, 143.0]]"
       ]
      }
     ],
     "prompt_number": 106
    },
    {
     "cell_type": "code",
     "collapsed": false,
     "input": [
      "data = Array.CreateInstance(float, len(points), len(points[0]))\n",
      "for i in range(len(points)):\n",
      "        for j in range(len(points[0])):\n",
      "            data[i,j] = points[i][j]\n",
      "print(data.Length)\n",
      "\n",
      "from Accord.Statistics.Analysis import *\n",
      "analysis = DescriptiveAnalysis(data)\n",
      "ux,uy = analysis.Means\n",
      "\n",
      "pca = PrincipalComponentAnalysis(data, AnalysisMethod.Center)\n",
      "\n",
      "# Compute the Principal Component Analysis\n",
      "pca.Compute()\n",
      "\n",
      "stroke(0, 255,0)\n",
      "strokeWeight(5)\n",
      "for pc in pca.Components:\n",
      "    x,y = pc.Eigenvector.Multiply(pc.Eigenvalue**0.5)\n",
      "    line(ux - x, uy - y, ux + x, uy + y)"
     ],
     "language": "python",
     "metadata": {},
     "outputs": [
      {
       "output_type": "stream",
       "stream": "stdout",
       "text": [
        "384"
       ]
      },
      {
       "output_type": "stream",
       "stream": "stdout",
       "text": [
        "\n"
       ]
      }
     ],
     "prompt_number": 107
    },
    {
     "cell_type": "code",
     "collapsed": false,
     "input": [
      "get()"
     ],
     "language": "python",
     "metadata": {},
     "outputs": [
      {
       "jpeg": "[encoded data removed]",
       "metadata": {},
       "output_type": "pyout",
       "png": "[encoded data removed]",
       "prompt_number": 108,
       "text": [
        "<PImage>"
       ]
      }
     ],
     "prompt_number": 108
    },
    {
     "cell_type": "code",
     "collapsed": false,
     "input": [],
     "language": "python",
     "metadata": {},
     "outputs": []
    }
   ],
   "metadata": {}
  }
 ]
}