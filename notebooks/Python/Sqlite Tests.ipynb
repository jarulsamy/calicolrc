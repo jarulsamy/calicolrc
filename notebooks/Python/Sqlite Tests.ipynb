{
 "metadata": {
  "name": "",
  "signature": "sha256:a7bdf97ebf88d2acc898f861fdeef32cdb861f4edfbd8f96f4921534af7c5e5e"
 },
 "nbformat": 3,
 "nbformat_minor": 0,
 "worksheets": [
  {
   "cells": [
    {
     "cell_type": "markdown",
     "metadata": {},
     "source": [
      "Sqlite\n",
      "======\n",
      "\n",
      "This is a demonstration of using Sqlite from within Calico Python."
     ]
    },
    {
     "cell_type": "markdown",
     "metadata": {},
     "source": [
      "First, you must add a reference to the Mono.Data.Sqlite library:"
     ]
    },
    {
     "cell_type": "code",
     "collapsed": false,
     "input": [
      "import clr\n",
      "clr.AddReference(\"Mono.Data.Sqlite\")\n",
      "import Mono.Data.Sqlite"
     ],
     "language": "python",
     "metadata": {},
     "outputs": [],
     "prompt_number": 38
    },
    {
     "cell_type": "markdown",
     "metadata": {},
     "source": [
      "Next, you must create a connection to the file:"
     ]
    },
    {
     "cell_type": "code",
     "collapsed": false,
     "input": [
      "connection = Mono.Data.Sqlite.SqliteConnection(\"Data Source=file:database.db\")"
     ],
     "language": "python",
     "metadata": {},
     "outputs": [],
     "prompt_number": 23
    },
    {
     "cell_type": "markdown",
     "metadata": {},
     "source": [
      "And then open the connection:"
     ]
    },
    {
     "cell_type": "code",
     "collapsed": false,
     "input": [
      "connection.Open()"
     ],
     "language": "python",
     "metadata": {},
     "outputs": [],
     "prompt_number": 24
    },
    {
     "cell_type": "markdown",
     "metadata": {},
     "source": [
      "Once you have the connection opened, then you can execute commands. First, we need to create a Command:"
     ]
    },
    {
     "cell_type": "code",
     "collapsed": false,
     "input": [
      "cmd = connection.CreateCommand()"
     ],
     "language": "python",
     "metadata": {},
     "outputs": [],
     "prompt_number": 25
    },
    {
     "cell_type": "markdown",
     "metadata": {},
     "source": [
      "After you have a Command object, then you can:\n",
      "\n",
      "1. set the CommandText\n",
      "1. ExecuteReader\n",
      "1. Read the results"
     ]
    },
    {
     "cell_type": "markdown",
     "metadata": {},
     "source": [
      "We use the set, execute, read steps to create a table:"
     ]
    },
    {
     "cell_type": "code",
     "collapsed": false,
     "input": [
      "cmd.CommandText = \"\"\"CREATE TABLE employee (\n",
      "                     firstname varchar(32),\n",
      "                     lastname varchar(32));\"\"\""
     ],
     "language": "python",
     "metadata": {},
     "outputs": [],
     "prompt_number": 26
    },
    {
     "cell_type": "code",
     "collapsed": false,
     "input": [
      "reader = cmd.ExecuteReader()\n"
     ],
     "language": "python",
     "metadata": {},
     "outputs": [],
     "prompt_number": 27
    },
    {
     "cell_type": "code",
     "collapsed": false,
     "input": [
      "while reader.Read():\n",
      "    FirstName = reader.GetString(0)\n",
      "    LastName = reader.GetString (1)\n",
      "    print(FirstName, LastName)\n",
      "reader.Close()"
     ],
     "language": "python",
     "metadata": {},
     "outputs": [],
     "prompt_number": 31
    },
    {
     "cell_type": "markdown",
     "metadata": {},
     "source": [
      "We use the set, execute, read steps to add data to the table:"
     ]
    },
    {
     "cell_type": "code",
     "collapsed": false,
     "input": [
      "cmd.CommandText = \"\"\"INSERT into employee (firstname, lastname)\n",
      "                     VALUES (\"Firstname\", \"Lastname\");\"\"\""
     ],
     "language": "python",
     "metadata": {},
     "outputs": [],
     "prompt_number": 32
    },
    {
     "cell_type": "code",
     "collapsed": false,
     "input": [
      "reader = cmd.ExecuteReader()\n"
     ],
     "language": "python",
     "metadata": {},
     "outputs": [],
     "prompt_number": 33
    },
    {
     "cell_type": "code",
     "collapsed": false,
     "input": [
      "while reader.Read():\n",
      "    FirstName = reader.GetString(0)\n",
      "    LastName = reader.GetString (1)\n",
      "    print(FirstName, LastName)\n",
      "reader.Close()"
     ],
     "language": "python",
     "metadata": {},
     "outputs": [],
     "prompt_number": 34
    },
    {
     "cell_type": "markdown",
     "metadata": {},
     "source": [
      "We use the set, execute, read steps to read data from a table:"
     ]
    },
    {
     "cell_type": "code",
     "collapsed": false,
     "input": [
      "cmd.CommandText = \"\"\"select * from employee;\"\"\""
     ],
     "language": "python",
     "metadata": {},
     "outputs": [],
     "prompt_number": 35
    },
    {
     "cell_type": "code",
     "collapsed": false,
     "input": [
      "reader = cmd.ExecuteReader()\n"
     ],
     "language": "python",
     "metadata": {},
     "outputs": [],
     "prompt_number": 36
    },
    {
     "cell_type": "code",
     "collapsed": false,
     "input": [
      "while reader.Read():\n",
      "    FirstName = reader.GetString(0)\n",
      "    LastName = reader.GetString (1)\n",
      "    print(FirstName, LastName)\n",
      "reader.Close()"
     ],
     "language": "python",
     "metadata": {},
     "outputs": [
      {
       "output_type": "stream",
       "stream": "stdout",
       "text": [
        "Firstname"
       ]
      },
      {
       "output_type": "stream",
       "stream": "stdout",
       "text": [
        " "
       ]
      },
      {
       "output_type": "stream",
       "stream": "stdout",
       "text": [
        "Lastname"
       ]
      },
      {
       "output_type": "stream",
       "stream": "stdout",
       "text": [
        "\n"
       ]
      }
     ],
     "prompt_number": 37
    },
    {
     "cell_type": "code",
     "collapsed": false,
     "input": [],
     "language": "python",
     "metadata": {},
     "outputs": []
    }
   ],
   "metadata": {}
  }
 ]
}