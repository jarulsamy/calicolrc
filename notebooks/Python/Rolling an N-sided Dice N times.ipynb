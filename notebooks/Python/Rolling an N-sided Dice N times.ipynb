{
 "metadata": {
  "name": "",
  "signature": "sha256:ac89b60ee6fc90bd33e3870aadfd2bcbeefcadc050360eb5ec9d5e17eb2e83a5"
 },
 "nbformat": 3,
 "nbformat_minor": 0,
 "worksheets": [
  {
   "cells": [
    {
     "cell_type": "markdown",
     "metadata": {},
     "source": [
      "Rolling an N-sided Dice N times\n",
      "===============================\n",
      "\n",
      "A version of this question came up in class: if you roll an n-sided dice n times, what is the probability that you'll roll a particular side?\n",
      "\n",
      "You know that the chance of rolling a particular side on the first roll is $\\dfrac{1}{n}$. So, you might think that rolling a particular side out of two rolls would be $\\dfrac{1}{n} \\times \\dfrac{1}{n}$. But that is the probability of rolling the same side twice in a row.\n",
      "\n",
      "Perhaps it is easier to think about the probability of _not_ rolling a side. That would be $\\dfrac{5}{6}$, or, in general, $\\dfrac{n - 1}{n}$. So the probably of not rolling a particular side twice is:\n",
      "\n",
      "$\\dfrac{n - 1}{n} \\times \\dfrac{n - 1}{n}$\n",
      "\n",
      "or for rolling the dice $n$ times:\n",
      "\n",
      "$\\left(\\dfrac{n - 1}{n}\\right) ^ n$\n",
      "\n",
      "If we then subtract that from 1 to get the probability of rolling a particular side:\n",
      "\n",
      "$1 - \\left( \\dfrac{n - 1}{n} \\right) ^ n$\n"
     ]
    },
    {
     "cell_type": "markdown",
     "metadata": {},
     "source": [
      "Let's do some simulations to see if this matches what we would expect:"
     ]
    },
    {
     "cell_type": "code",
     "collapsed": false,
     "input": [
      "import random"
     ],
     "language": "python",
     "metadata": {},
     "outputs": [],
     "prompt_number": 1
    },
    {
     "cell_type": "markdown",
     "metadata": {},
     "source": [
      "Let's roll a 6-sided dice 6 times:"
     ]
    },
    {
     "cell_type": "code",
     "collapsed": false,
     "input": [
      "rolls = [random.randint(1,6) for i in range(6)]\n",
      "print(rolls)"
     ],
     "language": "python",
     "metadata": {},
     "outputs": [
      {
       "output_type": "stream",
       "stream": "stdout",
       "text": [
        "[5, 6, 2, 1, 4, 4]"
       ]
      },
      {
       "output_type": "stream",
       "stream": "stdout",
       "text": [
        "\n"
       ]
      }
     ],
     "prompt_number": 2
    },
    {
     "cell_type": "markdown",
     "metadata": {},
     "source": [
      "And count the number of times it rolled each side:"
     ]
    },
    {
     "cell_type": "code",
     "collapsed": false,
     "input": [
      "[rolls.count(i) for i in range(1,7)]"
     ],
     "language": "python",
     "metadata": {},
     "outputs": [
      {
       "metadata": {},
       "output_type": "pyout",
       "prompt_number": 3,
       "text": [
        "[1, 1, 0, 2, 1, 1]"
       ]
      }
     ],
     "prompt_number": 3
    },
    {
     "cell_type": "markdown",
     "metadata": {},
     "source": [
      "And make a function to test, for arbitrary number of sides:"
     ]
    },
    {
     "cell_type": "code",
     "collapsed": false,
     "input": [
      "def test(n):\n",
      "    rolls = [random.randint(1,n) for i in range(n)]\n",
      "    print([rolls.count(i) for i in range(1,n + 1)])"
     ],
     "language": "python",
     "metadata": {},
     "outputs": [],
     "prompt_number": 4
    },
    {
     "cell_type": "code",
     "collapsed": false,
     "input": [
      "test(6)"
     ],
     "language": "python",
     "metadata": {},
     "outputs": [
      {
       "output_type": "stream",
       "stream": "stdout",
       "text": [
        "[1, 2, 0, 0, 0, 3]"
       ]
      },
      {
       "output_type": "stream",
       "stream": "stdout",
       "text": [
        "\n"
       ]
      }
     ],
     "prompt_number": 5
    },
    {
     "cell_type": "code",
     "collapsed": false,
     "input": [
      "test(100)"
     ],
     "language": "python",
     "metadata": {},
     "outputs": [
      {
       "output_type": "stream",
       "stream": "stdout",
       "text": [
        "[0, 1, 3, 4, 0, 0, 2, 0, 2, 0, 1, 0, 1, 1, 1, 0, 0, 0, 0, 1, 0, 1, 0, 1, 0, 0, 1, 2, 1, 1, 0, 0, 3, 3, 1, 1, 1, 0, 0, 0, 2, 1, 1, 1, 0, 0, 1, 0, 1, 0, 1, 2, 1, 2, 1, 4, 1, 1, 0, 4, 1, 0, 4, 0, 2, 2, 1, 0, 2, 3, 1, 1, 0, 0, 1, 1, 1, 6, 1, 0, 0, 1, 0, 1, 1, 1, 0, 0, 0, 3, 0, 0, 3, 1, 0, 1, 0, 3, 0, 1]"
       ]
      },
      {
       "output_type": "stream",
       "stream": "stdout",
       "text": [
        "\n"
       ]
      }
     ],
     "prompt_number": 6
    },
    {
     "cell_type": "markdown",
     "metadata": {},
     "source": [
      "Now, let's see how many times it rolled at least one of each number, total those up, and divded by the sides:"
     ]
    },
    {
     "cell_type": "code",
     "collapsed": false,
     "input": [
      "def test(n):\n",
      "    rolls = [random.randint(1,n) for i in range(n)]\n",
      "    return sum([1 for count in [rolls.count(i) for i in range(1,n + 1)] if count > 0])/n"
     ],
     "language": "python",
     "metadata": {},
     "outputs": [],
     "prompt_number": 7
    },
    {
     "cell_type": "code",
     "collapsed": false,
     "input": [
      "test(6)"
     ],
     "language": "python",
     "metadata": {},
     "outputs": [
      {
       "metadata": {},
       "output_type": "pyout",
       "prompt_number": 13,
       "text": [
        "0.666666666666667"
       ]
      }
     ],
     "prompt_number": 13
    },
    {
     "cell_type": "code",
     "collapsed": false,
     "input": [
      "test(100)"
     ],
     "language": "python",
     "metadata": {},
     "outputs": [
      {
       "metadata": {},
       "output_type": "pyout",
       "prompt_number": 16,
       "text": [
        "0.63"
       ]
      }
     ],
     "prompt_number": 16
    },
    {
     "cell_type": "code",
     "collapsed": false,
     "input": [
      "test(10000)"
     ],
     "language": "python",
     "metadata": {},
     "outputs": [
      {
       "metadata": {},
       "output_type": "pyout",
       "prompt_number": 17,
       "text": [
        "0.6305"
       ]
      }
     ],
     "prompt_number": 17
    },
    {
     "cell_type": "markdown",
     "metadata": {},
     "source": [
      "Does that match what we would expect?"
     ]
    },
    {
     "cell_type": "code",
     "collapsed": false,
     "input": [
      "1 - ((10000 - 1)/10000) ** 10000"
     ],
     "language": "python",
     "metadata": {},
     "outputs": [
      {
       "metadata": {},
       "output_type": "pyout",
       "prompt_number": 18,
       "text": [
        "0.63213895356703"
       ]
      }
     ],
     "prompt_number": 18
    },
    {
     "cell_type": "markdown",
     "metadata": {},
     "source": [
      "Yes, it does! Cool!"
     ]
    },
    {
     "cell_type": "markdown",
     "metadata": {},
     "source": [
      "In fact, as you make $n$ larger (both experimentally and through the equation) you will see that it gets closer and closer to a particular number.\n",
      "\n",
      "This is a well-known equivalency:\n",
      "\n",
      "$\\lim_{n \\to \\infty} ((n - 1)/n) ^ n = 1/e$ \n",
      "\n",
      "So, the probability of rolling a particular side of an n-sided dice after n rolls is:\n",
      "\n",
      "$1 - 1/e$\n"
     ]
    },
    {
     "cell_type": "code",
     "collapsed": false,
     "input": [
      "import math\n",
      "print(1 - 1/math.e)"
     ],
     "language": "python",
     "metadata": {},
     "outputs": [
      {
       "output_type": "stream",
       "stream": "stdout",
       "text": [
        "0.632120558829"
       ]
      },
      {
       "output_type": "stream",
       "stream": "stdout",
       "text": [
        "\n"
       ]
      }
     ],
     "prompt_number": 21
    },
    {
     "cell_type": "code",
     "collapsed": false,
     "input": [],
     "language": "python",
     "metadata": {},
     "outputs": []
    }
   ],
   "metadata": {}
  }
 ]
}