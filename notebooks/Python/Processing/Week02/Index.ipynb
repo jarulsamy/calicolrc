{
 "metadata": {
  "name": "", 
  "signature": ""
 }, 
 "nbformat": 3, 
 "nbformat_minor": 0, 
 "worksheets": [
  {
   "cells": [
    {
     "cell_type": "markdown", 
     "collapsed": false, 
     "metadata": {}, 
     "source": [
      "Notebooks in Week02:\n", 
      "\n", 
      "*  [alphaChannels](alphaChannels.ipynb)\n", 
      "*  [ladybug](ladybug.ipynb)\n", 
      "*  [monster](monster.ipynb)\n", 
      "*  [ndebele](ndebele.ipynb)\n", 
      "*  [penguin](penguin.ipynb)\n", 
      "*  [randomEllipse](randomEllipse.ipynb)\n", 
      "*  [southPark](southPark.ipynb)\n", 
      "*  [sushi](sushi.ipynb)\n"
     ]
    }
   ], 
   "metadata": {}
  }
 ]
}