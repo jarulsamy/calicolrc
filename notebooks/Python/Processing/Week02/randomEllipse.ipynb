{
 "metadata": {
  "name": "", 
  "signature": "sha256:481ce9335e2a9fa09d1a9423a7c8ca5aa78ee4b74e62165fcb493a9b40914e9f"
 }, 
 "nbformat": 3, 
 "nbformat_minor": 0, 
 "worksheets": [
  {
   "cells": [
    {
     "cell_type": "code", 
     "collapsed": false, 
     "input": [
      "from Processing import *\n", 
      "\n", 
      "window(300, 300)\n", 
      "smooth()\n", 
      "frameRate(1)\n", 
      "\n", 
      "def draw():\n", 
      "    fill(random(255), random(255), random(255))\n", 
      "    ellipse(mouseX(), mouseY(), 30, 30)\n", 
      "\n", 
      "onLoop += draw\n", 
      "loop()\n"
     ], 
     "language": "python", 
     "metadata": {}, 
     "outputs": []
    }
   ], 
   "metadata": {}
  }
 ]
}