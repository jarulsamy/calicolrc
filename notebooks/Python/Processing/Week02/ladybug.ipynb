{
 "metadata": {
  "name": "",
  "signature": "sha256:bd119fd31ef5aef900b2259645fc05a1ad235c3d78c88ae8fba1f96e868363ac"
 },
 "nbformat": 3,
 "nbformat_minor": 0,
 "worksheets": [
  {
   "cells": [
    {
     "cell_type": "code",
     "collapsed": false,
     "input": [
      "# Ladybug\n",
      "from Processing import *\n",
      "\n",
      "window(400, 400)\n",
      "background(255)\n",
      "smooth()\n",
      "\n",
      "# Head\n",
      "fill(0)\n",
      "ellipseMode(CENTER)\n",
      "ellipse(200, 160, 60, 80)\n",
      "\n",
      "# eyes\n",
      "fill(255, 255, 0)\n",
      "ellipse(185, 130, 5, 5)\n",
      "ellipse(215, 130, 5, 5)\n",
      "\n",
      "# antlers\n",
      "fill(0)\n",
      "strokeWeight(3)\n",
      "line(190, 125, 170, 95)\n",
      "ellipse(167, 95, 5, 5)\n",
      "line(210, 125, 230, 95)\n",
      "ellipse(233, 95, 5, 5)\n",
      "\n",
      "# Body\n",
      "fill(255, 0, 0)\n",
      "ellipse(200, 200, 140, 120)\n",
      "\n",
      "fill(0)\n",
      "strokeWeight(5)\n",
      "line(200, 140, 200, 260)\n",
      "strokeWeight(1)\n",
      "\n",
      "triangle(200, 250, 205, 260, 195, 260)\n",
      "\n",
      "# left dots\n",
      "fill(0)\n",
      "ellipse(140, 200, 8, 8)\n",
      "ellipse(155, 180, 7, 7)\n",
      "ellipse(165, 160, 8, 8)\n",
      "ellipse(158, 210, 6, 6)\n",
      "ellipse(172, 197, 8, 8)\n",
      "ellipse(185, 172, 9, 9)\n",
      "ellipse(180, 222, 8, 8)\n",
      "ellipse(164, 236, 8, 8)\n",
      "\n",
      "# right dots\n",
      "ellipse(210, 160, 8, 8)\n",
      "ellipse(222, 178, 7, 7)\n",
      "ellipse(235, 166, 6, 6)\n",
      "ellipse(213, 240, 8, 8)\n",
      "ellipse(210, 206, 9, 9)\n",
      "ellipse(240, 198, 7, 7)\n",
      "ellipse(252, 212, 8, 8)\n",
      "ellipse(232, 222, 8, 8)\n"
     ],
     "language": "python",
     "metadata": {},
     "outputs": [],
     "prompt_number": 1
    },
    {
     "cell_type": "code",
     "collapsed": false,
     "input": [],
     "language": "python",
     "metadata": {},
     "outputs": []
    }
   ],
   "metadata": {}
  }
 ]
}