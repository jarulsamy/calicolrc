{
 "metadata": {
  "name": "", 
  "signature": "sha256:fa2cddd237ba188a4d2beae5800b48ac54f029d0ed728a554808ebbaef70e42a"
 }, 
 "nbformat": 3, 
 "nbformat_minor": 0, 
 "worksheets": [
  {
   "cells": [
    {
     "cell_type": "code", 
     "collapsed": false, 
     "input": [
      "# penguin\n", 
      "from Processing import *\n", 
      "\n", 
      "window(400, 500)\n", 
      "\n", 
      "smooth()\n", 
      "\n", 
      "background(0)\n", 
      "stroke(245, 63, 55)\n", 
      "strokeWeight(3)\n", 
      "fill(0)\n", 
      "\n", 
      "beginShape()\n", 
      "\n", 
      "curveVertex(105, 400)\n", 
      "curveVertex(105, 400)\n", 
      "curveVertex(101, 392)\n", 
      "curveVertex(108, 387)\n", 
      "curveVertex(117, 398)\n", 
      "curveVertex(119, 342)\n", 
      "curveVertex(106, 210)\n", 
      "curveVertex(110, 160)\n", 
      "curveVertex(121, 120)\n", 
      "curveVertex(122, 99)\n", 
      "curveVertex(116, 90)\n", 
      "curveVertex(85, 72)\n", 
      "curveVertex(112, 80)\n", 
      "curveVertex(120, 83)\n", 
      "curveVertex(129, 80)\n", 
      "curveVertex(120, 77)\n", 
      "curveVertex(112, 80)\n", 
      "curveVertex(110, 72)\n", 
      "curveVertex(120, 60)\n", 
      "curveVertex(140, 60)\n", 
      "curveVertex(180, 90)\n", 
      "curveVertex(210, 200)\n", 
      "curveVertex(180, 410)\n", 
      "curveVertex(144, 200)\n", 
      "curveVertex(160, 136)\n", 
      "curveVertex(164, 125)\n", 
      "curveVertex(163, 117)\n", 
      "curveVertex(153, 135)\n", 
      "curveVertex(153, 120)\n", 
      "curveVertex(163, 110)\n", 
      "curveVertex(170, 112)\n", 
      "curveVertex(173, 122)\n", 
      "curveVertex(173, 122)\n", 
      "\n", 
      "endShape()\n"
     ], 
     "language": "python", 
     "metadata": {}, 
     "outputs": []
    }
   ], 
   "metadata": {}
  }
 ]
}