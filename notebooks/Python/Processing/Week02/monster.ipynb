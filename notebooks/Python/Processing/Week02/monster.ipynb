{
 "metadata": {
  "name": "",
  "signature": "sha256:d594d954aaae1ba722ae00d0792b30538fcd42a7adf2d304aa3997a8733ce823"
 },
 "nbformat": 3,
 "nbformat_minor": 0,
 "worksheets": [
  {
   "cells": [
    {
     "cell_type": "code",
     "collapsed": false,
     "input": [
      "# Monster1\n",
      "# A sketch that can be drawn using simple shapes\n",
      "# introduced in week 1...\n",
      "\n",
      "from Processing import *\n",
      "\n",
      "window(400, 400)\n",
      "background(188, 183, 8)\n",
      "smooth()\n",
      "\n",
      "# Draw the face\n",
      "\n",
      "# ears\n",
      "fill(0)\n",
      "arc(107, 200, 14, 160, PI, 2*PI)\n",
      "arc(293, 200, 14, 165, PI, 2*PI)\n",
      "# Face is made up of four quads, so we will use arcs to draw them\n",
      "# Quad1\n",
      "ellipseMode(CENTER)\n",
      "fill(242, 111, 10)\n",
      "arc(200, 200, 200, 120, 0, PI/2.0)\n",
      "\n",
      "# Quad2\n",
      "fill(10, 201, 196)\n",
      "arc(200, 200, 200, 120, PI/2.0, PI)\n",
      "\n",
      "# Quad3\n",
      "fill(242, 111, 10)\n",
      "arc(200, 200, 200, 120, PI, 3*PI/2.0)\n",
      "\n",
      "# Quad3\n",
      "fill(250, 15, 43)\n",
      "arc(200, 200, 200, 120, 3*PI/2.0, 2*PI)\n",
      "\n",
      "# Four eyes\n",
      "fill(255)\n",
      "ellipse(140, 190, 10, 10)\n",
      "ellipse(180, 185, 10, 10)\n",
      "ellipse(220, 185, 10, 10)\n",
      "ellipse(260, 190, 10, 10)\n",
      "\n",
      "fill(0)\n",
      "ellipse(140, 190, 4, 4)\n",
      "ellipse(180, 185, 4, 4)\n",
      "ellipse(220, 185, 4, 4)\n",
      "ellipse(260, 190, 4, 4)\n",
      "\n",
      "# Mouth\n",
      "ellipse(195, 230, 30, 15)\n",
      "ellipse(205, 227, 30, 20)\n"
     ],
     "language": "python",
     "metadata": {},
     "outputs": [],
     "prompt_number": 4
    },
    {
     "cell_type": "code",
     "collapsed": false,
     "input": [],
     "language": "python",
     "metadata": {},
     "outputs": []
    }
   ],
   "metadata": {}
  }
 ]
}