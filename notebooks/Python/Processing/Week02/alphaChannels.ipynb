{
 "metadata": {
  "name": "",
  "signature": "sha256:9bcee7f08e9b68c1389fa42ddef1c661cdf1a8b5d5ec044335a31982ee95c6de"
 },
 "nbformat": 3,
 "nbformat_minor": 0,
 "worksheets": [
  {
   "cells": [
    {
     "cell_type": "code",
     "collapsed": false,
     "input": [
      "# alphaChannels.py\n",
      "\n",
      "from Processing import *\n",
      "import math\n",
      "\n",
      "window(500, 500)\n",
      "smooth()\n",
      "\n",
      "w = width()\n",
      "h = height()\n",
      "ww = 2*math.sqrt(w/4*w/4+h/4*h/4)\n",
      "noStroke()\n",
      "fill(255, 0, 0, 255)\n",
      "ellipse(w/4, h/4, ww, ww)\n",
      "fill(0, 255, 0, 127)\n",
      "ellipse(3*w/4, 3*h/4, ww, ww)\n",
      "fill(0, 0, 255, 127)\n",
      "ellipse(3*w/4, h/4, ww, ww)\n",
      "fill(255, 255, 0, 127)\n",
      "ellipse(w/4, 3*h/4, ww, ww)\n"
     ],
     "language": "python",
     "metadata": {},
     "outputs": [],
     "prompt_number": 1
    },
    {
     "cell_type": "code",
     "collapsed": false,
     "input": [],
     "language": "python",
     "metadata": {},
     "outputs": []
    }
   ],
   "metadata": {}
  }
 ]
}