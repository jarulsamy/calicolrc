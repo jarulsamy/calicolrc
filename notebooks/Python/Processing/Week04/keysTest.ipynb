{
 "metadata": {
  "name": "", 
  "signature": "sha256:4c9384735c60fddec9b24455c389008b6135a96bdaf72cd33c517c85fa66dff8"
 }, 
 "nbformat": 3, 
 "nbformat_minor": 0, 
 "worksheets": [
  {
   "cells": [
    {
     "cell_type": "code", 
     "collapsed": false, 
     "input": [
      "from Processing import *\n", 
      "\n", 
      "window(500, 500)\n", 
      "\n", 
      "# Test key detection using while-loop\n", 
      "## while True:\n", 
      "##     if isKeyPressed():\n", 
      "##         print( \"key() is \", key() )\n", 
      "##         print( \"keyCode() is \", keyCode() )\n", 
      "##         delay(100)\n", 
      "\n", 
      "# Test keys detection using internal timer\n", 
      "def testKey():\n", 
      "    if isKeyPressed():\n", 
      "        print( \"key() is \", key() )\n", 
      "frameRate(100)\n", 
      "onLoop += testKey\n", 
      "loop()\n"
     ], 
     "language": "python", 
     "metadata": {}, 
     "outputs": []
    }
   ], 
   "metadata": {}
  }
 ]
}