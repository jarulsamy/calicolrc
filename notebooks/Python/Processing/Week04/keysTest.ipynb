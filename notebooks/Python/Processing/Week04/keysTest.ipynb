{
 "metadata": {
  "name": "",
  "signature": "sha256:9fe2be7a68e222cf9ace3fa73132f18e614b4b327fbbc97d4d7ed960c8a66f34"
 },
 "nbformat": 3,
 "nbformat_minor": 0,
 "worksheets": [
  {
   "cells": [
    {
     "cell_type": "code",
     "collapsed": false,
     "input": [
      "from Processing import *\n",
      "\n",
      "window(500, 500)\n",
      "\n",
      "# Test key detection using while-loop\n",
      "## while True:\n",
      "##     if isKeyPressed():\n",
      "##         print( \"key() is \", key() )\n",
      "##         print( \"keyCode() is \", keyCode() )\n",
      "##         delay(100)\n",
      "\n",
      "# Test keys detection using internal timer\n",
      "def testKey(*args, **kwargs):\n",
      "    print(\"ok\")\n",
      "    if isKeyPressed(*args, **kwargs):\n",
      "        #print( \"key() is \", key() )\n",
      "        print(\"hi\")\n",
      "frameRate(10)\n",
      "onLoop += testKey\n",
      "loop()\n"
     ],
     "language": "python",
     "metadata": {},
     "outputs": [],
     "prompt_number": 2
    },
    {
     "cell_type": "code",
     "collapsed": false,
     "input": [
      "ddd"
     ],
     "language": "python",
     "metadata": {},
     "outputs": [
      {
       "output_type": "stream",
       "stream": "stdout",
       "text": [
        "ok"
       ]
      },
      {
       "output_type": "stream",
       "stream": "stdout",
       "text": [
        "\n"
       ]
      },
      {
       "output_type": "stream",
       "stream": "stderr",
       "text": [
        "Traceback (most recent call last):\n",
        "  File \"<string>\", line unknown, in <module>\n",
        "  File \"<string>\", line 1, in <module>\n",
        "NameError: name 'ddd' is not defined\n"
       ]
      }
     ],
     "prompt_number": 3
    },
    {
     "cell_type": "code",
     "collapsed": false,
     "input": [],
     "language": "python",
     "metadata": {},
     "outputs": []
    }
   ],
   "metadata": {}
  }
 ]
}