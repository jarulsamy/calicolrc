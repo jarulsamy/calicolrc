{
 "metadata": {
  "name": "", 
  "signature": "sha256:295ab8b76f95d69d763e01c1ecf7e11810f6988fd348aa3e5cf90f30a17beba5"
 }, 
 "nbformat": 3, 
 "nbformat_minor": 0, 
 "worksheets": [
  {
   "cells": [
    {
     "cell_type": "code", 
     "collapsed": false, 
     "input": [
      "# bounce.py\n", 
      "\n", 
      "# Copyright  2012 Mark F. Russo\n", 
      "# Bryn Mawr College, Department of Computer Science\n", 
      "# Permission is granted to copy and distribute provided\n", 
      "# this entire copyright notice is reproduced in all copies.\n", 
      "\n", 
      "from Processing import *\n", 
      "\n", 
      "sx = 0.0    # x position\n", 
      "sy = 0.0    # y position\n", 
      "vx = 1.0    # x velocity\n", 
      "vy = 1.0    # y velocity\n", 
      "ay = 0.2    # y acceleration (gravity)\n", 
      "\n", 
      "window(500, 500)\n", 
      "fill(255, 0, 0)\n", 
      "smooth()\n", 
      "ellipseMode(CENTER)\n", 
      "\n", 
      "def draw():\n", 
      "    global sx, sy, vx, vy, ay\n", 
      "\n", 
      "    # Equations of Motion\n", 
      "    sx = sx + vx\n", 
      "    sy = sy + vy\n", 
      "    vy = vy + ay\n", 
      "\n", 
      "    # Bounce off walls\n", 
      "    if sx <= 0.0 or sx >= width(): vx = -vx\n", 
      "\n", 
      "    # Bounce off floor and\n", 
      "    # lose some velocity due to friction\n", 
      "    if sy >= (height()-10.0):\n", 
      "        sy = (height()-10.0)\n", 
      "        vy = -0.9*vy\n", 
      "\n", 
      "    # Draw at current location\n", 
      "    background(255)\n", 
      "    ellipse(sx, sy, 20, 20)\n", 
      "\n", 
      "frameRate(100)\n", 
      "onLoop += draw\n", 
      "loop()\n"
     ], 
     "language": "python", 
     "metadata": {}, 
     "outputs": []
    }
   ], 
   "metadata": {}
  }
 ]
}