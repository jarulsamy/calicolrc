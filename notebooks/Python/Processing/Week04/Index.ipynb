{
 "metadata": {
  "name": "", 
  "signature": ""
 }, 
 "nbformat": 3, 
 "nbformat_minor": 0, 
 "worksheets": [
  {
   "cells": [
    {
     "cell_type": "markdown", 
     "collapsed": false, 
     "metadata": {}, 
     "source": [
      "Notebooks in Week04:\n", 
      "\n", 
      "*  [bounce](bounce.ipynb)\n", 
      "*  [keysTest](keysTest.ipynb)\n", 
      "*  [walker](walker.ipynb)\n"
     ]
    }
   ], 
   "metadata": {}
  }
 ]
}