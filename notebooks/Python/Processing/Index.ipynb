{
 "metadata": {
  "name": "", 
  "signature": ""
 }, 
 "nbformat": 3, 
 "nbformat_minor": 0, 
 "worksheets": [
  {
   "cells": [
    {
     "cell_type": "markdown", 
     "collapsed": false, 
     "metadata": {}, 
     "source": [
      "<table><tr><td>\n", 
      "<img width=\"300\" src=\"http://calicoproject.org/wiki/images/d/d1/CalicoLogo.gif\">\n", 
      "</td>\n", 
      "<td>\n", 
      "The [Calico Project](http://calicoproject.org/) was designed to allow the easy exploration of computing ideas in a variety of programming languages. It is the product of NSF DUE grant #0920539 supporting the [Institute for Personal Robots in Education](http://wiki.roboteducation.org/).\n", 
      "<br>\n", 
      "<br>\n", 
      "You can find out more about these notebooks here: [ICalico](http://calicoproject.org/ICalico).\n", 
      "</td></tr></table>\n", 
      "\n"
     ]
    }, 
    {
     "cell_type": "markdown", 
     "collapsed": false, 
     "metadata": {}, 
     "source": [
      "Subfolders in <b>Processing</b>:\n", 
      "\n", 
      "* [Week02](Week02/Index.ipynb)\n", 
      "* [Week03](Week03/Index.ipynb)\n", 
      "* [Week04](Week04/Index.ipynb)\n", 
      "* [Week05](Week05/Index.ipynb)\n", 
      "* [Week06](Week06/Index.ipynb)\n", 
      "* [Week07](Week07/Index.ipynb)\n", 
      "* [Week08](Week08/Index.ipynb)\n", 
      "* [Week09](Week09/Index.ipynb)\n", 
      "* [Week10](Week10/Index.ipynb)\n", 
      "* [Week11](Week11/Index.ipynb)\n"
     ]
    }, 
    {
     "cell_type": "markdown", 
     "collapsed": false, 
     "metadata": {}, 
     "source": [
      "Notebooks in <b>Processing</b>:\n", 
      "\n", 
      "*  [NotebookProcessing](NotebookProcessing.ipynb)\n"
     ]
    }
   ], 
   "metadata": {}
  }
 ]
}