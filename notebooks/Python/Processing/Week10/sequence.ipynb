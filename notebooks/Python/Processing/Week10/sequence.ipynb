{
 "metadata": {
  "name": "", 
  "signature": "sha256:63b5768cbb6eecc615dc953d5cef14f4b2852ca91015c4d53defa18e554a4840"
 }, 
 "nbformat": 3, 
 "nbformat_minor": 0, 
 "worksheets": [
  {
   "cells": [
    {
     "cell_type": "code", 
     "collapsed": false, 
     "input": [
      "# sequence.py\n", 
      "\n", 
      "from Processing import *\n", 
      "\n", 
      "# Load all images\n", 
      "images = []\n", 
      "for i in range(1, 16):\n", 
      "    fileName = \"images/horse\" + str(i) + \".gif\"\n", 
      "    img = loadImage( fileName )\n", 
      "    images.append( img )\n", 
      "\n", 
      "# Open a window\n", 
      "window( 184, 135 )\n", 
      "\n", 
      "# Draw all images to window in sequence\n", 
      "while True:\n", 
      "    # Repeatedly display all images in list\n", 
      "    for i in range(15):\n", 
      "        img = images[i]\n", 
      "        image( img, 0, 0)\n", 
      "        delay(60)\n", 
      "\n", 
      "    # Hold mouse down to stop animation\n", 
      "    if isMousePressed() == True:\n", 
      "        break\n", 
      "\n", 
      "# Exit the window and stop the program\n", 
      "exit()\n"
     ], 
     "language": "python", 
     "metadata": {}, 
     "outputs": []
    }
   ], 
   "metadata": {}
  }
 ]
}