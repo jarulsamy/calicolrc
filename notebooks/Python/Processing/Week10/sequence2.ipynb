{
 "metadata": {
  "name": "", 
  "signature": "sha256:ff8dcea63e3f19e71f528ef9bc71bf16178d8da06bd0221e60e39ad3bda56b0e"
 }, 
 "nbformat": 3, 
 "nbformat_minor": 0, 
 "worksheets": [
  {
   "cells": [
    {
     "cell_type": "code", 
     "collapsed": false, 
     "input": [
      "# sequence2.py\n", 
      "\n", 
      "from Processing import *\n", 
      "\n", 
      "# Load all images\n", 
      "images = []\n", 
      "for i in range(1, 16):\n", 
      "    fileName = \"images/horse\" + str(i) + \".gif\"\n", 
      "    img = loadImage( fileName )\n", 
      "    images.append( img )\n", 
      "\n", 
      "# Open a window\n", 
      "window( 800, 135 )\n", 
      "\n", 
      "x = 0\n", 
      "\n", 
      "# Draw all images to window in sequence\n", 
      "while True:\n", 
      "\n", 
      "    # Repeatedly display all images in list\n", 
      "    for i in range(15):\n", 
      "        # Clear background\n", 
      "        background(230);\n", 
      "\n", 
      "        # Draw image\n", 
      "        img = images[i]\n", 
      "        image( img, x, 0)\n", 
      "        x = (x + 20) % width()\n", 
      "        delay(60)\n", 
      "\n", 
      "    # Hold mouse down to stop animation\n", 
      "    if isMousePressed() == True:\n", 
      "        break\n", 
      "\n", 
      "# Exit the window and stop the program\n", 
      "exit()\n"
     ], 
     "language": "python", 
     "metadata": {}, 
     "outputs": []
    }
   ], 
   "metadata": {}
  }
 ]
}