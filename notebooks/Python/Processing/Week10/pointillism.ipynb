{
 "metadata": {
  "name": "", 
  "signature": "sha256:8933cd63f47841e7782015c65d625ee730ece0ee78ef75698e51e253a9c2d292"
 }, 
 "nbformat": 3, 
 "nbformat_minor": 0, 
 "worksheets": [
  {
   "cells": [
    {
     "cell_type": "code", 
     "collapsed": false, 
     "input": [
      "# pointlillism.py\n", 
      "\n", 
      "from Processing import *\n", 
      "\n", 
      "# Load the picture, create a window of the same size, and draw the picture\n", 
      "img = loadImage(\"images/bmc3.jpg\")\n", 
      "window( img.width(), img.height() )\n", 
      "image(img, 0, 0)\n", 
      "\n", 
      "# Load pixels so all colors are available to read\n", 
      "loadPixels()\n", 
      "\n", 
      "# Sample 20000 colors from random locations\n", 
      "# and paint a small circle of same color at same location\n", 
      "noStroke()\n", 
      "#while True:\n", 
      "for i in xrange(20000):\n", 
      "    x = random(width())\n", 
      "    y = random(height())\n", 
      "    c = getPixel(x, y)\n", 
      "    fill(c)\n", 
      "    ellipse(x, y, 7, 7)\n", 
      "    delay(1)\n", 
      "\n", 
      "    # Break out of loop when mouse is pressed\n", 
      "    if isMousePressed(): break\n"
     ], 
     "language": "python", 
     "metadata": {}, 
     "outputs": []
    }
   ], 
   "metadata": {}
  }
 ]
}