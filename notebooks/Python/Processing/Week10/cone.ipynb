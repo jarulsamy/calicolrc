{
 "metadata": {
  "name": "", 
  "signature": "sha256:d3ad2b78dfa52033f9dfb2b04c40342ffc80647a39c210887c46261c36efc386"
 }, 
 "nbformat": 3, 
 "nbformat_minor": 0, 
 "worksheets": [
  {
   "cells": [
    {
     "cell_type": "code", 
     "collapsed": false, 
     "input": [
      "# cone.py\n", 
      "\n", 
      "from Processing import *\n", 
      "\n", 
      "window(400, 400)\n", 
      "\n", 
      "# Get pixel colors from window\n", 
      "loadPixels()\n", 
      "\n", 
      "for i in range( 400 ):\n", 
      "    for j in range( 400 ):\n", 
      "        # Compute distance to center of sketch\n", 
      "        # Constrain distance to byte range\n", 
      "        b = dist( i, j, 200, 200 )\n", 
      "        b = constrain(b, 0, 255)\n", 
      "\n", 
      "        # Set pixel color\n", 
      "        c = color( b )\n", 
      "        setPixel(i, j, c)\n", 
      "\n", 
      "# Repaint\n", 
      "updatePixels()\n"
     ], 
     "language": "python", 
     "metadata": {}, 
     "outputs": []
    }
   ], 
   "metadata": {}
  }
 ]
}