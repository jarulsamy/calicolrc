{
 "metadata": {
  "name": "", 
  "signature": "sha256:469f0c1500995c6ac39df417c49ecd334ab9f24733f80e9a429806c3f37a7297"
 }, 
 "nbformat": 3, 
 "nbformat_minor": 0, 
 "worksheets": [
  {
   "cells": [
    {
     "cell_type": "code", 
     "collapsed": false, 
     "input": [
      "from Processing import *\n", 
      "\n", 
      "window(255, 255)\n", 
      "\n", 
      "# Load the pixels\n", 
      "loadPixels()\n", 
      "\n", 
      "# Set pixel grayscale value to row index\n", 
      "for i in range(255):\n", 
      "    for j in range(255):\n", 
      "        setPixel(i, j, j)\n", 
      "\n", 
      "# Update pixels\n", 
      "updatePixels()\n"
     ], 
     "language": "python", 
     "metadata": {}, 
     "outputs": []
    }
   ], 
   "metadata": {}
  }
 ]
}