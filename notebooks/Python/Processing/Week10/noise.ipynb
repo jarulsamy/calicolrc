{
 "metadata": {
  "name": "", 
  "signature": "sha256:4f965951b144e98c10389caeeb5c27c1f37abc8d75e0f25d0467ddcac477a84b"
 }, 
 "nbformat": 3, 
 "nbformat_minor": 0, 
 "worksheets": [
  {
   "cells": [
    {
     "cell_type": "code", 
     "collapsed": false, 
     "input": [
      "from Processing import *\n", 
      "\n", 
      "window(500, 300)\n", 
      "background(0)\n", 
      "\n", 
      "# Allow all pixel manipulation without updating the screen\n", 
      "immediateMode(False)\n", 
      "\n", 
      "def noise():\n", 
      "    background(0)\n", 
      "    loadPixels()\n", 
      "    for i in range(5000):\n", 
      "        x = random(500)\n", 
      "        y = random(300)\n", 
      "        setPixel(x, y, 255, 255, 255, 255)\n", 
      "    updatePixels()\n", 
      "\n", 
      "    # Trigger a redraw and a delay to smooth animation\n", 
      "    redraw()\n", 
      "    delay(1)\n", 
      "\n", 
      "for i in range(1000):\n", 
      "    noise()\n"
     ], 
     "language": "python", 
     "metadata": {}, 
     "outputs": []
    }
   ], 
   "metadata": {}
  }
 ]
}