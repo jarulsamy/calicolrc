{
 "metadata": {
  "name": "", 
  "signature": "sha256:afae84cf8afe2a2832c760489fbf76eca41f50d672153992974c3d0d88e5207e"
 }, 
 "nbformat": 3, 
 "nbformat_minor": 0, 
 "worksheets": [
  {
   "cells": [
    {
     "cell_type": "code", 
     "collapsed": false, 
     "input": [
      "# ripple.py\n", 
      "\n", 
      "from Processing import *\n", 
      "import math\n", 
      "\n", 
      "window(400, 400)\n", 
      "\n", 
      "# Get pixel colors from window\n", 
      "loadPixels()\n", 
      "\n", 
      "for i in range( 400 ):\n", 
      "    for j in range( 400 ):\n", 
      "        # Compute distance to center of sketch\n", 
      "        d = dist( i, j, 200, 200 )\n", 
      "\n", 
      "        # Compute the sine of the distance and scale\n", 
      "        b = math.sin(d/5.0)\n", 
      "        b = ((200.0-d)/200.0)*map(b, -1.0, 1.0, 0, 255);\n", 
      "\n", 
      "        # Constrain distance to byte range\n", 
      "        b = constrain(b, 0, 255)\n", 
      "\n", 
      "        # Set pixel color\n", 
      "        c = color( b )\n", 
      "        setPixel(i, j, c)\n", 
      "\n", 
      "# Repaint\n", 
      "updatePixels()\n"
     ], 
     "language": "python", 
     "metadata": {}, 
     "outputs": []
    }
   ], 
   "metadata": {}
  }
 ]
}