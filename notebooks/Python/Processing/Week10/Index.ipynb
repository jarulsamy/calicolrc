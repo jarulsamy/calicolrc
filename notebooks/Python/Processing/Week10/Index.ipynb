{
 "metadata": {
  "name": "", 
  "signature": ""
 }, 
 "nbformat": 3, 
 "nbformat_minor": 0, 
 "worksheets": [
  {
   "cells": [
    {
     "cell_type": "markdown", 
     "collapsed": false, 
     "metadata": {}, 
     "source": [
      "<table><tr><td>\n", 
      "<img width=\"300\" src=\"http://calicoproject.org/wiki/images/d/d1/CalicoLogo.gif\">\n", 
      "</td>\n", 
      "<td>\n", 
      "The [Calico Project](http://calicoproject.org/) was designed to allow the easy exploration of computing ideas in a variety of programming languages. It is the product of NSF DUE grant #0920539 supporting the [Institute for Personal Robots in Education](http://wiki.roboteducation.org/).\n", 
      "<br>\n", 
      "<br>\n", 
      "You can find out more about these notebooks here: [ICalico](http://calicoproject.org/ICalico).\n", 
      "</td></tr></table>\n", 
      "\n"
     ]
    }, 
    {
     "cell_type": "markdown", 
     "collapsed": false, 
     "metadata": {}, 
     "source": [
      "Notebooks in <b>Week10</b>:\n", 
      "\n", 
      "*  [cone](cone.ipynb)\n", 
      "*  [noise](noise.ipynb)\n", 
      "*  [pointillism](pointillism.ipynb)\n", 
      "*  [ripple](ripple.ipynb)\n", 
      "*  [sequence](sequence.ipynb)\n", 
      "*  [sequence2](sequence2.ipynb)\n", 
      "*  [shade](shade.ipynb)\n"
     ]
    }
   ], 
   "metadata": {}
  }
 ]
}