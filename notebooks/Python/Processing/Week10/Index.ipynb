{
 "metadata": {
  "name": "", 
  "signature": ""
 }, 
 "nbformat": 3, 
 "nbformat_minor": 0, 
 "worksheets": [
  {
   "cells": [
    {
     "cell_type": "markdown", 
     "collapsed": false, 
     "metadata": {}, 
     "source": [
      "Subfolders in Week10:\n", 
      "\n", 
      "* [images](images/Index.ipynb)\n"
     ]
    }, 
    {
     "cell_type": "markdown", 
     "collapsed": false, 
     "metadata": {}, 
     "source": [
      "Notebooks in Week10:\n", 
      "\n", 
      "*  [cone](cone.ipynb)\n", 
      "*  [noise](noise.ipynb)\n", 
      "*  [pointillism](pointillism.ipynb)\n", 
      "*  [ripple](ripple.ipynb)\n", 
      "*  [sequence](sequence.ipynb)\n", 
      "*  [sequence2](sequence2.ipynb)\n", 
      "*  [shade](shade.ipynb)\n"
     ]
    }
   ], 
   "metadata": {}
  }
 ]
}