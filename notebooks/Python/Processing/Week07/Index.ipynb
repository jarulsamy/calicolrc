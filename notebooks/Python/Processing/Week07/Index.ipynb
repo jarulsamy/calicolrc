{
 "metadata": {
  "name": "", 
  "signature": ""
 }, 
 "nbformat": 3, 
 "nbformat_minor": 0, 
 "worksheets": [
  {
   "cells": [
    {
     "cell_type": "markdown", 
     "collapsed": false, 
     "metadata": {}, 
     "source": [
      "Notebooks in Week07:\n", 
      "\n", 
      "*  [sun](sun.ipynb)\n"
     ]
    }
   ], 
   "metadata": {}
  }
 ]
}