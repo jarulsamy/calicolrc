{
 "metadata": {
  "name": "", 
  "signature": ""
 }, 
 "nbformat": 3, 
 "nbformat_minor": 0, 
 "worksheets": [
  {
   "cells": [
    {
     "cell_type": "markdown", 
     "collapsed": false, 
     "metadata": {}, 
     "source": [
      "Notebooks in Week03:\n", 
      "\n", 
      "*  [imageExample](imageExample.ipynb)\n", 
      "*  [variables1](variables1.ipynb)\n", 
      "*  [variables2](variables2.ipynb)\n"
     ]
    }
   ], 
   "metadata": {}
  }
 ]
}