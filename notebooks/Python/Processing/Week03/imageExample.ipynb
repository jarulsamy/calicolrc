{
 "metadata": {
  "name": "", 
  "signature": "sha256:d75427e6901729260593541e4e582c0ec16440aa0b7375ff296c406c548b58ad"
 }, 
 "nbformat": 3, 
 "nbformat_minor": 0, 
 "worksheets": [
  {
   "cells": [
    {
     "cell_type": "code", 
     "collapsed": false, 
     "input": [
      "from Processing import *\n", 
      "\n", 
      "window(500, 400)\n", 
      "img = loadImage(\"natura-morta.jpg\")\n", 
      "image(img, 50, 40)\n"
     ], 
     "language": "python", 
     "metadata": {}, 
     "outputs": []
    }
   ], 
   "metadata": {}
  }
 ]
}