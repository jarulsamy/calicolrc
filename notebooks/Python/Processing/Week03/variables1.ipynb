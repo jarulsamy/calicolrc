{
 "metadata": {
  "name": "", 
  "signature": "sha256:2718abdbb91a6cb67e077e5c904c93bcb2fc78bbd90e74f271b33c0686094c6d"
 }, 
 "nbformat": 3, 
 "nbformat_minor": 0, 
 "worksheets": [
  {
   "cells": [
    {
     "cell_type": "code", 
     "collapsed": false, 
     "input": [
      "# Variables that store the last mouse pressed position.\n", 
      "from Processing import *\n", 
      "window(500, 300)\n", 
      "\n", 
      "# Draw a line from the last mouse position to the current position.\n", 
      "lastX = 0\n", 
      "lastY = 0\n", 
      "\n", 
      "def mousePressed():\n", 
      "    global lastX, lastY\n", 
      "    line(lastX, lastY, mouseX(), mouseY())\n", 
      "    lastX = mouseX()\n", 
      "    lastY = mouseY()\n", 
      "\n", 
      "onMousePressed += mousePressed\n"
     ], 
     "language": "python", 
     "metadata": {}, 
     "outputs": []
    }
   ], 
   "metadata": {}
  }
 ]
}