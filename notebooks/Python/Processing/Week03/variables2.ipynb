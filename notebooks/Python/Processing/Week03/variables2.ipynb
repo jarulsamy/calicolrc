{
 "metadata": {
  "name": "", 
  "signature": "sha256:546429e781916e3efae400fe7f3881aa8f8fcfc3b752eb1da8ee7c3cdfe27040"
 }, 
 "nbformat": 3, 
 "nbformat_minor": 0, 
 "worksheets": [
  {
   "cells": [
    {
     "cell_type": "code", 
     "collapsed": false, 
     "input": [
      "# Mouse orbiter\n", 
      "from Processing import *\n", 
      "import math\n", 
      "\n", 
      "window(500, 300)\n", 
      "background(255)\n", 
      "\n", 
      "# Orbit angle state variable\n", 
      "angle = 0\n", 
      "\n", 
      "def draw():\n", 
      "    global angle\n", 
      "    background(255)\n", 
      "    fill(0, 0, 255)\n", 
      "    angle = angle + 0.3             # Increment angle\n", 
      "    dX = 30.0*math.cos(angle)       # Mouse position offset\n", 
      "    dY = 30.0*math.sin(angle)       # Draw two orbiting shapes\n", 
      "    ellipse(mouseX() + dX, mouseY() + dY, 5, 5)\n", 
      "    ellipse(mouseX() - dX, mouseY() - dY, 5, 5)\n", 
      "    redraw()\n", 
      "\n", 
      "frameRate(10)\n", 
      "onLoop += draw\n", 
      "loop()\n"
     ], 
     "language": "python", 
     "metadata": {}, 
     "outputs": []
    }
   ], 
   "metadata": {}
  }
 ]
}