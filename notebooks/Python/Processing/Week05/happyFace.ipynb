{
 "metadata": {
  "name": "", 
  "signature": "sha256:c516fe06d3487ce9e60ec7d30a89098727a943b1dba481c5a946eb54e545fb9a"
 }, 
 "nbformat": 3, 
 "nbformat_minor": 0, 
 "worksheets": [
  {
   "cells": [
    {
     "cell_type": "code", 
     "collapsed": false, 
     "input": [
      "# happyFace.pde\n", 
      "\n", 
      "from Processing import *\n", 
      "import math\n", 
      "\n", 
      "window(500, 500)\n", 
      "background(0)\n", 
      "smooth()\n", 
      "\n", 
      "# Draw happy face\n", 
      "def happyFace( x, y, diam ):\n", 
      "    # Face\n", 
      "    fill(255, 255, 0)\n", 
      "    stroke(0)\n", 
      "    strokeWeight(2)\n", 
      "    ellipseMode(CENTER)\n", 
      "    ellipse(x, y, diam, diam )\n", 
      "\n", 
      "    # Smile\n", 
      "    startAng = 0.1*math.pi\n", 
      "    endAng = 0.9*math.pi\n", 
      "    smileDiam = 0.6*diam\n", 
      "    arc(x, y, smileDiam, smileDiam, startAng, endAng)\n", 
      "\n", 
      "    # Eyes\n", 
      "    offset = 0.2*diam\n", 
      "    eyeDiam = 0.1*diam\n", 
      "    fill(0)\n", 
      "    ellipse(x-offset, y-offset, eyeDiam, eyeDiam)\n", 
      "    ellipse(x+offset, y-offset, eyeDiam, eyeDiam)\n", 
      "\n", 
      "def onPressed(.3):\n", 
      "    diam = random(30, 60)\n", 
      "    happyFace( mouseX(), mouseY(), diam )\n", 
      "\n", 
      "onMousePressed += onPressed\n"
     ], 
     "language": "python", 
     "metadata": {}, 
     "outputs": []
    }
   ], 
   "metadata": {}
  }
 ]
}