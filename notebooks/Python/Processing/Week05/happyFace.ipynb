{
 "metadata": {
  "name": "",
  "signature": "sha256:ce7c951c17bef21e61c01dc7023bfadec70dcd8dea459e7c8c568b88e447c155"
 },
 "nbformat": 3,
 "nbformat_minor": 0,
 "worksheets": [
  {
   "cells": [
    {
     "cell_type": "code",
     "collapsed": false,
     "input": [
      "# happyFace.pde\n",
      "\n",
      "from Processing import *\n",
      "import math\n",
      "\n",
      "window(500, 500)\n",
      "background(0)\n",
      "smooth()\n",
      "\n",
      "# Draw happy face\n",
      "def happyFace( x, y, diam ):\n",
      "    # Face\n",
      "    fill(255, 255, 0)\n",
      "    stroke(0)\n",
      "    strokeWeight(2)\n",
      "    ellipseMode(CENTER)\n",
      "    ellipse(x, y, diam, diam )\n",
      "\n",
      "    # Smile\n",
      "    startAng = 0.1*math.pi\n",
      "    endAng = 0.9*math.pi\n",
      "    smileDiam = 0.6*diam\n",
      "    arc(x, y, smileDiam, smileDiam, startAng, endAng)\n",
      "\n",
      "    # Eyes\n",
      "    offset = 0.2*diam\n",
      "    eyeDiam = 0.1*diam\n",
      "    fill(0)\n",
      "    ellipse(x-offset, y-offset, eyeDiam, eyeDiam)\n",
      "    ellipse(x+offset, y-offset, eyeDiam, eyeDiam)\n",
      "\n",
      "def onPressed():\n",
      "    diam = random(30, 60)\n",
      "    happyFace( mouseX(), mouseY(), diam )\n",
      "\n",
      "onMousePressed += onPressed\n"
     ],
     "language": "python",
     "metadata": {},
     "outputs": [],
     "prompt_number": 2
    },
    {
     "cell_type": "code",
     "collapsed": false,
     "input": [],
     "language": "python",
     "metadata": {},
     "outputs": []
    }
   ],
   "metadata": {}
  }
 ]
}