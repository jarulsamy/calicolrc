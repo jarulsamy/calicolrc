{
 "metadata": {
  "name": "", 
  "signature": ""
 }, 
 "nbformat": 3, 
 "nbformat_minor": 0, 
 "worksheets": [
  {
   "cells": [
    {
     "cell_type": "markdown", 
     "collapsed": false, 
     "metadata": {}, 
     "source": [
      "Notebooks in Week05:\n", 
      "\n", 
      "*  [happyFace](happyFace.ipynb)\n", 
      "*  [normal](normal.ipynb)\n", 
      "*  [textAlign](textAlign.ipynb)\n"
     ]
    }
   ], 
   "metadata": {}
  }
 ]
}