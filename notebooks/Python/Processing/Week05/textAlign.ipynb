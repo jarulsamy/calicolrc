{
 "metadata": {
  "name": "", 
  "signature": "sha256:8a833bfbbea865643eb36fa2d4e26a143bf2507b1e0549159c8f8a43d9bf0fdd"
 }, 
 "nbformat": 3, 
 "nbformat_minor": 0, 
 "worksheets": [
  {
   "cells": [
    {
     "cell_type": "code", 
     "collapsed": false, 
     "input": [
      "from Processing import *\n", 
      "\n", 
      "window(500, 500)\n", 
      "textSize(12)\n", 
      "noFill()\n", 
      "rect(50, 50, 400, 400)\n", 
      "\n", 
      "textAlign(LEFT, TOP)\n", 
      "text(\"Upper left\", 50, 50, 400, 400)\n", 
      "\n", 
      "textAlign(CENTER, TOP)\n", 
      "text(\"In the middle\", 50, 50, 400, 400)\n", 
      "\n", 
      "textAlign(RIGHT, TOP)\n", 
      "text(\"Upper right\", 50, 50, 400, 400)\n", 
      "\n", 
      "textAlign(LEFT, CENTER)\n", 
      "text(\"Left of center\", 50, 50, 400, 400)\n", 
      "\n", 
      "textAlign(CENTER, CENTER)\n", 
      "text(\"Center Center\", 50, 50, 400, 400)\n", 
      "\n", 
      "textAlign(RIGHT, CENTER)\n", 
      "text(\"Right of center\", 50, 50, 400, 400)\n", 
      "\n", 
      "textAlign(LEFT, BOTTOM)\n", 
      "text(\"Down and left\", 50, 50, 400, 400)\n", 
      "\n", 
      "textAlign(CENTER, BOTTOM)\n", 
      "text(\"Center Bottom\", 50, 50, 400, 400)\n", 
      "\n", 
      "textAlign(RIGHT, BOTTOM)\n", 
      "text(\"Down and right\", 50, 50, 400, 400)\n", 
      "\n", 
      "textAlign(LEFT, BASELINE)\n", 
      "text(\"Base left\", 50, 50, 400)\n", 
      "\n", 
      "textAlign(CENTER, BASELINE)\n", 
      "text(\"Base Center\", 50, 50, 400)\n", 
      "\n", 
      "textAlign(RIGHT, BASELINE)\n", 
      "text(\"Base right\", 50, 50, 400)\n", 
      "\n", 
      "print( \"The width of ABC is \" + str(textWidth(\"ABC\")))\n"
     ], 
     "language": "python", 
     "metadata": {}, 
     "outputs": []
    }
   ], 
   "metadata": {}
  }
 ]
}