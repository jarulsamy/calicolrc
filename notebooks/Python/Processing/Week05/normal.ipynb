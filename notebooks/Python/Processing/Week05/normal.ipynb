{
 "metadata": {
  "name": "", 
  "signature": "sha256:13b500633b1abb6e119a6dc822d502c1d61216dbd25a8f82889c80d491cfc24f"
 }, 
 "nbformat": 3, 
 "nbformat_minor": 0, 
 "worksheets": [
  {
   "cells": [
    {
     "cell_type": "code", 
     "collapsed": false, 
     "input": [
      "# Build a 2D normal or uniform distribution\n", 
      "# by overlapping semitransparent circles\n", 
      "\n", 
      "from Processing import *\n", 
      "import math\n", 
      "\n", 
      "size(500, 500)\n", 
      "background(0)\n", 
      "fill(255,255,255,32)\n", 
      "noStroke()\n", 
      "smooth()\n", 
      "\n", 
      "def draw():\n", 
      "    # A uniform distribution\n", 
      "    #x = random(0,width())\n", 
      "    #y = random(0,height())\n", 
      "\n", 
      "    # A normal distribution\n", 
      "    x = map( normal(), -3.0, 3.0, 0, width() )\n", 
      "    y = map( normal(), -3.0, 3.0, 0, width() )\n", 
      "    ellipse(x, y, 10, 10)\n", 
      "\n", 
      "# Normal distribution sampler\n", 
      "def normal():\n", 
      "    # Polar form of Box-Muller transformation\n", 
      "    # Converts uniform distribution in [-1,1]\n", 
      "    # to a normal distribution w/ mean=0.0, sd=1.0\n", 
      "    \n", 
      "    while (True):\n", 
      "        x1 = random(-1.0, 1.0)\n", 
      "        x2 = random(-1.0, 1.0)\n", 
      "        w = x1 * x1 + x2 * x2\n", 
      "        if w < 1.0: break    # Try again if w >= 1.0\n", 
      "\n", 
      "    # Generate two samples\n", 
      "    w = math.sqrt( (-2.0 * math.log( w ) ) / w )\n", 
      "    y1 = x1 * w\n", 
      "    y2 = x2 * w\n", 
      "    \n", 
      "    return y1\n", 
      "\n", 
      "frameRate(1)\n", 
      "onLoop += draw\n", 
      "loop()\n"
     ], 
     "language": "python", 
     "metadata": {}, 
     "outputs": []
    }
   ], 
   "metadata": {}
  }
 ]
}