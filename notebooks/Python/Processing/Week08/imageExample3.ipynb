{
 "metadata": {
  "name": "", 
  "signature": "sha256:3e8593d48f26a1a9ffaa9bdca5f59a5af72a12354c9d6ae4bebe411ab13ffc0b"
 }, 
 "nbformat": 3, 
 "nbformat_minor": 0, 
 "worksheets": [
  {
   "cells": [
    {
     "cell_type": "code", 
     "collapsed": false, 
     "input": [
      "# imageExample3\n", 
      "\n", 
      "# Fade an image on each mouse click by fading each pixel individually.\n", 
      "# The color components of each pixel are extracted, multiplied by a fraction, and replaced.\n", 
      "\n", 
      "from Processing import *\n", 
      "\n", 
      "window(500, 400)\n", 
      "\n", 
      "# Load and display the image of interest\n", 
      "img = loadImage(\"natura-morta.jpg\")\n", 
      "image(img, 50, 40)\n", 
      "\n", 
      "# Handle mouse pressed events\n", 
      "def doMousePressed():\n", 
      "    global img\n", 
      "\n", 
      "    # Define the fade factor\n", 
      "    fade = 0.95 #1.05\n", 
      "\n", 
      "    # Load all pixels for manipulation\n", 
      "    img.loadPixels()\n", 
      "\n", 
      "    # Loop over all columns\n", 
      "    for i in range(img.width()):\n", 
      "\n", 
      "        # For each column, loop over all rows\n", 
      "        for j in range(img.height()):\n", 
      "\n", 
      "            # Get the pixel color\n", 
      "            p = img.getPixel(i, j)\n", 
      "\n", 
      "            # Build a new, faded color\n", 
      "            r = constrain(fade*red(p), 0, 255)\n", 
      "            g = constrain(fade*green(p), 0, 255)\n", 
      "            b = constrain(fade*blue(p), 0, 255)\n", 
      "            newColor = color( r, g, b )\n", 
      "\n", 
      "            # Replace the pixel color\n", 
      "            img.setPixel(i, j, newColor)\n", 
      "\n", 
      "    # Update the color data in the image\n", 
      "    img.updatePixels()\n", 
      "\n", 
      "    # Redraw the image\n", 
      "    image(img, 50, 40)\n", 
      "\n", 
      "# Handle the mouse pressed event\n", 
      "onMousePressed += doMousePressed\n"
     ], 
     "language": "python", 
     "metadata": {}, 
     "outputs": []
    }
   ], 
   "metadata": {}
  }
 ]
}