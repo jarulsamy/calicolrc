{
 "metadata": {
  "name": "", 
  "signature": ""
 }, 
 "nbformat": 3, 
 "nbformat_minor": 0, 
 "worksheets": [
  {
   "cells": [
    {
     "cell_type": "markdown", 
     "collapsed": false, 
     "metadata": {}, 
     "source": [
      "Notebooks in Week08:\n", 
      "\n", 
      "*  [bounce2](bounce2.ipynb)\n", 
      "*  [bounce3](bounce3.ipynb)\n", 
      "*  [imageExample3](imageExample3.ipynb)\n"
     ]
    }
   ], 
   "metadata": {}
  }
 ]
}