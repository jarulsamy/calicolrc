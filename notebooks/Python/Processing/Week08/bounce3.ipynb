{
 "metadata": {
  "name": "", 
  "signature": "sha256:5129daba753518394c2b672d73eb04db194d2ed103df608986b6ef0e4b01e1f1"
 }, 
 "nbformat": 3, 
 "nbformat_minor": 0, 
 "worksheets": [
  {
   "cells": [
    {
     "cell_type": "code", 
     "collapsed": false, 
     "input": [
      "# bounce3\n", 
      "# Demonstrating the use of lists\n", 
      "# Expand program to bounce a variable number of balls\n", 
      "\n", 
      "from Processing import *\n", 
      "\n", 
      "nBalls = 20\n", 
      "\n", 
      "# Open window\n", 
      "window(500, 500)\n", 
      "fill(255, 0, 0)\n", 
      "smooth()\n", 
      "ellipseMode(CENTER)\n", 
      "\n", 
      "w = width()\n", 
      "h = height()\n", 
      "\n", 
      "# Init all variables\n", 
      "ay = 0.2                    # y acceleration (gravity)\n", 
      "sx = []                     # x positions\n", 
      "sy = []                     # y positions\n", 
      "vx = []                     # x velocities\n", 
      "vy = []                     # y velocities\n", 
      "\n", 
      "# Initialize lists\n", 
      "for i in range(nBalls):\n", 
      "    sx.append( random(0.0, w) )\n", 
      "    sy.append( random(0.0, 10.0) )\n", 
      "    vx.append( random(-3.0, 3.0) )\n", 
      "    vy.append( random(0.0, 5.0) )\n", 
      "\n", 
      "# Redraw all balls\n", 
      "def draw():\n", 
      "    global w, h, ay, sx, sy, vx, vy\n", 
      "    background(255)\n", 
      "\n", 
      "    # Move balls\n", 
      "    for i in range(nBalls):\n", 
      "        sx[i] += vx[i]\n", 
      "        sy[i] += vy[i]\n", 
      "        vy[i] += ay\n", 
      "\n", 
      "        # Bounce off walls and floor\n", 
      "        if sx[i] <= 10.0 or sx[i] >= (w-10.0): vx[i] = -vx[i]\n", 
      "        if sy[i] >= (h-10.0) and vy[i] > 0.0: vy[i] = -0.9*vy[i]\n", 
      "\n", 
      "        # Draw ball\n", 
      "        ellipse( sx[i], sy[i], 20, 20)\n", 
      "\n", 
      "# Set up looping\n", 
      "onLoop += draw\n", 
      "frameRate(40)\n", 
      "loop()\n"
     ], 
     "language": "python", 
     "metadata": {}, 
     "outputs": []
    }
   ], 
   "metadata": {}
  }
 ]
}