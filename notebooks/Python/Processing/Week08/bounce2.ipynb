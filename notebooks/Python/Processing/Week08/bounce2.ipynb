{
 "metadata": {
  "name": "", 
  "signature": "sha256:0e6d8234c1da4222278a06983db771bfc2b6c13814a7a06a13f217c60dc6a842"
 }, 
 "nbformat": 3, 
 "nbformat_minor": 0, 
 "worksheets": [
  {
   "cells": [
    {
     "cell_type": "code", 
     "collapsed": false, 
     "input": [
      "# bounce2\n", 
      "\n", 
      "from Processing import *\n", 
      "\n", 
      "# Open window\n", 
      "window(500, 500)\n", 
      "fill(255, 0, 0)\n", 
      "smooth()\n", 
      "ellipseMode(CENTER)\n", 
      "\n", 
      "w = width()\n", 
      "h = height()\n", 
      "\n", 
      "# Init all variables\n", 
      "ay = 0.2                    # y acceleration (gravity)\n", 
      "sx = random(0.0, w)         # x position\n", 
      "sy = random(0.0, 10.0)      # y position\n", 
      "vx = random(-3.0, 3.0)      # x velocity\n", 
      "vy = random(0.0, 5.0)       # y velocity\n", 
      "\n", 
      "sx2 = random(0.0, width())  # x position\n", 
      "sy2 = random(0.0, 10.0)     # y position\n", 
      "vx2 = random(-3.0, 3.0)     # x velocity\n", 
      "vy2 = random(0.0, 5.0)      # y velocity\n", 
      "\n", 
      "def draw():\n", 
      "    global w, h, ay, sx, sy, vx, vy, sx2, sy2, vx2, vy2\n", 
      "    background(255)\n", 
      "\n", 
      "    # Move ball\n", 
      "    sx += vx\n", 
      "    sy += vy\n", 
      "    vy += ay\n", 
      "\n", 
      "    sx2 += vx2\n", 
      "    sy2 += vy2\n", 
      "    vy2 += ay\n", 
      "\n", 
      "    # Bounce off walls and floor\n", 
      "    if sx <= 10.0 or sx >= (w-10.0): vx = -vx\n", 
      "    if sy >= (h-10.0) and vy > 0.0: vy = -0.9*vy\n", 
      "\n", 
      "    if sx2 <= 10.0 or sx2 >= (w-10.0): vx2 = -vx2\n", 
      "    if sy2 >= (h-10.0) and vy2 > 0.0: vy2 = -0.9*vy2\n", 
      "\n", 
      "    # Draw ball\n", 
      "    ellipse( sx, sy, 20, 20)\n", 
      "    ellipse( sx2, sy2, 20, 20)\n", 
      "\n", 
      "# Set up looping\n", 
      "onLoop += draw\n", 
      "frameRate(40)\n", 
      "loop()\n"
     ], 
     "language": "python", 
     "metadata": {}, 
     "outputs": []
    }
   ], 
   "metadata": {}
  }
 ]
}