{
 "metadata": {
  "name": "", 
  "signature": ""
 }, 
 "nbformat": 3, 
 "nbformat_minor": 0, 
 "worksheets": [
  {
   "cells": [
    {
     "cell_type": "markdown", 
     "collapsed": false, 
     "metadata": {}, 
     "source": [
      "Notebooks in Week06:\n", 
      "\n", 
      "*  [textSki](textSki.ipynb)\n"
     ]
    }
   ], 
   "metadata": {}
  }
 ]
}