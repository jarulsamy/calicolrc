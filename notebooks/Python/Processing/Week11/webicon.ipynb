{
 "metadata": {
  "name": "", 
  "signature": "sha256:553df2d516eaf10a3de415dac7fc0117befcca8f7267e1930ff9113d7ca43822"
 }, 
 "nbformat": 3, 
 "nbformat_minor": 0, 
 "worksheets": [
  {
   "cells": [
    {
     "cell_type": "code", 
     "collapsed": false, 
     "input": [
      "from Processing import *\n", 
      "\n", 
      "# Define colors\n", 
      "darkBlue = color(0, 51, 76)\n", 
      "reddish = color(217, 26, 33)\n", 
      "lightBlue = color(112, 150, 158)\n", 
      "yellow = color(252, 227, 166)\n", 
      "\n", 
      "# Load image\n", 
      "img = loadImage(\"obama.jpg\")\n", 
      "w = toInt( img.width() )\n", 
      "h = toInt( img.height() )\n", 
      "\n", 
      "# Open a window and draw the initial image\n", 
      "window( w, h )\n", 
      "image(img, 0, 0)\n", 
      "\n", 
      "# Load pixels so they can be manipulated\n", 
      "loadPixels()\n", 
      "\n", 
      "# Loop over all pixels in the images\n", 
      "for i in range(w):\n", 
      "    for j in range(h):\n", 
      "\n", 
      "        # Get pixel color\n", 
      "        c = getPixel(i, j)\n", 
      "\n", 
      "        # Sum up all color components\n", 
      "        total = red(c)+green(c)+blue(c)\n", 
      "\n", 
      "        # Remap to new color depending upon total\n", 
      "        if total < 182:\n", 
      "            newColor = darkBlue\n", 
      "\n", 
      "        elif total < 364:\n", 
      "            newColor = reddish\n", 
      "\n", 
      "        elif total < 440:\n", 
      "            newColor = lightBlue\n", 
      "\n", 
      "        else:\n", 
      "            newColor = yellow\n", 
      "\n", 
      "        # Update to new color\n", 
      "        setPixel(i, j, newColor)\n", 
      "\n", 
      "# Paint back on the window\n", 
      "updatePixels()\n"
     ], 
     "language": "python", 
     "metadata": {}, 
     "outputs": []
    }
   ], 
   "metadata": {}
  }
 ]
}