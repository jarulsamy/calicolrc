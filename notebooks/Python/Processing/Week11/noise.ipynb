{
 "metadata": {
  "name": "",
  "signature": "sha256:53be13cef974bed77be9063e92ce55f2c1ec46a53179a9a3cf01eb4bd48dfced"
 },
 "nbformat": 3,
 "nbformat_minor": 0,
 "worksheets": [
  {
   "cells": [
    {
     "cell_type": "code",
     "collapsed": false,
     "input": [
      "from Processing import *\n",
      "\n",
      "size(640, 360)\n",
      "background(0)\n",
      "yoff = 0.0        ## 2nd dimension of perlin noise\n",
      "\n",
      "def draw():\n",
      "  global yoff\n",
      "  background(51)\n",
      "\n",
      "  fill(255)\n",
      "  ## We are going to draw a polygon out of the wave points\n",
      "  beginShape()\n",
      "\n",
      "  xoff = 0;       ## Option #1: 2D Noise\n",
      "  ## float xoff = yoff; // Option #2: 1D Noise\n",
      "\n",
      "  ## Iterate over horizontal pixels\n",
      "  for x in range(0, int(width()) + 1, 10): ## (float x = 0; x <= width; x += 10) {\n",
      "    ## Calculate a y value according to noise, map to\n",
      "    y = map(noise(xoff, yoff), 0, 1, 200,300); ## Option #1: 2D Noise\n",
      "    ## float y = map(noise(xoff), 0, 1, 200,300);    // Option #2: 1D Noise\n",
      "\n",
      "    ## Set the vertex\n",
      "    vertex(x, y)\n",
      "    ## Increment x dimension for noise\n",
      "    xoff += 0.05\n",
      "  ## increment y dimension for noise\n",
      "  yoff += 0.01\n",
      "  vertex(width(), height())\n",
      "  vertex(0, height())\n",
      "  endShape(CLOSE)\n",
      "\n",
      "# Set up looping\n",
      "onLoop += draw\n",
      "frameRate(60)\n",
      "loop()\n"
     ],
     "language": "python",
     "metadata": {},
     "outputs": [],
     "prompt_number": 4
    },
    {
     "cell_type": "code",
     "collapsed": false,
     "input": [
      "CLOSE"
     ],
     "language": "python",
     "metadata": {},
     "outputs": [
      {
       "output_type": "stream",
       "stream": "stderr",
       "text": [
        "Traceback (most recent call last):\n",
        "  File \"<string>\", line unknown, in <module>\n",
        "  File \"<string>\", line 1, in <module>\n",
        "NameError: name 'CLOSE' is not defined\n"
       ]
      }
     ],
     "prompt_number": 1
    },
    {
     "cell_type": "code",
     "collapsed": false,
     "input": [
      "from Processing import *\n",
      "CLOSE"
     ],
     "language": "python",
     "metadata": {},
     "outputs": [],
     "prompt_number": 2
    },
    {
     "cell_type": "code",
     "collapsed": false,
     "input": [
      "calico.display(CLOSE)"
     ],
     "language": "python",
     "metadata": {},
     "outputs": [
      {
       "metadata": {},
       "output_type": "display_data",
       "text": [
        "True"
       ]
      }
     ],
     "prompt_number": 3
    },
    {
     "cell_type": "code",
     "collapsed": false,
     "input": [],
     "language": "python",
     "metadata": {},
     "outputs": []
    }
   ],
   "metadata": {}
  }
 ]
}