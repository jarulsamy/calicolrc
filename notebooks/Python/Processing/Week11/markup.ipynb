{
 "metadata": {
  "name": "", 
  "signature": "sha256:216ecd3d72879faef2382446e5eb014d1d89ae78a78fe308ed12692f368f1736"
 }, 
 "nbformat": 3, 
 "nbformat_minor": 0, 
 "worksheets": [
  {
   "cells": [
    {
     "cell_type": "code", 
     "collapsed": false, 
     "input": [
      "from Processing import *\n", 
      "from random import choice\n", 
      "\n", 
      "#http://www.pygtk.org/docs/pygtk/pango-markup-language.html\n", 
      "\n", 
      "window(800, 400)\n", 
      "smooth()\n", 
      "textSize(12)\n", 
      "txt = \"\"\"<span foreground=\"blue\">Calico Processing</span> <b>is</b> <i>sweet</i>!\"\"\"\n", 
      "print(txt)\n", 
      "markup(txt, 50, 50)\n"
     ], 
     "language": "python", 
     "metadata": {}, 
     "outputs": []
    }
   ], 
   "metadata": {}
  }
 ]
}