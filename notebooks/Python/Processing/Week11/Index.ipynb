{
 "metadata": {
  "name": "", 
  "signature": ""
 }, 
 "nbformat": 3, 
 "nbformat_minor": 0, 
 "worksheets": [
  {
   "cells": [
    {
     "cell_type": "markdown", 
     "collapsed": false, 
     "metadata": {}, 
     "source": [
      "Notebooks in Week11:\n", 
      "\n", 
      "*  [gameOfLife](gameOfLife.ipynb)\n", 
      "*  [listFonts](listFonts.ipynb)\n", 
      "*  [markup](markup.ipynb)\n", 
      "*  [matrix](matrix.ipynb)\n", 
      "*  [noise](noise.ipynb)\n", 
      "*  [spatial](spatial.ipynb)\n", 
      "*  [spinningGalaxy](spinningGalaxy.ipynb)\n", 
      "*  [springs](springs.ipynb)\n", 
      "*  [threshold](threshold.ipynb)\n", 
      "*  [webicon](webicon.ipynb)\n"
     ]
    }
   ], 
   "metadata": {}
  }
 ]
}