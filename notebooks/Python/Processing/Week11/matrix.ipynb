{
 "metadata": {
  "name": "", 
  "signature": "sha256:5773f5d5abfa3b492b2674ff2dc8247ada2cc9d54a562df182dc477256cc5fd6"
 }, 
 "nbformat": 3, 
 "nbformat_minor": 0, 
 "worksheets": [
  {
   "cells": [
    {
     "cell_type": "code", 
     "collapsed": false, 
     "input": [
      "from Processing import *\n", 
      "import string\n", 
      "from random import choice, uniform\n", 
      "window(1680, 1050)\n", 
      "#window(displayWidth(), displayHeight())\n", 
      "fullscreen()\n", 
      "smooth()\n", 
      "noFill()\n", 
      "textFont(\"Courier\")\n", 
      "textSize(28)\n", 
      "frameRate(20)\n", 
      "stroke(0, 255, 22)\n", 
      "\n", 
      "def keyPressed():\n", 
      "    if (key() == \" \"):\n", 
      "        stroke(random(255), random(255), random(255))\n", 
      "\n", 
      "onKeyPressed += keyPressed\n", 
      "\n", 
      "choices = string.ascii_lowercase + string.uppercase + string.punctuation\n", 
      "msg = []\n", 
      "for i in range(2**11):\n", 
      "    msg = msg + [choice(choices)]\n", 
      "\n", 
      "def draw():\n", 
      "    background(0)\n", 
      "    for i in range(150):\n", 
      "        idx = int(uniform(0, len(msg)))\n", 
      "        msg[idx] = choice(choices)\n", 
      "    text(\"\".join(msg), 0, 50, width(), height())\n", 
      "\n", 
      "\n", 
      "onLoop += draw\n", 
      "loop()"
     ], 
     "language": "python", 
     "metadata": {}, 
     "outputs": []
    }
   ], 
   "metadata": {}
  }
 ]
}