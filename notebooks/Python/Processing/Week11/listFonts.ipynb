{
 "metadata": {
  "name": "", 
  "signature": "sha256:ae75a28b75a8d3bc93b54ce4ddb24b4a55fd91bca8cb8de2cf0a05a1afd3ea1f"
 }, 
 "nbformat": 3, 
 "nbformat_minor": 0, 
 "worksheets": [
  {
   "cells": [
    {
     "cell_type": "code", 
     "collapsed": false, 
     "input": [
      "from Processing import *\n", 
      "from random import choice\n", 
      "\n", 
      "window(1500, 800)\n", 
      "smooth()\n", 
      "textSize(8)\n", 
      "fonts = listFonts()\n", 
      "\n", 
      "x = 0\n", 
      "y = 0\n", 
      "for f in sorted(fonts):\n", 
      "    textFont(f)\n", 
      "    if y + textHeight(f) > height():\n", 
      "        y = 0\n", 
      "        x += 150\n", 
      "    if x > width():\n", 
      "        break\n", 
      "    text(f, x, y)\n", 
      "    y = y + textHeight(f)\n"
     ], 
     "language": "python", 
     "metadata": {}, 
     "outputs": []
    }
   ], 
   "metadata": {}
  }
 ]
}