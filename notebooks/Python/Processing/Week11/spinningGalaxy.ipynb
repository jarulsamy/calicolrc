{
 "metadata": {
  "name": "", 
  "signature": "sha256:59ee2a29e1f4f2e9bd7c60a13cdbe7455490ca02ba60f556db5b643f583bf58a"
 }, 
 "nbformat": 3, 
 "nbformat_minor": 0, 
 "worksheets": [
  {
   "cells": [
    {
     "cell_type": "code", 
     "collapsed": false, 
     "input": [
      "## For more information on how this math works, check out:\n", 
      "## http:##blog.marmakoide.org/?p=1\n", 
      "\n", 
      "from Processing import *\n", 
      "import math\n", 
      "\n", 
      "window(400, 400)\n", 
      "noStroke()\n", 
      "fill(252, 252, 205)\n", 
      "\n", 
      "## The number of points\n", 
      "N = 240\n", 
      "\n", 
      "## The initial angle change between succesive points\n", 
      "## Roughly 360 * (1 - 1/phi) degrees\n", 
      "angleChange = 137.5\n", 
      "\n", 
      "## The radius of the circle\n", 
      "maxRadius = 200\n", 
      "\n", 
      "def draw():\n", 
      "    global angleChange\n", 
      "    background(26, 26, 26)\n", 
      "    \n", 
      "    for i in range(N):\n", 
      "        radius = maxRadius * math.sqrt(i / N)\n", 
      "        theta = angleChange * i\n", 
      "\n", 
      "        x = 200 + radius * math.cos(theta)\n", 
      "        y = 200 + radius * math.sin(theta)\n", 
      "        ellipse(x, y, 5, 5)\n", 
      "    \n", 
      "    angleChange += 0.0001\n", 
      "\n", 
      "# Set up looping\n", 
      "onLoop += draw\n", 
      "frameRate(60)\n", 
      "loop()\n"
     ], 
     "language": "python", 
     "metadata": {}, 
     "outputs": []
    }
   ], 
   "metadata": {}
  }
 ]
}