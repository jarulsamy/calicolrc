{
 "metadata": {
  "name": "", 
  "signature": "sha256:467f33e9070bd836ee2a96ddd0a38a6905a0f3dfbd48ef91e822b783d80074ac"
 }, 
 "nbformat": 3, 
 "nbformat_minor": 0, 
 "worksheets": [
  {
   "cells": [
    {
     "cell_type": "code", 
     "collapsed": false, 
     "input": [
      "# threshold.py\n", 
      "# Demonstrating the threshold function\n", 
      "\n", 
      "from Processing import *\n", 
      "\n", 
      "# Load the image to process\n", 
      "img = loadImage(\"obama.jpg\")\n", 
      "#img = loadImage(\"colony.jpg\")\n", 
      "\n", 
      "# Create a window of the same size\n", 
      "w = int( img.width() )\n", 
      "h = int( img.height() )\n", 
      "window( w, h )\n", 
      "\n", 
      "# Draw the image\n", 
      "image( img, 0, 0)\n", 
      "\n", 
      "# Perform the threshold function\n", 
      "def threshold():\n", 
      "\n", 
      "    # Redraw the original image\n", 
      "    image( img, 0, 0)\n", 
      "\n", 
      "    # Get the cutoff as the y mouse position\n", 
      "    cutoff = mouseY()\n", 
      "    print( \"cutoff =\", cutoff )\n", 
      "\n", 
      "    # Load pixels in preparation for processing\n", 
      "    loadPixels()\n", 
      "\n", 
      "    # Loop over all pixels\n", 
      "    for i in range(w):\n", 
      "        for j in range(h):\n", 
      "\n", 
      "            # Get the color\n", 
      "            c = getPixel(i, j)\n", 
      "\n", 
      "            # Convert the color to grayscale\n", 
      "            gray = 0.2989 * red(c) + 0.5870 * green(c) + 0.1140 * blue(c)\n", 
      "\n", 
      "            # Compute threshold: white if above cutoff, and black if below cutoff\n", 
      "            if gray >= cutoff:\n", 
      "                gray = 255\n", 
      "            else:\n", 
      "                gray = 0\n", 
      "\n", 
      "            # Reset color to threshold value\n", 
      "            setPixel(i, j, color(gray))\n", 
      "\n", 
      "    # Update pixels in image\n", 
      "    updatePixels()\n", 
      "\n", 
      "# When the mouse is pressed, perform the threshold function\n", 
      "onMousePressed += threshold\n", 
      "\n"
     ], 
     "language": "python", 
     "metadata": {}, 
     "outputs": []
    }
   ], 
   "metadata": {}
  }
 ]
}