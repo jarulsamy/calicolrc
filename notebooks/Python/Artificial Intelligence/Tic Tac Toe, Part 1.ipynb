{
 "metadata": {
  "name": "",
  "signature": "sha256:2b66e01c1a0821047067c2c2b4708b4333e90083e8773ab9151d3ec25973ce0f"
 },
 "nbformat": 3,
 "nbformat_minor": 0,
 "worksheets": [
  {
   "cells": [
    {
     "cell_type": "markdown",
     "metadata": {},
     "source": [
      "Tic Tac Toe\n",
      "===========\n",
      "\n",
      "Let's write a Python program that can play [Tic Tac Toe](http://en.wikipedia.org/wiki/Tic-tac-toe).\n",
      "\n",
      "The first thing we need to decide is how to represent a Tic Tac Toe board.\n",
      "\n",
      "We could use any number of representations: list, 2D matrix, or even a string. Let's go with something that is straight-forward: a 2D matrix where the horizontal dimension (x) is given first.\n",
      "\n",
      "So board[0][0] would represent the upper-left hand corner, and board[2][0] would be the upper right-hand corner.\n",
      "\n",
      "Also, we need to decide what will represent a position that has an X, 0, and what is an empty position. Let's use 'X', 'O', and ' ' (space) for those, respectively. Let's call these characters *markers*.\n",
      "\n",
      "Let's make a function that will return an empty 3 x 3 board:"
     ]
    },
    {
     "cell_type": "code",
     "collapsed": false,
     "input": [
      "def makeBoard():\n",
      "    return [[\" \" for y in range(3)] for x in range(3)]"
     ],
     "language": "python",
     "metadata": {},
     "outputs": [],
     "prompt_number": 106
    },
    {
     "cell_type": "code",
     "collapsed": false,
     "input": [
      "board = makeBoard()"
     ],
     "language": "python",
     "metadata": {},
     "outputs": [],
     "prompt_number": 107
    },
    {
     "cell_type": "code",
     "collapsed": false,
     "input": [
      "board"
     ],
     "language": "python",
     "metadata": {},
     "outputs": [
      {
       "metadata": {},
       "output_type": "pyout",
       "prompt_number": 108,
       "text": [
        "[[' ', ' ', ' '], [' ', ' ', ' '], [' ', ' ', ' ']]"
       ]
      }
     ],
     "prompt_number": 108
    },
    {
     "cell_type": "markdown",
     "metadata": {},
     "source": [
      "That doesn't look very good; let's make a function that will display a board as we are used to seeing it:"
     ]
    },
    {
     "cell_type": "code",
     "collapsed": false,
     "input": [
      "def drawBoard(board):\n",
      "    brd = \"\\n\"\n",
      "    for y in range(3):\n",
      "        for x in range(3):\n",
      "            brd += \" %s \" % board[x][y]\n",
      "            if x < 2:\n",
      "                brd += \"|\"\n",
      "        brd += \"\\n\"\n",
      "        if y < 2:\n",
      "            brd += (\"-\" * 11) + \"\\n\"\n",
      "    print(brd)"
     ],
     "language": "python",
     "metadata": {},
     "outputs": [],
     "prompt_number": 109
    },
    {
     "cell_type": "code",
     "collapsed": false,
     "input": [
      "drawBoard(board)"
     ],
     "language": "python",
     "metadata": {},
     "outputs": [
      {
       "output_type": "stream",
       "stream": "stdout",
       "text": [
        "\n",
        "   |   |   \n",
        "-----------\n",
        "   |   |   \n",
        "-----------\n",
        "   |   |   \n"
       ]
      },
      {
       "output_type": "stream",
       "stream": "stdout",
       "text": [
        "\n"
       ]
      }
     ],
     "prompt_number": 110
    },
    {
     "cell_type": "markdown",
     "metadata": {},
     "source": [
      "That is better! Does it work? Let's put an X in the upper right-hand corner:"
     ]
    },
    {
     "cell_type": "code",
     "collapsed": false,
     "input": [
      "board[2][0] = \"X\""
     ],
     "language": "python",
     "metadata": {},
     "outputs": [],
     "prompt_number": 111
    },
    {
     "cell_type": "code",
     "collapsed": false,
     "input": [
      "drawBoard(board)"
     ],
     "language": "python",
     "metadata": {},
     "outputs": [
      {
       "output_type": "stream",
       "stream": "stdout",
       "text": [
        "\n",
        "   |   | X \n",
        "-----------\n",
        "   |   |   \n",
        "-----------\n",
        "   |   |   \n"
       ]
      },
      {
       "output_type": "stream",
       "stream": "stdout",
       "text": [
        "\n"
       ]
      }
     ],
     "prompt_number": 112
    },
    {
     "cell_type": "markdown",
     "metadata": {},
     "source": [
      "Note that the zero row is at the top, and the zero column is at the far left.\n",
      "\n",
      "And let's put an O in the center:"
     ]
    },
    {
     "cell_type": "code",
     "collapsed": false,
     "input": [
      "board[1][1] = \"O\""
     ],
     "language": "python",
     "metadata": {},
     "outputs": [],
     "prompt_number": 113
    },
    {
     "cell_type": "code",
     "collapsed": false,
     "input": [
      "drawBoard(board)"
     ],
     "language": "python",
     "metadata": {},
     "outputs": [
      {
       "output_type": "stream",
       "stream": "stdout",
       "text": [
        "\n",
        "   |   | X \n",
        "-----------\n",
        "   | O |   \n",
        "-----------\n",
        "   |   |   \n"
       ]
      },
      {
       "output_type": "stream",
       "stream": "stdout",
       "text": [
        "\n"
       ]
      }
     ],
     "prompt_number": 114
    },
    {
     "cell_type": "markdown",
     "metadata": {},
     "source": [
      "Support Functions\n",
      "-----------------\n",
      "\n",
      "Let's define a *position* as list with the first element is the horizontal position (x), and the second element is the vertical position (y, increasing moving down).  \n",
      "\n",
      "Now that we have representations for boards and played positions, let's write a function that will return a list of all the played positions."
     ]
    },
    {
     "cell_type": "code",
     "collapsed": false,
     "input": [
      "def getPlayedPositions(player, board):\n",
      "    positions = []\n",
      "    for x in range(3):\n",
      "        for y in range(3):\n",
      "            if board[x][y] == player:\n",
      "                    positions.append((x,y))\n",
      "    return positions"
     ],
     "language": "python",
     "metadata": {},
     "outputs": [],
     "prompt_number": 115
    },
    {
     "cell_type": "code",
     "collapsed": false,
     "input": [
      "getPlayedPositions(\"X\", board)"
     ],
     "language": "python",
     "metadata": {},
     "outputs": [
      {
       "metadata": {},
       "output_type": "pyout",
       "prompt_number": 116,
       "text": [
        "[(2, 0)]"
       ]
      }
     ],
     "prompt_number": 116
    },
    {
     "cell_type": "markdown",
     "metadata": {},
     "source": [
      "To be able to play a game of Tic Tac Toe, our program needs to know the set of positions that make up a winning sequence. For example, if you had X's in positions (0,0), (1,1), and (2,2) then X would win.\n",
      "\n",
      "We define a sequence of positions to be a *series*."
     ]
    },
    {
     "cell_type": "code",
     "collapsed": false,
     "input": [
      "def winningSeries():\n",
      "    retval = []\n",
      "    # rows\n",
      "    for y in range(3):\n",
      "        retval.append([(x,y) for x in range(3)])\n",
      "    # cols\n",
      "    for x in range(3):\n",
      "        retval.append([(x,y) for y in range(3)])\n",
      "    # diagonals\n",
      "    retval.append([(i,i) for i in range(3)])\n",
      "    retval.append([(2 - i,i) for i in range(3)])\n",
      "    return retval "
     ],
     "language": "python",
     "metadata": {},
     "outputs": [],
     "prompt_number": 117
    },
    {
     "cell_type": "code",
     "collapsed": false,
     "input": [
      "len(winningSeries())"
     ],
     "language": "python",
     "metadata": {},
     "outputs": [
      {
       "metadata": {},
       "output_type": "pyout",
       "prompt_number": 118,
       "text": [
        "8"
       ]
      }
     ],
     "prompt_number": 118
    },
    {
     "cell_type": "code",
     "collapsed": false,
     "input": [
      "winningSeries()"
     ],
     "language": "python",
     "metadata": {},
     "outputs": [
      {
       "metadata": {},
       "output_type": "pyout",
       "prompt_number": 119,
       "text": [
        "[[(0, 0), (1, 0), (2, 0)], [(0, 1), (1, 1), (2, 1)], [(0, 2), (1, 2), (2, 2)], [(0, 0), (0, 1), (0, 2)], [(1, 0), (1, 1), (1, 2)], [(2, 0), (2, 1), (2, 2)], [(0, 0), (1, 1), (2, 2)], [(2, 0), (1, 1), (0, 2)]]"
       ]
      }
     ],
     "prompt_number": 119
    },
    {
     "cell_type": "markdown",
     "metadata": {},
     "source": [
      "These are all 8 of the winning series of positions.\n",
      "\n",
      "That list is a little hard to visualize... let's write a bit of code that will show what each series looks like: "
     ]
    },
    {
     "cell_type": "code",
     "collapsed": false,
     "input": [
      "for series in winningSeries():\n",
      "    board = makeBoard()\n",
      "    for x,y in series:\n",
      "        board[x][y] = 'X'\n",
      "    drawBoard(board)"
     ],
     "language": "python",
     "metadata": {},
     "outputs": [
      {
       "output_type": "stream",
       "stream": "stdout",
       "text": [
        "\n",
        " X | X | X \n",
        "-----------\n",
        "   |   |   \n",
        "-----------\n",
        "   |   |   \n"
       ]
      },
      {
       "output_type": "stream",
       "stream": "stdout",
       "text": [
        "\n"
       ]
      },
      {
       "output_type": "stream",
       "stream": "stdout",
       "text": [
        "\n",
        "   |   |   \n",
        "-----------\n",
        " X | X | X \n",
        "-----------\n",
        "   |   |   \n"
       ]
      },
      {
       "output_type": "stream",
       "stream": "stdout",
       "text": [
        "\n"
       ]
      },
      {
       "output_type": "stream",
       "stream": "stdout",
       "text": [
        "\n",
        "   |   |   \n",
        "-----------\n",
        "   |   |   \n",
        "-----------\n",
        " X | X | X \n"
       ]
      },
      {
       "output_type": "stream",
       "stream": "stdout",
       "text": [
        "\n"
       ]
      },
      {
       "output_type": "stream",
       "stream": "stdout",
       "text": [
        "\n",
        " X |   |   \n",
        "-----------\n",
        " X |   |   \n",
        "-----------\n",
        " X |   |   \n"
       ]
      },
      {
       "output_type": "stream",
       "stream": "stdout",
       "text": [
        "\n"
       ]
      },
      {
       "output_type": "stream",
       "stream": "stdout",
       "text": [
        "\n",
        "   | X |   \n",
        "-----------\n",
        "   | X |   \n",
        "-----------\n",
        "   | X |   \n"
       ]
      },
      {
       "output_type": "stream",
       "stream": "stdout",
       "text": [
        "\n"
       ]
      },
      {
       "output_type": "stream",
       "stream": "stdout",
       "text": [
        "\n",
        "   |   | X \n",
        "-----------\n",
        "   |   | X \n",
        "-----------\n",
        "   |   | X \n"
       ]
      },
      {
       "output_type": "stream",
       "stream": "stdout",
       "text": [
        "\n"
       ]
      },
      {
       "output_type": "stream",
       "stream": "stdout",
       "text": [
        "\n",
        " X |   |   \n",
        "-----------\n",
        "   | X |   \n",
        "-----------\n",
        "   |   | X \n"
       ]
      },
      {
       "output_type": "stream",
       "stream": "stdout",
       "text": [
        "\n"
       ]
      },
      {
       "output_type": "stream",
       "stream": "stdout",
       "text": [
        "\n",
        "   |   | X \n",
        "-----------\n",
        "   | X |   \n",
        "-----------\n",
        " X |   |   \n"
       ]
      },
      {
       "output_type": "stream",
       "stream": "stdout",
       "text": [
        "\n"
       ]
      }
     ],
     "prompt_number": 120
    },
    {
     "cell_type": "markdown",
     "metadata": {},
     "source": [
      "Now, let's write a nice function that will take a position and a board, and return the representation of what has been played there (either 'X', 'O' or space):"
     ]
    },
    {
     "cell_type": "code",
     "collapsed": false,
     "input": [
      "def lookup(position, board):\n",
      "    return board[position[0]][position[1]]"
     ],
     "language": "python",
     "metadata": {},
     "outputs": [],
     "prompt_number": 121
    },
    {
     "cell_type": "code",
     "collapsed": false,
     "input": [
      "repr(lookup((1,1), makeBoard()))"
     ],
     "language": "python",
     "metadata": {},
     "outputs": [
      {
       "metadata": {},
       "output_type": "pyout",
       "prompt_number": 122,
       "text": [
        "' '"
       ]
      }
     ],
     "prompt_number": 122
    },
    {
     "cell_type": "markdown",
     "metadata": {},
     "source": [
      "Good! The center position of an empty board is empty."
     ]
    },
    {
     "cell_type": "markdown",
     "metadata": {},
     "source": [
      "Score\n",
      "-----\n",
      "\n",
      "To be able to pick a position to play, the computer needs a way to pick among all of the possible moves. \n",
      "\n",
      "Let's define a score to be how valuable a position is with respect to all winning series. Of course, to count, a position needs to have the player's marker in that position."
     ]
    },
    {
     "cell_type": "code",
     "collapsed": false,
     "input": [
      "def getScore(player, board):\n",
      "    score = 0\n",
      "    for series in winningSeries():\n",
      "        score += sum([lookup(position,board) == player for position in series])\n",
      "    return score"
     ],
     "language": "python",
     "metadata": {},
     "outputs": [],
     "prompt_number": 123
    },
    {
     "cell_type": "markdown",
     "metadata": {},
     "source": [
      "getScore will return the number of times a position is in a winning series, if it contains the players marker. Let's check to see how it works:"
     ]
    },
    {
     "cell_type": "code",
     "collapsed": false,
     "input": [
      "drawBoard(board)"
     ],
     "language": "python",
     "metadata": {},
     "outputs": [
      {
       "output_type": "stream",
       "stream": "stdout",
       "text": [
        "\n",
        "   |   | X \n",
        "-----------\n",
        "   | X |   \n",
        "-----------\n",
        " X |   |   \n"
       ]
      },
      {
       "output_type": "stream",
       "stream": "stdout",
       "text": [
        "\n"
       ]
      }
     ],
     "prompt_number": 124
    },
    {
     "cell_type": "code",
     "collapsed": false,
     "input": [
      "getScore('X', board)"
     ],
     "language": "python",
     "metadata": {},
     "outputs": [
      {
       "metadata": {},
       "output_type": "pyout",
       "prompt_number": 125,
       "text": [
        "10"
       ]
      }
     ],
     "prompt_number": 125
    },
    {
     "cell_type": "code",
     "collapsed": false,
     "input": [
      "getScore('Y', board)"
     ],
     "language": "python",
     "metadata": {},
     "outputs": [
      {
       "metadata": {},
       "output_type": "pyout",
       "prompt_number": 126,
       "text": [
        "0"
       ]
      }
     ],
     "prompt_number": 126
    },
    {
     "cell_type": "markdown",
     "metadata": {},
     "source": [
      "So, that board has a score of 10 for X, and 0 for Y. \n",
      "\n",
      "How valuable is the center X? If we set it back to empty, what is the score?"
     ]
    },
    {
     "cell_type": "code",
     "collapsed": false,
     "input": [
      "board[1][1] = ' '"
     ],
     "language": "python",
     "metadata": {},
     "outputs": [],
     "prompt_number": 127
    },
    {
     "cell_type": "code",
     "collapsed": false,
     "input": [
      "getScore('X', board)"
     ],
     "language": "python",
     "metadata": {},
     "outputs": [
      {
       "metadata": {},
       "output_type": "pyout",
       "prompt_number": 128,
       "text": [
        "6"
       ]
      }
     ],
     "prompt_number": 128
    },
    {
     "cell_type": "markdown",
     "metadata": {},
     "source": [
      "Now, we need to know where the possible moves are:"
     ]
    },
    {
     "cell_type": "code",
     "collapsed": false,
     "input": [
      "def getPossibleMoves(board):\n",
      "    retval = []\n",
      "    allSeries = winningSeries()\n",
      "    for series in allSeries:\n",
      "        for position in series:\n",
      "            if lookup(position, board) == ' ':\n",
      "                retval.append(position)\n",
      "    return retval"
     ],
     "language": "python",
     "metadata": {},
     "outputs": [],
     "prompt_number": 129
    },
    {
     "cell_type": "code",
     "collapsed": false,
     "input": [
      "getPossibleMoves(board)"
     ],
     "language": "python",
     "metadata": {},
     "outputs": [
      {
       "metadata": {},
       "output_type": "pyout",
       "prompt_number": 130,
       "text": [
        "[(0, 0), (1, 0), (0, 1), (1, 1), (2, 1), (1, 2), (2, 2), (0, 0), (0, 1), (1, 0), (1, 1), (1, 2), (2, 1), (2, 2), (0, 0), (1, 1), (2, 2), (1, 1)]"
       ]
      }
     ],
     "prompt_number": 130
    },
    {
     "cell_type": "markdown",
     "metadata": {},
     "source": [
      "Are those correct? Let's make a copy of the current board (so we don't destry the original) and visualize it:"
     ]
    },
    {
     "cell_type": "code",
     "collapsed": false,
     "input": [
      "def copy(board):\n",
      "    copy_board = makeBoard()\n",
      "    for x in range(3):\n",
      "        for y in range(3):\n",
      "            setPosition(copy_board, (x,y), lookup((x,y), board))\n",
      "    return copy_board"
     ],
     "language": "python",
     "metadata": {},
     "outputs": [],
     "prompt_number": 132
    },
    {
     "cell_type": "code",
     "collapsed": false,
     "input": [
      "temp_board = copy(board)\n",
      "for position in getPossibleMoves(board):\n",
      "    temp_board[position[0]][position[1]] = '*'\n",
      "drawBoard(temp_board)"
     ],
     "language": "python",
     "metadata": {},
     "outputs": [
      {
       "output_type": "stream",
       "stream": "stdout",
       "text": [
        "\n",
        " * | * | X \n",
        "-----------\n",
        " * | * | * \n",
        "-----------\n",
        " X | * | * \n"
       ]
      },
      {
       "output_type": "stream",
       "stream": "stdout",
       "text": [
        "\n"
       ]
      }
     ],
     "prompt_number": 133
    },
    {
     "cell_type": "markdown",
     "metadata": {},
     "source": [
      "Writing <pre>board[position[0]][position[1]] = '*'</pre> is a bit ugly... let's abstract that with a new function, setPosition:"
     ]
    },
    {
     "cell_type": "code",
     "collapsed": false,
     "input": [
      "def setPosition(board, position, player):\n",
      "    board[position[0]][position[1]] = player"
     ],
     "language": "python",
     "metadata": {},
     "outputs": [],
     "prompt_number": 24
    },
    {
     "cell_type": "markdown",
     "metadata": {},
     "source": [
      "Now, let's get the score for all possible moves:"
     ]
    },
    {
     "cell_type": "code",
     "collapsed": false,
     "input": [
      "def getScoredMoves(player, board):\n",
      "    moves = getPossibleMoves(board)\n",
      "    scored_moves = []\n",
      "    for move in moves:\n",
      "        temp_board = copy(board)\n",
      "        setPosition(temp_board, move, player)\n",
      "        score = getScore(player, temp_board)\n",
      "        scored_moves.append((score, move))\n",
      "    return scored_moves"
     ],
     "language": "python",
     "metadata": {},
     "outputs": [],
     "prompt_number": 25
    },
    {
     "cell_type": "code",
     "collapsed": false,
     "input": [
      "drawBoard(board)"
     ],
     "language": "python",
     "metadata": {},
     "outputs": [
      {
       "output_type": "stream",
       "stream": "stdout",
       "text": [
        "\n",
        "   |   | X \n",
        "-----------\n",
        "   |   |   \n",
        "-----------\n",
        " X |   |   \n"
       ]
      },
      {
       "output_type": "stream",
       "stream": "stdout",
       "text": [
        "\n"
       ]
      }
     ],
     "prompt_number": 134
    },
    {
     "cell_type": "code",
     "collapsed": false,
     "input": [
      "getScoredMoves('Y', board)"
     ],
     "language": "python",
     "metadata": {},
     "outputs": [
      {
       "metadata": {},
       "output_type": "pyout",
       "prompt_number": 135,
       "text": [
        "[(3, (0, 0)), (2, (1, 0)), (2, (0, 1)), (4, (1, 1)), (2, (2, 1)), (2, (1, 2)), (3, (2, 2)), (3, (0, 0)), (2, (0, 1)), (2, (1, 0)), (4, (1, 1)), (2, (1, 2)), (2, (2, 1)), (3, (2, 2)), (3, (0, 0)), (4, (1, 1)), (3, (2, 2)), (4, (1, 1))]"
       ]
      }
     ],
     "prompt_number": 135
    },
    {
     "cell_type": "code",
     "collapsed": false,
     "input": [
      "getScoredMoves('Y', board)"
     ],
     "language": "python",
     "metadata": {},
     "outputs": [
      {
       "metadata": {},
       "output_type": "pyout",
       "prompt_number": 30,
       "text": [
        "[(3, (0, 0)), (2, (1, 0)), (2, (0, 1)), (4, (1, 1)), (2, (2, 1)), (2, (1, 2)), (3, (2, 2)), (3, (0, 0)), (2, (0, 1)), (2, (1, 0)), (4, (1, 1)), (2, (1, 2)), (2, (2, 1)), (3, (2, 2)), (3, (0, 0)), (4, (1, 1)), (3, (2, 2)), (4, (1, 1))]"
       ]
      }
     ],
     "prompt_number": 30
    },
    {
     "cell_type": "markdown",
     "metadata": {},
     "source": [
      "But which is the best? Let's sort them, and get the highest one (the last one):"
     ]
    },
    {
     "cell_type": "code",
     "collapsed": false,
     "input": [
      "sorted(getScoredMoves('Y', board))"
     ],
     "language": "python",
     "metadata": {},
     "outputs": [
      {
       "metadata": {},
       "output_type": "pyout",
       "prompt_number": 31,
       "text": [
        "[(2, (0, 1)), (2, (0, 1)), (2, (1, 0)), (2, (1, 0)), (2, (1, 2)), (2, (1, 2)), (2, (2, 1)), (2, (2, 1)), (3, (0, 0)), (3, (0, 0)), (3, (0, 0)), (3, (2, 2)), (3, (2, 2)), (3, (2, 2)), (4, (1, 1)), (4, (1, 1)), (4, (1, 1)), (4, (1, 1))]"
       ]
      }
     ],
     "prompt_number": 31
    },
    {
     "cell_type": "code",
     "collapsed": false,
     "input": [
      "sorted(getScoredMoves('Y', board))[-1]"
     ],
     "language": "python",
     "metadata": {},
     "outputs": [
      {
       "metadata": {},
       "output_type": "pyout",
       "prompt_number": 32,
       "text": [
        "(4, (1, 1))"
       ]
      }
     ],
     "prompt_number": 32
    },
    {
     "cell_type": "markdown",
     "metadata": {},
     "source": [
      "Let's test it:"
     ]
    },
    {
     "cell_type": "code",
     "collapsed": false,
     "input": [
      "drawBoard(board)\n",
      "score, move = sorted(getScoredMoves('O', board))[-1]\n",
      "\n",
      "setPosition(board, move, 'O')\n",
      "drawBoard(board)"
     ],
     "language": "python",
     "metadata": {},
     "outputs": [
      {
       "output_type": "stream",
       "stream": "stdout",
       "text": [
        "\n",
        "   |   | X \n",
        "-----------\n",
        "   |   |   \n",
        "-----------\n",
        " X |   |   \n"
       ]
      },
      {
       "output_type": "stream",
       "stream": "stdout",
       "text": [
        "\n"
       ]
      },
      {
       "output_type": "stream",
       "stream": "stdout",
       "text": [
        "\n",
        "   |   | X \n",
        "-----------\n",
        "   | O |   \n",
        "-----------\n",
        " X |   |   \n"
       ]
      },
      {
       "output_type": "stream",
       "stream": "stdout",
       "text": [
        "\n"
       ]
      }
     ],
     "prompt_number": 33
    },
    {
     "cell_type": "markdown",
     "metadata": {},
     "source": [
      "Let's package up getting the best move, and making it, into a function called makeMove:"
     ]
    },
    {
     "cell_type": "code",
     "collapsed": false,
     "input": [
      "def makeMove(board, player):\n",
      "    score, move = sorted(getScoredMoves(player, board))[-1]\n",
      "    setPosition(board, move, player)"
     ],
     "language": "python",
     "metadata": {},
     "outputs": [],
     "prompt_number": 34
    },
    {
     "cell_type": "markdown",
     "metadata": {},
     "source": [
      "Playing Tic-Tac-Toe\n",
      "-------------------\n",
      "\n",
      "Now, let's make some support functions for playing a game:"
     ]
    },
    {
     "cell_type": "code",
     "collapsed": false,
     "input": [
      "def checkForWin(board):\n",
      "    all_series = winningSeries()\n",
      "    for series in all_series:\n",
      "        if allSame([lookup(position, board) for position in series]):\n",
      "            return lookup(series[0], board)\n",
      "    return None"
     ],
     "language": "python",
     "metadata": {},
     "outputs": [],
     "prompt_number": 44
    },
    {
     "cell_type": "code",
     "collapsed": false,
     "input": [
      "def allSame(players):\n",
      "    return all([players[0] == p for p in players]) and players[0] != \" \""
     ],
     "language": "python",
     "metadata": {},
     "outputs": [],
     "prompt_number": 56
    },
    {
     "cell_type": "markdown",
     "metadata": {},
     "source": [
      "Let's play a game!"
     ]
    },
    {
     "cell_type": "code",
     "collapsed": false,
     "input": [
      "board = makeBoard()\n",
      "player = 'X'\n",
      "\n",
      "def other(player):\n",
      "    if player == 'X': \n",
      "        return 'O'\n",
      "    else:\n",
      "        return 'X'\n",
      "\n",
      "while True:\n",
      "    if len(getPossibleMoves(board)) == 0:\n",
      "        print(\"Cat wins!\")\n",
      "        break\n",
      "    winner = checkForWin(board)\n",
      "    if winner:\n",
      "        print(\"%s wins!\" % winner)\n",
      "        break\n",
      "    makeMove(board, player)\n",
      "    drawBoard(board)\n",
      "    player = other(player)\n"
     ],
     "language": "python",
     "metadata": {},
     "outputs": [
      {
       "output_type": "stream",
       "stream": "stdout",
       "text": [
        "\n",
        "   |   |   \n",
        "-----------\n",
        "   | X |   \n",
        "-----------\n",
        "   |   |   \n"
       ]
      },
      {
       "output_type": "stream",
       "stream": "stdout",
       "text": [
        "\n"
       ]
      },
      {
       "output_type": "stream",
       "stream": "stdout",
       "text": [
        "\n",
        "   |   |   \n",
        "-----------\n",
        "   | X |   \n",
        "-----------\n",
        "   |   | O \n"
       ]
      },
      {
       "output_type": "stream",
       "stream": "stdout",
       "text": [
        "\n"
       ]
      },
      {
       "output_type": "stream",
       "stream": "stdout",
       "text": [
        "\n",
        "   |   | X \n",
        "-----------\n",
        "   | X |   \n",
        "-----------\n",
        "   |   | O \n"
       ]
      },
      {
       "output_type": "stream",
       "stream": "stdout",
       "text": [
        "\n"
       ]
      },
      {
       "output_type": "stream",
       "stream": "stdout",
       "text": [
        "\n",
        "   |   | X \n",
        "-----------\n",
        "   | X |   \n",
        "-----------\n",
        " O |   | O \n"
       ]
      },
      {
       "output_type": "stream",
       "stream": "stdout",
       "text": [
        "\n"
       ]
      },
      {
       "output_type": "stream",
       "stream": "stdout",
       "text": [
        "\n",
        " X |   | X \n",
        "-----------\n",
        "   | X |   \n",
        "-----------\n",
        " O |   | O \n"
       ]
      },
      {
       "output_type": "stream",
       "stream": "stdout",
       "text": [
        "\n"
       ]
      },
      {
       "output_type": "stream",
       "stream": "stdout",
       "text": [
        "\n",
        " X |   | X \n",
        "-----------\n",
        "   | X | O \n",
        "-----------\n",
        " O |   | O \n"
       ]
      },
      {
       "output_type": "stream",
       "stream": "stdout",
       "text": [
        "\n"
       ]
      },
      {
       "output_type": "stream",
       "stream": "stdout",
       "text": [
        "\n",
        " X |   | X \n",
        "-----------\n",
        "   | X | O \n",
        "-----------\n",
        " O | X | O \n"
       ]
      },
      {
       "output_type": "stream",
       "stream": "stdout",
       "text": [
        "\n"
       ]
      },
      {
       "output_type": "stream",
       "stream": "stdout",
       "text": [
        "\n",
        " X | O | X \n",
        "-----------\n",
        "   | X | O \n",
        "-----------\n",
        " O | X | O \n"
       ]
      },
      {
       "output_type": "stream",
       "stream": "stdout",
       "text": [
        "\n"
       ]
      },
      {
       "output_type": "stream",
       "stream": "stdout",
       "text": [
        "\n",
        " X | O | X \n",
        "-----------\n",
        " X | X | O \n",
        "-----------\n",
        " O | X | O \n"
       ]
      },
      {
       "output_type": "stream",
       "stream": "stdout",
       "text": [
        "\n"
       ]
      },
      {
       "output_type": "stream",
       "stream": "stdout",
       "text": [
        "Cat wins!"
       ]
      },
      {
       "output_type": "stream",
       "stream": "stdout",
       "text": [
        "\n"
       ]
      }
     ],
     "prompt_number": 60
    },
    {
     "cell_type": "markdown",
     "metadata": {},
     "source": [
      "Fun to watch... but I want to play!"
     ]
    },
    {
     "cell_type": "code",
     "collapsed": false,
     "input": [
      "board = makeBoard()\n",
      "player = 'X'\n",
      "\n",
      "def other(player):\n",
      "    if player == 'X': \n",
      "        return 'O'\n",
      "    else:\n",
      "        return 'X'\n",
      "\n",
      "while True:\n",
      "    if len(getPossibleMoves(board)) == 0:\n",
      "        print(\"Cat wins!\")\n",
      "        break\n",
      "    winner = checkForWin(board)\n",
      "    if winner:\n",
      "        print(\"%s wins!\" % winner)\n",
      "        break\n",
      "    if player == 'X':\n",
      "        drawBoard(board)\n",
      "        smove = input(\"Enter x,y: \")\n",
      "        x, y = eval(smove)\n",
      "        setPosition(board, (x,y), 'X')\n",
      "    else:\n",
      "        print(\"move!\")\n",
      "        makeMove(board, player)\n",
      "    player = other(player)\n",
      "drawBoard(board)"
     ],
     "language": "python",
     "metadata": {},
     "outputs": [
      {
       "output_type": "stream",
       "stream": "stdout",
       "text": [
        "\n",
        "   |   |   \n",
        "-----------\n",
        "   |   |   \n",
        "-----------\n",
        "   |   |   \n"
       ]
      },
      {
       "output_type": "stream",
       "stream": "stdout",
       "text": [
        "\n"
       ]
      },
      {
       "name": "stdout",
       "output_type": "stream",
       "stream": "stdout",
       "text": [
        "Enter x,y: 0,0\n"
       ]
      },
      {
       "output_type": "stream",
       "stream": "stdout",
       "text": [
        "move!"
       ]
      },
      {
       "output_type": "stream",
       "stream": "stdout",
       "text": [
        "\n"
       ]
      },
      {
       "output_type": "stream",
       "stream": "stdout",
       "text": [
        "\n",
        " X |   |   \n",
        "-----------\n",
        "   | O |   \n",
        "-----------\n",
        "   |   |   \n"
       ]
      },
      {
       "output_type": "stream",
       "stream": "stdout",
       "text": [
        "\n"
       ]
      },
      {
       "name": "stdout",
       "output_type": "stream",
       "stream": "stdout",
       "text": [
        "Enter x,y: 2,0\n"
       ]
      },
      {
       "output_type": "stream",
       "stream": "stdout",
       "text": [
        "move!"
       ]
      },
      {
       "output_type": "stream",
       "stream": "stdout",
       "text": [
        "\n"
       ]
      },
      {
       "output_type": "stream",
       "stream": "stdout",
       "text": [
        "\n",
        " X |   | X \n",
        "-----------\n",
        "   | O |   \n",
        "-----------\n",
        "   |   | O \n"
       ]
      },
      {
       "output_type": "stream",
       "stream": "stdout",
       "text": [
        "\n"
       ]
      },
      {
       "name": "stdout",
       "output_type": "stream",
       "stream": "stdout",
       "text": [
        "Enter x,y: 1,0\n"
       ]
      },
      {
       "output_type": "stream",
       "stream": "stdout",
       "text": [
        "X wins!"
       ]
      },
      {
       "output_type": "stream",
       "stream": "stdout",
       "text": [
        "\n"
       ]
      },
      {
       "output_type": "stream",
       "stream": "stdout",
       "text": [
        "\n",
        " X | X | X \n",
        "-----------\n",
        "   | O |   \n",
        "-----------\n",
        "   |   | O \n"
       ]
      },
      {
       "output_type": "stream",
       "stream": "stdout",
       "text": [
        "\n"
       ]
      }
     ],
     "prompt_number": 59
    },
    {
     "cell_type": "markdown",
     "metadata": {},
     "source": [
      "Well! Our program isn't so smart.\n",
      "\n",
      "What can we do to make it better?\n",
      "\n",
      "Currently, our scoring function doesn't consider what has been played, but just the positions of possible moves. How could we make it better?"
     ]
    },
    {
     "cell_type": "code",
     "collapsed": false,
     "input": [],
     "language": "python",
     "metadata": {},
     "outputs": []
    }
   ],
   "metadata": {}
  }
 ]
}