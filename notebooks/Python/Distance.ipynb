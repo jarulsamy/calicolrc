{
 "metadata": {
  "name": "",
  "signature": "sha256:8a5c86b7a4b0c21f56ed20cf096662230197adbc3a7a495ad92c3ee23e457196"
 },
 "nbformat": 3,
 "nbformat_minor": 0,
 "worksheets": [
  {
   "cells": [
    {
     "cell_type": "markdown",
     "metadata": {},
     "source": [
      "* **Topic**: Distance\n",
      "* **Authors**: Douglas Blank, Bryn Mawr College; \n",
      "* **Dependencies**: Python, Statistics\n",
      "* **License(s)**: Creative Commons, Share, with attribution;\n",
      "* **Audience**: Undergraduate;\n",
      "* **Keywords**: distance, minimum edit distance, hamming distance\n",
      "* **Code Examples**: Python\n",
      "* **Summary**: Distance is usually consider to be a property of only geometric objects. However, we can expand the notion to include more abstract objects of information in general.\n",
      "\n",
      "## Distance ##\n",
      "\n",
      "Distance is usually consider to be a property of only geometric objects. However, we can expand the notion to include more abstract objects of information in general.\n",
      "\n",
      "## Mathematical Distance ##\n",
      "\n",
      "A mathematical distance is usually considered to just be the measurement (in some standard units) between two points, directly. This could be points in one dimension, or more. We call this ''euclidean distance'' and is, in general, a sum of the absolute differences of each of the dimensions. For example, in one dimension, the distance is just:\n",
      "\n"
     ]
    },
    {
     "cell_type": "code",
     "collapsed": false,
     "input": [
      "A = 5\n",
      "B = 3\n",
      "abs(A - B)"
     ],
     "language": "python",
     "metadata": {},
     "outputs": [
      {
       "metadata": {},
       "output_type": "pyout",
       "prompt_number": 10,
       "text": [
        "2"
       ]
      }
     ],
     "prompt_number": 10
    },
    {
     "cell_type": "markdown",
     "metadata": {},
     "source": [
      "In more than one dimension, the distance is the square root of the sum of the squares of the differences of each dimension. For example, if A and B are points with x and y properties, then the distance between them is:\n",
      "\n"
     ]
    },
    {
     "cell_type": "code",
     "collapsed": false,
     "input": [
      "import math\n",
      "from Graphics import Point\n",
      "\n",
      "A = Point(1, 3)\n",
      "B = Point(2, 5)\n",
      "math.sqrt( (A.x - B.x) ** 2 + (A.y - B.y) ** 2 )"
     ],
     "language": "python",
     "metadata": {},
     "outputs": [
      {
       "metadata": {},
       "output_type": "pyout",
       "prompt_number": 9,
       "text": [
        "2.23606797749979"
       ]
      }
     ],
     "prompt_number": 9
    },
    {
     "cell_type": "markdown",
     "metadata": {},
     "source": [
      "However, sometimes that type of measurement isn't practical. For example, consider driving in New York City. Knowing that your destination is a distance of exactly 1.2 miles away \"as the crow flies\" (eg, direct distance) doesn't really give you a hint as to how long it will take you to get there. What you really need to know is the \"city block\" distance. This is the distance given that you have to drive on the grid, and can never take a diagonal, lest you drive through a building! It gets more complicated if one takes into account one-way streets.\n",
      "\n",
      "Thus, we can take these additional constraints and data into account, and come up with a different measurement (and units) of distance. For example, we could compute the amount of time it would take to take a taxi to our destination. This might include finding one, the city-block driving distance multiplied by average speed, etc. We could then compare taxi-time to subway time. This measurement of distance is much more useful for our purposes.\n",
      "\n",
      "## Distance between Sequences ##\n",
      "\n",
      "A common goal in information science is to compute the distance between two abstract sequences of data. Just like in the NYC taxi example where we need to get from point A to point B, we need a way of measuring how to \"get\" from one datum to the other.\n",
      "\n",
      "Let's consider text, also known as strings. What is the distance between \"apple\" and \"aple\"? Why would you want to know? The distance between strings could be useful for many purposes. For example, if you wrote \"aple\" a computer program (say a word processor or a cell phone app) might want to compute possible alternate real words for using in a spelling checking function, or an \"auto correct\" feature (see [1] for funny auto-correct nightmares).\n",
      "\n",
      "Sequences, such as strings, appear throughout many aspects of life. And knowing the differences between any two can be a very useful measurement. Take, for instance, a string composed of of the letters A, T, G, and C. This is, of course, the parts that make up strings of DNA. Being able to compute, and thus measure, the differences between two species' DNA provides us with interesting information about these two species. \n",
      "\n",
      "How could we compute a difference between two sequence? One method would be to count up the changes that it takes in order to turn one string into the other. For example, one can turn \"cat\" into \"caps\" by:\n",
      "\n",
      "1. change the \"t\" into a \"p\" (+1 for an edit)\n",
      "1. add an \"s\" onto the end (+1 for an insert)\n",
      "\n",
      "This gives a distance of 2. Of course, this is not the only \"path\" to change \"cat\" into \"caps\". Here is another:\n",
      "\n",
      "1. delete the \"t\" (+1 for an delete)\n",
      "1. add an \"p\" onto the end (+1 for an insert)\n",
      "1. add an \"s\" onto the end (+1 for an insert)\n",
      "\n",
      "This gives a distance of 3. Of course, we are interested in the minimum distance, so we consider 2 to be the correct answer in this case. \n",
      "\n",
      "By finding the minimum of the sum of the total edits, deletions, and insertions, we can get a measure of the difference between two strings. \n",
      "\n",
      "How can we write a program for computing the minimum distance between any two strings? Let's consider an algorithm for computing differences between strings:\n",
      "\n"
     ]
    },
    {
     "cell_type": "markdown",
     "metadata": {},
     "source": [
      "<pre>\n",
      " define function distance(string1, string2):\n",
      "     if the next letter of string 1 is the same as next letter of string2:\n",
      "         then there is no difference (0), and we just compute distance(string1[1:], string2[1:]) of the rest\n",
      "     else:\n",
      "         # there are three possibilities, and we want the smallest of:\n",
      "         1) the first letter was deleted (+1), plus compute of rest distance(string1, string2[1:])\n",
      "         2) the first letter was changed (+1), plus compute of rest distance(string1[1:], string2[1:])\n",
      "         3) a new letter was inserted (+1), plus compute of rest distance(string1[1:], string2)\n",
      "</pre>"
     ]
    },
    {
     "cell_type": "markdown",
     "metadata": {},
     "source": [
      "In other words, we compare the next letter of string1 with the next letter of string2. If they are the same, we continue with the next of each. If there is a difference, however, we need to consider one of the three changes that occurred: \n",
      "\n",
      "* a deletion\n",
      "* an insert \n",
      "* or an edit (changed letter)\n",
      "\n",
      "Each of these is a difference of 1, and we add that to the rest of the differences. But, we want the smallest of the three possibilities. That's it... there is no more. This algorithm is recursive, as it calls itself. And it calls itself multiple times for each difference! The algorithm is small, but there is a lot of computation going on there.\n",
      "\n",
      "As a recursive function, we need to make sure that there is a \"base case\"--- a way to know when we are finished. Easy: if we get to the end of either string, then we can return the result.\n",
      "\n"
     ]
    },
    {
     "cell_type": "code",
     "collapsed": false,
     "input": [
      "def distance(s1, s2):                                # s1 is string1, s2 is string2\n",
      "    if len(s1) == 0:                                 # base case, nothing left to do\n",
      "        return len(s2)                               # except return length of other\n",
      "    elif len(s2) == 0:                               # base case, nothing left to do\n",
      "        return len(s1)                               # except return length of other\n",
      "    if s1[0] == s2[0]:                               # same\n",
      "        return distance(s1[1:], s2[1:]) + 0          #   return 0 + rest\n",
      "    else:                                            # difference! Take minimum of:\n",
      "        return min( distance(s1[1:], s2[1:]) + 1,    #   edit, return 1 + rest\n",
      "                    distance(s1, s2[1:]) + 1,        #   insert, return 1 + rest\n",
      "                    distance(s1[1:], s2) + 1)        #   delete, return 1 + rest\n"
     ],
     "language": "python",
     "metadata": {},
     "outputs": [],
     "prompt_number": 11
    },
    {
     "cell_type": "markdown",
     "metadata": {},
     "source": [
      "\n",
      "Let's try it out to see how it works:\n",
      "\n"
     ]
    },
    {
     "cell_type": "code",
     "collapsed": false,
     "input": [
      "distance(\"apple\", \"apple\")"
     ],
     "language": "python",
     "metadata": {},
     "outputs": [
      {
       "metadata": {},
       "output_type": "pyout",
       "prompt_number": 12,
       "text": [
        "0"
       ]
      }
     ],
     "prompt_number": 12
    },
    {
     "cell_type": "markdown",
     "metadata": {},
     "source": [
      "Yes, there is no difference between these... they are the same! Ok, what about our original issue, \"apple\" and \"aple\":\n",
      "\n"
     ]
    },
    {
     "cell_type": "code",
     "collapsed": false,
     "input": [
      "distance(\"apple\", \"aple\")"
     ],
     "language": "python",
     "metadata": {},
     "outputs": [
      {
       "metadata": {},
       "output_type": "pyout",
       "prompt_number": 13,
       "text": [
        "1"
       ]
      }
     ],
     "prompt_number": 13
    },
    {
     "cell_type": "markdown",
     "metadata": {},
     "source": [
      "Yes, these two strings have a difference of 1... a \"p\" was deleted. Of course, there are other possibilities. And this algorithm considers them all, but only returns the minimum of them. Let's try something harder:\n",
      "\n",
      "## Try it! ##\n",
      "\n",
      "**Try out the distance function between any two strings. Suggest only trying on short strings for now!.**\n",
      "\n",
      "## Continuing ##\n",
      "\n",
      "Now, let's try some harder comparisons.\n",
      "\n"
     ]
    },
    {
     "cell_type": "code",
     "collapsed": false,
     "input": [
      "distance(\"abcdefghijklmnopqrstuvwxyz\", \"abcdefghijklmnopqrstuvwxyzA\")"
     ],
     "language": "python",
     "metadata": {},
     "outputs": [
      {
       "metadata": {},
       "output_type": "pyout",
       "prompt_number": 14,
       "text": [
        "1"
       ]
      }
     ],
     "prompt_number": 14
    },
    {
     "cell_type": "markdown",
     "metadata": {},
     "source": [
      "True, and that was very fast. What about:\n",
      "\n"
     ]
    },
    {
     "cell_type": "code",
     "collapsed": false,
     "input": [
      "distance(\"abcdefghijklmnopqrstuvwxyz\", \"Aabcdefghijklmnopqrstuvwxyz\")"
     ],
     "language": "python",
     "metadata": {},
     "outputs": [
      {
       "output_type": "stream",
       "stream": "stderr",
       "text": [
        "Running script aborted!"
       ]
      },
      {
       "output_type": "stream",
       "stream": "stderr",
       "text": [
        "\n"
       ]
      }
     ],
     "prompt_number": 15
    },
    {
     "cell_type": "markdown",
     "metadata": {},
     "source": [
      "... that's weird... it is still computing... why?\n",
      "\n",
      "As the first letters are different, three different paths are considered: \n",
      "\n",
      "1. the \"A\" was inserted\n",
      "1. \"a\" changed into \"A\"\n",
      "1. \"a\" was deleted\n",
      "\n",
      "In fact, we need to find the minimum of the total each of these paths, and we won't know that until we get to the end of the string. Unfortunately, the path continues to split three ways for many of these subpaths, all the way to the end. \n",
      "\n",
      "This little bit of code calls itself a lot!\n",
      "\n",
      "## Consider Part 1 ##\n",
      "\n",
      "Things to consider at this point:\n",
      "\n",
      "1. How much work is being done here?\n",
      "1. Are some things computed over and over and over?\n",
      "1. What if edits/changes where weighted differently than deletes or inserts?\n",
      "\n",
      "## Continuing ##\n",
      "\n",
      "Let's make the code a little simpler with a refactoring to handle the case where the first letter is same/different:\n",
      "\n"
     ]
    },
    {
     "cell_type": "code",
     "collapsed": false,
     "input": [
      "def distance1(s1, s2):\n",
      "    if len(s1) == 0 or len(s2) == 0: return len(s2) + len(s1)\n",
      "    cost = 0 if (s1[0] == s2[0]) else 1\n",
      "    return min( distance1(s1[1:], s2[1:]) + cost,\n",
      "                distance1(s1, s2[1:]) + 1,\n",
      "                distance1(s1[1:], s2) + 1)\n"
     ],
     "language": "python",
     "metadata": {},
     "outputs": [],
     "prompt_number": 16
    },
    {
     "cell_type": "markdown",
     "metadata": {},
     "source": [
      "\n",
      "If the first letters are the same, the cost is 0 and continue. If different (a change), cost is 1 and continue.\n",
      "\n",
      "But this still runs slow in some cases (which cases?). \n",
      "\n",
      "We can fix this issue by not re-computing the same thing over and over.\n",
      "\n",
      "Consider a function, called memoize, which saves the results of a computation given some set of arguments. If a function is called later with those exact arguments, it will simple return the saved result from before.\n",
      "\n",
      "We can write memoize as a function that takes a function (f) and returns a function (m):\n",
      "\n"
     ]
    },
    {
     "cell_type": "code",
     "collapsed": false,
     "input": [
      "def memoize(f):\n",
      "    cache = {}\n",
      "    def m(*args):\n",
      "        if args not in cache:\n",
      "            cache[args] = f(*args)\n",
      "        return cache[args]\n",
      "    return m\n"
     ],
     "language": "python",
     "metadata": {},
     "outputs": [],
     "prompt_number": 17
    },
    {
     "cell_type": "markdown",
     "metadata": {},
     "source": [
      "\n",
      "Then we can wrap the memoize function around distance, like so:\n",
      "\n"
     ]
    },
    {
     "cell_type": "code",
     "collapsed": false,
     "input": [
      "@memoize\n",
      "def distance(s1, s2):\n",
      "    if len(s1) == 0 or len(s2) == 0: return len(s2) + len(s1)\n",
      "    cost = 0 if (s1[0] == s2[0]) else 1\n",
      "    return min( distance(s1[1:], s2[1:]) + cost,\n",
      "                distance(s1, s2[1:]) + 1,\n",
      "                distance(s1[1:], s2) + 1)\n"
     ],
     "language": "python",
     "metadata": {},
     "outputs": [],
     "prompt_number": 18
    },
    {
     "cell_type": "code",
     "collapsed": false,
     "input": [
      "distance(\"abcdefghijklmnopqrstuvwxyz\", \"Aabcdefghijklmnopqrstuvwxyz\")"
     ],
     "language": "python",
     "metadata": {},
     "outputs": [
      {
       "metadata": {},
       "output_type": "pyout",
       "prompt_number": 19,
       "text": [
        "1"
       ]
      }
     ],
     "prompt_number": 19
    },
    {
     "cell_type": "markdown",
     "metadata": {},
     "source": [
      "\n",
      "And now our computation is fast too!\n",
      "\n",
      "**Try it on any string.**\n",
      "\n",
      "## Consider Part 2 ##\n",
      "\n",
      "1. What other kinds of sequences would this work on?\n",
      "1. What other kinds of edits are possible?\n",
      "1. What are the space/time tradeoffs for memoization?\n",
      "1. Change the code to create a function that can describe what changes were made, in English.\n",
      "1. Prove that the algorithm is correct.\n",
      "1. Can you use this to make a spelling checker?\n",
      "\n",
      "## Continuing ##\n",
      "\n",
      "This methodology is very useful for many different types of sequences. But it isn't the only measure of distance. \n",
      "\n",
      "Consider that we simplify the strings to just be two symbols, 0 and 1, and require that the two sequences be the same length. We can then simplify our definition of \"distance\" by not considering inserts or deletes, but just counting the differences.\n",
      "\n",
      "Here is a new function of distance that does just that:\n",
      "\n"
     ]
    },
    {
     "cell_type": "code",
     "collapsed": false,
     "input": [
      "def distance(s1, s2):\n",
      "    if len(s1) == 0: return 0\n",
      "    cost = 0 if s1[0] == s2[0] else 1\n",
      "    return cost + distance(s1[1:], s2[1:])"
     ],
     "language": "python",
     "metadata": {},
     "outputs": [],
     "prompt_number": 20
    },
    {
     "cell_type": "markdown",
     "metadata": {},
     "source": [
      "\n",
      "Or, to compute it in a non-recursive fashion:\n",
      "\n"
     ]
    },
    {
     "cell_type": "code",
     "collapsed": false,
     "input": [
      "def distance(s1, s2):\n",
      "    cost = 0\n",
      "    for i in range(len(s1)):\n",
      "        cost += 0 if s1[i] == s2[i] else 1\n",
      "    return cost"
     ],
     "language": "python",
     "metadata": {},
     "outputs": [],
     "prompt_number": 21
    },
    {
     "cell_type": "markdown",
     "metadata": {},
     "source": [
      "\n",
      "These are very fast, as it only needs to consider each item once. \n",
      "\n",
      "**Try it!**\n",
      "\n",
      "## Consider Part 3 ##\n",
      "\n",
      "1. How do these two measurements compare?\n",
      "1. Could you use the second one instead of the first for spelling checking?\n",
      "\n",
      "## Summary ##\n",
      "\n",
      "The minimum edit/delete/insert algorithm is called the \"Levenshtein distance algorithm\" or just the \"minimum edit distance\" and can be further explored in [2]. The difference distance algorithm is called \"Hamming distance\" and can be further explored in [3].\n",
      "\n",
      "## References ##\n",
      "\n",
      "1. http://damnyouautocorrect.com/\n",
      "1. http://en.wikipedia.org/wiki/Levenshtein_distance\n",
      "1. http://en.wikipedia.org/wiki/Hamming_distance\n"
     ]
    }
   ],
   "metadata": {}
  }
 ]
}