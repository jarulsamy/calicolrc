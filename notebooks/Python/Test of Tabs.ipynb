{
 "metadata": {
  "name": "",
  "signature": "sha256:070d198f909cc0d7c5b50afca811d75409a2b80d77e9109d5db97b0087017f24"
 },
 "nbformat": 3,
 "nbformat_minor": 0,
 "worksheets": [
  {
   "cells": [
    {
     "cell_type": "code",
     "collapsed": false,
     "input": [
      "1 + 1"
     ],
     "language": "python",
     "metadata": {
      "format": "tab"
     },
     "outputs": [
      {
       "metadata": {},
       "output_type": "pyout",
       "prompt_number": 1,
       "text": [
        "2"
       ]
      }
     ],
     "prompt_number": 1
    }
   ],
   "metadata": {}
  }
 ]
}