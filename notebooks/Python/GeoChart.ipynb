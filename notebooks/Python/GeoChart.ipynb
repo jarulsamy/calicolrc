{
 "metadata": {
  "name": "",
  "signature": "sha256:5d8666025fce0743edc71ec0fea5ff09cf25ff5ee9abec681b1346b51a2de96c"
 },
 "nbformat": 3,
 "nbformat_minor": 0,
 "worksheets": [
  {
   "cells": [
    {
     "cell_type": "code",
     "collapsed": false,
     "input": [
      "from Widgets import GeoChart"
     ],
     "language": "python",
     "metadata": {},
     "outputs": [],
     "prompt_number": 1
    },
    {
     "cell_type": "code",
     "collapsed": false,
     "input": [
      "GeoChart(calico.GetSession(), ['Country', 'State'], \n",
      "         {'United States': 23, 'Canada': 24}, {\"width\": 300})"
     ],
     "language": "python",
     "metadata": {},
     "outputs": [
      {
       "html": [
        "<div id=\"chart_div_1\" style=\"height: 300px;\"></div>\n",
        "<script type=\"text/javascript\">\n",
        "  require(['https://www.google.com/jsapi'], function () {\n",
        "      function draw() {\n",
        "        var chart = new google.visualization.GeoChart(document.getElementById('chart_div_1'));\n",
        "        chart.draw(google.visualization.arrayToDataTable([['Country', 'State'],\n",
        "['Canada', 24],\n",
        "['United States', 23]]), {'width': 300});\n",
        "      }\n",
        "      google.load('visualization', '1.0',\n",
        "                  {'callback': draw, 'packages':['geochart']});\n",
        "  });\n",
        "</script>\n"
       ],
       "metadata": {},
       "output_type": "pyout",
       "prompt_number": 2,
       "text": [
        "<GeoChart availble for viewing in notebook>"
       ]
      }
     ],
     "prompt_number": 2
    },
    {
     "cell_type": "markdown",
     "metadata": {},
     "source": [
      "And the final version packages that up to make it convenient:"
     ]
    },
    {
     "cell_type": "code",
     "collapsed": false,
     "input": [
      "calico.GeoChart(['Country', 'State'], {'South Africa': 1.0}, {\"width\": 200})"
     ],
     "language": "python",
     "metadata": {},
     "outputs": [
      {
       "html": [
        "<div id=\"chart_div_2\" style=\"height: 300px;\"></div>\n",
        "<script type=\"text/javascript\">\n",
        "  require(['https://www.google.com/jsapi'], function () {\n",
        "      function draw() {\n",
        "        var chart = new google.visualization.GeoChart(document.getElementById('chart_div_2'));\n",
        "        chart.draw(google.visualization.arrayToDataTable([['Country', 'State'],\n",
        "['South Africa', 1]]), {'width': 200});\n",
        "      }\n",
        "      google.load('visualization', '1.0',\n",
        "                  {'callback': draw, 'packages':['geochart']});\n",
        "  });\n",
        "</script>\n"
       ],
       "metadata": {},
       "output_type": "pyout",
       "prompt_number": 3,
       "text": [
        "<GeoChart availble for viewing in notebook>"
       ]
      }
     ],
     "prompt_number": 3
    },
    {
     "cell_type": "code",
     "collapsed": false,
     "input": [],
     "language": "python",
     "metadata": {},
     "outputs": []
    }
   ],
   "metadata": {}
  }
 ]
}