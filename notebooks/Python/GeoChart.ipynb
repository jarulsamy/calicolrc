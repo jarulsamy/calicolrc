{
 "metadata": {
  "name": "",
  "signature": "sha256:ba4adf3b4f023e5cbf57d367664483a6474c734c296dfe4c1a2426e80360b50e"
 },
 "nbformat": 3,
 "nbformat_minor": 0,
 "worksheets": [
  {
   "cells": [
    {
     "cell_type": "markdown",
     "metadata": {},
     "source": [
      "The first example works in IPython, if you uncomment this:"
     ]
    },
    {
     "cell_type": "code",
     "collapsed": false,
     "input": [
      "#import IPython.display as calico"
     ],
     "language": "python",
     "metadata": {},
     "outputs": [],
     "prompt_number": 1
    },
    {
     "cell_type": "markdown",
     "metadata": {},
     "source": [
      "This is the raw version:"
     ]
    },
    {
     "cell_type": "code",
     "collapsed": false,
     "input": [
      "def GeoChart(keys, data, **kwargs):\n",
      "    table = \"{},\\n\".format(keys)\n",
      "    for i in data:\n",
      "        table += \"['{}', {}],\\n\".format(i, data[i])\n",
      "    options = \"\"\n",
      "    for arg, value in kwargs.iteritems():\n",
      "        if isinstance(value, bool):\n",
      "            value = 'true' if value else 'false'\n",
      "        elif isinstance(value, dict):\n",
      "            items = \"\"\n",
      "            for k, v in value.iteritems():\n",
      "                items += \"{}: {},\".format(k, v)\n",
      "            value = \"{{{}}}\".format(items)\n",
      "        options += \"{}:{},\\n\".format(arg, value)\n",
      "    return calico.Javascript(\"\"\"\n",
      "           function draw() {{\n",
      "              var chart = new google.visualization.GeoChart(element[0]);\n",
      "              chart.draw(google.visualization.arrayToDataTable([{}]), {{{}}});\n",
      "            }}\n",
      "           google.load('visualization', '1.0',\n",
      "             {{'callback': draw, 'packages':['geochart']}});\n",
      "        \"\"\".format(table, options), lib=\"https://www.google.com/jsapi\")"
     ],
     "language": "python",
     "metadata": {},
     "outputs": [],
     "prompt_number": 2
    },
    {
     "cell_type": "code",
     "collapsed": false,
     "input": [
      "color = {'Netherlands': 2.0, 'Denmark': 1.0, 'Luxembourg': 4.0, 'France': 2.0, 'Germany': 3.0, 'Belgium': 1.0}"
     ],
     "language": "python",
     "metadata": {},
     "outputs": [],
     "prompt_number": 3
    },
    {
     "cell_type": "code",
     "collapsed": false,
     "input": [
      "GeoChart(['Country', 'Size'], {\"Canada\": 562, \"United States of\": 987}, height=300, legend=False)"
     ],
     "language": "python",
     "metadata": {},
     "outputs": [
      {
       "javascript": [
        "require(['https://www.google.com/jsapi'], function () {\n",
        "\n",
        "           function draw() {\n",
        "              var chart = new google.visualization.GeoChart(element[0]);\n",
        "              chart.draw(google.visualization.arrayToDataTable([['Country', 'Size'],\n",
        "['Canada', 562],\n",
        "['United States of', 987],\n",
        "]), {height:300,\n",
        "legend:false,\n",
        "});\n",
        "            }\n",
        "           google.load('visualization', '1.0',\n",
        "             {'callback': draw, 'packages':['geochart']});\n",
        "        \n",
        "});\n"
       ],
       "metadata": {},
       "output_type": "pyout",
       "prompt_number": 4,
       "text": [
        "<JavaScript viewable in executing notebook>"
       ]
      }
     ],
     "prompt_number": 4
    },
    {
     "cell_type": "code",
     "collapsed": false,
     "input": [
      "color = {'Netherlands': 1.0, 'Denmark': 2.0, 'Luxembourg': 3.0, 'France': 4.0, 'Germany': 5.0, 'Belgium': 6.0}"
     ],
     "language": "python",
     "metadata": {},
     "outputs": [],
     "prompt_number": 5
    },
    {
     "cell_type": "code",
     "collapsed": false,
     "input": [
      "GeoChart(['Country', 'Color'], color, region=150, legend=False, height=500,\n",
      "         colorAxis={'colors': ['#ff9900', '#3366cc', '#109618', '#dc3912']})"
     ],
     "language": "python",
     "metadata": {},
     "outputs": [
      {
       "javascript": [
        "require(['https://www.google.com/jsapi'], function () {\n",
        "\n",
        "           function draw() {\n",
        "              var chart = new google.visualization.GeoChart(element[0]);\n",
        "              chart.draw(google.visualization.arrayToDataTable([['Country', 'Color'],\n",
        "['Germany', 5.0],\n",
        "['Belgium', 6.0],\n",
        "['Luxembourg', 3.0],\n",
        "['Netherlands', 1.0],\n",
        "['France', 4.0],\n",
        "['Denmark', 2.0],\n",
        "]), {region:150,\n",
        "colorAxis:{colors: ['#ff9900', '#3366cc', '#109618', '#dc3912'],},\n",
        "height:500,\n",
        "legend:false,\n",
        "});\n",
        "            }\n",
        "           google.load('visualization', '1.0',\n",
        "             {'callback': draw, 'packages':['geochart']});\n",
        "        \n",
        "});\n"
       ],
       "metadata": {},
       "output_type": "pyout",
       "prompt_number": 6,
       "text": [
        "<JavaScript viewable in executing notebook>"
       ]
      }
     ],
     "prompt_number": 6
    },
    {
     "cell_type": "markdown",
     "metadata": {},
     "source": [
      "Second version uses the Calico.Widgets directly:"
     ]
    },
    {
     "cell_type": "code",
     "collapsed": false,
     "input": [
      "from Widgets import GeoChart"
     ],
     "language": "python",
     "metadata": {},
     "outputs": [],
     "prompt_number": 8
    },
    {
     "cell_type": "code",
     "collapsed": false,
     "input": [
      "GeoChart(calico.GetSession(), ['Country', 'State'], \n",
      "         {'United States': 23, 'Canada': 24}, {\"width\": 300})"
     ],
     "language": "python",
     "metadata": {},
     "outputs": [
      {
       "javascript": [
        "require(['https://www.google.com/jsapi'], function () {\n",
        "function draw() {  var chart = new google.visualization.GeoChart(element[0]);\n",
        "  chart.draw(google.visualization.arrayToDataTable([['Country', 'State'],\n",
        "['Canada', 24],\n",
        "['United States', 23]]), {'width': 300});\n",
        "}\n",
        "google.load('visualization', '1.0',\n",
        "            {'callback': draw, 'packages':['geochart']});\n",
        "\n",
        "});\n"
       ],
       "metadata": {},
       "output_type": "display_data",
       "text": [
        "<JavaScript viewable in executing notebook>"
       ]
      },
      {
       "metadata": {},
       "output_type": "pyout",
       "prompt_number": 9,
       "text": [
        "Widgets+GeoChart"
       ]
      }
     ],
     "prompt_number": 9
    },
    {
     "cell_type": "markdown",
     "metadata": {},
     "source": [
      "And the final version packages that up to make it convenient:"
     ]
    },
    {
     "cell_type": "code",
     "collapsed": false,
     "input": [
      "calico.GeoChart(['Country', 'State'], {'South Africa': 1.0}, {\"width\": 200})"
     ],
     "language": "python",
     "metadata": {},
     "outputs": [
      {
       "javascript": [
        "require(['https://www.google.com/jsapi'], function () {\n",
        "function draw() {  var chart = new google.visualization.GeoChart(element[0]);\n",
        "  chart.draw(google.visualization.arrayToDataTable([['Country', 'State'],\n",
        "['South Africa', 1]]), {'width': 200});\n",
        "}\n",
        "google.load('visualization', '1.0',\n",
        "            {'callback': draw, 'packages':['geochart']});\n",
        "\n",
        "});\n"
       ],
       "metadata": {},
       "output_type": "display_data",
       "text": [
        "<JavaScript viewable in executing notebook>"
       ]
      },
      {
       "metadata": {},
       "output_type": "pyout",
       "prompt_number": 10,
       "text": [
        "Widgets+GeoChart"
       ]
      }
     ],
     "prompt_number": 10
    },
    {
     "cell_type": "code",
     "collapsed": false,
     "input": [],
     "language": "python",
     "metadata": {},
     "outputs": []
    }
   ],
   "metadata": {}
  }
 ]
}