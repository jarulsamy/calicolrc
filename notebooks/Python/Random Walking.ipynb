{
 "metadata": {
  "name": "",
  "signature": "sha256:561295ef793adc05daa89b90a9c3e1dd571a5062ed337a3de08d541b1baea688"
 },
 "nbformat": 3,
 "nbformat_minor": 0,
 "worksheets": [
  {
   "cells": [
    {
     "cell_type": "markdown",
     "metadata": {},
     "source": [
      "Project 3: A random walk in two dimensions\n",
      "------------------------------------------\n",
      "\n",
      "_Based on a project from http://ww2.odu.edu/~agodunov/teaching/phys420/projects.html_\n",
      "\n",
      "Write a program that simulate a random 2D walk with the same step size . Four directions are possible (N, E, S, W). Your program will involve two large integers, K = the number of random walks to be taken and N = the maximum number of steps in a single walk. \n",
      "\n",
      "Run your program with at least K >= 1000.\n",
      "\n",
      "Find the average distance R to be from the origin point after N steps\n",
      "\n",
      "Assume that R has the asymptotic N dependence R~Na and estimate the exponent a.\n",
      "\n",
      "Randomly place the \"random walker\" on a two-dimension lattice of L sites in a row (like a city with L+1 blocks in a row). Find the average distance D (or the average number of steps) to go to be out of the city limit. Is there a connection between D and L? Consider the problem as an unrestricted random walk when all directions have equal probability.\n",
      "\n",
      "Bonus question. Consider the \"random walker in a city\" as a persistent random walk, i.e. on each step the walker can not step back but forward, left or right. What is different in this case comparing to the unrestricted random walk?"
     ]
    },
    {
     "cell_type": "markdown",
     "metadata": {},
     "source": [
      "First, we will want to create a visual representation of our random walker, so we import the `Graphics` library:"
     ]
    },
    {
     "cell_type": "code",
     "collapsed": false,
     "input": [
      "import Graphics"
     ],
     "language": "python",
     "metadata": {},
     "outputs": [],
     "prompt_number": 28
    },
    {
     "cell_type": "markdown",
     "metadata": {},
     "source": [
      "Next, we create a Canvas on which to draw shapes:"
     ]
    },
    {
     "cell_type": "code",
     "collapsed": false,
     "input": [
      "canvas = Graphics.Canvas(100, 100)"
     ],
     "language": "python",
     "metadata": {},
     "outputs": [],
     "prompt_number": 29
    },
    {
     "cell_type": "markdown",
     "metadata": {},
     "source": [
      "To show the canvas, simply evaluate it in a cell, or use `calico.animate(canvas)` to create a movie."
     ]
    },
    {
     "cell_type": "code",
     "collapsed": false,
     "input": [
      "canvas"
     ],
     "language": "python",
     "metadata": {},
     "outputs": [
      {
       "jpeg": "[encoded data removed]",
       "metadata": {},
       "output_type": "pyout",
       "png": "[encoded data removed]",
       "prompt_number": 30,
       "text": [
        "Graphics+Canvas"
       ]
      }
     ],
     "prompt_number": 30
    },
    {
     "cell_type": "markdown",
     "metadata": {},
     "source": [
      "It is blank, so not much to see!\n",
      "\n",
      "Now, we want to create some random positions, so we import the `random` library:"
     ]
    },
    {
     "cell_type": "code",
     "collapsed": false,
     "input": [
      "import random"
     ],
     "language": "python",
     "metadata": {},
     "outputs": [],
     "prompt_number": 31
    },
    {
     "cell_type": "markdown",
     "metadata": {},
     "source": [
      "random.random() will give a random floating point number in the range [0, 1).\n",
      "\n",
      "To create a random position between [0, 100) we just need to multiply by 100:"
     ]
    },
    {
     "cell_type": "code",
     "collapsed": false,
     "input": [
      "x = random.random() * 100\n",
      "y = random.random() * 100"
     ],
     "language": "python",
     "metadata": {},
     "outputs": [],
     "prompt_number": 32
    },
    {
     "cell_type": "markdown",
     "metadata": {},
     "source": [
      "Now, let's use the Graphics library to create a circle to randomly walk:"
     ]
    },
    {
     "cell_type": "code",
     "collapsed": false,
     "input": [
      "circle = Graphics.Circle((x, y), 3)"
     ],
     "language": "python",
     "metadata": {},
     "outputs": [],
     "prompt_number": 33
    },
    {
     "cell_type": "markdown",
     "metadata": {},
     "source": [
      "Where is the circle?"
     ]
    },
    {
     "cell_type": "code",
     "collapsed": false,
     "input": [
      "circle.x, circle.y"
     ],
     "language": "python",
     "metadata": {},
     "outputs": [
      {
       "metadata": {},
       "output_type": "pyout",
       "prompt_number": 34,
       "text": [
        "(55.337811647636649, 76.5372108920867)"
       ]
      }
     ],
     "prompt_number": 34
    },
    {
     "cell_type": "markdown",
     "metadata": {},
     "source": [
      "Let's draw the circle onto the canvas:"
     ]
    },
    {
     "cell_type": "code",
     "collapsed": false,
     "input": [
      "circle.draw(canvas)"
     ],
     "language": "python",
     "metadata": {},
     "outputs": [
      {
       "jpeg": "[encoded data removed]",
       "metadata": {},
       "output_type": "pyout",
       "png": "[encoded data removed]",
       "prompt_number": 35,
       "text": [
        "Graphics+Canvas"
       ]
      }
     ],
     "prompt_number": 35
    },
    {
     "cell_type": "markdown",
     "metadata": {},
     "source": [
      "Notice that the draw() function automatically also shows the canvas (but only when it is the last function in the cell)."
     ]
    },
    {
     "cell_type": "markdown",
     "metadata": {},
     "source": [
      "Now, let's create a function that will move the circle in one of the 4 directions:"
     ]
    },
    {
     "cell_type": "code",
     "collapsed": false,
     "input": [
      "def move(direction):\n",
      "    if direction == \"n\":\n",
      "        circle.move(0, -1)\n",
      "    elif direction == \"e\":\n",
      "        circle.move(1, 0)\n",
      "    elif direction == \"w\":\n",
      "        circle.move(-1, 0)\n",
      "    elif direction == \"s\":\n",
      "        circle.move(0, 1)\n",
      "    else:\n",
      "        raise Exception(\"can't move that direction\")"
     ],
     "language": "python",
     "metadata": {},
     "outputs": [],
     "prompt_number": 36
    },
    {
     "cell_type": "markdown",
     "metadata": {},
     "source": [
      "Let's test it by moving the circle to the north:"
     ]
    },
    {
     "cell_type": "code",
     "collapsed": false,
     "input": [
      "move(\"n\")"
     ],
     "language": "python",
     "metadata": {},
     "outputs": [],
     "prompt_number": 37
    },
    {
     "cell_type": "code",
     "collapsed": false,
     "input": [
      "canvas"
     ],
     "language": "python",
     "metadata": {},
     "outputs": [
      {
       "jpeg": "[encoded data removed]",
       "metadata": {},
       "output_type": "pyout",
       "png": "[encoded data removed]",
       "prompt_number": 38,
       "text": [
        "Graphics+Canvas"
       ]
      }
     ],
     "prompt_number": 38
    },
    {
     "cell_type": "markdown",
     "metadata": {},
     "source": [
      "Did it move? Hard to tell because it only moved one pixel. Let's look again at x and y:"
     ]
    },
    {
     "cell_type": "code",
     "collapsed": false,
     "input": [
      "circle.x, circle.y"
     ],
     "language": "python",
     "metadata": {},
     "outputs": [
      {
       "metadata": {},
       "output_type": "pyout",
       "prompt_number": 39,
       "text": [
        "(55.337811647636649, 75.5372108920867)"
       ]
      }
     ],
     "prompt_number": 39
    },
    {
     "cell_type": "markdown",
     "metadata": {},
     "source": [
      "Each time we take a step, we can step in one of 4 random directions. We can use the `random.choice(list)` for this."
     ]
    },
    {
     "cell_type": "markdown",
     "metadata": {},
     "source": [
      "Now, let's put it all together and run:"
     ]
    },
    {
     "cell_type": "code",
     "collapsed": false,
     "input": [
      "circle = Graphics.Circle((50, 50), 1)\n",
      "\n",
      "canvas = Graphics.Canvas(100, 100)\n",
      "\n",
      "for i in range(1000):\n",
      "    move(random.choice([\"n\", \"e\", \"w\", \"s\"]))\n",
      "    circle.draw(canvas)\n",
      "    calico.animate(canvas)"
     ],
     "language": "python",
     "metadata": {},
     "outputs": [
      {
       "jpeg": "[encoded data removed]",
       "metadata": {},
       "output_type": "display_data",
       "png": "[encoded data removed]",
       "text": [
        "Graphics+Canvas"
       ]
      }
     ],
     "prompt_number": 42
    },
    {
     "cell_type": "markdown",
     "metadata": {},
     "source": [
      "How far is the point from where it started?"
     ]
    },
    {
     "cell_type": "code",
     "collapsed": false,
     "input": [
      "def distance(x1, y1, x2, y2):\n",
      "    ..."
     ],
     "language": "python",
     "metadata": {},
     "outputs": []
    }
   ],
   "metadata": {}
  }
 ]
}