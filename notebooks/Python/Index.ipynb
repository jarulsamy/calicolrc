{
 "metadata": {
  "name": "", 
  "signature": ""
 }, 
 "nbformat": 3, 
 "nbformat_minor": 0, 
 "worksheets": [
  {
   "cells": [
    {
     "cell_type": "markdown", 
     "collapsed": false, 
     "metadata": {}, 
     "source": [
      "<table><tr><td>\n", 
      "<img width=\"300\" src=\"http://calicoproject.org/wiki/images/d/d1/CalicoLogo.gif\">\n", 
      "</td>\n", 
      "<td>\n", 
      "The [Calico Project](http://calicoproject.org/) was designed to allow the easy exploration of computing ideas in a variety of programming languages. It is the product of NSF DUE grant #0920539 supporting the [Institute for Personal Robots in Education](http://wiki.roboteducation.org/).\n", 
      "<br>\n", 
      "<br>\n", 
      "You can find out more about these notebooks here: [ICalico](http://calicoproject.org/ICalico).\n", 
      "</td></tr></table>\n", 
      "\n"
     ]
    }, 
    {
     "cell_type": "markdown", 
     "collapsed": false, 
     "metadata": {}, 
     "source": [
      "Calico Python\n", 
      "=============\n", 
      "\n", 
      "This directory contains example notebooks for the Python language.\n", 
      "\n", 
      "You can read more about Python in Calico here:\n", 
      "\n", 
      "http://calicoproject.org/Calico_Python\n"
     ]
    }, 
    {
     "cell_type": "markdown", 
     "collapsed": false, 
     "metadata": {}, 
     "source": [
      "Subfolders in <b>Python</b>:\n", 
      "\n", 
      "* [Processing](Processing/Index.ipynb)\n"
     ]
    }, 
    {
     "cell_type": "markdown", 
     "collapsed": false, 
     "metadata": {}, 
     "source": [
      "Notebooks in <b>Python</b>:\n", 
      "\n", 
      "*  [ARDrone](ARDrone.ipynb)\n", 
      "*  [Arduino](Arduino.ipynb)\n", 
      "*  [Audio](Audio.ipynb)\n", 
      "*  [CameraWidget](CameraWidget.ipynb)\n", 
      "*  [GeoChart](GeoChart.ipynb)\n", 
      "*  [Graphics](Graphics.ipynb)\n", 
      "*  [Lists and Dictionaries](Lists and Dictionaries.ipynb)\n", 
      "*  [MyroSimulation](MyroSimulation.ipynb)\n", 
      "*  [NeuralNetworks](NeuralNetworks.ipynb)\n", 
      "*  [Plucking a Guitar String](Plucking a Guitar String.ipynb)\n", 
      "*  [Processing](Processing.ipynb)\n", 
      "*  [Robot Learning](Robot Learning.ipynb)\n", 
      "*  [Rolling an N-sided Dice N times](Rolling an N-sided Dice N times.ipynb)\n", 
      "*  [Rough Waters Project](Rough Waters Project.ipynb)\n", 
      "*  [Simulations](Simulations.ipynb)\n", 
      "*  [Travelling Salesperson](Travelling Salesperson.ipynb)\n", 
      "*  [Widgets](Widgets.ipynb)\n"
     ]
    }
   ], 
   "metadata": {}
  }
 ]
}