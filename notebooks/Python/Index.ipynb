{
 "metadata": {
  "name": "", 
  "signature": ""
 }, 
 "nbformat": 3, 
 "nbformat_minor": 0, 
 "worksheets": [
  {
   "cells": [
    {
     "cell_type": "markdown", 
     "collapsed": false, 
     "metadata": {}, 
     "source": [
      "Subfolders in Python:\n", 
      "\n", 
      "* [Processing](Processing/Index.ipynb)\n"
     ]
    }, 
    {
     "cell_type": "markdown", 
     "collapsed": false, 
     "metadata": {}, 
     "source": [
      "Notebooks in Python:\n", 
      "\n", 
      "*  [ARDrone](ARDrone.ipynb)\n", 
      "*  [Arduino](Arduino.ipynb)\n", 
      "*  [Audio](Audio.ipynb)\n", 
      "*  [CameraWidget](CameraWidget.ipynb)\n", 
      "*  [GeoChart](GeoChart.ipynb)\n", 
      "*  [Graphics](Graphics.ipynb)\n", 
      "*  [Lists and Dictionaries](Lists and Dictionaries.ipynb)\n", 
      "*  [MyroSimulation](MyroSimulation.ipynb)\n", 
      "*  [NeuralNetworks](NeuralNetworks.ipynb)\n", 
      "*  [Plucking a Guitar String](Plucking a Guitar String.ipynb)\n", 
      "*  [Processing](Processing.ipynb)\n", 
      "*  [Robot Learning](Robot Learning.ipynb)\n", 
      "*  [Rolling an N-sided Dice N times](Rolling an N-sided Dice N times.ipynb)\n", 
      "*  [Rough Waters Project](Rough Waters Project.ipynb)\n", 
      "*  [Simulations](Simulations.ipynb)\n", 
      "*  [Travelling Salesperson](Travelling Salesperson.ipynb)\n", 
      "*  [Widgets](Widgets.ipynb)\n"
     ]
    }
   ], 
   "metadata": {}
  }
 ]
}