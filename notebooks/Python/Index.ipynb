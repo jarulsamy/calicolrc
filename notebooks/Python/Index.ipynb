{
 "metadata": {
  "name": "", 
  "signature": ""
 }, 
 "nbformat": 3, 
 "nbformat_minor": 0, 
 "worksheets": [
  {
   "cells": [
    {
     "cell_type": "markdown", 
     "collapsed": false, 
     "metadata": {}, 
     "source": [
      "<table><tr><td>\n", 
      "<img width=\"300\" src=\"http://calicoproject.org/wiki/images/d/d1/CalicoLogo.gif\">\n", 
      "</td>\n", 
      "<td>\n", 
      "The [Calico Project](http://calicoproject.org/) was designed to allow the easy exploration of computing ideas in a variety of programming languages. It is the product of NSF DUE grant #0920539 supporting the [Institute for Personal Robots in Education](http://wiki.roboteducation.org/).\n", 
      "<br>\n", 
      "<br>\n", 
      "You can find out more about these notebooks here: [ICalico](http://calicoproject.org/ICalico).\n", 
      "</td></tr></table>\n", 
      "\n"
     ]
    }, 
    {
     "cell_type": "markdown", 
     "collapsed": false, 
     "metadata": {}, 
     "source": [
      "Calico Python\n", 
      "=============\n", 
      "\n", 
      "This directory contains example notebooks for the Python language.\n", 
      "\n", 
      "You can read more about Python in Calico here:\n", 
      "\n", 
      "http://calicoproject.org/Calico_Python\n"
     ]
    }, 
    {
     "cell_type": "markdown", 
     "collapsed": false, 
     "metadata": {}, 
     "source": [
      "Subfolders in <b>Python</b>:\n", 
      "\n", 
      "* [Artificial Intelligence](Artificial Intelligence/Index.ipynb)\n", 
      "* [Processing](Processing/Index.ipynb)\n"
     ]
    }, 
    {
     "cell_type": "markdown", 
     "collapsed": false, 
     "metadata": {}, 
     "source": [
      "Notebooks in <b>Python</b>:\n", 
      "\n", 
      "*  [ARDrone](ARDrone.ipynb)\n", 
      "*  [Accord](Accord.ipynb)\n", 
      "*  [Arduino](Arduino.ipynb)\n", 
      "*  [Audio](Audio.ipynb)\n", 
      "*  [CameraWidget](CameraWidget.ipynb)\n", 
      "*  [Distance](Distance.ipynb)\n", 
      "*  [Evolving Robot Controllers - Exp 1](Evolving Robot Controllers - Exp 1.ipynb)\n", 
      "*  [Evolving XOR](Evolving XOR.ipynb)\n", 
      "*  [FaceDetection](FaceDetection.ipynb)\n", 
      "*  [GeoChart](GeoChart.ipynb)\n", 
      "*  [Google Charts](Google Charts.ipynb)\n", 
      "*  [GraphViz Dot](GraphViz Dot.ipynb)\n", 
      "*  [Graphics Text Justification](Graphics Text Justification.ipynb)\n", 
      "*  [Graphics](Graphics.ipynb)\n", 
      "*  [GraphicsSVG](GraphicsSVG.ipynb)\n", 
      "*  [Histogram](Histogram.ipynb)\n", 
      "*  [Lists and Dictionaries](Lists and Dictionaries.ipynb)\n", 
      "*  [Memoizing Fibs](Memoizing Fibs.ipynb)\n", 
      "*  [MyroSimulation](MyroSimulation.ipynb)\n", 
      "*  [NeuralNetworks](NeuralNetworks.ipynb)\n", 
      "*  [Physics Simulation](Physics Simulation.ipynb)\n", 
      "*  [Plucking a Guitar String](Plucking a Guitar String.ipynb)\n", 
      "*  [Processing](Processing.ipynb)\n", 
      "*  [Provocative Cognitive Models](Provocative Cognitive Models.ipynb)\n", 
      "*  [Robot Learning](Robot Learning.ipynb)\n", 
      "*  [Rolling an N-sided Dice N times](Rolling an N-sided Dice N times.ipynb)\n", 
      "*  [Rough Waters Project](Rough Waters Project.ipynb)\n", 
      "*  [SVG](SVG.ipynb)\n", 
      "*  [Sending and Receiving Messages](Sending and Receiving Messages.ipynb)\n", 
      "*  [Simulations](Simulations.ipynb)\n", 
      "*  [Sprites and Widgets](Sprites and Widgets.ipynb)\n", 
      "*  [Sqlite Tests](Sqlite Tests.ipynb)\n", 
      "*  [Sticky Time](Sticky Time.ipynb)\n", 
      "*  [Travelling Salesperson](Travelling Salesperson.ipynb)\n", 
      "*  [Widgets](Widgets.ipynb)\n"
     ]
    }
   ], 
   "metadata": {}
  }
 ]
}