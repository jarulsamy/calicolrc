{
 "metadata": {
  "name": "",
  "signature": "sha256:26998377dc168aab8c4d5415d32a2444a038b90166ca2cb9e5a7fd7a02b67e64"
 },
 "nbformat": 3,
 "nbformat_minor": 0,
 "worksheets": [
  {
   "cells": [
    {
     "cell_type": "markdown",
     "metadata": {},
     "source": [
      "#Neural Networks#\n",
      "\n",
      "###Introduction###\n",
      "\n",
      "We will assume that you have already been exposed to neural network modeling. This section is designed to quickly help you recap the basics that you will need in order to create and experiment with neural networks in Pyrobot.\n",
      "\n",
      "See the [Pyrobot website](http://pyrorobotics.com) for more info.\n",
      "\n",
      "We will concentrate mostly on **backpropagation networks** here. A typical backprop network is a three layer network containing **input**, **hidden**, and **output** layers. Each layer contains a collection of nodes. Typically, the nodes in a layer are fully connected to the next layer. For instance, every input node will have a weighted connection to every hidden node. Similarly, every hidden node will have a `weighted connection` to every output node.\n",
      "\n",
      "Processing in a backprop network works as follows. Input is propagated forward from the input layer through the hidden layer and finally through the output layer to produce a response. Each node, regardless of the layer it is in, uses the same transfer function in order to propagate its information forward to the next layer. This is described next.\n",
      "\n",
      "###Transfer function of a node###\n",
      "\n",
      "Each node maintains an activation value that depends on the activation values of its incoming neighbors, the weights from its incoming neighbors, and its own default bias value. To compute this activation value, we first calculate the node's net input.\n",
      "\n",
      "The net input is a weighted sum of all the incoming activations plus the node's bias value:\n",
      "\n",
      "$net_i = \\sum\\limits_{j=1}^n w_{ij} x_j + b_i$\n",
      "\n",
      "Here is some corresponding Python code to compute this function for each node:"
     ]
    },
    {
     "cell_type": "code",
     "collapsed": false,
     "input": [
      "toNodes = range(3, 5)\n",
      "fromNodes = range(0, 2)\n",
      "\n",
      "bias       = [0.2, -0.1, 0.5, 0.1, 0.4, 0.9]\n",
      "activation = [0.8, -0.3, -0.8, 0.1, 0.5]\n",
      "netInput   = [0, 0, 0, 0, 0]\n",
      "weight = [[ 0.1, -0.8], \n",
      "          [-0.3,  0.1], \n",
      "          [ 0.2, -0.1], \n",
      "          [ 0.0,  0.1], \n",
      "          [ 0.8, -0.8], \n",
      "          [ 0.4, 0.5]]\n",
      "\n",
      "for i in toNodes:\n",
      "   netInput[i] = bias[i]\n",
      "   for j in fromNodes:\n",
      "      netInput[i] += (weight[i][j] * activation[j]) "
     ],
     "language": "python",
     "metadata": {},
     "outputs": [],
     "prompt_number": 2
    },
    {
     "cell_type": "markdown",
     "metadata": {},
     "source": [
      "where `weight[i][j]` is the weight $w_{ij}$, or connection strength, from the $j^{th}$ node to the $i^{th}$ node, `activation[j]` is the activation signal $x_j$ of the $j^{th}$ input node, and `bias[i]` is the bias value $b_i$ of the $i^{th}$ node. "
     ]
    },
    {
     "cell_type": "markdown",
     "metadata": {},
     "source": [
      "After computing the net input, each node has to compute its output activation. The value that results from applying the activation function to the net input is the signal that will be sent as output to all the nodes in the next layer. The activation function used in backprop networks is generally:\n",
      "\n",
      "$a_i = \\sigma(net_i)$\n",
      "\n",
      "where $\\sigma(x) = \\dfrac{1}{1 + e^{-x}}$"
     ]
    },
    {
     "cell_type": "code",
     "collapsed": false,
     "input": [
      "import math\n",
      "\n",
      "def activationFunction(netInput):\n",
      "    return 1.0 / (1.0 + math.exp(-netInput))\n",
      "\n",
      "for i in toNodes:\n",
      "    activation[i] = activationFunction(netInput[i])"
     ],
     "language": "python",
     "metadata": {},
     "outputs": [],
     "prompt_number": 3
    },
    {
     "cell_type": "markdown",
     "metadata": {},
     "source": [
      "This $\\sigma$ is the activation function, as shown in the plot below. Notice that the function is monotonically increasing and bounded by 0.0 and 1.0 as the net input approaches negative infinity and positive infinity, respectively."
     ]
    },
    {
     "cell_type": "code",
     "collapsed": false,
     "input": [
      "import math\n",
      "pts = [(x, activationFunction(x)) for x in range(-10, 10)]"
     ],
     "language": "python",
     "metadata": {},
     "outputs": [],
     "prompt_number": 4
    },
    {
     "cell_type": "code",
     "collapsed": false,
     "input": [
      "calico.ScatterChart(['x', 'activiation'], pts, {'width': 600, \"height\": 400, \n",
      "                                                'legend': {'position': 'in'}, \"lineWidth\": 1, \"pointSize\": 3})\n"
     ],
     "language": "python",
     "metadata": {},
     "outputs": [
      {
       "html": [
        "<div id=\"chart_div_3\" style=\"height: 400px;\"></div>\n",
        "<script type=\"text/javascript\">\n",
        "  require(['https://www.google.com/jsapi'], function () {\n",
        "      function draw() {\n",
        "        var chart = new google.visualization.ScatterChart(document.getElementById('chart_div_3'));\n",
        "        chart.draw(google.visualization.arrayToDataTable([['x', 'activiation'],\n",
        "[-10, 4.53978687024344E-05],\n",
        "[-9, 0.000123394575986232],\n",
        "[-8, 0.000335350130466478],\n",
        "[-7, 0.000911051194400645],\n",
        "[-6, 0.00247262315663477],\n",
        "[-5, 0.00669285092428486],\n",
        "[-4, 0.0179862099620916],\n",
        "[-3, 0.0474258731775668],\n",
        "[-2, 0.119202922022118],\n",
        "[-1, 0.268941421369995],\n",
        "[0, 0.5],\n",
        "[1, 0.731058578630005],\n",
        "[2, 0.880797077977882],\n",
        "[3, 0.952574126822433],\n",
        "[4, 0.982013790037908],\n",
        "[5, 0.993307149075715],\n",
        "[6, 0.997527376843365],\n",
        "[7, 0.999088948805599],\n",
        "[8, 0.999664649869534],\n",
        "[9, 0.999876605424014]]), {'lineWidth': 1, 'pointSize': 3, 'height': 400, 'legend': {'position': 'in'}, 'width': 600});\n",
        "      }\n",
        "      google.load('visualization', '1.0',\n",
        "                  {'callback': draw, 'packages':['corechart']});\n",
        "  });\n",
        "</script>\n"
       ],
       "metadata": {},
       "output_type": "pyout",
       "prompt_number": 7,
       "text": [
        "<ScatterChart availble for viewing in notebook>"
       ]
      }
     ],
     "prompt_number": 7
    },
    {
     "cell_type": "markdown",
     "metadata": {},
     "source": [
      "Google's Graphing API can be found here: https://developers.google.com/chart/interactive/docs/gallery/linechart"
     ]
    },
    {
     "cell_type": "code",
     "collapsed": false,
     "input": [
      "from ai.conx import *"
     ],
     "language": "python",
     "metadata": {},
     "outputs": [],
     "prompt_number": 2
    },
    {
     "cell_type": "code",
     "collapsed": false,
     "input": [
      "net = Network()\n",
      "net.addLayers(2, 3, 1)\n",
      "print(net)"
     ],
     "language": "python",
     "metadata": {},
     "outputs": [
      {
       "output_type": "stream",
       "stream": "stdout",
       "text": [
        "Conx using seed:"
       ]
      },
      {
       "output_type": "stream",
       "stream": "stdout",
       "text": [
        " "
       ]
      },
      {
       "output_type": "stream",
       "stream": "stdout",
       "text": [
        "1398275934.28"
       ]
      },
      {
       "output_type": "stream",
       "stream": "stdout",
       "text": [
        "\n"
       ]
      },
      {
       "output_type": "stream",
       "stream": "stdout",
       "text": [
        "Layer 'output': (Kind: Output, Size: 1, Active: 1, Frozen: 0)\n",
        "Target    : 0.00  \n",
        "Activation: 0.00  \n",
        "Layer 'hidden': (Kind: Hidden, Size: 3, Active: 1, Frozen: 0)\n",
        "Activation: 0.00  0.00  0.00  \n",
        "Layer 'input': (Kind: Input, Size: 2, Active: 1, Frozen: 0)\n",
        "Activation: 0.00  0.00  \n"
       ]
      },
      {
       "output_type": "stream",
       "stream": "stdout",
       "text": [
        "\n"
       ]
      }
     ],
     "prompt_number": 5
    },
    {
     "cell_type": "code",
     "collapsed": false,
     "input": [],
     "language": "python",
     "metadata": {},
     "outputs": []
    }
   ],
   "metadata": {}
  }
 ]
}