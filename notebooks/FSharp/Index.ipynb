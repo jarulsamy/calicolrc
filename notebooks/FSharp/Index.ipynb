{
 "metadata": {
  "name": "", 
  "signature": ""
 }, 
 "nbformat": 3, 
 "nbformat_minor": 0, 
 "worksheets": [
  {
   "cells": [
    {
     "cell_type": "markdown", 
     "collapsed": false, 
     "metadata": {}, 
     "source": [
      "Notebooks in FSharp:\n", 
      "\n", 
      "*  [ASCIIArt](ASCIIArt.ipynb)\n", 
      "*  [Blinds](Blinds.ipynb)\n", 
      "*  [Bounce](Bounce.ipynb)\n", 
      "*  [Every Color in an Image](Every Color in an Image.ipynb)\n", 
      "*  [FirstSteps](FirstSteps.ipynb)\n", 
      "*  [ImageFiltering](ImageFiltering.ipynb)\n", 
      "*  [ProcessingImage](ProcessingImage.ipynb)\n", 
      "*  [ScribblerBehavior](ScribblerBehavior.ipynb)\n"
     ]
    }
   ], 
   "metadata": {}
  }
 ]
}