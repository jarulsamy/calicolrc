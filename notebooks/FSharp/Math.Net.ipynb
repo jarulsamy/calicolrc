{
 "metadata": {
  "name": "",
  "signature": "sha256:d1d94a8f6febf28bd75de9bb303d48a3f59fe9cba8276db86cae331401e01496"
 },
 "nbformat": 3,
 "nbformat_minor": 0,
 "worksheets": [
  {
   "cells": [
    {
     "cell_type": "markdown",
     "metadata": {},
     "source": [
      "Doing Math with [Math.NET](http://numerics.mathdotnet.com/docs/) in FSharp\n",
      "\n",
      "\n",
      "adapted from this tutorial http://msdn.microsoft.com/en-us/library/vstudio/hh304363(v=vs.100).aspx\n",
      "\n",
      "\n",
      "to install:\n",
      "\n",
      "Download Nuget.exe\n",
      "    \n",
      "     mono ~/Downloads/Nuget.exe install MathNet.Numerics.FSharp -Pre -ExcludeVersion -OutputDirectory .\n",
      "    \n",
      "     mono ~/Downloads/Nuget.exe install MathNet.Numerics -Pre -ExcludeVersion -OutputDirectory ."
     ]
    },
    {
     "cell_type": "code",
     "collapsed": false,
     "input": [
      "%%%lang fsharp"
     ],
     "language": "python",
     "metadata": {},
     "outputs": [
      {
       "output_type": "stream",
       "stream": "stdout",
       "text": [
        "Calico Language is now \"F#\""
       ]
      },
      {
       "output_type": "stream",
       "stream": "stdout",
       "text": [
        "\n"
       ]
      }
     ],
     "prompt_number": 1
    },
    {
     "cell_type": "code",
     "collapsed": false,
     "input": [
      "open MathNet.Numerics.LinearAlgebra.Double\n",
      "let vector1 = new DenseVector(5)\n",
      "let vector3 = new DenseVector([| 1.0; 2.0; 3.0; 4.0; 5.0 |])\n",
      "vector3"
     ],
     "language": "python",
     "metadata": {},
     "outputs": [
      {
       "metadata": {},
       "output_type": "pyout",
       "prompt_number": 2,
       "text": [
        "DenseVector 5-Double\n",
        "           1            2            3            4            5"
       ]
      }
     ],
     "prompt_number": 2
    },
    {
     "cell_type": "code",
     "collapsed": false,
     "input": [
      "open MathNet.Numerics\n",
      "open MathNet.Numerics.LinearAlgebra"
     ],
     "language": "python",
     "metadata": {},
     "outputs": [],
     "prompt_number": 3
    },
    {
     "cell_type": "code",
     "collapsed": false,
     "input": [
      "let matrix1 =   matrix [[1.0; 2.0]; [1.0; 3.0]]\n",
      "let matrix2 =  matrix [[1.0; -2.0]; [0.5; 3.0]]\n",
      "let matrix12 = matrix1 * matrix2"
     ],
     "language": "python",
     "metadata": {},
     "outputs": [
      {
       "output_type": "stream",
       "stream": "stdout",
       "text": [
        "\n",
        "val matrix1 : Matrix<float> =\n",
        "  DenseMatrix 2x2-Double\n",
        "           1            2\n",
        "           1            3\n",
        "val matrix2 : Matrix<float> =\n",
        "  DenseMatrix 2x2-Double\n",
        "           1           -2\n",
        "         0.5            3\n",
        "val matrix12 : Matrix<float> =\n",
        "  DenseMatrix 2x2-Double\n",
        "           2            4\n",
        "         2.5            7\n",
        "\n"
       ]
      }
     ],
     "prompt_number": 4
    },
    {
     "cell_type": "code",
     "collapsed": false,
     "input": [
      "open MathNet.Numerics.Distributions"
     ],
     "language": "python",
     "metadata": {},
     "outputs": [],
     "prompt_number": 23
    },
    {
     "cell_type": "code",
     "collapsed": false,
     "input": [
      "let normal = new Normal(1.0, 4.0);;\n",
      "normal.Density(5.0)"
     ],
     "language": "python",
     "metadata": {},
     "outputs": [
      {
       "output_type": "stream",
       "stream": "stdout",
       "text": [
        "\n",
        "val normal : Normal = Normal(\u03bc = 1, \u03c3 = 4)\n",
        "\n"
       ]
      }
     ],
     "prompt_number": 25
    },
    {
     "cell_type": "code",
     "collapsed": false,
     "input": [
      "open MathNet.Numerics.Statistics\n",
      "let data = normal.Samples() |> Seq.take 100 |> Seq.toList\n",
      "data.Mean(),  data.StandardDeviation()"
     ],
     "language": "python",
     "metadata": {},
     "outputs": [
      {
       "metadata": {},
       "output_type": "pyout",
       "prompt_number": 26,
       "text": [
        "(0.673045644039543, 4.15301426148518)"
       ]
      }
     ],
     "prompt_number": 26
    },
    {
     "cell_type": "code",
     "collapsed": false,
     "input": [
      "let stats = new DescriptiveStatistics(data)"
     ],
     "language": "python",
     "metadata": {},
     "outputs": [
      {
       "output_type": "stream",
       "stream": "stdout",
       "text": [
        "\n",
        "val stats : DescriptiveStatistics\n",
        "\n"
       ]
      }
     ],
     "prompt_number": 28
    },
    {
     "cell_type": "code",
     "collapsed": false,
     "input": [
      "stats.Mean"
     ],
     "language": "python",
     "metadata": {},
     "outputs": [
      {
       "metadata": {},
       "output_type": "pyout",
       "prompt_number": 30,
       "text": [
        "0.673045644039543"
       ]
      }
     ],
     "prompt_number": 30
    },
    {
     "cell_type": "code",
     "collapsed": false,
     "input": [
      "let rnd = new System.Random()\n",
      "let a = DenseMatrix.init 500 500 (fun _ _ -> rnd.NextDouble())\n",
      "let a' = a.Inverse()"
     ],
     "language": "python",
     "metadata": {},
     "outputs": [
      {
       "output_type": "stream",
       "stream": "stdout",
       "text": [
        "\n",
        "val rnd : System.Random\n",
        "val a : Matrix<float> =\n",
        "  DenseMatrix 500x500-Double\n",
        "     0.63178    0.0755695     0.969417     0.549926     0.409511 ...     0.703654\n",
        "    0.332284     0.980481     0.987942     0.411087     0.646788 ...      0.90977\n",
        "    0.134856     0.611203    0.0290932     0.914685     0.989101 ...    0.0170234\n",
        "    0.642444     0.147008     0.329617     0.516235     0.539398 ...     0.196595\n",
        "    0.122718     0.338512     0.190042     0.495566     0.640342 ...      0.63932\n",
        "   0.0443523     0.912589     0.656603     0.763658     0.467496 ...     0.760673\n",
        "    0.017059     0.936866     0.863198      0.11766     0.621364 ...     0.874752\n",
        "         ...          ...          ...          ...          ... ...          ...\n",
        "    0.329263     0.258335     0.702967     0.656916     0.568563 ...     0.837284\n",
        "val a' : Matrix<float> =\n",
        "  DenseMatrix 500x500-Double\n",
        "  -0.0702922   -0.0413495    0.0502362    0.0218257    0.0214364 ...    0.0606162\n",
        "  -0.0906302    0.0243038  -0.00673698    -0.101301     0.352957 ...    "
       ]
      },
      {
       "output_type": "stream",
       "stream": "stdout",
       "text": [
        "-0.205186\n",
        "   0.0702649   -0.0360502    0.0532604   -0.0801559    -0.145729 ...    0.0129949\n",
        "   -0.562087    0.0630128     0.284459     -0.62932      1.47912 ...    -0.289253\n",
        "   -0.112125     0.185377    -0.154413     0.016627     0.547842 ...    -0.223453\n",
        "    -0.72125   -0.0452089     0.304978    -0.862579      1.38242 ...    -0.314389\n",
        "   0.0512512   -0.0172207    -0.136934     0.199913    -0.498953 ...   -0.0187815\n",
        "         ...          ...          ...          ...          ... ...          ...\n",
        "     -0.1462     0.169148   -0.0383282    -0.101592      0.43418 ...    0.0230503\n",
        "\n"
       ]
      }
     ],
     "prompt_number": 32
    },
    {
     "cell_type": "code",
     "collapsed": false,
     "input": [
      "let qr = a.QR()\n",
      "let q, r = qr.Q, qr.R\n",
      " \n",
      "let eigen = a.Evd()\n",
      "eigen.EigenValues\n",
      " \n",
      "let svd = a.Svd(true)\n",
      "let u, s, t = svd.U, svd.S, svd.VT"
     ],
     "language": "python",
     "metadata": {},
     "outputs": [
      {
       "output_type": "stream",
       "stream": "stdout",
       "text": [
        "\n",
        "val qr : Factorization.QR<float>\n",
        "val r : Matrix<float> =\n",
        "  DenseMatrix 500x500-Double\n",
        "    -12.3978     -9.62101     -9.52069     -9.35935     -8.88109 ...     -9.35107\n",
        "           0     -8.63899     -3.50886     -3.65336     -3.82311 ...      -4.0526\n",
        "           0            0      7.78044      2.39263      2.51859 ...      1.72863\n",
        "           0            0            0     -7.46384     -1.78878 ...     -2.11063\n",
        "           0            0            0            0     -7.13684 ...     -1.33228\n",
        "           0            0            0            0            0 ...     -1.29119\n",
        "           0            0            0            0            0 ...      1.05243\n",
        "         ...          ...          ...          ...          ... ...          ...\n",
        "           0            0            0            0            0 ...     0.268922\n",
        "val q : Matrix<float> =\n",
        "  DenseMatrix 500x500-Double\n",
        "  -0.0509591    0.0480043    0.0838888  -0.00638326    0.0115226 ...   -0.0393163\n",
        "  -0.0268019   -0.0836463    0.0564578    0.0375724  -0.00195944"
       ]
      },
      {
       "output_type": "stream",
       "stream": "stdout",
       "text": [
        " ...    0.0454875\n",
        "  -0.0108774   -0.0586356   -0.0360148   -0.0917534   -0.0833573 ...   -0.0103073\n",
        "  -0.0518192    0.0406928  -0.00269288    -0.024967   -0.0275867 ...   -0.0273202\n",
        " -0.00989836   -0.0281607 -0.000386829   -0.0403234   -0.0523504 ...     0.116761\n",
        " -0.00357743    -0.101652    0.0341703   -0.0371185    0.0147628 ...   0.00761101\n",
        " -0.00137597    -0.106914    0.0610443    0.0578616   -0.0210396 ...   -0.0469203\n",
        "         ...          ...          ...          ...          ... ...          ...\n",
        "  -0.0265582 -0.000326137     0.057705   -0.0360524   -0.0170419 ...   0.00619872\n",
        "val eigen : Factorization.Evd<float>\n",
        "val svd : Factorization.Svd<float>\n",
        "val u : Matrix<float> =\n",
        "  DenseMatrix 500x500-Double\n",
        "  -0.0442558    0.0101208    -0.160153     -0.12506     0.045941 ...    0.0340749\n",
        "  -0.0445498    0.0286577     0.043251   -0.0119743   -0.0155749 ...  -0.00383031\n",
        "  -0.0440203  -0.00422517    0.0794855    0.0171637    0.0598047 ...   -0.0145993\n",
        "  -0.0468195    0.0318578  -0.00424882   -0.0352465   -0.0112"
       ]
      },
      {
       "output_type": "stream",
       "stream": "stdout",
       "text": [
        "806 ...    0.0374892\n",
        "  -0.0436319    0.0194973 -0.000945051    0.0175348    0.0761883 ...   -0.0725576\n",
        "  -0.0443942   -0.0195086    0.0125214    -0.040799    0.0910858 ...    0.0353419\n",
        "  -0.0457496   -0.0520519   -0.0103219   0.00275004   -0.0365204 ...    0.0568149\n",
        "         ...          ...          ...          ...          ... ...          ...\n",
        "  -0.0451877    0.0374304    0.0096954    0.0215693  -0.00305758 ...    0.0125984\n",
        "val t : Matrix<float> =\n",
        "  DenseMatrix 500x500-Double\n",
        "    -0.04264    -0.044412   -0.0438513   -0.0438625   -0.0425817 ...    -0.043689\n",
        "   0.0789126    -0.029237     0.030164   -0.0170786   -0.0104152 ...    0.0290146\n",
        " -0.00997911    0.0083356     0.039738   0.00301864   -0.0284492 ...   -0.0413261\n",
        " -0.00367738   -0.0197082   -0.0351455   -0.0304264    0.0392031 ...   -0.0450962\n",
        " -0.00631995  -0.00847859  -0.00988142    0.0337609   -0.0203109 ...     0.073121\n",
        " 0.000505607   -0.0364485    0.0190326    0.0723791    -0.047431 ...    0.0488084\n",
        "  -0.0191352     -0.06328    0.0109672    0.0287"
       ]
      },
      {
       "output_type": "stream",
       "stream": "stdout",
       "text": [
        "983    0.0527006 ...  -0.00912969\n",
        "         ...          ...          ...          ...          ... ...          ...\n",
        " -0.00411152   -0.0172954  -0.00611878     -0.10461  -0.00898346 ...   -0.0197677\n",
        "val s : Vector<float>\n",
        "\n"
       ]
      }
     ],
     "prompt_number": 46
    },
    {
     "cell_type": "code",
     "collapsed": false,
     "input": [],
     "language": "python",
     "metadata": {},
     "outputs": []
    }
   ],
   "metadata": {}
  }
 ]
}