{
 "metadata": {
  "name": "",
  "signature": "sha256:7e6d6e22fabdf1354eee4870ab17d86678caf958351cd4e003cfed48ba174261"
 },
 "nbformat": 3,
 "nbformat_minor": 0,
 "worksheets": [
  {
   "cells": [
    {
     "cell_type": "code",
     "collapsed": false,
     "input": [
      "from IPython.html import widgets\n",
      "from IPython.display import display\n",
      "from IPython.utils.traitlets import Unicode\n",
      "\n",
      "class PasswordWidget(widgets.TextWidget):\n",
      "    _view_name = Unicode('PasswordView', sync=True)"
     ],
     "language": "python",
     "metadata": {},
     "outputs": [],
     "prompt_number": 1
    },
    {
     "cell_type": "code",
     "collapsed": false,
     "input": [
      "from IPython.display import Javascript\n",
      "Javascript(\"\"\"require([\"notebook/js/widgets/widget\"], function(WidgetManager){\n",
      "    var PasswordView = WidgetManager._view_types['TextView'].extend({  \n",
      "        update: function(options){\n",
      "            this.$textbox.attr('type', 'password');\n",
      "            return PasswordView.__super__.update.apply(this);\n",
      "        },\n",
      "    });\n",
      "    WidgetManager.register_widget_view('PasswordView', PasswordView);\n",
      "});\"\"\")"
     ],
     "language": "python",
     "metadata": {},
     "outputs": [
      {
       "javascript": [
        "require([\"notebook/js/widgets/widget\"], function(WidgetManager){\n",
        "    var PasswordView = WidgetManager._view_types['TextView'].extend({  \n",
        "        update: function(options){\n",
        "            this.$textbox.attr('type', 'password');\n",
        "            return PasswordView.__super__.update.apply(this);\n",
        "        },\n",
        "    });\n",
        "    WidgetManager.register_widget_view('PasswordView', PasswordView);\n",
        "});"
       ],
       "metadata": {},
       "output_type": "pyout",
       "prompt_number": 2,
       "text": [
        "<IPython.core.display.Javascript at 0x2f6e610>"
       ]
      }
     ],
     "prompt_number": 2
    },
    {
     "cell_type": "code",
     "collapsed": false,
     "input": [
      "container = widgets.PopupWidget()\n",
      "username = widgets.TextWidget(description=\"Username:\")\n",
      "password = PasswordWidget(description=\"Password:\")\n",
      "login_btn = widgets.ButtonWidget(description=\"Login\")\n",
      "container.children = [username, password, login_btn]\n",
      "\n",
      "def login(sender):\n",
      "    print('Username: %s, Password: %s' % (username.value, password.value))\n",
      "    container.close()\n",
      "login_btn.on_click(login)\n",
      "password.on_submit(login)\n",
      "\n",
      "display(container)"
     ],
     "language": "python",
     "metadata": {},
     "outputs": [
      {
       "output_type": "stream",
       "stream": "stdout",
       "text": [
        "Username: dblank, Password: password\n"
       ]
      }
     ],
     "prompt_number": 3
    },
    {
     "cell_type": "code",
     "collapsed": false,
     "input": [
      "calico.Login"
     ],
     "language": "python",
     "metadata": {},
     "outputs": [
      {
       "ename": "NameError",
       "evalue": "name 'calico' is not defined",
       "output_type": "pyerr",
       "traceback": [
        "\u001b[1;31m---------------------------------------------------------------------------\u001b[0m\n\u001b[1;31mNameError\u001b[0m                                 Traceback (most recent call last)",
        "\u001b[1;32m<ipython-input-4-65f024f37e28>\u001b[0m in \u001b[0;36m<module>\u001b[1;34m()\u001b[0m\n\u001b[1;32m----> 1\u001b[1;33m \u001b[0mcalico\u001b[0m\u001b[1;33m.\u001b[0m\u001b[0mLogin\u001b[0m\u001b[1;33m\u001b[0m\u001b[0m\n\u001b[0m",
        "\u001b[1;31mNameError\u001b[0m: name 'calico' is not defined"
       ]
      }
     ],
     "prompt_number": 4
    },
    {
     "cell_type": "code",
     "collapsed": false,
     "input": [],
     "language": "python",
     "metadata": {},
     "outputs": []
    }
   ],
   "metadata": {}
  }
 ]
}