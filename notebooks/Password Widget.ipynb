{
 "metadata": {
  "name": "",
  "signature": "sha256:7e6d6e22fabdf1354eee4870ab17d86678caf958351cd4e003cfed48ba174261"
 },
 "nbformat": 3,
 "nbformat_minor": 0,
 "worksheets": [
  {
   "cells": [
    {
     "cell_type": "code",
     "collapsed": false,
     "input": [
      "from IPython.html import widgets\n",
      "from IPython.display import display\n",
      "from IPython.utils.traitlets import Unicode\n",
      "\n",
      "class PasswordWidget(widgets.TextWidget):\n",
      "    _view_name = Unicode('PasswordView', sync=True)"
     ],
     "language": "python",
     "metadata": {},
     "outputs": [],
     "prompt_number": 1
    },
    {
     "cell_type": "code",
     "collapsed": false,
     "input": [
      "from IPython.display import Javascript\n",
      "Javascript(\"\"\"require([\"notebook/js/widgets/widget\"], function(WidgetManager){\n",
      "    var PasswordView = WidgetManager._view_types['TextView'].extend({  \n",
      "        update: function(options){\n",
      "            this.$textbox.attr('type', 'password');\n",
      "            return PasswordView.__super__.update.apply(this);\n",
      "        },\n",
      "    });\n",
      "    WidgetManager.register_widget_view('PasswordView', PasswordView);\n",
      "});\"\"\")"
     ],
     "language": "python",
     "metadata": {},
     "outputs": [
      {
       "javascript": [
        "require([\"notebook/js/widgets/widget\"], function(WidgetManager){\n",
        "    var PasswordView = WidgetManager._view_types['TextView'].extend({  \n",
        "        update: function(options){\n",
        "            this.$textbox.attr('type', 'password');\n",
        "            return PasswordView.__super__.update.apply(this);\n",
        "        },\n",
        "    });\n",
        "    WidgetManager.register_widget_view('PasswordView', PasswordView);\n",
        "});"
       ],
       "metadata": {},
       "output_type": "pyout",
       "prompt_number": 2,
       "text": [
        "<IPython.core.display.Javascript at 0x2f6e610>"
       ]
      }
     ],
     "prompt_number": 2
    },
    {
     "cell_type": "code",
     "collapsed": false,
     "input": [
      "container = widgets.PopupWidget()\n",
      "username = widgets.TextWidget(description=\"Username:\")\n",
      "password = PasswordWidget(description=\"Password:\")\n",
      "login_btn = widgets.ButtonWidget(description=\"Login\")\n",
      "container.children = [username, password, login_btn]\n",
      "\n",
      "def login(sender):\n",
      "    print('Username: %s, Password: %s' % (username.value, password.value))\n",
      "    container.close()\n",
      "login_btn.on_click(login)\n",
      "password.on_submit(login)\n",
      "\n",
      "display(container)"
     ],
     "language": "python",
     "metadata": {},
     "outputs": []
    },
    {
     "cell_type": "code",
     "collapsed": false,
     "input": [],
     "language": "python",
     "metadata": {},
     "outputs": []
    }
   ],
   "metadata": {}
  }
 ]
}