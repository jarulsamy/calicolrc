{
 "metadata": {
  "name": "",
  "signature": "sha256:087f84341e719396090542d2e4fa0b7615b02ca0ebbc8227414734a6ec1237b4"
 },
 "nbformat": 3,
 "nbformat_minor": 0,
 "worksheets": [
  {
   "cells": [
    {
     "cell_type": "code",
     "collapsed": false,
     "input": [
      "%%html\n",
      "<style>\n",
      "div.cell{\n",
      "\tbox-orient:horizontal;\n",
      "\tflex-direction:row;\n",
      "}\n",
      "\n",
      "div.cell *{\n",
      "\twidth:100%;\n",
      "}\n",
      "\n",
      "div.prompt{\n",
      "\twidth:80px;\n",
      "\n",
      "}\n",
      "</style>"
     ],
     "language": "python",
     "metadata": {},
     "outputs": [
      {
       "html": [
        "<style>\n",
        "div.cell{\n",
        "\tbox-orient:horizontal;\n",
        "\tflex-direction:row;\n",
        "}\n",
        "\n",
        "div.cell *{\n",
        "\twidth:100%;\n",
        "}\n",
        "\n",
        "div.prompt{\n",
        "\twidth:80px;\n",
        "\n",
        "}\n",
        "</style>\n"
       ],
       "metadata": {},
       "output_type": "display_data",
       "text": [
        "<HTML viewable in notebook>"
       ]
      }
     ],
     "prompt_number": 1
    },
    {
     "cell_type": "code",
     "collapsed": false,
     "input": [
      "1"
     ],
     "language": "python",
     "metadata": {},
     "outputs": [
      {
       "metadata": {},
       "output_type": "pyout",
       "prompt_number": 2,
       "text": [
        "1"
       ]
      }
     ],
     "prompt_number": 2
    },
    {
     "cell_type": "code",
     "collapsed": false,
     "input": [
      "1 + 1"
     ],
     "language": "python",
     "metadata": {},
     "outputs": [
      {
       "metadata": {},
       "output_type": "pyout",
       "prompt_number": 3,
       "text": [
        "2"
       ]
      }
     ],
     "prompt_number": 3
    },
    {
     "cell_type": "code",
     "collapsed": false,
     "input": [],
     "language": "python",
     "metadata": {},
     "outputs": []
    }
   ],
   "metadata": {}
  }
 ]
}