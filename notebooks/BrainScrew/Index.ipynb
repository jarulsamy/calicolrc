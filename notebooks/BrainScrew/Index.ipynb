{
 "metadata": {
  "name": "", 
  "signature": ""
 }, 
 "nbformat": 3, 
 "nbformat_minor": 0, 
 "worksheets": [
  {
   "cells": [
    {
     "cell_type": "markdown", 
     "collapsed": false, 
     "metadata": {}, 
     "source": [
      "Notebooks in BrainScrew:\n", 
      "\n", 
      "*  [BrainScrew Examples](BrainScrew Examples.ipynb)\n"
     ]
    }
   ], 
   "metadata": {}
  }
 ]
}