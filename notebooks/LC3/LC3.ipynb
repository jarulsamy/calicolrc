{
 "metadata": {
  "name": "",
  "signature": "sha256:4492c4c4690bc82b8e19938732fc0f28bbee7ba87b5aeab8974d2f4519296c0d"
 },
 "nbformat": 3,
 "nbformat_minor": 0,
 "worksheets": [
  {
   "cells": [
    {
     "cell_type": "markdown",
     "metadata": {},
     "source": [
      "LC3 stands for \"Little Computer\" (3rd version) and is an assembly\n",
      "language used in Patt and Patel's [Introduction to Computing Systems:\n",
      "From Bits and Gates to C and\n",
      "Beyond](http://highered.mcgraw-hill.com/sites/0072467509/).\n",
      "\n",
      "In this folder you will find sample notebooks using assembly language. \n",
      "\n",
      "To read more about LC3 in Calico, visit http://calicoproject.org/Calico_LC3\n"
     ]
    },
    {
     "cell_type": "markdown",
     "metadata": {},
     "source": [
      "Examples:\n",
      "\n",
      "[Console.ipynb](Console.ipynb)\n"
     ]
    }
   ],
   "metadata": {}
  }
 ]
}