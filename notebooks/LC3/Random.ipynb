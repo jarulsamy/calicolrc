{
 "metadata": {
  "name": "",
  "signature": "sha256:9fab2a3dceb260b39d681e797be14ab987b98f81ab72eaaeec0a656c98aa42d0"
 },
 "nbformat": 3,
 "nbformat_minor": 0,
 "worksheets": [
  {
   "cells": [
    {
     "cell_type": "code",
     "collapsed": false,
     "input": [
      "%%%lang lc3"
     ],
     "language": "python",
     "metadata": {},
     "outputs": [
      {
       "output_type": "stream",
       "stream": "stdout",
       "text": [
        "Calico Language is now \"LC3\""
       ]
      },
      {
       "output_type": "stream",
       "stream": "stdout",
       "text": [
        "\n"
       ]
      }
     ],
     "prompt_number": 1
    },
    {
     "cell_type": "code",
     "collapsed": false,
     "input": [
      ".help"
     ],
     "language": "python",
     "metadata": {},
     "outputs": [
      {
       "output_type": "stream",
       "stream": "stdout",
       "text": [
        "Interactive Directives: "
       ]
      },
      {
       "output_type": "stream",
       "stream": "stdout",
       "text": [
        "\n"
       ]
      },
      {
       "output_type": "stream",
       "stream": "stdout",
       "text": [
        " .show memory                    - show memory as a spreadsheet"
       ]
      },
      {
       "output_type": "stream",
       "stream": "stdout",
       "text": [
        "\n"
       ]
      },
      {
       "output_type": "stream",
       "stream": "stdout",
       "text": [
        " .assemble                       - assemble the first .asm file in Calico"
       ]
      },
      {
       "output_type": "stream",
       "stream": "stdout",
       "text": [
        "\n"
       ]
      },
      {
       "output_type": "stream",
       "stream": "stdout",
       "text": [
        " .cont                           - continue running"
       ]
      },
      {
       "output_type": "stream",
       "stream": "stdout",
       "text": [
        "\n"
       ]
      },
      {
       "output_type": "stream",
       "stream": "stdout",
       "text": [
        " .step                           - execute the next instruction, increment PC"
       ]
      },
      {
       "output_type": "stream",
       "stream": "stdout",
       "text": [
        "\n"
       ]
      },
      {
       "output_type": "stream",
       "stream": "stdout",
       "text": [
        " .reset                          - reset LC3 to start state"
       ]
      },
      {
       "output_type": "stream",
       "stream": "stdout",
       "text": [
        "\n"
       ]
      },
      {
       "output_type": "stream",
       "stream": "stdout",
       "text": [
        " .raw [start [stop]]             - list meory in hex"
       ]
      },
      {
       "output_type": "stream",
       "stream": "stdout",
       "text": [
        "\n"
       ]
      },
      {
       "output_type": "stream",
       "stream": "stdout",
       "text": [
        " .list                           - list program from memory"
       ]
      },
      {
       "output_type": "stream",
       "stream": "stdout",
       "text": [
        "\n"
       ]
      },
      {
       "output_type": "stream",
       "stream": "stdout",
       "text": [
        " .dump [start [stop]]            - dump memory as program"
       ]
      },
      {
       "output_type": "stream",
       "stream": "stdout",
       "text": [
        "\n"
       ]
      },
      {
       "output_type": "stream",
       "stream": "stdout",
       "text": [
        " .regs                           - show registers"
       ]
      },
      {
       "output_type": "stream",
       "stream": "stdout",
       "text": [
        "\n"
       ]
      },
      {
       "output_type": "stream",
       "stream": "stdout",
       "text": [
        " .set pc HEXVALUE                - set PC"
       ]
      },
      {
       "output_type": "stream",
       "stream": "stdout",
       "text": [
        "\n"
       ]
      },
      {
       "output_type": "stream",
       "stream": "stdout",
       "text": [
        " .set memory HEXLOCATION HEXVALUE- set memory"
       ]
      },
      {
       "output_type": "stream",
       "stream": "stdout",
       "text": [
        "\n"
       ]
      },
      {
       "output_type": "stream",
       "stream": "stdout",
       "text": [
        " .set reg VALUE HEXVALUE         - set register"
       ]
      },
      {
       "output_type": "stream",
       "stream": "stdout",
       "text": [
        "\n"
       ]
      },
      {
       "output_type": "stream",
       "stream": "stdout",
       "text": [
        " .set warn BOOL                  - set warnings on/off"
       ]
      },
      {
       "output_type": "stream",
       "stream": "stdout",
       "text": [
        "\n"
       ]
      },
      {
       "output_type": "stream",
       "stream": "stdout",
       "text": [
        " .get pc                         - get PC"
       ]
      },
      {
       "output_type": "stream",
       "stream": "stdout",
       "text": [
        "\n"
       ]
      },
      {
       "output_type": "stream",
       "stream": "stdout",
       "text": [
        " .get memory HEXLOCATION         - get memory"
       ]
      },
      {
       "output_type": "stream",
       "stream": "stdout",
       "text": [
        "\n"
       ]
      },
      {
       "output_type": "stream",
       "stream": "stdout",
       "text": [
        " .get reg VALUE                  - get register"
       ]
      },
      {
       "output_type": "stream",
       "stream": "stdout",
       "text": [
        "\n"
       ]
      }
     ],
     "prompt_number": 2
    },
    {
     "cell_type": "code",
     "collapsed": false,
     "input": [
      ".reset"
     ],
     "language": "python",
     "metadata": {},
     "outputs": [],
     "prompt_number": 3
    },
    {
     "cell_type": "code",
     "collapsed": false,
     "input": [
      ".ORIG x3000\n",
      "    AND R6,R6,#0 ; remainder\n",
      "    AND R7,R7,#0 ; quotient\n",
      "    LD R1, DIVIDEND\n",
      "    LD R2, DIVISOR\n",
      "    NOT R3,R2\n",
      "    ADD R3, R3,#1\n",
      "\n",
      "LOOP1 ADD R7,R7,#1 ; subtraction until dividend value\n",
      "                   ; becomes either zero or negative\n",
      "    ADD R1,R1,R3\n",
      "    BRN NEG\n",
      "    BRZ ZERO\n",
      "    BRP LOOP1\n",
      "\n",
      "NEG ADD R7,R7,#-1\n",
      "    ADD R6,R1,R2\n",
      "ZERO ST R6, REMAINDER\n",
      "     ST R7, QUOTIENT\n",
      "    HALT\n",
      "DIVIDEND  .FILL #25\n",
      "DIVISOR   .FILL #4\n",
      "QUOTIENT  .FILL #0\n",
      "REMAINDER .FILL #0\n",
      ".END\n"
     ],
     "language": "python",
     "metadata": {},
     "outputs": [
      {
       "output_type": "stream",
       "stream": "stdout",
       "text": [
        "PC:"
       ]
      },
      {
       "output_type": "stream",
       "stream": "stdout",
       "text": [
        " "
       ]
      },
      {
       "output_type": "stream",
       "stream": "stdout",
       "text": [
        "x048E"
       ]
      },
      {
       "output_type": "stream",
       "stream": "stdout",
       "text": [
        "\n"
       ]
      },
      {
       "output_type": "stream",
       "stream": "stdout",
       "text": [
        "N: 0"
       ]
      },
      {
       "output_type": "stream",
       "stream": "stdout",
       "text": [
        " "
       ]
      },
      {
       "output_type": "stream",
       "stream": "stdout",
       "text": [
        "Z: 0"
       ]
      },
      {
       "output_type": "stream",
       "stream": "stdout",
       "text": [
        " "
       ]
      },
      {
       "output_type": "stream",
       "stream": "stdout",
       "text": [
        "P: 1"
       ]
      },
      {
       "output_type": "stream",
       "stream": "stdout",
       "text": [
        " "
       ]
      },
      {
       "output_type": "stream",
       "stream": "stdout",
       "text": [
        "\n"
       ]
      },
      {
       "output_type": "stream",
       "stream": "stdout",
       "text": [
        "R0: x0000"
       ]
      },
      {
       "output_type": "stream",
       "stream": "stdout",
       "text": [
        " "
       ]
      },
      {
       "output_type": "stream",
       "stream": "stdout",
       "text": [
        "R1: xFFFD"
       ]
      },
      {
       "output_type": "stream",
       "stream": "stdout",
       "text": [
        " "
       ]
      },
      {
       "output_type": "stream",
       "stream": "stdout",
       "text": [
        "R2: x0004"
       ]
      },
      {
       "output_type": "stream",
       "stream": "stdout",
       "text": [
        " "
       ]
      },
      {
       "output_type": "stream",
       "stream": "stdout",
       "text": [
        "R3: xFFFC"
       ]
      },
      {
       "output_type": "stream",
       "stream": "stdout",
       "text": [
        " "
       ]
      },
      {
       "output_type": "stream",
       "stream": "stdout",
       "text": [
        "\n"
       ]
      },
      {
       "output_type": "stream",
       "stream": "stdout",
       "text": [
        "R4: x0000"
       ]
      },
      {
       "output_type": "stream",
       "stream": "stdout",
       "text": [
        " "
       ]
      },
      {
       "output_type": "stream",
       "stream": "stdout",
       "text": [
        "R5: x0000"
       ]
      },
      {
       "output_type": "stream",
       "stream": "stdout",
       "text": [
        " "
       ]
      },
      {
       "output_type": "stream",
       "stream": "stdout",
       "text": [
        "R6: x0001"
       ]
      },
      {
       "output_type": "stream",
       "stream": "stdout",
       "text": [
        " "
       ]
      },
      {
       "output_type": "stream",
       "stream": "stdout",
       "text": [
        "R7: x3010"
       ]
      },
      {
       "output_type": "stream",
       "stream": "stdout",
       "text": [
        " "
       ]
      },
      {
       "output_type": "stream",
       "stream": "stdout",
       "text": [
        "\n"
       ]
      },
      {
       "output_type": "stream",
       "stream": "stdout",
       "text": [
        "--------------------"
       ]
      },
      {
       "output_type": "stream",
       "stream": "stdout",
       "text": [
        "\n"
       ]
      },
      {
       "output_type": "stream",
       "stream": "stdout",
       "text": [
        "Instructions:"
       ]
      },
      {
       "output_type": "stream",
       "stream": "stdout",
       "text": [
        " "
       ]
      },
      {
       "output_type": "stream",
       "stream": "stdout",
       "text": [
        "44"
       ]
      },
      {
       "output_type": "stream",
       "stream": "stdout",
       "text": [
        "\n"
       ]
      },
      {
       "output_type": "stream",
       "stream": "stdout",
       "text": [
        "Cycles: 281 (0.0001405 milliseconds)"
       ]
      },
      {
       "output_type": "stream",
       "stream": "stdout",
       "text": [
        "\n"
       ]
      }
     ],
     "prompt_number": 4
    },
    {
     "cell_type": "code",
     "collapsed": false,
     "input": [
      ".reset"
     ],
     "language": "python",
     "metadata": {},
     "outputs": [],
     "prompt_number": 5
    },
    {
     "cell_type": "code",
     "collapsed": false,
     "input": [
      ";;; Algorithm for the iteration x \u2190 a x mod m\n",
      ";;; using Schrage\u2019s method\n",
      "\n",
      ".ORIG x3000\n",
      "    JSR Random\n",
      "    HALT\n",
      "\n",
      ";;; -----------------------------------------------------\n",
      ";;; Memory X has next random number\n",
      "Random: ST R7,BACK         ; save return location\n",
      "    LD R0, M\n",
      "    LD R1, A\n",
      "    JSR Divide         ; R0 / R1\n",
      "    ;; q = m / a\n",
      "    LD R0, QUOTIENT     ; R0 / R1\n",
      "    ST R0, Q     \n",
      "    ;; r = m mod a\n",
      "    LD R0, REMAINDER     ; R0 mod R1\n",
      "    ST R0, R\n",
      "        ;; x / q\n",
      "    LD R0, X\n",
      "    LD R1, Q\n",
      "    JSR Divide         ; R0 / R1\n",
      "    LD R1, QUOTIENT\n",
      "    ST R1, TEMP2\n",
      "    LD R1, REMAINDER     ; x mod q\n",
      "    ST R1, TEMP1\n",
      "    ;; x \u2190  a \u2217  (x mod q) \u2212 r \u2217  (x / q)\n",
      "    ;;      a * TEMP1 - r * TEMP2\n",
      "    LD R0, A\n",
      "    JSR Multiply         ; R2 <- R0 * R1\n",
      "    ST R2, TEMP1\n",
      "    ;;      a * TEMP1 - r * TEMP2\n",
      "    LD R0, R\n",
      "    LD R1, TEMP2\n",
      "    JSR Multiply         ; R2 <- r * TEMP2\n",
      "    NOT R2,R2         ; -R2\n",
      "    ADD R2,R2,#1\n",
      "    ST R2, TEMP2 \n",
      "    LD R1, TEMP1\n",
      "    ADD R2, R2, R1         ; TEMP1 - TEMP2\n",
      "TEST:    BRzp DONE         ; if x < 0 then\n",
      "    LD R1, M\n",
      "    ADD R2, R2, R1         ; x \u2190  x + m\n",
      "DONE:    ST R2, X\n",
      "    LD R7, BACK         ; Restore return address\n",
      "    RET\n",
      "A:    .FILL #7           ;; a , the multiplicative constant is given\n",
      "M:    .FILL #32767    ;; m = 2 \u02c6 15 \u2212 1, the modulus is given\n",
      "X:    .FILL #10    ;; x, the seed is given\n",
      "R:    .FILL #0\n",
      "Q:    .FILL #0\n",
      "TEMP1:    .FILL #0\n",
      "TEMP2:    .FILL #0\n",
      "BACK:    .FILL #0\n",
      "\n",
      ";;; -----------------------------------------------------\n",
      ";;; R2 <- R0 * R1\n",
      ";;; Also uses R3 to store SIGN\n",
      "Multiply: AND R2,R2,#0\n",
      "      AND R3,R3,#0\n",
      "      ADD R0,R0,#0         ; compare R0\n",
      "      BRn MultNEG1\n",
      "      BR  MultCont\n",
      "MultNEG1: NOT R3,R3         ; flip SIGN\n",
      "      NOT R0,R0\n",
      "      ADD R0,R0,#1\n",
      "MultCONT: ADD R1,R1,#0         ; compare R1\n",
      "      BRn MultNEG2\n",
      "      BR MultInit\n",
      "MultNEG2: NOT R3,R3         ; flip SIGN\n",
      "      NOT R1,R1\n",
      "      ADD R1,R1,#1\n",
      "MultInit: ADD R0,R0,#0      ; have R0 set the condition codes\n",
      "MultLoop: BRz MultDone\n",
      "      ADD R2,R2,R1\n",
      "      ADD R0,R0,#-1\n",
      "      BR MultLoop\n",
      "MultDone: ADD R0,R3,#0\n",
      "      BRzp MultRet\n",
      "      NOT R2,R2\n",
      "      ADD R2,R2,#1\n",
      "MultRet:  RET            ; R2 has the sum\n",
      "\n",
      ";;; -----------------------------------------------------\n",
      ";;; R0 / R1\n",
      ";;; Also uses R3 to store SIGN\n",
      ";;;           R4 to store -R1\n",
      ";;;           R5 is QUOTIENT\n",
      ";;;           R6 is REMAINDER\n",
      ";;;           R2 temp\n",
      "Divide:   AND R3,R3,#0\n",
      "      ST R3, QUOTIENT\n",
      "      ST R3, REMAINDER\n",
      "      ADD R0,R0,#0         ; compare R0\n",
      "      BRn DivNEG1\n",
      "      BR  DivCont\n",
      "DivNEG1:  NOT R3,R3         ; flip SIGN\n",
      "      NOT R0,R0\n",
      "      ADD R0,R0,#1\n",
      "DivCONT:  ADD R1,R1,#0         ; compare R1\n",
      "      BRn DivNEG2\n",
      "      BR DivInit\n",
      "DivNEG2:  NOT R3,R3         ; flip SIGN\n",
      "      NOT R1,R1\n",
      "      ADD R1,R1,#1\n",
      "DivInit:  ADD R4,R1,#0\n",
      "      NOT R4,R4\n",
      "      ADD R4,R4,#1\n",
      "DivLoop:  ADD R2,R0,R4      ; have R2 set the condition codes\n",
      "      BRn DivDone\n",
      "      ADD R0,R0,R4\n",
      "      LD R2,QUOTIENT\n",
      "      ADD R2,R2,#1\n",
      "      ST R2,QUOTIENT\n",
      "      BR DivLoop\n",
      "DivDone:  ADD R3,R3,#0         ; Negative?\n",
      "      BRzp DivRet\n",
      "      LD R2,QUOTIENT     ; Yes, then negate R2\n",
      "      NOT R2,R2\n",
      "      ADD R2,R2,#1\n",
      "      ST R2,QUOTIENT\n",
      "DivRet:      ST R0,REMAINDER\n",
      "      RET            ; R2 has the sum\n",
      "QUOTIENT:    .FILL #0\n",
      "REMAINDER:    .FILL #0\n",
      "    .END\n"
     ],
     "language": "python",
     "metadata": {},
     "outputs": [
      {
       "output_type": "stream",
       "stream": "stdout",
       "text": [
        "PC:"
       ]
      },
      {
       "output_type": "stream",
       "stream": "stdout",
       "text": [
        " "
       ]
      },
      {
       "output_type": "stream",
       "stream": "stdout",
       "text": [
        "x048E"
       ]
      },
      {
       "output_type": "stream",
       "stream": "stdout",
       "text": [
        "\n"
       ]
      },
      {
       "output_type": "stream",
       "stream": "stdout",
       "text": [
        "N: 0"
       ]
      },
      {
       "output_type": "stream",
       "stream": "stdout",
       "text": [
        " "
       ]
      },
      {
       "output_type": "stream",
       "stream": "stdout",
       "text": [
        "Z: 0"
       ]
      },
      {
       "output_type": "stream",
       "stream": "stdout",
       "text": [
        " "
       ]
      },
      {
       "output_type": "stream",
       "stream": "stdout",
       "text": [
        "P: 1"
       ]
      },
      {
       "output_type": "stream",
       "stream": "stdout",
       "text": [
        " "
       ]
      },
      {
       "output_type": "stream",
       "stream": "stdout",
       "text": [
        "\n"
       ]
      },
      {
       "output_type": "stream",
       "stream": "stdout",
       "text": [
        "R0: x0000"
       ]
      },
      {
       "output_type": "stream",
       "stream": "stdout",
       "text": [
        " "
       ]
      },
      {
       "output_type": "stream",
       "stream": "stdout",
       "text": [
        "R1: x0046"
       ]
      },
      {
       "output_type": "stream",
       "stream": "stdout",
       "text": [
        " "
       ]
      },
      {
       "output_type": "stream",
       "stream": "stdout",
       "text": [
        "R2: x0046"
       ]
      },
      {
       "output_type": "stream",
       "stream": "stdout",
       "text": [
        " "
       ]
      },
      {
       "output_type": "stream",
       "stream": "stdout",
       "text": [
        "R3: x0000"
       ]
      },
      {
       "output_type": "stream",
       "stream": "stdout",
       "text": [
        " "
       ]
      },
      {
       "output_type": "stream",
       "stream": "stdout",
       "text": [
        "\n"
       ]
      },
      {
       "output_type": "stream",
       "stream": "stdout",
       "text": [
        "R4: xEDB7"
       ]
      },
      {
       "output_type": "stream",
       "stream": "stdout",
       "text": [
        " "
       ]
      },
      {
       "output_type": "stream",
       "stream": "stdout",
       "text": [
        "R5: x0000"
       ]
      },
      {
       "output_type": "stream",
       "stream": "stdout",
       "text": [
        " "
       ]
      },
      {
       "output_type": "stream",
       "stream": "stdout",
       "text": [
        "R6: x0000"
       ]
      },
      {
       "output_type": "stream",
       "stream": "stdout",
       "text": [
        " "
       ]
      },
      {
       "output_type": "stream",
       "stream": "stdout",
       "text": [
        "R7: x3002"
       ]
      },
      {
       "output_type": "stream",
       "stream": "stdout",
       "text": [
        " "
       ]
      },
      {
       "output_type": "stream",
       "stream": "stdout",
       "text": [
        "\n"
       ]
      },
      {
       "output_type": "stream",
       "stream": "stdout",
       "text": [
        "--------------------"
       ]
      },
      {
       "output_type": "stream",
       "stream": "stdout",
       "text": [
        "\n"
       ]
      },
      {
       "output_type": "stream",
       "stream": "stdout",
       "text": [
        "Instructions:"
       ]
      },
      {
       "output_type": "stream",
       "stream": "stdout",
       "text": [
        " "
       ]
      },
      {
       "output_type": "stream",
       "stream": "stdout",
       "text": [
        "32889"
       ]
      },
      {
       "output_type": "stream",
       "stream": "stdout",
       "text": [
        "\n"
       ]
      },
      {
       "output_type": "stream",
       "stream": "stdout",
       "text": [
        "Cycles: 230203 (0.1151015 milliseconds)"
       ]
      },
      {
       "output_type": "stream",
       "stream": "stdout",
       "text": [
        "\n"
       ]
      }
     ],
     "prompt_number": 6
    },
    {
     "cell_type": "code",
     "collapsed": false,
     "input": [],
     "language": "python",
     "metadata": {},
     "outputs": []
    }
   ],
   "metadata": {}
  }
 ]
}