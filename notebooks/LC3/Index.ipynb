{
 "metadata": {
  "name": "", 
  "signature": ""
 }, 
 "nbformat": 3, 
 "nbformat_minor": 0, 
 "worksheets": [
  {
   "cells": [
    {
     "cell_type": "markdown", 
     "collapsed": false, 
     "metadata": {}, 
     "source": [
      "LC3 stands for \"Little Computer\" (3rd version) and is an assembly\n", 
      "language used in Patt and Patel's [Introduction to Computing Systems:\n", 
      "From Bits and Gates to C and\n", 
      "Beyond](http://highered.mcgraw-hill.com/sites/0072467509/).\n", 
      "\n", 
      "In this folder you will find sample notebooks using assembly language. \n", 
      "\n", 
      "To read more about LC3 in Calico, visit http://calicoproject.org/Calico_LC3\n"
     ]
    }, 
    {
     "cell_type": "markdown", 
     "collapsed": false, 
     "metadata": {}, 
     "source": [
      "Notebooks in LC3:\n", 
      "\n", 
      "*  [Console](Console.ipynb)\n", 
      "*  [LC3](LC3.ipynb)\n"
     ]
    }
   ], 
   "metadata": {}
  }
 ]
}