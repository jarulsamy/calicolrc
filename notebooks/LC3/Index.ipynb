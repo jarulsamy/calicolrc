{
 "metadata": {
  "name": "", 
  "signature": ""
 }, 
 "nbformat": 3, 
 "nbformat_minor": 0, 
 "worksheets": [
  {
   "cells": [
    {
     "cell_type": "markdown", 
     "collapsed": false, 
     "metadata": {}, 
     "source": [
      "<table><tr><td>\n", 
      "<img width=\"300\" src=\"http://calicoproject.org/wiki/images/d/d1/CalicoLogo.gif\">\n", 
      "</td>\n", 
      "<td>\n", 
      "The [Calico Project](http://calicoproject.org/) was designed to allow the easy exploration of computing ideas in a variety of programming languages. It is the product of NSF DUE grant #0920539 supporting the [Institute for Personal Robots in Education](http://wiki.roboteducation.org/).\n", 
      "<br>\n", 
      "<br>\n", 
      "You can find out more about these notebooks here: [ICalico](http://calicoproject.org/ICalico).\n", 
      "</td></tr></table>\n", 
      "\n"
     ]
    }, 
    {
     "cell_type": "markdown", 
     "collapsed": false, 
     "metadata": {}, 
     "source": [
      "Calico LC3\n", 
      "==========\n", 
      "\n", 
      "LC3 stands for \"Little Computer\" (3rd version) and is an assembly\n", 
      "language used in Patt and Patel's [Introduction to Computing Systems:\n", 
      "From Bits and Gates to C and\n", 
      "Beyond](http://highered.mcgraw-hill.com/sites/0072467509/).\n", 
      "\n", 
      "In this folder you will find sample notebooks using assembly language. \n", 
      "\n", 
      "To read more about LC3 in Calico, visit http://calicoproject.org/Calico_LC3\n"
     ]
    }, 
    {
     "cell_type": "markdown", 
     "collapsed": false, 
     "metadata": {}, 
     "source": [
      "Notebooks in <b>LC3</b>:\n", 
      "\n", 
      "*  [Console](Console.ipynb)\n", 
      "*  [Random](Random.ipynb)\n"
     ]
    }
   ], 
   "metadata": {}
  }
 ]
}