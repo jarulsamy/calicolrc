{
 "metadata": {
  "name": "",
  "signature": "sha256:8c75fb263cfa041c620d49dd9eafe64b07e1150d9aa9b5fb2d782c7f63e8fc3a"
 },
 "nbformat": 3,
 "nbformat_minor": 0,
 "worksheets": [
  {
   "cells": [
    {
     "cell_type": "code",
     "collapsed": false,
     "input": [
      "%%%lang lc3"
     ],
     "language": "python",
     "metadata": {},
     "outputs": []
    },
    {
     "cell_type": "code",
     "collapsed": false,
     "input": [
      ".help"
     ],
     "language": "python",
     "metadata": {},
     "outputs": []
    },
    {
     "cell_type": "code",
     "collapsed": false,
     "input": [
      ".ORIG x3000\n",
      "    LEA R0, HELLO\n",
      "    PUTS\n",
      "    HALT\n",
      "HELLO .STRINGZ \"Hello, World!\\n\"\n",
      ".END"
     ],
     "language": "python",
     "metadata": {},
     "outputs": []
    },
    {
     "cell_type": "code",
     "collapsed": false,
     "input": [
      ".reset"
     ],
     "language": "python",
     "metadata": {},
     "outputs": []
    },
    {
     "cell_type": "code",
     "collapsed": false,
     "input": [
      ".SET MODE GRAPHICS\n",
      ".ORIG x3000\n",
      "        CLEAR\n",
      "        AND R0,R0,#0 ;; x\n",
      "        AND R1,R1,#0 ;; y\n",
      "        AND R3,R3,#0 ;; char to poke\n",
      "        LD R4,ROWS\n",
      "        LD R6,COLS\n",
      "LOOP:   POKE R0,R1,R3\n",
      "        ADD R3,R3,#1\n",
      "        ADD R0,R0,#1\n",
      "        ADD R5,R0,R4\n",
      "        BRz NEXT\n",
      "        BR LOOP\n",
      "        HALT\n",
      "NEXT    AND R0,R0,#0\n",
      "        ADD R1,R1,#1\n",
      "        ADD R5,R1,R6\n",
      "        BRz DONE\n",
      "        BR LOOP\n",
      "DONE    HALT\n",
      "ROWS .FILL #-32\n",
      "COLS .FILL #-8\n",
      ".END\n"
     ],
     "language": "python",
     "metadata": {},
     "outputs": []
    },
    {
     "cell_type": "code",
     "collapsed": false,
     "input": [],
     "language": "python",
     "metadata": {},
     "outputs": []
    }
   ],
   "metadata": {}
  }
 ]
}