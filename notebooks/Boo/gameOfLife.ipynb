{
 "metadata": {
  "name": "",
  "signature": "sha256:e37e8509450b0322e56f61b86cf5dc77d28a8b79b6655257177d3ecd31ac4804"
 },
 "nbformat": 3,
 "nbformat_minor": 0,
 "worksheets": [
  {
   "cells": [
    {
     "cell_type": "code",
     "collapsed": false,
     "input": [
      "%%%lang Boo\n",
      "# This puts the rest of the notebook in Boo"
     ],
     "language": "python",
     "metadata": {},
     "outputs": [
      {
       "output_type": "stream",
       "stream": "stdout",
       "text": [
        "Calico Language is now \"Boo\""
       ]
      },
      {
       "output_type": "stream",
       "stream": "stdout",
       "text": [
        "\n"
       ]
      }
     ],
     "prompt_number": 1
    },
    {
     "cell_type": "code",
     "collapsed": false,
     "input": [
      "import Processing\n",
      "\n",
      "window(700, 700)\n",
      "smooth()\n",
      "fill(255) \n",
      "noStroke()\n",
      "frameRate(12) \n",
      "randomSeed(1) \n",
      "\n",
      "sz = 10\n",
      "sx = width() / sz\n",
      "sy = height() / sz\n",
      "\n",
      "world = matrix(int, sx, sy, 2)\n",
      "paused = true\n",
      "\n",
      "for i in range(50):\n",
      "\t#a bunch of random gliders\n",
      "    x = toInt(random(5, width()/sz-5))\n",
      "    y = toInt(random(5, height()/sz-5))\n",
      "    world[x + 0, y, 0] = 1\n",
      "    world[x + 2, y+1, 0] = 1\n",
      "    world[x + 0, y+2, 0] = 1\n",
      "    world[x + 1, y+2, 0] = 1\n",
      "    world[x + 2, y+2, 0] = 1\n",
      "\t#world(random(sx).toInt)(random(sy).toInt)(1) = 1\n",
      "\n",
      "\n",
      "def neighbors(x, y):\n",
      " \treturn world[(x + 1) % sx, y, 0] +\\\n",
      "    world[x, (y + 1) % sy, 0] +\\\n",
      "    world[(x + sx - 1) % sx, y, 0] +\\\n",
      "    world[x, (y + sy - 1) % sy, 0] +\\\n",
      "    world[(x + 1) % sx, (y + 1) % sy, 0] +\\\n",
      "    world[(x + sx - 1) % sx, (y + 1) % sy, 0] +\\\n",
      "    world[(x + sx - 1) % sx, (y + sy - 1) % sy, 0] +\\\n",
      "    world[(x + 1) % sx, (y + sy - 1) % sy, 0]\n",
      "\n",
      "\n",
      "def addCells():\n",
      "    world[mouseX() / sz, mouseY() / sz, 0] = 1\n",
      "\n",
      "onMouseDragged += addCells\n",
      "\n",
      "def handleKeys():\n",
      "    if (key == 'c'):\n",
      "        world = matrix(int, sx, sy, 2)\n",
      "    else:\n",
      "        paused = not paused\n",
      "\n",
      "onKeyPressed += handleKeys\n",
      "\n",
      "def step():\n",
      "    background(0)\n",
      "\n",
      "    # draw the board\n",
      "    for x in range(sx):\n",
      "        for y in range(sy):\n",
      "            if world[x,y,0] == 1:\n",
      "                rect(x*sz, y*sz, sz, sz)\n",
      "\n",
      "    doEvents()\n",
      "    if (paused):\n",
      "        return\n",
      "\n",
      " # birth and death\n",
      "    for x in range(sx):\n",
      "        for y in range(sy):\n",
      "            count = neighbors(x, y)\n",
      "         #birth\n",
      "            if count == 3:\n",
      "                world[x,y,1] = 1\n",
      "         #death\n",
      "            elif count < 2 or count > 3:\n",
      "                world[x,y,1] = 0\n",
      "         #stay-ing alive\n",
      "            elif world[x,y,0] == 1:\n",
      "                world[x,y,1] = 1\n",
      "\n",
      "    #update the state of the game\n",
      "    for x in range(sx):\n",
      "        for y in range(sy):\n",
      "            world[x,y,0] = world[x,y,1]\n",
      "\n",
      "onLoop += step\n",
      "\n",
      "loop()\n"
     ],
     "language": "python",
     "metadata": {},
     "outputs": [],
     "prompt_number": 2
    },
    {
     "cell_type": "code",
     "collapsed": false,
     "input": [],
     "language": "python",
     "metadata": {},
     "outputs": []
    }
   ],
   "metadata": {}
  }
 ]
}