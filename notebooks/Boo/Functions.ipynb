{
 "metadata": {
  "name": "", 
  "signature": "sha256:b992bfd94b0ff53d6ca6f8f4094dc69101574b0d5c629b2f962d17650f93bea2"
 }, 
 "nbformat": 3, 
 "nbformat_minor": 0, 
 "worksheets": [
  {
   "cells": [
    {
     "cell_type": "code", 
     "collapsed": false, 
     "input": [
      "# Boo Function Examples\n", 
      "\n", 
      "# Create a function that will add 1 to a given number:\n", 
      "\n", 
      "def add1(x as int):\n", 
      "    return x + 1\n", 
      "\n", 
      "# Create a function that will add two numbers together:\n", 
      "\n", 
      "def addem(x as int, y as int):\n", 
      "    return x + y\n", 
      "\n", 
      "# Call both of the functions, and display the results:\n", 
      "\n", 
      "print add1(4)\n", 
      "print addem(42, 8)\n"
     ], 
     "language": "python", 
     "metadata": {}, 
     "outputs": []
    }
   ], 
   "metadata": {}
  }
 ]
}