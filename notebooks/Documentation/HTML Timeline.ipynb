{
 "metadata": {
  "name": "",
  "signature": "sha256:d6f79b3ec4e3592ead2217b0a0e1114020b3d59af3307550b6e63914d048be34"
 },
 "nbformat": 3,
 "nbformat_minor": 0,
 "worksheets": [
  {
   "cells": [
    {
     "cell_type": "code",
     "collapsed": false,
     "input": [
      "%%file TEST.json\n",
      "\n",
      "{\n",
      "    \"timeline\":\n",
      "    {\n",
      "        \"headline\": \"The History of The World\",\n",
      "        \"type\": \"default\",\n",
      "        \"text\": \"History of Calico's Nutrition Program: Healthy Start\",\n",
      "        \"asset\": {\n",
      "            \"media\":\"https://dl.dropbox.com/s/3adp7vgwklbm51k/calicomap.jpg\",\n",
      "            \"credit\":\"Mattie Wechsler original artwork\",\n",
      "            \"caption\":\"Super rad map of calico\"\n",
      "        },\n",
      "        \"date\": [\n",
      "            {\n",
      "                \"startDate\":\"1955,10,15\",\n",
      "                \"endDate\":\"\",\n",
      "                \"headline\":\"Calican Congress Approves HealthyStart Creation Bill\",\n",
      "                \"text\":\"Stuff happened\",\n",
      "                \"tag\":\"meta impressions\",\n",
      "                \"classname\":\"weirdocat stew\",\n",
      "        \"asset\":{}\n",
      "            }\n",
      "        ],\n",
      "        \"era\": [\n",
      "            {\n",
      "                \"startDate\":\"1945,10,10\",\n",
      "                \"endDate\":\"1956,12,18\",\n",
      "                \"headline\":\"Post WWII Japanese Occupation\",\n",
      "                \"text\":\"Ten year period after Calico ceased to be WWII Japanese State\",\n",
      "                \"tag\":\"Regrets with Rice\"\n",
      "            }\n",
      "\n",
      "        ]\n",
      "    }\n",
      "}"
     ],
     "language": "python",
     "metadata": {},
     "outputs": [
      {
       "output_type": "stream",
       "stream": "stdout",
       "text": [
        "Writing \"TEST.json\"..."
       ]
      },
      {
       "output_type": "stream",
       "stream": "stdout",
       "text": [
        " done!"
       ]
      },
      {
       "output_type": "stream",
       "stream": "stdout",
       "text": [
        "\n"
       ]
      }
     ],
     "prompt_number": 1
    },
    {
     "cell_type": "code",
     "collapsed": false,
     "input": [
      "%%file timeline.html\n",
      "\n",
      "<body>\n",
      "<div id='timeline-embed'></div>\n",
      "<script type='text/javascript'>\n",
      "    var timeline_config = {\n",
      "        width:              '100%',\n",
      "        height:             '600',\n",
      "        source:             {\n",
      "    \"timeline\":\n",
      "    {\n",
      "        \"headline\": \"The History of The World\",\n",
      "        \"type\": \"default\",\n",
      "        \"text\": \"History of Calico's Nutrition Program: Healthy Start\",\n",
      "        \"asset\": {\n",
      "            \"media\":\"https://dl.dropbox.com/s/3adp7vgwklbm51k/calicomap.jpg\",\n",
      "            \"credit\":\"Mattie Wechsler original artwork\",\n",
      "            \"caption\":\"Super rad map of calico\"\n",
      "        },\n",
      "        \"date\": [\n",
      "            {\n",
      "                \"startDate\":\"1955,10,15\",\n",
      "                \"endDate\":\"\",\n",
      "                \"headline\":\"Calican Congress Approves HealthyStart Creation Bill\",\n",
      "                \"text\":\"Stuff happened\",\n",
      "                \"tag\":\"meta impressions\",\n",
      "                \"classname\":\"weirdocat stew\",\n",
      "                \"asset\":{}\n",
      "            }\n",
      "        ],\n",
      "    }\n",
      "},\n",
      "        embed_id:           'timeline-embed'\n",
      "    }\n",
      "</script>\n",
      "<script type=\"text/javascript\" src=\"http://cdn.knightlab.com/libs/timeline/latest/js/storyjs-embed.js\"></script>\n",
      "</body>"
     ],
     "language": "python",
     "metadata": {},
     "outputs": [
      {
       "output_type": "stream",
       "stream": "stdout",
       "text": [
        "Writing \"timeline.html\"..."
       ]
      },
      {
       "output_type": "stream",
       "stream": "stdout",
       "text": [
        " done!"
       ]
      },
      {
       "output_type": "stream",
       "stream": "stdout",
       "text": [
        "\n"
       ]
      }
     ],
     "prompt_number": 2
    },
    {
     "cell_type": "code",
     "collapsed": false,
     "input": [
      "%%html\n",
      "\n",
      "<iframe src=\"timeline.html\" height='600px' width='100%' frameborder='0'></iframe>"
     ],
     "language": "python",
     "metadata": {
      "format": "row"
     },
     "outputs": [
      {
       "html": [
        "\n",
        "<iframe src=\"timeline.html\" height='600px' width='100%' frameborder='0'></iframe>\n"
       ],
       "metadata": {},
       "output_type": "display_data",
       "text": [
        "<HTML viewable in notebook>"
       ]
      }
     ],
     "prompt_number": 3
    }
   ],
   "metadata": {}
  }
 ]
}