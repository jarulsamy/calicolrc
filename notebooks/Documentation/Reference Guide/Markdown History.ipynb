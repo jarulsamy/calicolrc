{
 "metadata": {
  "name": "",
  "signature": "sha256:f8b5c2f3149de5b5affc1d9797ee6d5fdb28baa9b40965f476fddc25845c3f07"
 },
 "nbformat": 3,
 "nbformat_minor": 0,
 "worksheets": [
  {
   "cells": [
    {
     "cell_type": "heading",
     "level": 1,
     "metadata": {},
     "source": [
      "The History of Markdown"
     ]
    },
    {
     "cell_type": "markdown",
     "metadata": {},
     "source": [
      "Begin Date|End Date| Headline| Text|\n",
      "-|-|-\n",
      "2004|2004|Creation of Markdown| John Gruber creates Markdown with substantial contributions from Aaron Swartz <a name=\"ref-1\"/>[(Swartz, 2004)](#cite-ipre:575)\n",
      "2012|2012| Standardization Effort Begins| In late 2012, a standardization effort was started, spurred in part by a blog post of Jeff Atwood. A community website now aims to \"document various tools and resources available to document authors and developers, as well as implementors of the various markdown implementations\""
     ]
    },
    {
     "cell_type": "heading",
     "level": 2,
     "metadata": {},
     "source": [
      "Introduction: What Is Markdown?"
     ]
    },
    {
     "cell_type": "code",
     "collapsed": false,
     "input": [],
     "language": "python",
     "metadata": {},
     "outputs": []
    },
    {
     "cell_type": "markdown",
     "metadata": {},
     "source": [
      "The Markdown language was created in 2004 by John Gruber with substantial contributions from Aaron Swartz,[6] with the goal of allowing people \u201cto write using an easy-to-read, easy-to-write plain text format, and optionally convert it to structurally valid XHTML (or HTML)\u201d.[3]\n",
      "\n",
      "Taking cues from existing conventions for marking up plain text in email such as setext, the language was designed to be readable as-is, without looking like it's been marked up with tags or formatting instructions,[7] unlike text which has been formatted with a Markup language, such as HTML, which has obvious tags and formatting instructions. Markdown is a formatting syntax for text that can be read by humans and can be easily converted to HTML.\n",
      "\n",
      "Gruber wrote a Perl script, Markdown.pl, which converts marked-up text input to valid, well-formed XHTML or HTML and replaces left-pointing angle brackets ('<') and ampersands with their corresponding character entity references. It can be used as a standalone script, as a plugin for Blosxom or Movable Type, or as a text filter for BBEdit.[3]\n",
      "\n",
      "Markdown has since been re-implemented by others as a Perl module available on CPAN (Text::Markdown), and in a variety of other programming languages. It is distributed under a BSD-style license[4] and is included with, or available as a plugin for, several content-management systems.[8][9]\n",
      "\n",
      "Sites such as GitHub, reddit, Diaspora, Stack Overflow, OpenStreetMap, and SourceForge use variants of Markdown to facilitate discussion between users.[10][11][12][13]\n",
      "Standardization\n",
      "\n",
      "There is no clearly defined Markdown standard, apart from the original writeup and implementation by John Gruber, which is considered to be abandonware,[14][15] leading to fragmentation as different vendors write their own variants of the language to correct flaws or add missing features. In late 2012, a standardization effort was started, spurred in part by a blog post of Jeff Atwood.[16] A community website now aims to \"document various tools and resources available to document authors and developers, as well as implementors of the various markdown implementations\".[17] A tool (named Babelmark2[18]) is also available to \"[compare] the output of various implementations\" to \"promote discussion of how and whether certain vague aspects of the markdown spec should be clarified\".[19]\n",
      "Extensions\n",
      "\n",
      "A number of lightweight markup languages extend Markdown by implementing added features (such as tables, footnotes, definition lists, and Markdown inside HTML blocks) not available with plain Markdown syntax. Among these are Markdown Extra, MultiMarkdown, Maruku,[20] Kramdown and the Pandoc Markdown extension.[21] In some cases, this is in order to enable conversion into more formats than HTML, e.g. LaTeX, RTF and DocBook.\n",
      "\n",
      "Many implementations also intentionally omit support for middle word emphasis. The original Markdown implementation interprets constructs like my_long_variable as a request to emphasize \"long\" in the middle of a word. Many users found this confusing, so many later implementations such as PHP Markdown and Python Markdown do not implement middle word emphasis by default.[22]\n",
      "\n",
      "The essay \"Thoughts on Markdown\" stated that Markdown's original developer, John Gruber, has not responded to discussions about extensions to Markdown, and that \"Markdown is changing, with or without him\"."
     ]
    },
    {
     "cell_type": "markdown",
     "metadata": {},
     "source": [
      "#References\n",
      "\n",
      "<a name=\"cite-ipre:575\"/><sup>[^](#ref-1) </sup>Swartz, Aaron. 2004. _Markdown_.\n",
      "\n"
     ]
    }
   ],
   "metadata": {}
  }
 ]
}