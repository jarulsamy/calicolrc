{
 "metadata": {
  "name": "",
  "signature": "sha256:0070c3e625ef6733d1ed8fe4cada9b94e1bfdd4f070bdc54bac3ef2646264d6c"
 },
 "nbformat": 3,
 "nbformat_minor": 0,
 "worksheets": [
  {
   "cells": [
    {
     "cell_type": "markdown",
     "metadata": {},
     "source": [
      "#Table of Contents\n",
      "* [1. Test Entries](#1.-Test-Entries)\n",
      "* [2. Entries for Sample Calican History Paper](#2.-Entries-for-Sample-Calican-History-Paper)\n",
      "\t* [2.1 Real Entries](#2.1-Real-Entries)\n",
      "\t\t* [2.1.1 Books](#2.1.1-Books)\n",
      "\t\t* [2.1.2 Articles](#2.1.2-Articles)\n",
      "\t* [2.2 Fake Entries](#2.2-Fake-Entries)\n",
      "\t\t* [2.2.1 Books](#2.2.1-Books)\n",
      "\t\t* [2.2.2 Articles](#2.2.2-Articles)\n",
      "* [3. Markdown History Entries](#3.-Markdown-History-Entries)\n"
     ]
    },
    {
     "cell_type": "heading",
     "level": 1,
     "metadata": {},
     "source": [
      "1. Test Entries"
     ]
    },
    {
     "cell_type": "code",
     "collapsed": false,
     "input": [
      "<!--bibtex\n",
      "\n",
      "@techreport{ipre:572,\n",
      "     title = {Assessing the Impact of using Robots in Education, or: How we learned to Stop Worrying and Love the Chaos},\n",
      "     author = {Blank, D. and Kumar, D.},\n",
      "     journal = {Educational Robotics and Beyond: Design and Evaluation},\n",
      "     pages = {3--7},\n",
      "     year = {2010},\n",
      "     month = {3},\n",
      "     publisher = {AAAI Press},\n",
      "     series = {AAAI Spring Symposium Series},\n",
      "     url = {http://www.cs.cmu.edu/~AAAI10-ETPL/},\n",
      "     ipre-article-id = {572}\n",
      "}\n",
      "-->"
     ],
     "language": "python",
     "metadata": {},
     "outputs": []
    },
    {
     "cell_type": "heading",
     "level": 1,
     "metadata": {},
     "source": [
      "2. Entries for Sample Calican History Paper"
     ]
    },
    {
     "cell_type": "markdown",
     "metadata": {},
     "source": [
      "File name: Sample Paper.ipynb"
     ]
    },
    {
     "cell_type": "heading",
     "level": 2,
     "metadata": {},
     "source": [
      "2.1 Real Entries"
     ]
    },
    {
     "cell_type": "heading",
     "level": 3,
     "metadata": {},
     "source": [
      "2.1.1 Books"
     ]
    },
    {
     "cell_type": "heading",
     "level": 3,
     "metadata": {},
     "source": [
      "2.1.2 Articles"
     ]
    },
    {
     "cell_type": "code",
     "collapsed": false,
     "input": [
      "<!--bibtex\n",
      "\n",
      "@article{wikipediagreatrecession,\n",
      "    title = {Great Recession},\n",
      "    author = {Wikipedia, Empty},\n",
      "    journal = {Wikipedia.org},\n",
      "    url = {http://en.wikipedia.org/wiki/Great_Recession},\n",
      "    year = {2014}\n",
      "}\n",
      "-->"
     ],
     "language": "python",
     "metadata": {},
     "outputs": []
    },
    {
     "cell_type": "heading",
     "level": 2,
     "metadata": {},
     "source": [
      "2.2 Fake Entries"
     ]
    },
    {
     "cell_type": "heading",
     "level": 3,
     "metadata": {},
     "source": [
      "2.2.1 Books"
     ]
    },
    {
     "cell_type": "code",
     "collapsed": false,
     "input": [
      "<!--bibtex\n",
      "\n",
      "@book{wellfarecut,\n",
      "      title = {Our Greatest Threat: The Rise of Anti-Wellfare Politics in Calico in the 21st Century},\n",
      "      author = {Jacob, Bernadette},\n",
      "      year = {2010},\n",
      "      publisher = {Jupyter University Press},\n",
      "      address = {Jupyter, JY}\n",
      "\n",
      "}\n",
      "@book{calicoww2:1,\n",
      "    title = {Calico and WWII: Untold History},\n",
      "    author = {French, Viola},\n",
      "    year = {1997},\n",
      "    publisher = {Calicia City Free Press},\n",
      "    address = {Calicia City, CA}\n",
      "}\n",
      "\n",
      "@book{calicoww2:2,\n",
      "    title = {Rebuilding Calico After Japanese Occupation},\n",
      "    author = {Kepps, Milo},\n",
      "    year = {2002},\n",
      "    publisher = {Python Books},\n",
      "    address = {Pythonia, PY}\n",
      "}   \n",
      "-->"
     ],
     "language": "python",
     "metadata": {},
     "outputs": []
    },
    {
     "cell_type": "heading",
     "level": 3,
     "metadata": {},
     "source": [
      "2.2.2 Articles"
     ]
    },
    {
     "cell_type": "code",
     "collapsed": false,
     "input": [
      "<!--bibtex     \n",
      "         \n",
      "@article{militaryex2,\n",
      "    title = {Rethinking Calican Military Expansion for the New Century},\n",
      "    author = {Collier, Brian F.},\n",
      "    journal = {Modern Politics},\n",
      "    volume = {60},\n",
      "    issue = {25},\n",
      "    pages = {35 - 70},\n",
      "    year = {2012} \n",
      "}\n",
      "\n",
      "@article{militaryex1,\n",
      "    title = {Conservative Majority Passes Budget to Grow Military},\n",
      "    author = {Lane, Lois},\n",
      "    journal = {The Daily Calican},\n",
      "    month = {October 19th, 2011},\n",
      "    pages = {15 - 17},\n",
      "    year = {2011}\n",
      "}\n",
      "\n",
      "@article{oildrill,\n",
      "    title = {Oil Drilling Off the Coast of Jupyter Approved for Early Next Year},\n",
      "    author = {Marks, Meghan L.},\n",
      "    journal = {The Python Gazette},\n",
      "    month = {December 5th, 2012},\n",
      "    pages = {8 - 9},\n",
      "    year = {2012}\n",
      "}\n",
      "\n",
      "@article{rieseinterview,\n",
      "    title = {Interview with Up and Coming Freshman Senator, Alec Riese of Python},\n",
      "    author = {Wilmington, Oliver},\n",
      "    journal = {The Jupyter Times},\n",
      "    month = {November 24th, 2012},\n",
      "    pages = {4 - 7},\n",
      "    year = {2012}\n",
      "}\n",
      "\n",
      "-->"
     ],
     "language": "python",
     "metadata": {},
     "outputs": []
    },
    {
     "cell_type": "heading",
     "level": 1,
     "metadata": {},
     "source": [
      "3. Markdown History Entries"
     ]
    },
    {
     "cell_type": "markdown",
     "metadata": {},
     "source": [
      "File Name: Markdown History.ipynb"
     ]
    },
    {
     "cell_type": "code",
     "collapsed": false,
     "input": [
      "<!--bibtex\n",
      "    \n",
      "@article{markdownswartz,\n",
      "    title = {Markdown},\n",
      "    author = {Swartz, Aaron},\n",
      "    url = {http://www.aaronsw.com/weblog/001189},\n",
      "    year = {2004},\n",
      "    journal = { Aaron Swartz's Blog}\n",
      "}\n",
      "-->\n",
      "    \n",
      "\n"
     ],
     "language": "python",
     "metadata": {},
     "outputs": [
      {
       "output_type": "stream",
       "stream": "stderr",
       "text": [
        "  File \"\", line 1\n",
        "    %%bibtex\n",
        "\n",
        "    ^\n",
        "SyntaxError: unexpected token '%'\n",
        "\n"
       ]
      }
     ],
     "prompt_number": 1
    }
   ],
   "metadata": {}
  }
 ]
}