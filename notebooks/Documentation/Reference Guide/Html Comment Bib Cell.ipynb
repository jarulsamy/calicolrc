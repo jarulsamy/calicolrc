{
 "metadata": {
  "celltoolbar": "Raw Cell Format",
  "name": "",
  "signature": "sha256:1b3e1fff986c0a9b63c3340a75fdbf49a5611fd4c9ce035686a279c80fec2e92"
 },
 "nbformat": 3,
 "nbformat_minor": 0,
 "worksheets": [
  {
   "cells": [
    {
     "cell_type": "code",
     "collapsed": false,
     "input": [],
     "language": "python",
     "metadata": {},
     "outputs": []
    },
    {
     "cell_type": "code",
     "collapsed": false,
     "input": [],
     "language": "python",
     "metadata": {},
     "outputs": []
    },
    {
     "cell_type": "code",
     "collapsed": false,
     "input": [],
     "language": "python",
     "metadata": {},
     "outputs": []
    },
    {
     "cell_type": "code",
     "collapsed": false,
     "input": [],
     "language": "python",
     "metadata": {},
     "outputs": []
    },
    {
     "cell_type": "code",
     "collapsed": false,
     "input": [],
     "language": "python",
     "metadata": {},
     "outputs": []
    },
    {
     "cell_type": "code",
     "collapsed": false,
     "input": [
      "<!--bibtex\n",
      "\n",
      "@techreport{ipre:572,\n",
      "     title = {Assessing the Impact of using Robots in Education, or: How we learned to Stop Worrying and Love the Chaos},\n",
      "     author = {Blank, D. and Kumar, D.},\n",
      "     journal = {Educational Robotics and Beyond: Design and Evaluation},\n",
      "     pages = {3--7},\n",
      "     year = {2010},\n",
      "     month = {3},\n",
      "     publisher = {AAAI Press},\n",
      "     series = {AAAI Spring Symposium Series},\n",
      "     url = {http://www.cs.cmu.edu/~AAAI10-ETPL/},\n",
      "     ipre-article-id = {572}\n",
      "}\n",
      "-->"
     ],
     "language": "python",
     "metadata": {
      "format": "tab"
     },
     "outputs": []
    },
    {
     "cell_type": "code",
     "collapsed": false,
     "input": [],
     "language": "python",
     "metadata": {},
     "outputs": []
    }
   ],
   "metadata": {}
  }
 ]
}