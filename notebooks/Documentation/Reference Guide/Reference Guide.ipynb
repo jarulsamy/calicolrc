{
 "metadata": {
  "name": "",
  "signature": "sha256:42fab3a46ff59afd279dd6c28e159c22e96dfd3df1dd9d9b76a0fcfae694bc9e"
 },
 "nbformat": 3,
 "nbformat_minor": 0,
 "worksheets": [
  {
   "cells": [
    {
     "cell_type": "markdown",
     "metadata": {},
     "source": [
      "#Table of Contents\n",
      "* [1. Getting to Know your Jupyter Notebook's Toolbar](#1.-Getting-to-Know-your-Jupyter-Notebook's-Toolbar)\n",
      "* [2. Different Kinds of Cells](#2.-Different-Kinds-of-Cells)\n",
      "\t* [2.1 Code Cells](#2.1-Code-Cells)\n",
      "\t* [2.2 Markdown Cells](#2.2-Markdown-Cells)\n",
      "\t* [2.3 Raw Cells](#2.3-Raw-Cells)\n",
      "\t* [2.4 Header Cells](#2.4-Header-Cells)\n",
      "\t\t* [2.4.1 Automatic Section Numbering and Table of Contents Support](#2.4.1-Automatic-Section-Numbering-and-Table-of-Contents-Support)\n",
      "\t\t\t* [2.4.1.1 Automatic Section Numbering](#2.4.1.1-Automatic-Section-Numbering)\n",
      "\t\t\t* [2.4.1.2 Table of Contents Support](#2.4.1.2-Table-of-Contents-Support)\n",
      "* [3. Turning Your Jupyter Notebook into a Slideshow](#3.-Turning-Your-Jupyter-Notebook-into-a-Slideshow)\n",
      "* [4. Keyboard Shortcuts](#4.-Keyboard-Shortcuts)\n",
      "* [5. Using Markdown Cells for Writing](#5.-Using-Markdown-Cells-for-Writing)\n",
      "\t* [5.1 Why aren't there font and font size selection drop down menus, buttons I can press to bold and italicize my text, or other advanced style options in my Notebook?](#5.1-Why-aren't-there-font-and-font-size-selection-drop-down-menus,-buttons-I-can-press-to-bold-and-italicize-my-text,-or-other-advanced-style-options-in-my-Notebook?)\n",
      "\t* [5.2 Why Use Markdown (and not a WYSIWYG)?](#5.2-Why-Use-Markdown-%28and-not-a-WYSIWYG%29?)\n",
      "\t* [5.3 Block Elements](#5.3-Block-Elements)\n",
      "\t\t* [5.3.1 Paragraph Breaks](#5.3.1-Paragraph-Breaks)\n",
      "\t\t* [5.3.2 Line Breaks](#5.3.2-Line-Breaks)\n",
      "\t\t\t* [5.3.2.1 Hard-Wrapping and Soft-Wrapping](#5.3.2.1-Hard-Wrapping-and-Soft-Wrapping)\n",
      "\t\t\t* [5.3.2.2 Soft-Wrapping](#5.3.2.2-Soft-Wrapping)\n",
      "\t\t\t* [5.3.2.3 Hard-Wrapping](#5.3.2.3-Hard-Wrapping)\n",
      "\t\t* [5.3.3 Headers](#5.3.3-Headers)\n",
      "\t\t* [5.3.4 Block Quotes](#5.3.4-Block-Quotes)\n",
      "\t\t\t* [5.3.4.1 Standard Block Quoting](#5.3.4.1-Standard-Block-Quoting)\n",
      "\t\t\t* [5.3.4.2 Nested Block Quoting](#5.3.4.2-Nested-Block-Quoting)\n",
      "\t\t* [5.3.5 Lists](#5.3.5-Lists)\n",
      "\t\t\t* [5.3.5.1 Ordered Lists](#5.3.5.1-Ordered-Lists)\n",
      "\t\t\t* [5.3.5.2 Bulleted Lists](#5.3.5.2-Bulleted-Lists)\n",
      "\t\t* [5.3.6 Section Breaks](#5.3.6-Section-Breaks)\n",
      "\t* [5.4 Backslash Escape](#5.4-Backslash-Escape)\n",
      "\t* [5.5 Hyperlinks](#5.5-Hyperlinks)\n",
      "\t\t* [5.5.1 Automatic Links](#5.5.1-Automatic-Links)\n",
      "\t\t* [5.5.2 Standard Links Without Mouse-Over Titles](#5.5.2-Standard-Links-Without-Mouse-Over-Titles)\n",
      "\t\t* [5.5.3 Standard Links With Mouse-Over Titles](#5.5.3-Standard-Links-With-Mouse-Over-Titles)\n",
      "\t\t* [5.5.4 Reference Links](#5.5.4-Reference-Links)\n",
      "\t* [5.6 Tables](#5.6-Tables)\n",
      "\t\t* [5.6.1 Cell Justification](#5.6.1-Cell-Justification)\n",
      "\t* [5.7 Style and Emphasis](#5.7-Style-and-Emphasis)\n",
      "\t* [5.8 Other Characters](#5.8-Other-Characters)\n",
      "\t* [5.9 Including Code Examples](#5.9-Including-Code-Examples)\n",
      "\t* [5.10 Images](#5.10-Images)\n",
      "\t\t* [5.10.1 Images from the Internet](#5.10.1-Images-from-the-Internet)\n",
      "\t\t\t* [5.10.1.1 Reference-Style Images from the Internet](#5.10.1.1-Reference-Style-Images-from-the-Internet)\n",
      "\t* [5.11 LaTeX Math](#5.11-LaTeX-Math)\n"
     ]
    },
    {
     "cell_type": "heading",
     "level": 1,
     "metadata": {},
     "source": [
      "1. Getting to Know your Jupyter Notebook's Toolbar"
     ]
    },
    {
     "cell_type": "markdown",
     "metadata": {
      "slideshow": {
       "slide_type": "fragment"
      }
     },
     "source": [
      "At the top of your Jupyter Notebook window there is a toolbar. It looks like this:"
     ]
    },
    {
     "cell_type": "markdown",
     "metadata": {
      "slideshow": {
       "slide_type": "fragment"
      }
     },
     "source": [
      "![](jupytertoolbarnew.png)"
     ]
    },
    {
     "cell_type": "markdown",
     "metadata": {
      "slideshow": {
       "slide_type": "fragment"
      }
     },
     "source": [
      "Below is a table which helpfully pairs a picture of each of the items in your toolbar with a corresponding explanation of its function. "
     ]
    },
    {
     "cell_type": "markdown",
     "metadata": {
      "slideshow": {
       "slide_type": "fragment"
      }
     },
     "source": [
      "Button|Function\n",
      "-|-\n",
      "![](jupytertoolbarsave.png)|This is your save button. You can click this button to save your notebook at any time, though keep in mind that Jupyter Notebooks automatically save your progress very frequently.  \n",
      "![](jupytertoolbarnewcell.png)|This is the new cell button. You can click this button any time you want a new cell in your Jupyter Notebook. \n",
      "![](jupytertoolbarcutcell.png)|This is the cut cell button. If you click this button, the cell you currently have selected will be deleted from your Notebook. \n",
      "![](jupytertoolbarcopycell.png)|This is the copy cell button. If you click this button, the currently selected cell will be dupilicated and stored in your clipboard. \n",
      "![](jupytertoolbarpastecell.png)|This is the past button. It allows you to paste the duplicated cell from your clipboard into your notebook. \n",
      "![](jupytertoolbarupdown.png)|These buttons allow you to move the location of a selected cell within a Notebook. Simply select the cell you wish to move and click either the up or down button until the cell is in the location you want it to be.\n",
      "![](jupytertoolbarrun.png)|This button will \"run\" your cell, meaning that it will interpret your input and render the output in a way that depends on [what kind of cell] [cell kind] you're using. \n",
      "![](jupytertoolbarstop.png)|This is the stop button. Clicking this button will stop your cell from continuing to run. This tool can be useful if you are trying to execute more complicated code, which can sometimes take a while, and you want to edit the cell before waiting for it to finish rendering. \n",
      "![](jupytertoolbarrestartkernel.png)|This is the restart kernel button. See your kernel documentation for more information.\n",
      "![](jupytertoolbarcellkind.png)|This is a drop down menu which allows you to tell your Notebook how you want it to interpret any given cell. You can read more about the [different kinds of cells] [cell kind] in the following section. \n",
      "![](jupytertoolbartoolbartype.png)|Individual cells can have their own toolbars. This is a drop down menu from which you can select the type of toolbar that you'd like to use with the cells in your Notebook. Some of the options in the cell toolbar menu will only work in [certain kinds of cells][cell kind]. \"None,\" which is how you specify that you do not want any cell toolbars, is the default setting. If you select \"Edit Metadata,\" a toolbar that allows you to edit data about [Code Cells][code cells] directly will appear in the corner of all the Code cells in your notebook. If you select \"Raw Cell Format,\" a tool bar that gives you several formatting options will appear in the corner of all your [Raw Cells][raw cells]. If you want to view and present your notebook as a slideshow, you can select \"Slideshow\" and a toolbar that enables you to organize your cells in to slides, sub-slides, and slide fragments will appear in the corner of every cell. Go to [this section][slideshow] for more information on how to create a slideshow out of your Jupyter Notebook. \n",
      "![](jupytertoolbarsectionnumbering.png)|Clicking this button will automatically number your Notebook's sections. For more information, check out the Reference Guide's [section on Automatic Section Numbering][section numbering]\n",
      "![](jupytertoolbartableofcontents.png)|Clicking this button will generate a table of contents using the titles you've given your Notebook's sections. For more information, check out the Reference Guide's [section on Table of Contents Support][table of contents].\n",
      "\n",
      "[cell kind]: #2.-Different-Kinds-of-Cells \"Different Kinds of Cells\"\n",
      "[code cells]: #2.1-Code-Cells \"Code Cells\"\n",
      "[raw cells]: #2.3-Raw-Cells \"Raw Cells\"\n",
      "[slideshow]: #3.-Turning-Your-Jupyter-Notebook-into-a-Slideshow \"Turning Your Jupyter Notebook Into a Slideshow\"\n",
      "[section numbering]: #2.4.1.1-Automatic-Section-Numbering\n",
      "[table of contents]: #2.4.1.2-Table-of-Contents-Support"
     ]
    },
    {
     "cell_type": "heading",
     "level": 1,
     "metadata": {
      "slideshow": {
       "slide_type": "slide"
      }
     },
     "source": [
      "2. Different Kinds of Cells"
     ]
    },
    {
     "cell_type": "markdown",
     "metadata": {},
     "source": [
      "There are essentially four kinds of cells in your Jupyter notebook: Code Cells, Markdown Cells, Raw Cells, and Header Cells, though there are six levels of Header Cells.  "
     ]
    },
    {
     "cell_type": "heading",
     "level": 2,
     "metadata": {},
     "source": [
      "2.1 Code Cells"
     ]
    },
    {
     "cell_type": "markdown",
     "metadata": {},
     "source": [
      "By default, Jupyter Notebooks' Code Cells will execute Python. Jupyter Notebooks generally also support JavaScript, Python, HTML, and Bash commands. For a more comprehensive list, see your Kernel's documentation. "
     ]
    },
    {
     "cell_type": "heading",
     "level": 2,
     "metadata": {},
     "source": [
      "2.2 Markdown Cells"
     ]
    },
    {
     "cell_type": "markdown",
     "metadata": {},
     "source": [
      "In Jupyter Notebooks, Markdown Cells are the easiest way to write and format text. For a more thorough explanation of how to write in Markdown cells, refer to [this section of the guide][writing markdown].\n",
      "\n",
      "[writing markdown]: #5.-Using-Markdown-Cells-for-Writing \"Using Markdown Cells for Writing\"\n",
      "\n"
     ]
    },
    {
     "cell_type": "heading",
     "level": 2,
     "metadata": {},
     "source": [
      "2.3 Raw Cells"
     ]
    },
    {
     "cell_type": "markdown",
     "metadata": {},
     "source": [
      "Raw Cells, unlike all other Jupyter Notebook cells, have no input-output disction. This means that Raw Cells cannot be rendered into anything other than what they already are. If you click the run button in your tool bar with a Raw Cell selected, the cell will remain exactly as is and your Jupyter Notebook will automatically select the cell directly below it. Raw cells have no style options, just the same monospace font that you use in all other unrendered Notebook cells. You cannot bold, itallicize, or enlarge any text or characters in a Raw Cell. \n",
      "\n",
      "Because they have no rendered form, Raw Cells are mainly used to create examples. If you save and close your Notebook and then reopen it, all of the Code, Markdown, and Header Cells will automatically render in whatever form you left them when you first closed the document. This means  that if you wanted to preserve the unrendered version of a cell, say if you were writing a computer science paper and needed code examples, or if you were writing [documentation on how to use Markdown] [writing markdown] and needed to demonstrate what input would yield which output, then you might want to use a Raw Cell to make sure your examples stayed in their most useful form. \n",
      "\n",
      "[writing markdown]: #5.-Using-Markdown-Cells-for-Writing \"Using Markdown Cells for Writing\""
     ]
    },
    {
     "cell_type": "heading",
     "level": 2,
     "metadata": {},
     "source": [
      "2.4 Header Cells"
     ]
    },
    {
     "cell_type": "markdown",
     "metadata": {},
     "source": [
      "While it is possible to organize your document using [Markdown headers][], Header Cells provide a more deeply structural organization for your Notebook and thus there are several advantages to using them. \n",
      "\n",
      "[Markdown headers]: #5.3.3-Headers \"Headers\" "
     ]
    },
    {
     "cell_type": "heading",
     "level": 3,
     "metadata": {},
     "source": [
      "2.4.1 Automatic Section Numbering and Table of Contents Support"
     ]
    },
    {
     "cell_type": "markdown",
     "metadata": {},
     "source": [
      "Your Jupyter Notebook has two helpful tools that utilize the structural organization that Header Cells give your document: automatic section numbering and table of content generation. "
     ]
    },
    {
     "cell_type": "heading",
     "level": 4,
     "metadata": {},
     "source": [
      "2.4.1.1 Automatic Section Numbering"
     ]
    },
    {
     "cell_type": "markdown",
     "metadata": {},
     "source": [
      "Suppose you are writing a paper and, as is prone to happening when you have a lot of complicate thoughts buzzing around your brain, you've reorganized your ideas several times. Automatic section numbering will go through your Notebook and number your sections and subsection as designated by your Header Cells. This means that if you've moved one or more big sections around several times, you won't have to go through your paper and renumber it, as well as all its subsections, yourself. \n",
      "\n",
      "**Notes:** Even if you have previously numbered your sections, Automatic Section Numbering will go through your document, delete the current section numbers, and replace them the correct number in a linear sequence. This means that if your third section was once your second, Automatic Section Numbering will delete the \"2\" in front of your section's name and replace it with a \"3.\" \n",
      "\n",
      "While this function saves you a lot of time, it creates one limitation. Maybe you're writing a paper about children's books and one of the books you're discussing is called **`2 Cats`**. You've unsurprisingly titled the section where you summarize and analyze this book **`2 Cats`**. Automatic Section Numbering will assume the number 2 is section information and delete it, leaving just the title **`Cats`** behind. If you bold, itallicize, or place the title of the section inside quotes, however, the entire section title will be be preserved without any trouble. It should also be noted that even if you must title a section with a number occuring before any letters and you do not want to bold it, itallicize it, or place it inside quotes, then you can always run Automatic Section Numbering and then go to that section and retype its name by hand. \n",
      "\n",
      "Because Automatic Section Numbering uses your header cells, its performance relies somewhat on the clarity of your organization. If you have two sections that begin with Header 1 Cells in your paper, and each of the sections has two subsections that begin with Header 2 Cells, Automatic Section Numbering will number them 1, 1.1, 1.2, 2, 2.1, and 2.2 respectively. If, however, you have used a Header 3 Cell to indicate the beginning of what would have been section 2.1, Automatic Section Numbering will number that section 2.0.1 and an error message will appear telling you that \"You placed a Header 3 cell under a Header 2 Cell in section 2\". Similarly, if you begin your paper with any Header Cell smaller than a Header 1, say a Header 3 Cell, then Automatic Section Numbering will number your first section 0.0.3 and an error message will appear telling you that \"Notebook begins with a Header 3 Cell.\"\n"
     ]
    },
    {
     "cell_type": "heading",
     "level": 4,
     "metadata": {},
     "source": [
      "2.4.1.2 Table of Contents Support"
     ]
    },
    {
     "cell_type": "markdown",
     "metadata": {},
     "source": [
      "The Table of Contents tool will automatically generate a table of contents for your paper by taking all your Header Cell titles and ordering them in a list, which it will place in a new cell at the very beginning of you Notebook. Because your Notebook does note utilize formal page breaks or numbers, each listed section will be hyperlinked to the actual section within your document. If you want to use both Automatic Section Numbering and Table of Contents Support, it's a good idea to run Section Numbering first. This way, the new accurate section numbers will appear in your Table of Contents. \n",
      "\n",
      "**Note:** Because Table of Contents Support uses your header cells, its performance relies somewhat on the clarity of your organization. If you have two sections that begin with Header 1 Cells in your paper, and each of the sections has two subsections that begin with Header 2 Cells, Table of Contents will order them in the following way:\n",
      "\n",
      "* 1.\n",
      "   * 1.1\n",
      "   * 1.2\n",
      "* 2.\n",
      "   * 2.1\n",
      "   * 2.2\n",
      "    \n",
      "\n",
      "If, however, you have used a Header 3 Cell to indicate the beginning of what would have been section 2.1, Table of Contents Support will insert a dummy line so that your table of contents looks like this:\n",
      "\n",
      "\n",
      "* 1.\n",
      "   * 1.1\n",
      "   * 1.2\n",
      "* 2.\n",
      "   * &nbsp;           \n",
      "       * 2.0.1\n",
      "   * 2.2\n",
      "\n"
     ]
    },
    {
     "cell_type": "heading",
     "level": 1,
     "metadata": {},
     "source": [
      "3. Turning Your Jupyter Notebook into a Slideshow"
     ]
    },
    {
     "cell_type": "heading",
     "level": 1,
     "metadata": {},
     "source": [
      "4. Keyboard Shortcuts"
     ]
    },
    {
     "cell_type": "markdown",
     "metadata": {},
     "source": [
      "Jupyter Notbooks support many helpful Keyboard shortcuts, including ones for most of the buttons in [your toolbar][]. To view these shortcuts, you can click the help menu and then select Keyboard Shortcuts, as pictured below. \n",
      "\n",
      "[your toolbar]: #1.-Getting-to-Know-your-Jupyter-Notebook's-Toolbar \"Getting to know Your Jupyter Notebook's Toolbar\""
     ]
    },
    {
     "cell_type": "markdown",
     "metadata": {},
     "source": [
      "![](keyboardshortcuts.png)"
     ]
    },
    {
     "cell_type": "heading",
     "level": 1,
     "metadata": {},
     "source": [
      "5. Using Markdown Cells for Writing"
     ]
    },
    {
     "cell_type": "heading",
     "level": 2,
     "metadata": {},
     "source": [
      "5.1 Why aren't there font and font size selection drop down menus, buttons I can press to bold and italicize my text, or other advanced style options in my Notebook?"
     ]
    },
    {
     "cell_type": "markdown",
     "metadata": {},
     "source": [
      "When you use Microsoft Word, Google Docs, Apple Pages, Open Office, or any other word processing software, you generally use your mouse to select various style options, like line spacing, font size, font color, paragraph format etc. This kind of system is often describes as a WYSIWYG (What You See Is What You Get) interface. This means that the input (what you tell the computer) exactly matches the output (what the computer gives back to you). If you type the letter \u2018G\u2019, highlight it, select the color green and up the font size to 64 pt, your wordprocessor will show you a fairly large green colored letter \u2018G.\u2019 And if you print out that document you will print out a fairly large green colored letter \u2018G\u2019. \n",
      "\n",
      "This Notebook, however, does not use a WYSIWYG interface. Instead it uses something called a \"[markup Language][]\". When you use a a markup language, your input does not necessarily exactly equal your output.\n",
      "\n",
      "\n",
      "[markup language]: http://en.wikipedia.org/wiki/Markup_language \"Wikipedia Article on Markup\"\n",
      "\n"
     ]
    },
    {
     "cell_type": "markdown",
     "metadata": {},
     "source": [
      "For example, if I type \"#Header 1\" at the beginning of a cell, but then press Shift-Enter (or click the play button at the top of the window), this notebook will turn my input into a somewhat different output in the following way:"
     ]
    },
    {
     "cell_type": "markdown",
     "metadata": {},
     "source": [
      "<tt>\n",
      "#Header 1\n",
      "</tt>"
     ]
    },
    {
     "cell_type": "markdown",
     "metadata": {},
     "source": [
      "#Header 1"
     ]
    },
    {
     "cell_type": "markdown",
     "metadata": {},
     "source": [
      "And if I type \"##Header 2\" (at the beginning of a cell), this notebook will turn that input into another output:"
     ]
    },
    {
     "cell_type": "markdown",
     "metadata": {},
     "source": [
      "<tt>\n",
      "##Header 2\n",
      "</tt>"
     ]
    },
    {
     "cell_type": "markdown",
     "metadata": {},
     "source": [
      "##Header 2"
     ]
    },
    {
     "cell_type": "markdown",
     "metadata": {},
     "source": [
      "In these examples, the hashtags are markers which tell the Notebook how to typeset the text. There are many markup languages, but one family, or perhaps guiding philosophy, of markup languages is called \"Markdown,\" named somewhat jokingly for its simplicity. Your Notebook uses \"marked,\" a Markdown library of typeset and other formatting instructions, like the hashtags in the examples above.\n",
      "\n",
      "Markdown is a markup language that generates HTML, which the cell can interpret and render. This means that Markdown Cells can also render plain HTML code. If you're interested in learning HTML, check out this [helpful online tutorial][html tutorial].\n",
      "\n",
      "[html tutorial]: http://www.w3schools.com/html/ \"w3schools.com HTML Tutorial\""
     ]
    },
    {
     "cell_type": "heading",
     "level": 2,
     "metadata": {},
     "source": [
      "5.2 Why Use Markdown (and not a WYSIWYG)?"
     ]
    },
    {
     "cell_type": "markdown",
     "metadata": {},
     "source": [
      "Why is Markdown better? Well, it\u2019s worth saying that maybe it isn't. Mainly, it\u2019s not actually a question of better or worse, but of what\u2019s in front of you and of who you are. A definitive answer depends on the user and on that user\u2019s goals and experience. These Notebooks don't use Markdown because it's definitely better, but rather because it's different and thus encourages users to think about their work differently. \n",
      "\n",
      "It is very important for computer science students to learn how to conceptualize input and output as dependent, but also distinct. One good reason to use Markdown is that it encourages this kind of thinking. Relatedly, it might also promote focus on substance over surface aesthetic. Markdown is somewhat limited in its style options, which means that there are inherently fewer non-subject-specifc concerns to agonize over while working. It is the conceit of this philosophy that you would, by using Markdown and this Notebook, begin to think of the specific stylistic rendering of your cells as distinct from what you type into those same cells, and thus also think of the content of your writing as necessarily separate from its formating and appearance. "
     ]
    },
    {
     "cell_type": "heading",
     "level": 2,
     "metadata": {},
     "source": [
      "5.3 Block Elements"
     ]
    },
    {
     "cell_type": "heading",
     "level": 3,
     "metadata": {},
     "source": [
      "5.3.1 Paragraph Breaks"
     ]
    },
    {
     "cell_type": "markdown",
     "metadata": {},
     "source": [
      "Paragraphs consist of one or more consecutive lines of text and they are separated by one or more blank lines. If a line contains only spaces, it is a blank line."
     ]
    },
    {
     "cell_type": "heading",
     "level": 3,
     "metadata": {},
     "source": [
      "5.3.2 Line Breaks"
     ]
    },
    {
     "cell_type": "heading",
     "level": 4,
     "metadata": {},
     "source": [
      "5.3.2.1 Hard-Wrapping and Soft-Wrapping"
     ]
    },
    {
     "cell_type": "markdown",
     "metadata": {},
     "source": [
      "If you're used to word processing software, you've been writing with automatically hard-wrapped lines and paragraphs. In a hard-wrapped paragraph the line breaks are not dependent on the size of the viewing window. If you click and drag your mouse to expand a word processing document, for example, the shape of the paragraphs and the length of the lines will not change. In other words, the length of a hard-wrapped line is determined either by the number of words in the line (in the case of word processing software where this number is predetermined and the program wraps for the user automatically), or individual intention (when a user manually presses an Enter or Return key to controll exactly how long a line is).\n",
      "\n",
      "Soft-wrapped paragraphs and lines, however, *do* depend on the size of their viewing window. If you increase the size of a window where soft-wrapped paragraphs are displayed, they too will expand into longer lines, becoming shorter and wider to fill the increased window space horizontally. Unsurprising, then, if you *narrow* a window, soft-wrapped lines will shrink and the paragraphs will become longer vertically. \n",
      "\n",
      "Markdown, unlike most word processing software, does not automatically hard-wrap. If you want your paragraphs to have a particular or deliberate shape and size, you must insert your own break by ending the line with two spaces and then typing Return.\n"
     ]
    },
    {
     "cell_type": "heading",
     "level": 4,
     "metadata": {},
     "source": [
      "5.3.2.2 Soft-Wrapping"
     ]
    },
    {
     "cell_type": "markdown",
     "metadata": {},
     "source": [
      "<tt>\n",
      "blah blah blah blah blah blah blah blah blah blah blah blah blah blah blah blah blah blah blah blah blah blah blah blah blah blah blah blah blah blah blah blah blah blah blah blah blah blah blah blah blah blah blah blah blah</tt>\n"
     ]
    },
    {
     "cell_type": "markdown",
     "metadata": {},
     "source": [
      "blah blah blah blah blah blah blah blah blah blah blah blah blah blah blah blah blah blah blah blah blah blah blah blah blah blah blah blah blah blah blah blah blah blah blah blah blah blah blah blah blah blah blah blah blah"
     ]
    },
    {
     "cell_type": "heading",
     "level": 4,
     "metadata": {},
     "source": [
      "\n",
      "5.3.2.3 Hard-Wrapping"
     ]
    },
    {
     "cell_type": "markdown",
     "metadata": {},
     "source": [
      "<tt>\n",
      "blah blah blah blah blah  \n",
      "blah blah blah blah blah blah blah blah blah  \n",
      "blah blah blah blah blah blah blah blah blah blah blah  \n",
      "blah blah blah blah blah  \n",
      "blah blah blah blah blah   \n",
      "blah blah blah blah blah blah blah blah blah blah blah blah blah  \n",
      "</tt>"
     ]
    },
    {
     "cell_type": "markdown",
     "metadata": {},
     "source": [
      "blah blah blah blah blah  \n",
      "blah blah blah blah blah blah blah blah blah  \n",
      "blah blah blah blah blah blah blah blah blah blah blah  \n",
      "blah blah blah blah blah  \n",
      "blah blah blah blah blah   \n",
      "blah blah blah blah blah blah blah blah blah blah blah blah blah  \n"
     ]
    },
    {
     "cell_type": "heading",
     "level": 3,
     "metadata": {},
     "source": [
      "5.3.3 Headers"
     ]
    },
    {
     "cell_type": "markdown",
     "metadata": {},
     "source": [
      "<tt>\n",
      "#Header 1\n",
      "</tt>"
     ]
    },
    {
     "cell_type": "markdown",
     "metadata": {},
     "source": [
      "#Header 1"
     ]
    },
    {
     "cell_type": "markdown",
     "metadata": {},
     "source": [
      "<tt>\n",
      "##Header 2\n",
      "</tt>"
     ]
    },
    {
     "cell_type": "markdown",
     "metadata": {},
     "source": [
      "##Header 2"
     ]
    },
    {
     "cell_type": "markdown",
     "metadata": {},
     "source": [
      "<tt>\n",
      "###Header 3\n",
      "</tt>"
     ]
    },
    {
     "cell_type": "markdown",
     "metadata": {},
     "source": [
      "###Header 3"
     ]
    },
    {
     "cell_type": "raw",
     "metadata": {},
     "source": [
      "####Header 4"
     ]
    },
    {
     "cell_type": "markdown",
     "metadata": {},
     "source": [
      "####Header 4"
     ]
    },
    {
     "cell_type": "raw",
     "metadata": {},
     "source": [
      "#####Header 5"
     ]
    },
    {
     "cell_type": "markdown",
     "metadata": {},
     "source": [
      "#####Header 5"
     ]
    },
    {
     "cell_type": "raw",
     "metadata": {},
     "source": [
      "######Header 6"
     ]
    },
    {
     "cell_type": "markdown",
     "metadata": {},
     "source": [
      "######Header 6"
     ]
    },
    {
     "cell_type": "heading",
     "level": 3,
     "metadata": {},
     "source": [
      "5.3.4 Block Quotes"
     ]
    },
    {
     "cell_type": "heading",
     "level": 4,
     "metadata": {},
     "source": [
      "5.3.4.1 Standard Block Quoting"
     ]
    },
    {
     "cell_type": "raw",
     "metadata": {},
     "source": [
      ">blah blah block quote blah blah block quote blah blah block  \n",
      "quote blah blah block quote blah blah block   \n",
      "quote blah blah block quote blah blah block quote blah blah block quote"
     ]
    },
    {
     "cell_type": "markdown",
     "metadata": {},
     "source": [
      ">blah blah block quote blah blah block quote blah blah block  \n",
      "quote blah blah block quote blah blah block   \n",
      "quote blah blah block quote blah blah block quote blah blah block quote"
     ]
    },
    {
     "cell_type": "markdown",
     "metadata": {},
     "source": [
      "**Note**: Block quotes work best if you intentionally hard-wrap the lines."
     ]
    },
    {
     "cell_type": "heading",
     "level": 4,
     "metadata": {},
     "source": [
      "5.3.4.2 Nested Block Quoting"
     ]
    },
    {
     "cell_type": "raw",
     "metadata": {},
     "source": [
      ">blah blah block quote blah blah block quote blah blah block  \n",
      "block quote blah blah block block quote blah blah block  \n",
      ">>quote blah blah block quote blah blah  \n",
      "block block quote blah blah block   \n",
      ">>>quote blah blah block quote blah blah block quote blah blah block quote"
     ]
    },
    {
     "cell_type": "markdown",
     "metadata": {},
     "source": [
      ">blah blah block quote blah blah block quote blah blah block  \n",
      "block quote blah blah block block quote blah blah block  \n",
      ">>quote blah blah block quote blah blah  \n",
      "block block quote blah blah block   \n",
      ">>>quote blah blah block quote blah blah block quote blah blah block quote"
     ]
    },
    {
     "cell_type": "heading",
     "level": 3,
     "metadata": {},
     "source": [
      "5.3.5 Lists"
     ]
    },
    {
     "cell_type": "heading",
     "level": 4,
     "metadata": {},
     "source": [
      "5.3.5.1 Ordered Lists"
     ]
    },
    {
     "cell_type": "markdown",
     "metadata": {},
     "source": [
      "In Markdown, you can list items using numbers, a **`+`**, a **` - `**, or a **`*`**. However, if the first item in a list or sublist is numbered, Markdown will interpret the entire list as ordered and will automatically number the items linearly, no matter what character you use to denote any given separate item."
     ]
    },
    {
     "cell_type": "raw",
     "metadata": {},
     "source": [
      "####Groceries:\n",
      "\n",
      "0. Fruit:\n",
      "    6. Pears\n",
      "    0. Peaches\n",
      "    3. Plums\n",
      "    4. Apples \n",
      "        2. Granny Smith \n",
      "        7. Gala\n",
      "    * Oranges\n",
      "    - Berries \n",
      "        8. Strawberries \n",
      "        + Blueberries\n",
      "        * Raspberries\n",
      "    - Bananas\n",
      "9. Bread:\n",
      "    9. Whole Wheat\n",
      "        0. With oats on crust\n",
      "        0. Without oats on crust\n",
      "    0. Rye \n",
      "    0. White\n",
      "0. Dairy:\n",
      "    0. Milk\n",
      "        0. Whole\n",
      "        0. Skim\n",
      "    0. Cheese\n",
      "        0. Wisconsin Cheddar\n",
      "        0. Pepper Jack"
     ]
    },
    {
     "cell_type": "markdown",
     "metadata": {},
     "source": [
      "####Groceries:\n",
      "\n",
      "0. Fruit:\n",
      "    6. Pears\n",
      "    0. Peaches\n",
      "    3. Plums\n",
      "    4. Apples \n",
      "        2. Granny Smith \n",
      "        7. Gala\n",
      "    * Oranges\n",
      "    - Berries \n",
      "        8. Strawberries \n",
      "        + Blueberries\n",
      "        * Raspberries\n",
      "    - Bananas\n",
      "9. Bread:\n",
      "    9. Whole Wheat\n",
      "        0. With oats on crust\n",
      "        0. Without oats on crust\n",
      "    0. Rye \n",
      "    0. White\n",
      "0. Dairy:\n",
      "    0. Milk\n",
      "        0. Whole\n",
      "        0. Skim\n",
      "    0. Cheese\n",
      "        0. Wisconsin Cheddar\n",
      "        0. Pepper Jack"
     ]
    },
    {
     "cell_type": "heading",
     "level": 4,
     "metadata": {},
     "source": [
      "5.3.5.2 Bulleted Lists"
     ]
    },
    {
     "cell_type": "markdown",
     "metadata": {},
     "source": [
      "If you begin your list or sublist with a **`+`**, a **` - `**, or a **`*`**, then Markdown will interpret the whole list as unordered and will use bullets regardless of the characters you type before any individual list item."
     ]
    },
    {
     "cell_type": "raw",
     "metadata": {},
     "source": [
      "####Groceries:\n",
      "\n",
      "* Fruit:\n",
      "    * Pears\n",
      "    0. Peaches\n",
      "    3. Plums\n",
      "    4. Apples \n",
      "        - Granny Smith \n",
      "        7. Gala\n",
      "    * Oranges\n",
      "    - Berries \n",
      "        - Strawberries \n",
      "        + Blueberries\n",
      "        * Raspberries\n",
      "    - Bananas\n",
      "9. Bread:\n",
      "    * Whole Wheat\n",
      "        * With oats on crust\n",
      "        0. Without oats on crust\n",
      "    + Rye \n",
      "    0. White\n",
      "0. Dairy:\n",
      "    * Milk\n",
      "        + Whole\n",
      "        0. Skim\n",
      "    - Cheese\n",
      "        - Wisconsin Cheddar\n",
      "        0. Pepper Jack"
     ]
    },
    {
     "cell_type": "markdown",
     "metadata": {},
     "source": [
      "####Groceries:\n",
      "\n",
      "* Fruit:\n",
      "    * Pears\n",
      "    0. Peaches\n",
      "    3. Plums\n",
      "    4. Apples \n",
      "        - Granny Smith \n",
      "        7. Gala\n",
      "    * Oranges\n",
      "    - Berries \n",
      "        - Strawberries \n",
      "        + Blueberries\n",
      "        * Raspberries\n",
      "    - Bananas\n",
      "9. Bread:\n",
      "    * Whole Wheat\n",
      "        * With oats on crust\n",
      "        0. Without oats on crust\n",
      "    + Rye \n",
      "    0. White\n",
      "0. Dairy:\n",
      "    * Milk\n",
      "        + Whole\n",
      "        0. Skim\n",
      "    - Cheese\n",
      "        - Wisconsin Cheddar\n",
      "        0. Pepper Jack"
     ]
    },
    {
     "cell_type": "heading",
     "level": 3,
     "metadata": {},
     "source": [
      "5.3.6 Section Breaks"
     ]
    },
    {
     "cell_type": "raw",
     "metadata": {},
     "source": [
      "___ "
     ]
    },
    {
     "cell_type": "markdown",
     "metadata": {},
     "source": [
      "___ "
     ]
    },
    {
     "cell_type": "raw",
     "metadata": {},
     "source": [
      "***"
     ]
    },
    {
     "cell_type": "markdown",
     "metadata": {},
     "source": [
      "***"
     ]
    },
    {
     "cell_type": "raw",
     "metadata": {},
     "source": [
      "------"
     ]
    },
    {
     "cell_type": "markdown",
     "metadata": {},
     "source": [
      "------"
     ]
    },
    {
     "cell_type": "raw",
     "metadata": {},
     "source": [
      "* * *"
     ]
    },
    {
     "cell_type": "markdown",
     "metadata": {},
     "source": [
      "* * *"
     ]
    },
    {
     "cell_type": "raw",
     "metadata": {},
     "source": [
      "_ _ _"
     ]
    },
    {
     "cell_type": "markdown",
     "metadata": {},
     "source": [
      "_ _ _"
     ]
    },
    {
     "cell_type": "raw",
     "metadata": {},
     "source": [
      "- - -"
     ]
    },
    {
     "cell_type": "markdown",
     "metadata": {},
     "source": [
      "- - -"
     ]
    },
    {
     "cell_type": "heading",
     "level": 2,
     "metadata": {},
     "source": [
      "5.4 Backslash Escape"
     ]
    },
    {
     "cell_type": "markdown",
     "metadata": {},
     "source": [
      "What happens if you want to include a literal character, like a **`#`**, that usually has a specific function in Markdown? Backslash Escape is a function that prevents Markdown from interpreting a character as an instruction, rather than as the character itself. It works like this:"
     ]
    },
    {
     "cell_type": "raw",
     "metadata": {},
     "source": [
      "\\# Wow, this isn't a header. \n",
      "# This is definitely a header."
     ]
    },
    {
     "cell_type": "markdown",
     "metadata": {},
     "source": [
      "\\# Wow, this isn't a header. \n",
      "# This is definitely a header."
     ]
    },
    {
     "cell_type": "markdown",
     "metadata": {},
     "source": [
      "Markdown allows you to use a backslash to escape from the functions of the following characters:\n",
      "* \\   backslash\n",
      "* `   backtick\n",
      "* \\*   asterisk\n",
      "* _   underscore\n",
      "* {}  curly braces\n",
      "* []  square brackets\n",
      "* ()  parentheses\n",
      "* \\#   hashtag\n",
      "* \\+   plus sign|\n",
      "* \\-   minus sign (hyphen)\n",
      "* .   dot\n",
      "* !   exclamation mark"
     ]
    },
    {
     "cell_type": "heading",
     "level": 2,
     "metadata": {},
     "source": [
      "5.5 Hyperlinks"
     ]
    },
    {
     "cell_type": "heading",
     "level": 3,
     "metadata": {},
     "source": [
      "5.5.1 Automatic Links"
     ]
    },
    {
     "cell_type": "raw",
     "metadata": {},
     "source": [
      "http://en.wikipedia.org"
     ]
    },
    {
     "cell_type": "markdown",
     "metadata": {},
     "source": [
      "http://en.wikipedia.org"
     ]
    },
    {
     "cell_type": "heading",
     "level": 3,
     "metadata": {},
     "source": [
      "5.5.2 Standard Links Without Mouse-Over Titles"
     ]
    },
    {
     "cell_type": "raw",
     "metadata": {},
     "source": [
      "[click this link](http://en.wikipedia.org)"
     ]
    },
    {
     "cell_type": "markdown",
     "metadata": {},
     "source": [
      "[click this link](http://en.wikipedia.org)"
     ]
    },
    {
     "cell_type": "heading",
     "level": 3,
     "metadata": {},
     "source": [
      "5.5.3 Standard Links With Mouse-Over Titles"
     ]
    },
    {
     "cell_type": "raw",
     "metadata": {},
     "source": [
      "[click this link](http://en.wikipedia.org \"Wikipedia\")"
     ]
    },
    {
     "cell_type": "markdown",
     "metadata": {},
     "source": [
      "[click this link](http://en.wikipedia.org \"Wikipedia\")"
     ]
    },
    {
     "cell_type": "heading",
     "level": 3,
     "metadata": {},
     "source": [
      "5.5.4 Reference Links"
     ]
    },
    {
     "cell_type": "markdown",
     "metadata": {},
     "source": [
      "Suppose you are writing a document in which you intend to include many links. The format above is a little arduous and if you have to do it repeatedly *while* you're trying to focus on the content of what you're writing, it's going to be a really big pain. \n",
      "\n",
      "Fortunately, there is an alternative way to insert hyperlinks into your text, one where you indicate that there is a link, name that link, and then use the name to provide the actualy URL later on when you're less in the writing zone. This method can be thought of as a \"reference-style\" link because it is similar to using in-text citations and then defining those citations later in a more detailed reference section or bibliography. \n"
     ]
    },
    {
     "cell_type": "raw",
     "metadata": {},
     "source": [
      "This is [a reference] [identification tag for link]\n",
      "\n",
      "[identification tag for link]: http://en.wikipedia.org/wiki/Chile \"Wikipedia Article About Chile\""
     ]
    },
    {
     "cell_type": "markdown",
     "metadata": {},
     "source": [
      "This is [a reference] [identification tag for link]\n",
      "\n",
      "[identification tag for link]: http://en.wikipedia.org/wiki/Chile \"Wikipedia Article About Chile\""
     ]
    },
    {
     "cell_type": "markdown",
     "metadata": {},
     "source": [
      "**Note:** The \"identification tag for link\" can be anything. For example:"
     ]
    },
    {
     "cell_type": "raw",
     "metadata": {},
     "source": [
      "This is [a reference] [lfskdhflhslgfh333676]\n",
      "\n",
      "[lfskdhflhslgfh333676]: http://en.wikipedia.org/wiki/Chile \"Wikipedia Article About Chile\""
     ]
    },
    {
     "cell_type": "markdown",
     "metadata": {},
     "source": [
      "This is [a reference] [lfskdhflhslgfh333676]\n",
      "\n",
      "[lfskdhflhslgfh333676]: http://en.wikipedia.org/wiki/Chile \"Wikipedia Article About Chile\""
     ]
    },
    {
     "cell_type": "markdown",
     "metadata": {},
     "source": [
      "This means you can give your link an intuitive, easy to remember, and relevant ID:"
     ]
    },
    {
     "cell_type": "raw",
     "metadata": {},
     "source": [
      "This is [a reference] [Chile]\n",
      "\n",
      "[chile]: http://en.wikipedia.org/wiki/Chile \"Wikipedia Article About Chile\""
     ]
    },
    {
     "cell_type": "markdown",
     "metadata": {},
     "source": [
      "This is [a reference] [Chile]\n",
      "\n",
      "[chile]: http://en.wikipedia.org/wiki/Chile \"Wikipedia Article About Chile\""
     ]
    },
    {
     "cell_type": "markdown",
     "metadata": {},
     "source": [
      "**Note**: Link IDs are not case-sensitive."
     ]
    },
    {
     "cell_type": "markdown",
     "metadata": {},
     "source": [
      "If you don't want to give your link an ID, you don't have to. As a short cut, Markdown will understand if you just use the words in the first set of brackets to define the link later on. This works in the following way:"
     ]
    },
    {
     "cell_type": "raw",
     "metadata": {},
     "source": [
      "This is [a reference] []\n",
      "\n",
      "[a reference]: http://en.wikipedia.org/wiki/Chile \"Wikipedia Article About Chile\""
     ]
    },
    {
     "cell_type": "markdown",
     "metadata": {},
     "source": [
      "This is [a reference] []\n",
      "\n",
      "[a reference]: http://en.wikipedia.org/wiki/Chile \"Wikipedia Article About Chile\""
     ]
    },
    {
     "cell_type": "markdown",
     "metadata": {},
     "source": [
      "Another really hepful feature of a reference-style link is that you can define the link anywhere in the cell. (must be in the cell) For example:\n"
     ]
    },
    {
     "cell_type": "raw",
     "metadata": {},
     "source": [
      "This is [a reference] [ref] blah blah blah blah blah blah blah blah blah blah blah blah blah blah blah blah blah blah blah blah blah blah blah blah blah blah blah blah blah blah blah blah blah blah blah blah blah blah blah blah blah blah blah blah blah blah blah blah blah blah blah blah blah blah blah blah blah blah blah blah blah blah blah blah blah blah blah blah blah blah blah blah blah blah blah blah blah blah blah blah blah blah blah blah blah blah blah blah blah blah blah blah blah blah blah blah blah blah blah blah blah blah blah blah blah blah blah blah blah blah blah blah\n",
      "blah blah blah blah blah blah blah blah blah blah blah blah blah blah blah blah blah blah blah blah blah blah blah blah blah blah blah blah blah blah blah blah blah blah blah blah blah blah blah blah blah blah blah blah blah blah blah blah blah blah blah blah blah blah blah blah\n",
      "\n",
      "[ref]: http://en.wikipedia.org/wiki/Chile \"Wikipedia Article About Chile\""
     ]
    },
    {
     "cell_type": "markdown",
     "metadata": {},
     "source": [
      "This is [a reference] [ref] blah blah blah blah blah blah blah blah blah blah blah blah blah blah blah blah blah blah blah blah blah blah blah blah blah blah blah blah blah blah blah blah blah blah blah blah blah blah blah blah blah blah blah blah blah blah blah blah blah blah blah blah blah blah blah blah blah blah blah blah blah blah blah blah blah blah blah blah blah blah blah blah blah blah blah blah blah blah blah blah blah blah blah blah blah blah blah blah blah blah blah blah blah blah blah blah blah blah blah blah blah blah blah blah blah blah blah blah blah blah blah blah\n",
      "blah blah blah blah blah blah blah blah blah blah blah blah blah blah blah blah blah blah blah blah blah blah blah blah blah blah blah blah blah blah blah blah blah blah blah blah blah blah blah blah blah blah blah blah blah blah blah blah blah blah blah blah blah blah blah blah\n",
      "\n",
      "[ref]: http://en.wikipedia.org/wiki/Chile \"Wikipedia Article About Chile\""
     ]
    },
    {
     "cell_type": "markdown",
     "metadata": {},
     "source": [
      "**Note:** Providing a mouse-over title for any link, regardless of whether it is a standard or reference-stlye type, is optional. With reference-style links, you can include the mouse-over title by placing it in quotes, single quotes, or parentheses. For standard links, you can only define a mouse-over title in quotes.\n",
      "\n"
     ]
    },
    {
     "cell_type": "heading",
     "level": 2,
     "metadata": {},
     "source": [
      "5.6 Tables"
     ]
    },
    {
     "cell_type": "markdown",
     "metadata": {},
     "source": [
      "In Markdown, you can make a table by using vertical bars and dashes to define the cell and header borders:"
     ]
    },
    {
     "cell_type": "raw",
     "metadata": {},
     "source": [
      "|Header|Header|Header|Header|\n",
      "|------|------|------|------|\n",
      "|Cell  |Cell  |Cell  | Cell |\n",
      "|Cell  |Cell  |Cell  | Cell |\n",
      "|Cell  |Cell  |Cell  | Cell |\n",
      "|Cell  |Cell  |Cell  | Cell |\n"
     ]
    },
    {
     "cell_type": "markdown",
     "metadata": {},
     "source": [
      "|Header|Header|Header|Header|\n",
      "|------|------|------|------|\n",
      "|Cell  |Cell  |Cell  | Cell |\n",
      "|Cell  |Cell  |Cell  | Cell |\n",
      "|Cell  |Cell  |Cell  | Cell |\n",
      "|Cell  |Cell  |Cell  | Cell |\n"
     ]
    },
    {
     "cell_type": "markdown",
     "metadata": {},
     "source": [
      "Making a table this way might be especially useful if you want your document to be legible both rendered and unrendered. However, you don't *need* to includ all of those dashes, vertical bars, and spaces for Markdown to understand that you're making a table. Here's the bare minium you would need to create the table above:  "
     ]
    },
    {
     "cell_type": "raw",
     "metadata": {},
     "source": [
      "Header|Header|Header|Header\n",
      "-|-|-|-\n",
      "Cell|Cell|Cell|Cell\n",
      "Cell|Cell|Cell|Cell\n",
      "Cell|Cell|Cell|Cell\n",
      "Cell|Cell|Cell|Cell\n"
     ]
    },
    {
     "cell_type": "markdown",
     "metadata": {},
     "source": [
      "Header|Header|Header|Header\n",
      "-|-|-|-\n",
      "Cell|Cell|Cell|Cell\n",
      "Cell|Cell|Cell|Cell\n",
      "Cell|Cell|Cell|Cell\n",
      "Cell|Cell|Cell|Cell\n"
     ]
    },
    {
     "cell_type": "markdown",
     "metadata": {},
     "source": [
      "It's important to note that the second line of dashes and vertical bars is essential. If you have just the line of headers and the second line of dashes and vertical bars, that's enough for Markdown to make a table. \n",
      "\n",
      "Another important formatting issue has to do with the vertical bars that define the left and right edges of the table. If you include all the vertical bars on the far left and right of the table, like in the first example above, Markdown will ignore them completely. *But*, if you leave out some and include others, Markdown will interpret any extra vertical bar as an additional cell on the side that the bar appears in the unrendered version of the text. This also means that if you include the far left or right vertical bar in the second line of bars and dashes, you must include all of the otherwise optional vertical bars (like in the first example above)."
     ]
    },
    {
     "cell_type": "heading",
     "level": 3,
     "metadata": {},
     "source": [
      "5.6.1 Cell Justification"
     ]
    },
    {
     "cell_type": "markdown",
     "metadata": {},
     "source": [
      "If not otherwise specified the text in each header and cell of a table will justify to the left. If, however, you wish to specify either right justification or centering, you may do so like this: "
     ]
    },
    {
     "cell_type": "raw",
     "metadata": {},
     "source": [
      "**Centered, Right-Justified, and Regular Cells and Headers**:\n",
      "\n",
      "centered header  |  regular header  |  right-justified header  |  centered header  |  regular header  \n",
      ":-:|-|-:|:-:|-\n",
      "centered cell|regular cell|right-justified cell|centered cell|regular cell\n",
      "centered cell|regular cell|right-justified cell|centered cell|regular cell\n"
     ]
    },
    {
     "cell_type": "markdown",
     "metadata": {},
     "source": [
      "**Centered, Right-Justified, and Regular Cells and Headers**:\n",
      "\n",
      "centered header  |  regular header  |  right-justified header  |  centered header  |  regular header  \n",
      ":-:|-|-:|:-:|-\n",
      "centered cell|regular cell|right-justified cell|centered cell|regular cell\n",
      "centered cell|regular cell|right-justified cell|centered cell|regular cell\n"
     ]
    },
    {
     "cell_type": "markdown",
     "metadata": {},
     "source": [
      "While it is dificult to see that the headers are differently justified from one another, this is just because the longest line of characters in any column defines the width of the headers and cells in that column. "
     ]
    },
    {
     "cell_type": "markdown",
     "metadata": {},
     "source": [
      "**Note:** You cannot make tables directly beneath a line of text. You must put a blank line between the end of a paragraph and the beginning of a table. "
     ]
    },
    {
     "cell_type": "heading",
     "level": 2,
     "metadata": {},
     "source": [
      "5.7 Style and Emphasis"
     ]
    },
    {
     "cell_type": "raw",
     "metadata": {},
     "source": [
      "*Italics*"
     ]
    },
    {
     "cell_type": "markdown",
     "metadata": {},
     "source": [
      "*Italics*"
     ]
    },
    {
     "cell_type": "raw",
     "metadata": {},
     "source": [
      "_Italics_"
     ]
    },
    {
     "cell_type": "markdown",
     "metadata": {},
     "source": [
      "_Italics_"
     ]
    },
    {
     "cell_type": "raw",
     "metadata": {},
     "source": [
      "**Bold**"
     ]
    },
    {
     "cell_type": "markdown",
     "metadata": {},
     "source": [
      "**Bold**"
     ]
    },
    {
     "cell_type": "raw",
     "metadata": {},
     "source": [
      "__Bold__"
     ]
    },
    {
     "cell_type": "markdown",
     "metadata": {},
     "source": [
      "__Bold__"
     ]
    },
    {
     "cell_type": "markdown",
     "metadata": {},
     "source": [
      "**Note:** If you want actual asterisks or underscores to appear in your text, you can use the [backslash escape function] [backslash] like this:\n",
      "\n",
      "[backslash]: #5.4-Backslash-Escape \"Backslash Escape\""
     ]
    },
    {
     "cell_type": "raw",
     "metadata": {},
     "source": [
      "\\*awesome asterisks\\* and \\_incredible under scores\\_"
     ]
    },
    {
     "cell_type": "markdown",
     "metadata": {},
     "source": [
      "\\*awesome asterisks\\* and \\_incredible under scores\\_"
     ]
    },
    {
     "cell_type": "heading",
     "level": 2,
     "metadata": {},
     "source": [
      "5.8 Other Characters"
     ]
    },
    {
     "cell_type": "raw",
     "metadata": {},
     "source": [
      "Ampersand &amp; Ampersand"
     ]
    },
    {
     "cell_type": "markdown",
     "metadata": {},
     "source": [
      "Ampersand &amp; Ampersand"
     ]
    },
    {
     "cell_type": "raw",
     "metadata": {},
     "source": [
      "&lt; angle brackets &gt;"
     ]
    },
    {
     "cell_type": "markdown",
     "metadata": {},
     "source": [
      "&lt; angle brackets &gt;"
     ]
    },
    {
     "cell_type": "raw",
     "metadata": {},
     "source": [
      "&quot; quotes &quot; "
     ]
    },
    {
     "cell_type": "markdown",
     "metadata": {},
     "source": [
      "&quot; quotes &quot; "
     ]
    },
    {
     "cell_type": "heading",
     "level": 2,
     "metadata": {},
     "source": [
      "5.9 Including Code Examples"
     ]
    },
    {
     "cell_type": "markdown",
     "metadata": {},
     "source": [
      "If you want to signify that a particular section of text is actually an example of code, you can use backquotes to suround the code example. These will switch the font to monospace, which creates a clear visual formatting difference between the text that is meant to be code and the text that isn't. Here's an example:"
     ]
    },
    {
     "cell_type": "raw",
     "metadata": {},
     "source": [
      "`monospace`"
     ]
    },
    {
     "cell_type": "markdown",
     "metadata": {},
     "source": [
      "`monospace`"
     ]
    },
    {
     "cell_type": "markdown",
     "metadata": {},
     "source": [
      "**Note:** If you want to include a literal backquote in your code example you must suround the whole text block in double backquotes like this: "
     ]
    },
    {
     "cell_type": "raw",
     "metadata": {},
     "source": [
      "`` Look at this literal backquote ` ``"
     ]
    },
    {
     "cell_type": "markdown",
     "metadata": {},
     "source": [
      "`` Look at this literal backquote ` ``"
     ]
    },
    {
     "cell_type": "heading",
     "level": 2,
     "metadata": {},
     "source": [
      "5.10 Images"
     ]
    },
    {
     "cell_type": "heading",
     "level": 3,
     "metadata": {},
     "source": [
      "5.10.1 Images from the Internet"
     ]
    },
    {
     "cell_type": "markdown",
     "metadata": {},
     "source": [
      "Inserting an image from the internet is almost identical to inserting a link. You just also type a **`!`** before the first set of brackets:"
     ]
    },
    {
     "cell_type": "raw",
     "metadata": {},
     "source": [
      "![It doesn't matter what you write here](http://upload.wikimedia.org/wikipedia/commons/thumb/b/b7/South_African_Giraffe,_head.jpg/877px-South_African_Giraffe,_head.jpg \"Picture of a Giraffe)"
     ]
    },
    {
     "cell_type": "markdown",
     "metadata": {},
     "source": [
      "![It doesn't matter what I write here](http://upload.wikimedia.org/wikipedia/commons/thumb/b/b7/South_African_Giraffe,_head.jpg/877px-South_African_Giraffe,_head.jpg \"Picture of a Giraffe\")"
     ]
    },
    {
     "cell_type": "markdown",
     "metadata": {},
     "source": [
      "**Note:** Unlike with a link, the words that you type in the first set of brackets do not appear when they are rendered into html by Markdown. "
     ]
    },
    {
     "cell_type": "heading",
     "level": 4,
     "metadata": {},
     "source": [
      "5.10.1.1 Reference-Style Images from the Internet"
     ]
    },
    {
     "cell_type": "markdown",
     "metadata": {},
     "source": [
      "Just like with links, you can also use a reference-style format when inserting images from the internet. This involves indicating where you want to place a picture, giving that picture an ID tag, and then later defining that ID tag. The process is nearly identical to using the reference-style format to insert a link:"
     ]
    },
    {
     "cell_type": "raw",
     "metadata": {},
     "source": [
      "![][giraffe]\n",
      "\n",
      "[giraffe]:http://upload.wikimedia.org/wikipedia/commons/thumb/b/b7/South_African_Giraffe,_head.jpg/877px-South_African_Giraffe,_head.jpg \"Picture of a Giraffe\""
     ]
    },
    {
     "cell_type": "markdown",
     "metadata": {},
     "source": [
      "![][giraffe]\n",
      "\n",
      "[giraffe]: http://upload.wikimedia.org/wikipedia/commons/thumb/b/b7/South_African_Giraffe,_head.jpg/877px-South_African_Giraffe,_head.jpg \"Picture of a Giraffe\""
     ]
    },
    {
     "cell_type": "heading",
     "level": 2,
     "metadata": {},
     "source": [
      "5.11 LaTeX Math"
     ]
    },
    {
     "cell_type": "markdown",
     "metadata": {},
     "source": [
      "Jupyter Notebooks' Markdown cells support LateX for formatting mathematical equations. To tell Markdown to interpret your text as LaTex, surround your input with dollar signs like this:"
     ]
    },
    {
     "cell_type": "raw",
     "metadata": {},
     "source": [
      "$2x+3y=z$"
     ]
    },
    {
     "cell_type": "markdown",
     "metadata": {},
     "source": [
      "$2x+3y=z$"
     ]
    },
    {
     "cell_type": "markdown",
     "metadata": {},
     "source": [
      "If you want your LaTex equations to be indented towards the center of the cell, surround your input with two dollar signs on each side like this: "
     ]
    },
    {
     "cell_type": "raw",
     "metadata": {},
     "source": [
      "$$2x+3y=z$$"
     ]
    },
    {
     "cell_type": "markdown",
     "metadata": {},
     "source": [
      "$$2x+3y=z$$"
     ]
    },
    {
     "cell_type": "markdown",
     "metadata": {},
     "source": [
      "For a comprehensive guide to the mathematical symbols and notations supported by Jupyter Notebooks' Markdown cells, check out [Martin Keefe's helpful reference materials on the subject][mkeefe].\n",
      "\n",
      "[mkeefe]: http://martinkeefe.com/math/mathjax1 \"Martin Keefe's MathJax Guide\""
     ]
    },
    {
     "cell_type": "code",
     "collapsed": false,
     "input": [],
     "language": "python",
     "metadata": {},
     "outputs": []
    }
   ],
   "metadata": {}
  }
 ]
}