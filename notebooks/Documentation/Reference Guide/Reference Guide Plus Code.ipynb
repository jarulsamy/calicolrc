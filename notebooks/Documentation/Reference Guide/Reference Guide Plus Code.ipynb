{
 "metadata": {
  "name": "",
  "signature": "sha256:6fb4f56f2e1797260d97f826184cbdb37df5470dfd87ba2dfb529cadb7acdbd0"
 },
 "nbformat": 3,
 "nbformat_minor": 0,
 "worksheets": [
  {
   "cells": [
    {
     "cell_type": "markdown",
     "metadata": {},
     "source": [
      "#Table of Contents:  \n",
      "* [1. Getting to Know your IP[y] Notebook's Tool Bar](#1.-Getting-to-Know-your-IP[y]-Notebook's-Tool-Bar)\n",
      "* [2. Different Kinds of Cells](#2.-Different-Kinds-of-Cells)\n",
      "    * [2.1 Code Cells](#2.1-Code-Cells)\n",
      "\t* [2.2 Markdown Cells](#2.2-Markdown-Cells)\n",
      "\t* [2.3 Raw Cells](#2.3-Raw-Cells)\n",
      "\t* [2.4 Header Cells](#2.4-Header-Cells)\n",
      "\t\t* [2.4.1 Turning Tour IP[y] Notebook into a Slideshow](#2.4.1-Turning-Tour-IP[y]-Notebook-into-a-Slideshow)\n",
      "\t\t* [2.4.2 Automatic Section Numbering and Table of Contents Support](#2.4.2-Automatic-Section-Numbering-and-Table-of-Contents-Support)\n",
      "* [3. Keyboard Shortcuts](#3.-Keyboard-Shortcuts)\n",
      "* [4. Using Markdown Cells for Writing ](#4.-Using-Markdown-Cells-for-Writing)\n",
      "\t* [4.1 Why aren't there font and font size selection drop down menus, buttons I can press to bold and italicize my text, or other advanced style options in my Notebook?](#4.1-Why-aren't-there-font-and-font-size-selection-drop-down-menus,-buttons-I-can-press-to-bold-and-italicize-my-text,-or-other-advanced-style-options-in-my-Notebook?)\n",
      "\t* [4.2 Why Use Markdown (and not WYSIWYG)?](#4.2-Why-Use-Markdown-%28and-not-WYSIWYG%29?)\n",
      "\t* [4.3 Block Elements](#4.3-Block-Elements)\n",
      "\t\t* [4.3.1 Paragraph Breaks](#4.3.1-Paragraph-Breaks)\n",
      "\t\t* [4.3.2 Line Breaks](#4.3.2-Line-Breaks)\n",
      "\t\t\t* [4.3.2.1 Hard-Wrapping and Soft-Wrapping](#4.3.2.1-Hard-Wrapping-and-Soft-Wrapping)\n",
      "\t\t\t* [4.3.2.2 Soft-Wrapping](#4.3.2.2-Soft-Wrapping)\n",
      "\t\t\t* [4.3.2.3 Hard-Wrapping](#4.3.2.3-Hard-Wrapping)\n",
      "\t\t* [4.3.3 Headers](#4.3.3-Headers)\n",
      "\t\t* [4.3.4 Block Quotes](#4.3.4-Block-Quotes)\n",
      "\t\t\t* [4.3.4.1 Standard Block Quoting](#4.3.4.1-Standard-Block-Quoting)\n",
      "\t\t\t* [4.3.4.2 Nested Block Quoting](#4.3.4.2-Nested-Block-Quoting)\n",
      "\t\t* [4.3.5 Lists](#4.3.5-Lists)\n",
      "\t\t\t* [4.3.5.1 Ordered Lists](#4.3.5.1-Ordered-Lists)\n",
      "\t\t\t* [4.3.5.2 Bulleted Lists](#4.3.5.2-Bulleted-Lists)\n",
      "\t\t* [4.3.6 Section Breaks](#4.3.6-Section-Breaks)\n",
      "\t* [4.4 Backslash Escape](#4.4-Backslash-Escape)\n",
      "\t* [4.5 Hyperlinks](#4.5-Hyperlinks)\n",
      "\t\t* [4.5.1 Automatic Links](#4.5.1-Automatic-Links)\n",
      "\t\t* [4.5.2 Standard Links Without Mouse-Over Titles](#4.5.2-Standard-Links-Without-Mouse-Over-Titles)\n",
      "\t\t* [4.5.3 Standard Links With Mouse-Over Titles](#4.5.3-Standard-Links-With-Mouse-Over-Titles)\n",
      "\t\t* [4.5.4 Reference Links](#4.5.4-Reference-Links)\n",
      "\t* [4.6 Tables](#4.6-Tables)\n",
      "\t\t* [4.6.1 Cell Justification ](#4.6.1-Cell-Justification)\n",
      "\t* [4.7 Style and Emphasis](#4.7-Style-and-Emphasis)\n",
      "\t* [4.8 Other Characters](#4.8-Other-Characters)\n",
      "\t* [4.9 Including Code Examples](#4.9-Including-Code-Examples)\n",
      "\t* [4.10 Images](#4.10-Images)\n",
      "\t\t* [4.10.1 Images from the Internet](#4.10.1-Images-from-the-Internet)\n",
      "\t\t\t* [4.10.1.1 Reference-Style Images from the Internet](#4.10.1.1-Reference-Style-Images-from-the-Internet)\n",
      "\t* [4.11 LaTeX Math](#4.11-LaTeX-Math)\n"
     ]
    },
    {
     "cell_type": "heading",
     "level": 1,
     "metadata": {},
     "source": [
      "1. Getting to Know your IP[y] Notebook's Tool Bar"
     ]
    },
    {
     "cell_type": "markdown",
     "metadata": {},
     "source": [
      "At the top of your IP[y] Notebook window there is a toolbar. It looks like this:"
     ]
    },
    {
     "cell_type": "markdown",
     "metadata": {},
     "source": [
      "![](ipythontoolbarnoarrow.png)"
     ]
    },
    {
     "cell_type": "markdown",
     "metadata": {},
     "source": [
      "Below is another picture of your toolbar, labeled with colored arrows, and an explanation of each tool."
     ]
    },
    {
     "cell_type": "markdown",
     "metadata": {},
     "source": [
      "![](ipythontoolbar.png)"
     ]
    },
    {
     "cell_type": "markdown",
     "metadata": {},
     "source": [
      "The little picture of a floppy disk with the black arrow pointing towards it is your save button. You can click this button to save your notebook at any time, though keep in mind that IP[y] Notebooks automatically save your progress very frequently.  \n",
      "\n",
      "The icon with a white plus sign surrounded by a black circle that is indicated by the blue arrow is the new cell button. You can click this button any time you want a new cell in your IP[y] Notebook. \n",
      "\n",
      "The pink arrow points towards a picture of scisors. This is the cut cell button. If you click this button, the cell you currently have selected will be deleted from your Notebook. \n",
      "\n",
      "The yellow arrow points towards an icon of two sheets of paper (each with their top left corner dog-eared). This is the copy cell button. If you click this button, the currently selected cell will be dupilicated and stored in your clipboard. To paste the second copy into your Notebook, you need to click the paste button, which the red arrow indicates and which pictures a clipboard and single sheet of paper (with its top right corner dog-eared. \n",
      "\n",
      "The green arrow indicates two buttons, one with an arrow point upwards and the other with an arrow point downwards. These buttons allow you to move the location of a selected cell within a Notebook. Simply select the cell you wish to move and click either the up or down button until the cell is in the location you want it to be.\n",
      "\n",
      "The purple arrow points towards a play icon. This button will \"run\" your cell, meaning that it will interpret your input and render the output in a way that depends on [what kind of cell] [cell kind] you're using. \n",
      "\n",
      "The oragne arrow points towards the stop button. Clicking this button will stop your cell from continuing to run. This tool can be useful if you are trying to execute more complicated code, which can sometimes take a while, and you want to edit the cell before waiting for it to finish rendering. \n",
      "\n",
      "The gray arrow points towards a refresh symbol. This is the restart kernel button. **I don't know what it does**\n",
      "\n",
      "The light blue arrow points towards a drop down menu which allows you to tell your Notebook how you want it to interpret any given cell. You can read more about the [different kinds of cells] [cell kind] in the following section. \n",
      "\n",
      "The green arrow points towards another drop down menu which allows you to select... **I don't what this does either**\n",
      "\n",
      "\n",
      "[cell kind]: #Different-Kinds-of-Cells \"Different Kinds of Cells\"\n"
     ]
    },
    {
     "cell_type": "heading",
     "level": 1,
     "metadata": {},
     "source": [
      "2. Different Kinds of Cells"
     ]
    },
    {
     "cell_type": "markdown",
     "metadata": {},
     "source": [
      "There are essentially four kinds of cells in your IP[y] notebook: Code Cells, Markdown Cells, Raw Cells, and Header Cells, though there are six levels of Header Cells.  "
     ]
    },
    {
     "cell_type": "heading",
     "level": 2,
     "metadata": {},
     "source": [
      "2.1 Code Cells"
     ]
    },
    {
     "cell_type": "markdown",
     "metadata": {},
     "source": [
      "**I want to provide a list of the languages supported by IP[y] notebooks**"
     ]
    },
    {
     "cell_type": "heading",
     "level": 2,
     "metadata": {},
     "source": [
      "2.2 Markdown Cells"
     ]
    },
    {
     "cell_type": "markdown",
     "metadata": {},
     "source": [
      "Markdown is a [markup language][] that generates HTML, which the cell can interpret and render. This means that Markdown Cells can also render plain HTML code. If you're interested in learning HTML, check out this [helpful online tutorial][html tutorial].\n",
      "\n",
      "In IP[y] Notebooks, Markdown Cells are the easiest way to write and format text. For a more thorough explanation of how to write in Markdown cells, refer to [this section of the guide][writing markdown].\n",
      "\n",
      "[markup language]: http://en.wikipedia.org/wiki/Markup_language \"Wikipedia Article on Markup\"\n",
      "[writing markdown]: #Using-Markdown-Cells-for-Writing \"Using Markdown Cells for Writing\"\n",
      "[html tutorial]: http://www.w3schools.com/html/ \"w3schools.com HTML Tutorial\"\n"
     ]
    },
    {
     "cell_type": "heading",
     "level": 2,
     "metadata": {},
     "source": [
      "2.3 Raw Cells"
     ]
    },
    {
     "cell_type": "heading",
     "level": 2,
     "metadata": {},
     "source": [
      "2.4 Header Cells"
     ]
    },
    {
     "cell_type": "markdown",
     "metadata": {},
     "source": [
      "While it is possible to organize your document using [Markdown headers][], Header Cells provide a more deeply structural organization for your Notebook and thus there are several advantages to using them. \n",
      "\n",
      "[Markdown headers]: #Headers \"Headers\" "
     ]
    },
    {
     "cell_type": "heading",
     "level": 3,
     "metadata": {},
     "source": [
      "2.4.1 Turning Tour IP[y] Notebook into a Slideshow"
     ]
    },
    {
     "cell_type": "markdown",
     "metadata": {},
     "source": [
      "**I'm currently trying to figure out how slideshows work**"
     ]
    },
    {
     "cell_type": "heading",
     "level": 3,
     "metadata": {},
     "source": [
      "2.4.2 Automatic Section Numbering and Table of Contents Support"
     ]
    },
    {
     "cell_type": "markdown",
     "metadata": {},
     "source": [
      "**Once everything with cole is up and running, hopefully I'll be able to talk about his program here.**"
     ]
    },
    {
     "cell_type": "heading",
     "level": 1,
     "metadata": {},
     "source": [
      "3. Keyboard Shortcuts"
     ]
    },
    {
     "cell_type": "heading",
     "level": 1,
     "metadata": {},
     "source": [
      "4. Using Markdown Cells for Writing "
     ]
    },
    {
     "cell_type": "heading",
     "level": 2,
     "metadata": {},
     "source": [
      "4.1 Why aren't there font and font size selection drop down menus, buttons I can press to bold and italicize my text, or other advanced style options in my Notebook?"
     ]
    },
    {
     "cell_type": "markdown",
     "metadata": {},
     "source": [
      "When you use Microsoft Word, Google Docs, Apple Pages, Open Office, or any other word processing software, you generally use your mouse to select various style options, like line spacing, font size, font color, paragraph format etc. This kind of system is often describes as a WYSIWYG (What You See Is What You Get) interface. This means that the input (what you tell the computer) exactly matches the output (what the computer gives back to you). If you type the letter \u2018G\u2019, highlight it, select the color green and up the font size to 64 pt, your wordprocessor will show you a fairly large green colored letter \u2018G.\u2019 And if you print out that document you will print out a fairly large green colored letter \u2018G\u2019. \n",
      "\n",
      "This Notebook, however, does not use a WYSIWYG interface. Instead it uses something called Markdown. When you use a Markdown, your input does not necessarily exactly equal your output"
     ]
    },
    {
     "cell_type": "markdown",
     "metadata": {},
     "source": [
      "For example, if I type \"#Header 1\" at the beginning of a cell, but then press Shift-Enter (or click the play button at the top of the window), this notebook will turn my input into a somewhat different output in the following way:"
     ]
    },
    {
     "cell_type": "raw",
     "metadata": {},
     "source": [
      "#Header 1"
     ]
    },
    {
     "cell_type": "markdown",
     "metadata": {},
     "source": [
      "#Header 1"
     ]
    },
    {
     "cell_type": "markdown",
     "metadata": {},
     "source": [
      "And if I type \"##Header 2\" (at the beginning of a cell), this notebook will turn that input into another output:"
     ]
    },
    {
     "cell_type": "raw",
     "metadata": {},
     "source": [
      "##Header 2"
     ]
    },
    {
     "cell_type": "markdown",
     "metadata": {},
     "source": [
      "##Header 2"
     ]
    },
    {
     "cell_type": "markdown",
     "metadata": {},
     "source": [
      "In these examples, the hashtags are markers which tell the Notebook how to typeset the text. There are many markup languages, but one family, or perhaps guiding philosophy, of markup languages is called \"Markdown,\" named somewhat jokingly for its simplicity. Your Notebook uses \"marked,\" a Markdown library of typeset and other formatting instructions, like the hashtags in the examples above."
     ]
    },
    {
     "cell_type": "heading",
     "level": 2,
     "metadata": {},
     "source": [
      "4.2 Why Use Markdown (and not WYSIWYG)?"
     ]
    },
    {
     "cell_type": "markdown",
     "metadata": {},
     "source": [
      "Why is Markdown better? Well, it\u2019s worth saying that maybe it isn't. Mainly, it\u2019s not actually a question of better or worse, but of what\u2019s in front of you and of who you are. A definitive answer depends on the user and on that user\u2019s goals and experience. These Notebooks don't use Markdown because it's definitely better, but rather because it's different and thus encourages users to think about their work differently. \n",
      "\n",
      "It is very important for computer science students to learn how to conceptualize input and output as dependent, but also distinct. One good reason to use Markdown is that it encourages this kind of thinking. Relatedly, it might also promote focus on substance over surface aesthetic. Markdown is somewhat limited in its style options, which means that there are inherently fewer non-subject-specifc concerns to agonize over while working. It is the conceit of this philosophy that you would, by using Markdown and this Notebook, begin to think of the specific stylistic rendering of your cells as distinct from what you type into those same cells, and thus also think of the content of your writing as necessarily separate from its formating and appearance. "
     ]
    },
    {
     "cell_type": "heading",
     "level": 2,
     "metadata": {},
     "source": [
      "4.3 Block Elements"
     ]
    },
    {
     "cell_type": "heading",
     "level": 3,
     "metadata": {},
     "source": [
      "4.3.1 Paragraph Breaks"
     ]
    },
    {
     "cell_type": "markdown",
     "metadata": {},
     "source": [
      "Paragraphs consist of one or more consecutive lines of text and they are separated by one or more blank lines. If a line contains only spaces, it is a blank line."
     ]
    },
    {
     "cell_type": "heading",
     "level": 3,
     "metadata": {},
     "source": [
      "4.3.2 Line Breaks"
     ]
    },
    {
     "cell_type": "heading",
     "level": 4,
     "metadata": {},
     "source": [
      "4.3.2.1 Hard-Wrapping and Soft-Wrapping"
     ]
    },
    {
     "cell_type": "markdown",
     "metadata": {},
     "source": [
      "If you're used to word processing software, you've been writing with automatically hard-wrapped lines and paragraphs. In a hard-wrapped paragraph the line breaks are not dependent on the size of the viewing window. If you click and drag your mouse to expand a word processing document, for example, the shape of the paragraphs and the length of the lines will not change. In other words, the length of a hard-wrapped line is determined either by the number of words in the line (in the case of word processing software where this number is predetermined and the program wraps for the user automatically), or individual intention (when a user manually presses an Enter or Return key to controll exactly how long a line is).\n",
      "\n",
      "Soft-wrapped paragraphs and lines, however, *do* depend on the size of their viewing window. If you increase the size of a window where soft-wrapped paragraphs are displayed, they too will expand into longer lines, becoming shorter and wider to fill the increased window space horizontally. Unsurprising, then, if you *narrow* a window, soft-wrapped lines will shrink and the paragraphs will become longer vertically. \n",
      "\n",
      "Markdown, unlike most word processing software, does not automatically hard-wrap. If you want your paragraphs to have a particular or deliberate shape and size, you must insert your own break by ending the line with two spaces and then typing Return.\n"
     ]
    },
    {
     "cell_type": "heading",
     "level": 4,
     "metadata": {},
     "source": [
      "4.3.2.2 Soft-Wrapping"
     ]
    },
    {
     "cell_type": "raw",
     "metadata": {},
     "source": [
      "blah blah blah blah blah blah blah blah blah blah blah blah blah blah blah blah blah blah blah blah blah blah blah blah blah blah blah blah blah blah blah blah blah blah blah blah blah blah blah blah blah blah blah blah blah"
     ]
    },
    {
     "cell_type": "markdown",
     "metadata": {},
     "source": [
      "blah blah blah blah blah blah blah blah blah blah blah blah blah blah blah blah blah blah blah blah blah blah blah blah blah blah blah blah blah blah blah blah blah blah blah blah blah blah blah blah blah blah blah blah blah"
     ]
    },
    {
     "cell_type": "heading",
     "level": 4,
     "metadata": {},
     "source": [
      "4.3.2.3 Hard-Wrapping"
     ]
    },
    {
     "cell_type": "raw",
     "metadata": {},
     "source": [
      "blah blah blah blah blah  \n",
      "blah blah blah blah blah blah blah blah blah  \n",
      "blah blah blah blah blah blah blah blah blah blah blah  \n",
      "blah blah blah blah blah  \n",
      "blah blah blah blah blah   \n",
      "blah blah blah blah blah blah blah blah blah blah blah blah blah  \n"
     ]
    },
    {
     "cell_type": "markdown",
     "metadata": {},
     "source": [
      "blah blah blah blah blah  \n",
      "blah blah blah blah blah blah blah blah blah  \n",
      "blah blah blah blah blah blah blah blah blah blah blah  \n",
      "blah blah blah blah blah  \n",
      "blah blah blah blah blah   \n",
      "blah blah blah blah blah blah blah blah blah blah blah blah blah  \n"
     ]
    },
    {
     "cell_type": "heading",
     "level": 3,
     "metadata": {},
     "source": [
      "4.3.3 Headers"
     ]
    },
    {
     "cell_type": "raw",
     "metadata": {},
     "source": [
      "#Header 1"
     ]
    },
    {
     "cell_type": "markdown",
     "metadata": {},
     "source": [
      "#Header 1"
     ]
    },
    {
     "cell_type": "raw",
     "metadata": {},
     "source": [
      "##Header 2"
     ]
    },
    {
     "cell_type": "markdown",
     "metadata": {},
     "source": [
      "##Header 2"
     ]
    },
    {
     "cell_type": "raw",
     "metadata": {},
     "source": [
      "###Header 3"
     ]
    },
    {
     "cell_type": "markdown",
     "metadata": {},
     "source": [
      "###Header 3"
     ]
    },
    {
     "cell_type": "raw",
     "metadata": {},
     "source": [
      "####Header 4"
     ]
    },
    {
     "cell_type": "markdown",
     "metadata": {},
     "source": [
      "####Header 4"
     ]
    },
    {
     "cell_type": "raw",
     "metadata": {},
     "source": [
      "#####Header 5"
     ]
    },
    {
     "cell_type": "markdown",
     "metadata": {},
     "source": [
      "#####Header 5"
     ]
    },
    {
     "cell_type": "raw",
     "metadata": {},
     "source": [
      "######Header 6"
     ]
    },
    {
     "cell_type": "markdown",
     "metadata": {},
     "source": [
      "######Header 6"
     ]
    },
    {
     "cell_type": "heading",
     "level": 3,
     "metadata": {},
     "source": [
      "4.3.4 Block Quotes"
     ]
    },
    {
     "cell_type": "heading",
     "level": 4,
     "metadata": {},
     "source": [
      "4.3.4.1 Standard Block Quoting"
     ]
    },
    {
     "cell_type": "raw",
     "metadata": {},
     "source": [
      ">blah blah block quote blah blah block quote blah blah block  \n",
      "quote blah blah block quote blah blah block   \n",
      "quote blah blah block quote blah blah block quote blah blah block quote"
     ]
    },
    {
     "cell_type": "markdown",
     "metadata": {},
     "source": [
      ">blah blah block quote blah blah block quote blah blah block  \n",
      "quote blah blah block quote blah blah block   \n",
      "quote blah blah block quote blah blah block quote blah blah block quote"
     ]
    },
    {
     "cell_type": "markdown",
     "metadata": {},
     "source": [
      "**Note**: Block quotes work best if you intentionally hard-wrap the lines."
     ]
    },
    {
     "cell_type": "heading",
     "level": 4,
     "metadata": {},
     "source": [
      "4.3.4.2 Nested Block Quoting"
     ]
    },
    {
     "cell_type": "raw",
     "metadata": {},
     "source": [
      ">blah blah block quote blah blah block quote blah blah block  \n",
      "block quote blah blah block block quote blah blah block  \n",
      ">>quote blah blah block quote blah blah  \n",
      "block block quote blah blah block   \n",
      ">>>quote blah blah block quote blah blah block quote blah blah block quote"
     ]
    },
    {
     "cell_type": "markdown",
     "metadata": {},
     "source": [
      ">blah blah block quote blah blah block quote blah blah block  \n",
      "block quote blah blah block block quote blah blah block  \n",
      ">>quote blah blah block quote blah blah  \n",
      "block block quote blah blah block   \n",
      ">>>quote blah blah block quote blah blah block quote blah blah block quote"
     ]
    },
    {
     "cell_type": "heading",
     "level": 3,
     "metadata": {},
     "source": [
      "4.3.5 Lists"
     ]
    },
    {
     "cell_type": "heading",
     "level": 4,
     "metadata": {},
     "source": [
      "4.3.5.1 Ordered Lists"
     ]
    },
    {
     "cell_type": "markdown",
     "metadata": {},
     "source": [
      "In Markdown, you can list items using numbers, a **`+`**, a **` - `**, or a **`*`**. However, if the first item in a list or sublist is numbered, Markdown will interpret the entire list as ordered and will automatically number the items linearly, no matter what character you use to denote any given separate item."
     ]
    },
    {
     "cell_type": "raw",
     "metadata": {},
     "source": [
      "####Groceries:\n",
      "\n",
      "0. Fruit:\n",
      "    6. Pears\n",
      "    0. Peaches\n",
      "    3. Plums\n",
      "    4. Apples \n",
      "        2. Granny Smith \n",
      "        7. Gala\n",
      "    * Oranges\n",
      "    - Berries \n",
      "        8. Strawberries \n",
      "        + Blueberries\n",
      "        * Raspberries\n",
      "    - Bananas\n",
      "9. Bread:\n",
      "    9. Whole Wheat\n",
      "        0. With oats on crust\n",
      "        0. Without oats on crust\n",
      "    0. Rye \n",
      "    0. White\n",
      "0. Dairy:\n",
      "    0. Milk\n",
      "        0. Whole\n",
      "        0. Skim\n",
      "    0. Cheese\n",
      "        0. Wisconsin Cheddar\n",
      "        0. Pepper Jack"
     ]
    },
    {
     "cell_type": "markdown",
     "metadata": {},
     "source": [
      "####Groceries:\n",
      "\n",
      "0. Fruit:\n",
      "    6. Pears\n",
      "    0. Peaches\n",
      "    3. Plums\n",
      "    4. Apples \n",
      "        2. Granny Smith \n",
      "        7. Gala\n",
      "    * Oranges\n",
      "    - Berries \n",
      "        8. Strawberries \n",
      "        + Blueberries\n",
      "        * Raspberries\n",
      "    - Bananas\n",
      "9. Bread:\n",
      "    9. Whole Wheat\n",
      "        0. With oats on crust\n",
      "        0. Without oats on crust\n",
      "    0. Rye \n",
      "    0. White\n",
      "0. Dairy:\n",
      "    0. Milk\n",
      "        0. Whole\n",
      "        0. Skim\n",
      "    0. Cheese\n",
      "        0. Wisconsin Cheddar\n",
      "        0. Pepper Jack"
     ]
    },
    {
     "cell_type": "heading",
     "level": 4,
     "metadata": {},
     "source": [
      "4.3.5.2 Bulleted Lists"
     ]
    },
    {
     "cell_type": "markdown",
     "metadata": {},
     "source": [
      "If you begin your list or sublist with a **`+`**, a **` - `**, or a **`*`**, then Markdown will interpret the whole list as unordered and will use bullets regardless of the characters you type before any individual list item."
     ]
    },
    {
     "cell_type": "raw",
     "metadata": {},
     "source": [
      "####Groceries:\n",
      "\n",
      "* Fruit:\n",
      "    * Pears\n",
      "    0. Peaches\n",
      "    3. Plums\n",
      "    4. Apples \n",
      "        - Granny Smith \n",
      "        7. Gala\n",
      "    * Oranges\n",
      "    - Berries \n",
      "        - Strawberries \n",
      "        + Blueberries\n",
      "        * Raspberries\n",
      "    - Bananas\n",
      "9. Bread:\n",
      "    * Whole Wheat\n",
      "        * With oats on crust\n",
      "        0. Without oats on crust\n",
      "    + Rye \n",
      "    0. White\n",
      "0. Dairy:\n",
      "    * Milk\n",
      "        + Whole\n",
      "        0. Skim\n",
      "    - Cheese\n",
      "        - Wisconsin Cheddar\n",
      "        0. Pepper Jack"
     ]
    },
    {
     "cell_type": "markdown",
     "metadata": {},
     "source": [
      "####Groceries:\n",
      "\n",
      "* Fruit:\n",
      "    * Pears\n",
      "    0. Peaches\n",
      "    3. Plums\n",
      "    4. Apples \n",
      "        - Granny Smith \n",
      "        7. Gala\n",
      "    * Oranges\n",
      "    - Berries \n",
      "        - Strawberries \n",
      "        + Blueberries\n",
      "        * Raspberries\n",
      "    - Bananas\n",
      "9. Bread:\n",
      "    * Whole Wheat\n",
      "        * With oats on crust\n",
      "        0. Without oats on crust\n",
      "    + Rye \n",
      "    0. White\n",
      "0. Dairy:\n",
      "    * Milk\n",
      "        + Whole\n",
      "        0. Skim\n",
      "    - Cheese\n",
      "        - Wisconsin Cheddar\n",
      "        0. Pepper Jack"
     ]
    },
    {
     "cell_type": "heading",
     "level": 3,
     "metadata": {},
     "source": [
      "4.3.6 Section Breaks"
     ]
    },
    {
     "cell_type": "raw",
     "metadata": {},
     "source": [
      "___ "
     ]
    },
    {
     "cell_type": "markdown",
     "metadata": {},
     "source": [
      "___ "
     ]
    },
    {
     "cell_type": "raw",
     "metadata": {},
     "source": [
      "***"
     ]
    },
    {
     "cell_type": "markdown",
     "metadata": {},
     "source": [
      "***"
     ]
    },
    {
     "cell_type": "raw",
     "metadata": {},
     "source": [
      "------"
     ]
    },
    {
     "cell_type": "markdown",
     "metadata": {},
     "source": [
      "------"
     ]
    },
    {
     "cell_type": "raw",
     "metadata": {},
     "source": [
      "* * *"
     ]
    },
    {
     "cell_type": "markdown",
     "metadata": {},
     "source": [
      "* * *"
     ]
    },
    {
     "cell_type": "raw",
     "metadata": {},
     "source": [
      "_ _ _"
     ]
    },
    {
     "cell_type": "markdown",
     "metadata": {},
     "source": [
      "_ _ _"
     ]
    },
    {
     "cell_type": "raw",
     "metadata": {},
     "source": [
      "- - -"
     ]
    },
    {
     "cell_type": "markdown",
     "metadata": {},
     "source": [
      "- - -"
     ]
    },
    {
     "cell_type": "heading",
     "level": 2,
     "metadata": {},
     "source": [
      "4.4 Backslash Escape"
     ]
    },
    {
     "cell_type": "markdown",
     "metadata": {},
     "source": [
      "What happens if you want to include a literal character, like a **`#`**, that usually has a specific function in Markdown? Backslash Escape is a function that prevents Markdown from interpreting a character as an instruction, rather than as the character itself. It works like this:"
     ]
    },
    {
     "cell_type": "raw",
     "metadata": {},
     "source": [
      "\\# Wow, this isn't a header. \n",
      "# This is definitely a header."
     ]
    },
    {
     "cell_type": "markdown",
     "metadata": {},
     "source": [
      "\\# Wow, this isn't a header. \n",
      "# This is definitely a header."
     ]
    },
    {
     "cell_type": "markdown",
     "metadata": {},
     "source": [
      "Markdown allows you to use a backslash to escape from the functions of the following characters:\n",
      "* \\   backslash\n",
      "* `   backtick\n",
      "* \\*   asterisk\n",
      "* _   underscore\n",
      "* {}  curly braces\n",
      "* []  square brackets\n",
      "* ()  parentheses\n",
      "* \\#   hashtag\n",
      "* \\+   plus sign|\n",
      "* \\-   minus sign (hyphen)\n",
      "* .   dot\n",
      "* !   exclamation mark"
     ]
    },
    {
     "cell_type": "heading",
     "level": 2,
     "metadata": {},
     "source": [
      "4.5 Hyperlinks"
     ]
    },
    {
     "cell_type": "heading",
     "level": 3,
     "metadata": {},
     "source": [
      "4.5.1 Automatic Links"
     ]
    },
    {
     "cell_type": "raw",
     "metadata": {},
     "source": [
      "http://en.wikipedia.org"
     ]
    },
    {
     "cell_type": "markdown",
     "metadata": {},
     "source": [
      "http://en.wikipedia.org"
     ]
    },
    {
     "cell_type": "heading",
     "level": 3,
     "metadata": {},
     "source": [
      "4.5.2 Standard Links Without Mouse-Over Titles"
     ]
    },
    {
     "cell_type": "raw",
     "metadata": {},
     "source": [
      "[click this link](http://en.wikipedia.org)"
     ]
    },
    {
     "cell_type": "markdown",
     "metadata": {},
     "source": [
      "[click this link](http://en.wikipedia.org)"
     ]
    },
    {
     "cell_type": "heading",
     "level": 3,
     "metadata": {},
     "source": [
      "4.5.3 Standard Links With Mouse-Over Titles"
     ]
    },
    {
     "cell_type": "raw",
     "metadata": {},
     "source": [
      "[click this link](http://en.wikipedia.org \"Wikipedia\")"
     ]
    },
    {
     "cell_type": "markdown",
     "metadata": {},
     "source": [
      "[click this link](http://en.wikipedia.org \"Wikipedia\")"
     ]
    },
    {
     "cell_type": "heading",
     "level": 3,
     "metadata": {},
     "source": [
      "4.5.4 Reference Links"
     ]
    },
    {
     "cell_type": "markdown",
     "metadata": {},
     "source": [
      "Suppose you are writing a document in which you intend to include many links. The format above is a little arduous and if you have to do it repeatedly *while* you're trying to focus on the content of what you're writing, it's going to be a really big pain. \n",
      "\n",
      "Fortunately, there is an alternative way to insert hyperlinks into your text, one where you indicate that there is a link, name that link, and then use the name to provide the actualy URL later on when you're less in the writing zone. This method can be thought of as a \"reference-style\" link because it is similar to using in-text citations and then defining those citations later in a more detailed reference section or bibliography. \n"
     ]
    },
    {
     "cell_type": "raw",
     "metadata": {},
     "source": [
      "This is [a reference] [identification tag for link]\n",
      "\n",
      "[identification tag for link]: http://en.wikipedia.org/wiki/Chile \"Wikipedia Article About Chile\""
     ]
    },
    {
     "cell_type": "markdown",
     "metadata": {},
     "source": [
      "This is [a reference] [identification tag for link]\n",
      "\n",
      "[identification tag for link]: http://en.wikipedia.org/wiki/Chile \"Wikipedia Article About Chile\""
     ]
    },
    {
     "cell_type": "markdown",
     "metadata": {},
     "source": [
      "**Note:** The \"identification tag for link\" can be anything. For example:"
     ]
    },
    {
     "cell_type": "raw",
     "metadata": {},
     "source": [
      "This is [a reference] [lfskdhflhslgfh333676]\n",
      "\n",
      "[lfskdhflhslgfh333676]: http://en.wikipedia.org/wiki/Chile \"Wikipedia Article About Chile\""
     ]
    },
    {
     "cell_type": "markdown",
     "metadata": {},
     "source": [
      "This is [a reference] [lfskdhflhslgfh333676]\n",
      "\n",
      "[lfskdhflhslgfh333676]: http://en.wikipedia.org/wiki/Chile \"Wikipedia Article About Chile\""
     ]
    },
    {
     "cell_type": "markdown",
     "metadata": {},
     "source": [
      "This means you can give your link an intuitive, easy to remember, and relevant ID:"
     ]
    },
    {
     "cell_type": "raw",
     "metadata": {},
     "source": [
      "This is [a reference] [Chile]\n",
      "\n",
      "[chile]: http://en.wikipedia.org/wiki/Chile \"Wikipedia Article About Chile\""
     ]
    },
    {
     "cell_type": "markdown",
     "metadata": {},
     "source": [
      "This is [a reference] [Chile]\n",
      "\n",
      "[chile]: http://en.wikipedia.org/wiki/Chile \"Wikipedia Article About Chile\""
     ]
    },
    {
     "cell_type": "markdown",
     "metadata": {},
     "source": [
      "**Note**: Link IDs are not case-sensitive."
     ]
    },
    {
     "cell_type": "markdown",
     "metadata": {},
     "source": [
      "If you don't want to give your link an ID, you don't have to. As a short cut, Markdown will understand if you just use the words in the first set of brackets to define the link later on. This works in the following way:"
     ]
    },
    {
     "cell_type": "raw",
     "metadata": {},
     "source": [
      "This is [a reference] []\n",
      "\n",
      "[a reference]: http://en.wikipedia.org/wiki/Chile \"Wikipedia Article About Chile\""
     ]
    },
    {
     "cell_type": "markdown",
     "metadata": {},
     "source": [
      "This is [a reference] []\n",
      "\n",
      "[a reference]: http://en.wikipedia.org/wiki/Chile \"Wikipedia Article About Chile\""
     ]
    },
    {
     "cell_type": "markdown",
     "metadata": {},
     "source": [
      "Another really hepful feature of a reference-style link is that you can define the link anywhere in the cell. (must be in the cell) For example:\n"
     ]
    },
    {
     "cell_type": "raw",
     "metadata": {},
     "source": [
      "This is [a reference] [ref] blah blah blah blah blah blah blah blah blah blah blah blah blah blah blah blah blah blah blah blah blah blah blah blah blah blah blah blah blah blah blah blah blah blah blah blah blah blah blah blah blah blah blah blah blah blah blah blah blah blah blah blah blah blah blah blah blah blah blah blah blah blah blah blah blah blah blah blah blah blah blah blah blah blah blah blah blah blah blah blah blah blah blah blah blah blah blah blah blah blah blah blah blah blah blah blah blah blah blah blah blah blah blah blah blah blah blah blah blah blah blah blah\n",
      "blah blah blah blah blah blah blah blah blah blah blah blah blah blah blah blah blah blah blah blah blah blah blah blah blah blah blah blah blah blah blah blah blah blah blah blah blah blah blah blah blah blah blah blah blah blah blah blah blah blah blah blah blah blah blah blah\n",
      "\n",
      "[ref]: http://en.wikipedia.org/wiki/Chile \"Wikipedia Article About Chile\""
     ]
    },
    {
     "cell_type": "markdown",
     "metadata": {},
     "source": [
      "This is [a reference] [ref] blah blah blah blah blah blah blah blah blah blah blah blah blah blah blah blah blah blah blah blah blah blah blah blah blah blah blah blah blah blah blah blah blah blah blah blah blah blah blah blah blah blah blah blah blah blah blah blah blah blah blah blah blah blah blah blah blah blah blah blah blah blah blah blah blah blah blah blah blah blah blah blah blah blah blah blah blah blah blah blah blah blah blah blah blah blah blah blah blah blah blah blah blah blah blah blah blah blah blah blah blah blah blah blah blah blah blah blah blah blah blah blah\n",
      "blah blah blah blah blah blah blah blah blah blah blah blah blah blah blah blah blah blah blah blah blah blah blah blah blah blah blah blah blah blah blah blah blah blah blah blah blah blah blah blah blah blah blah blah blah blah blah blah blah blah blah blah blah blah blah blah\n",
      "\n",
      "[ref]: http://en.wikipedia.org/wiki/Chile \"Wikipedia Article About Chile\""
     ]
    },
    {
     "cell_type": "markdown",
     "metadata": {},
     "source": [
      "**Note:** Providing a mouse-over title for any link, regardless of whether it is a standard or reference-stlye type, is optional. With reference-style links, you can include the mouse-over title by placing it in quotes, single quotes, or parentheses. For standard links, you can only define a mouse-over title in quotes.\n",
      "\n"
     ]
    },
    {
     "cell_type": "heading",
     "level": 2,
     "metadata": {},
     "source": [
      "4.6 Tables"
     ]
    },
    {
     "cell_type": "markdown",
     "metadata": {},
     "source": [
      "In Markdown, you can make a table by using vertical bars and dashes to define the cell and header borders:"
     ]
    },
    {
     "cell_type": "raw",
     "metadata": {},
     "source": [
      "|Header|Header|Header|Header|\n",
      "|------|------|------|------|\n",
      "|Cell  |Cell  |Cell  | Cell |\n",
      "|Cell  |Cell  |Cell  | Cell |\n",
      "|Cell  |Cell  |Cell  | Cell |\n",
      "|Cell  |Cell  |Cell  | Cell |\n"
     ]
    },
    {
     "cell_type": "markdown",
     "metadata": {},
     "source": [
      "|Header|Header|Header|Header|\n",
      "|------|------|------|------|\n",
      "|Cell  |Cell  |Cell  | Cell |\n",
      "|Cell  |Cell  |Cell  | Cell |\n",
      "|Cell  |Cell  |Cell  | Cell |\n",
      "|Cell  |Cell  |Cell  | Cell |\n"
     ]
    },
    {
     "cell_type": "markdown",
     "metadata": {},
     "source": [
      "Making a table this way might be especially useful if you want your document to be legible both rendered and unrendered. However, you don't *need* to includ all of those dashes, vertical bars, and spaces for Markdown to understand that you're making a table. Here's the bare minium you would need to create the table above:  "
     ]
    },
    {
     "cell_type": "raw",
     "metadata": {},
     "source": [
      "Header|Header|Header|Header\n",
      "-|-|-|-\n",
      "Cell|Cell|Cell|Cell\n",
      "Cell|Cell|Cell|Cell\n",
      "Cell|Cell|Cell|Cell\n",
      "Cell|Cell|Cell|Cell\n"
     ]
    },
    {
     "cell_type": "markdown",
     "metadata": {},
     "source": [
      "Header|Header|Header|Header\n",
      "-|-|-|-\n",
      "Cell|Cell|Cell|Cell\n",
      "Cell|Cell|Cell|Cell\n",
      "Cell|Cell|Cell|Cell\n",
      "Cell|Cell|Cell|Cell\n"
     ]
    },
    {
     "cell_type": "markdown",
     "metadata": {},
     "source": [
      "It's important to note that the second line of dashes and vertical bars is essential. If you have just the line of headers and the second line of dashes and vertical bars, that's enough for Markdown to make a table. \n",
      "\n",
      "Another important formatting issue has to do with the vertical bars that define the left and right edges of the table. If you include all the vertical bars on the far left and right of the table, like in the first example above, Markdown will ignore them completely. *But*, if you leave out some and include others, Markdown will interpret any extra vertical bar as an additional cell on the side that the bar appears in the unrendered version of the text. This also means that if you include the far left or right vertical bar in the second line of bars and dashes, you must include all of the otherwise optional vertical bars (like in the first example above)."
     ]
    },
    {
     "cell_type": "heading",
     "level": 3,
     "metadata": {},
     "source": [
      "4.6.1 Cell Justification "
     ]
    },
    {
     "cell_type": "markdown",
     "metadata": {},
     "source": [
      "If not otherwise specified the text in each header and cell of a table will justify to the left. If, however, you wish to specify either right justification or centering, you may do so like this: "
     ]
    },
    {
     "cell_type": "raw",
     "metadata": {},
     "source": [
      "**Centered, Right-Justified, and Regular Cells and Headers**:\n",
      "\n",
      "centered header  |  regular header  |  right-justified header  |  centered header  |  regular header  \n",
      ":-:|-|-:|:-:|-\n",
      "centered cell|regular cell|right-justified cell|centered cell|regular cell\n",
      "centered cell|regular cell|right-justified cell|centered cell|regular cell\n"
     ]
    },
    {
     "cell_type": "markdown",
     "metadata": {},
     "source": [
      "**Centered, Right-Justified, and Regular Cells and Headers**:\n",
      "\n",
      "centered header  |  regular header  |  right-justified header  |  centered header  |  regular header  \n",
      ":-:|-|-:|:-:|-\n",
      "centered cell|regular cell|right-justified cell|centered cell|regular cell\n",
      "centered cell|regular cell|right-justified cell|centered cell|regular cell\n"
     ]
    },
    {
     "cell_type": "markdown",
     "metadata": {},
     "source": [
      "While it is dificult to see that the headers are differently justified from one another, this is just because the longest line of characters in any column defines the width of the headers and cells in that column. "
     ]
    },
    {
     "cell_type": "markdown",
     "metadata": {},
     "source": [
      "**Note:** You cannot make tables directly beneath a line of text. You must put a blank line between the end of a paragraph and the beginning of a table. "
     ]
    },
    {
     "cell_type": "heading",
     "level": 2,
     "metadata": {},
     "source": [
      "4.7 Style and Emphasis"
     ]
    },
    {
     "cell_type": "raw",
     "metadata": {},
     "source": [
      "*Italics*"
     ]
    },
    {
     "cell_type": "markdown",
     "metadata": {},
     "source": [
      "*Italics*"
     ]
    },
    {
     "cell_type": "raw",
     "metadata": {},
     "source": [
      "_Italics_"
     ]
    },
    {
     "cell_type": "markdown",
     "metadata": {},
     "source": [
      "_Italics_"
     ]
    },
    {
     "cell_type": "raw",
     "metadata": {},
     "source": [
      "**Bold**"
     ]
    },
    {
     "cell_type": "markdown",
     "metadata": {},
     "source": [
      "**Bold**"
     ]
    },
    {
     "cell_type": "raw",
     "metadata": {},
     "source": [
      "__Bold__"
     ]
    },
    {
     "cell_type": "markdown",
     "metadata": {},
     "source": [
      "__Bold__"
     ]
    },
    {
     "cell_type": "markdown",
     "metadata": {},
     "source": [
      "**Note:** If you want actual asterisks or underscores to appear in your text, you can use the [backslash escape function] [backslash] like this:\n",
      "\n",
      "[backslash]: #Backslash-Escape \"Backslash Escape\""
     ]
    },
    {
     "cell_type": "raw",
     "metadata": {},
     "source": [
      "\\*awesome asterisks\\* and \\_incredible under scores\\_"
     ]
    },
    {
     "cell_type": "markdown",
     "metadata": {},
     "source": [
      "\\*awesome asterisks\\* and \\_incredible under scores\\_"
     ]
    },
    {
     "cell_type": "heading",
     "level": 2,
     "metadata": {},
     "source": [
      "4.8 Other Characters"
     ]
    },
    {
     "cell_type": "raw",
     "metadata": {},
     "source": [
      "Ampersand &amp; Ampersand"
     ]
    },
    {
     "cell_type": "markdown",
     "metadata": {},
     "source": [
      "Ampersand &amp; Ampersand"
     ]
    },
    {
     "cell_type": "raw",
     "metadata": {},
     "source": [
      "&lt; angle brackets &gt;"
     ]
    },
    {
     "cell_type": "markdown",
     "metadata": {},
     "source": [
      "&lt; angle brackets &gt;"
     ]
    },
    {
     "cell_type": "raw",
     "metadata": {},
     "source": [
      "&quot; quotes &quot; "
     ]
    },
    {
     "cell_type": "markdown",
     "metadata": {},
     "source": [
      "&quot; quotes &quot; "
     ]
    },
    {
     "cell_type": "heading",
     "level": 2,
     "metadata": {},
     "source": [
      "4.9 Including Code Examples"
     ]
    },
    {
     "cell_type": "markdown",
     "metadata": {},
     "source": [
      "If you want to signify that a particular section of text is actually an example of code, you can use backquotes to suround the code example. These will switch the font to monospace, which creates a clear visual formatting difference between the text that is meant to be code and the text that isn't. Here's an example:"
     ]
    },
    {
     "cell_type": "raw",
     "metadata": {},
     "source": [
      "`monospace`"
     ]
    },
    {
     "cell_type": "markdown",
     "metadata": {},
     "source": [
      "`monospace`"
     ]
    },
    {
     "cell_type": "markdown",
     "metadata": {},
     "source": [
      "**Note:** If you want to include a literal backquote in your code example you must suround the whole text block in double backquotes like this: "
     ]
    },
    {
     "cell_type": "raw",
     "metadata": {},
     "source": [
      "`` Look at this literal backquote ` ``"
     ]
    },
    {
     "cell_type": "markdown",
     "metadata": {},
     "source": [
      "`` Look at this literal backquote ` ``"
     ]
    },
    {
     "cell_type": "heading",
     "level": 2,
     "metadata": {},
     "source": [
      "4.10 Images"
     ]
    },
    {
     "cell_type": "heading",
     "level": 3,
     "metadata": {},
     "source": [
      "4.10.1 Images from the Internet"
     ]
    },
    {
     "cell_type": "markdown",
     "metadata": {},
     "source": [
      "Inserting an image from the internet is almost identical to inserting a link. You just also type a **`!`** before the first set of brackets:"
     ]
    },
    {
     "cell_type": "raw",
     "metadata": {},
     "source": [
      "![It doesn't matter what you write here](http://upload.wikimedia.org/wikipedia/commons/thumb/b/b7/South_African_Giraffe,_head.jpg/877px-South_African_Giraffe,_head.jpg \"Picture of a Giraffe)"
     ]
    },
    {
     "cell_type": "markdown",
     "metadata": {},
     "source": [
      "![It doesn't matter what I write here](http://upload.wikimedia.org/wikipedia/commons/thumb/b/b7/South_African_Giraffe,_head.jpg/877px-South_African_Giraffe,_head.jpg \"Picture of a Giraffe\")"
     ]
    },
    {
     "cell_type": "markdown",
     "metadata": {},
     "source": [
      "**Note:** Unlike with a link, the words that you type in the first set of brackets do not appear when they are rendered into html by Markdown. "
     ]
    },
    {
     "cell_type": "heading",
     "level": 4,
     "metadata": {},
     "source": [
      "4.10.1.1 Reference-Style Images from the Internet"
     ]
    },
    {
     "cell_type": "markdown",
     "metadata": {},
     "source": [
      "Just like with links, you can also use a reference-style format when inserting images from the internet. This involves indicating where you want to place a picture, giving that picture an ID tag, and then later defining that ID tag. The process is nearly identical to using the reference-style format to insert a link:"
     ]
    },
    {
     "cell_type": "raw",
     "metadata": {},
     "source": [
      "![][giraffe]\n",
      "\n",
      "[giraffe]:http://upload.wikimedia.org/wikipedia/commons/thumb/b/b7/South_African_Giraffe,_head.jpg/877px-South_African_Giraffe,_head.jpg \"Picture of a Giraffe\""
     ]
    },
    {
     "cell_type": "markdown",
     "metadata": {},
     "source": [
      "![][giraffe]\n",
      "\n",
      "[giraffe]: http://upload.wikimedia.org/wikipedia/commons/thumb/b/b7/South_African_Giraffe,_head.jpg/877px-South_African_Giraffe,_head.jpg \"Picture of a Giraffe\""
     ]
    },
    {
     "cell_type": "heading",
     "level": 2,
     "metadata": {},
     "source": [
      "4.11 LaTeX Math"
     ]
    },
    {
     "cell_type": "markdown",
     "metadata": {},
     "source": [
      "IP[y] Notebooks' Markdown cells support LateX for formatting mathematical equations. To tell Markdown to interpret your text as LaTex, surround your input with dollar signs like this:"
     ]
    },
    {
     "cell_type": "raw",
     "metadata": {},
     "source": [
      "$2x+3y=z$"
     ]
    },
    {
     "cell_type": "markdown",
     "metadata": {},
     "source": [
      "$2x+3y=z$"
     ]
    },
    {
     "cell_type": "markdown",
     "metadata": {},
     "source": [
      "If you want your LaTex equations to be indented towards the center of the cell, surround your input with two dollar signs on each side like this: "
     ]
    },
    {
     "cell_type": "raw",
     "metadata": {},
     "source": [
      "$$2x+3y=z$$"
     ]
    },
    {
     "cell_type": "markdown",
     "metadata": {},
     "source": [
      "$$2x+3y=z$$"
     ]
    },
    {
     "cell_type": "markdown",
     "metadata": {},
     "source": [
      "For a comprehensive guide to the mathematical symbols and notations supported by IP[y] Notebooks' Markdown cells, check out [Martin Keefe's helpful reference materials on the subject][mkeefe].\n",
      "\n",
      "[mkeefe]: http://martinkeefe.com/math/mathjax1 \"Martin Keefe's MathJax Guide\""
     ]
    },
    {
     "cell_type": "markdown",
     "metadata": {},
     "source": [
      "**`` `x` ``**"
     ]
    },
    {
     "cell_type": "code",
     "collapsed": false,
     "input": [
      "%%javascript\n",
      "\n",
      "console.log(\"NEW TEST\\n\\n\"); //DEBUG\n",
      "\n",
      "var cells = IPython.notebook.get_cells();\n",
      "var levels = [0,0,0,0,0,0];\n",
      "var current_level = 1;\n",
      "var flag = false;\n",
      "\n",
      "for (var i = 0; i < cells.length; i++){\n",
      "    var cell = cells[i];\n",
      "    if(cell.cell_type == \"heading\"){\n",
      "        var level = cell.level;\n",
      "        \n",
      "        if(level >= current_level){ //just keep incrimenting\n",
      "            current_level = level;\n",
      "            levels[level-1]++;\n",
      "        } else {                    //went back a level\n",
      "            levels[current_level-1] = 0;\n",
      "            \n",
      "            if(current_level-level > 1){ //Skipped levels in between\n",
      "                for(var j = 1; j < current_level-level; j++){ //back-prop the zeros\n",
      "                    levels[current_level - 1 - j] = 0;\n",
      "                }\n",
      "            }\n",
      "            \n",
      "            levels[level -1]++;\n",
      "            current_level = level;\n",
      "        }\n",
      "        \n",
      "        var error = false;\n",
      "        var error_no_begin = 0;\n",
      "        var error_no_end = 0;\n",
      "        var error_heading_label = \"\";\n",
      "        var heading_label = \"\"; //Generate the appropriate number for the heading\n",
      "        for (var k = 0; k < level; k++){\n",
      "            if(levels[k] == 0){\n",
      "                if(!error){\n",
      "                    error_heading_label = heading_label;\n",
      "                    error = true;\n",
      "                    error_no_begin = k;\n",
      "                } else {\n",
      "                    error_no_end = k + 2;\n",
      "                }\n",
      "            }\n",
      "            heading_label += levels[k];\n",
      "            if(level-k == 1 && level > 1){\n",
      "                break;\n",
      "            }\n",
      "            heading_label += \".\";\n",
      "        }\n",
      "        \n",
      "        if(error){\n",
      "            if(error_no_end == 0){\n",
      "                error_no_end = error_no_begin + 2;\n",
      "            }\n",
      "            if(error_heading_label == \"\"){\n",
      "                if(flag){\n",
      "                    break;\n",
      "                }\n",
      "                alert(\"Notebook begins with a Header \" + error_no_end + \" cell.\");\n",
      "                flag = true;\n",
      "            } else{\n",
      "                alert(\"You placed a Header \" + error_no_end + \" cell under a Header \" + error_no_begin + \" cell in section \" + error_heading_label);\n",
      "            }\n",
      "        }\n",
      "        \n",
      "        var heading_text = cell.get_text();\n",
      "        console.log(heading_text);\n",
      "        var re = /(?:\\d\\.(?:\\d\\.?){0,5})?\\s*(.*)/\n",
      "        var match = heading_text.match(re);\n",
      "        console.log(\"Match:\" + match); //DEBUG\n",
      "        \n",
      "        if(match){\n",
      "            heading_text = heading_label + \" \" + match[1];\n",
      "        } else {\n",
      "            heading_text = heading_label;\n",
      "        }\n",
      "        cell.unrender();\n",
      "        cell.set_text(heading_text);\n",
      "        cell.render();\n",
      "        \n",
      "        //Debugging Statements\n",
      "        console.log(levels);\n",
      "        console.log(heading_text);\n",
      "          \n",
      "    }\n",
      "}"
     ],
     "language": "python",
     "metadata": {},
     "outputs": [
      {
       "javascript": [
        "\n",
        "console.log(\"NEW TEST\\n\\n\"); //DEBUG\n",
        "\n",
        "var cells = IPython.notebook.get_cells();\n",
        "var levels = [0,0,0,0,0,0];\n",
        "var current_level = 1;\n",
        "var flag = false;\n",
        "\n",
        "for (var i = 0; i < cells.length; i++){\n",
        "    var cell = cells[i];\n",
        "    if(cell.cell_type == \"heading\"){\n",
        "        var level = cell.level;\n",
        "        \n",
        "        if(level >= current_level){ //just keep incrimenting\n",
        "            current_level = level;\n",
        "            levels[level-1]++;\n",
        "        } else {                    //went back a level\n",
        "            levels[current_level-1] = 0;\n",
        "            \n",
        "            if(current_level-level > 1){ //Skipped levels in between\n",
        "                for(var j = 1; j < current_level-level; j++){ //back-prop the zeros\n",
        "                    levels[current_level - 1 - j] = 0;\n",
        "                }\n",
        "            }\n",
        "            \n",
        "            levels[level -1]++;\n",
        "            current_level = level;\n",
        "        }\n",
        "        \n",
        "        var error = false;\n",
        "        var error_no_begin = 0;\n",
        "        var error_no_end = 0;\n",
        "        var error_heading_label = \"\";\n",
        "        var heading_label = \"\"; //Generate the appropriate number for the heading\n",
        "        for (var k = 0; k < level; k++){\n",
        "            if(levels[k] == 0){\n",
        "                if(!error){\n",
        "                    error_heading_label = heading_label;\n",
        "                    error = true;\n",
        "                    error_no_begin = k;\n",
        "                } else {\n",
        "                    error_no_end = k + 2;\n",
        "                }\n",
        "            }\n",
        "            heading_label += levels[k];\n",
        "            if(level-k == 1 && level > 1){\n",
        "                break;\n",
        "            }\n",
        "            heading_label += \".\";\n",
        "        }\n",
        "        \n",
        "        if(error){\n",
        "            if(error_no_end == 0){\n",
        "                error_no_end = error_no_begin + 2;\n",
        "            }\n",
        "            if(error_heading_label == \"\"){\n",
        "                if(flag){\n",
        "                    break;\n",
        "                }\n",
        "                alert(\"Notebook begins with a Header \" + error_no_end + \" cell.\");\n",
        "                flag = true;\n",
        "            } else{\n",
        "                alert(\"You placed a Header \" + error_no_end + \" cell under a Header \" + error_no_begin + \" cell in section \" + error_heading_label);\n",
        "            }\n",
        "        }\n",
        "        \n",
        "        var heading_text = cell.get_text();\n",
        "        console.log(heading_text);\n",
        "        var re = /(?:\\d\\.(?:\\d\\.?){0,5})?\\s*(.*)/\n",
        "        var match = heading_text.match(re);\n",
        "        console.log(\"Match:\" + match); //DEBUG\n",
        "        \n",
        "        if(match){\n",
        "            heading_text = heading_label + \" \" + match[1];\n",
        "        } else {\n",
        "            heading_text = heading_label;\n",
        "        }\n",
        "        cell.unrender();\n",
        "        cell.set_text(heading_text);\n",
        "        cell.render();\n",
        "        \n",
        "        //Debugging Statements\n",
        "        console.log(levels);\n",
        "        console.log(heading_text);\n",
        "          \n",
        "    }\n",
        "}"
       ],
       "metadata": {},
       "output_type": "display_data",
       "text": [
        "<IPython.core.display.Javascript at 0x1e82e50>"
       ]
      }
     ],
     "prompt_number": 4
    },
    {
     "cell_type": "code",
     "collapsed": false,
     "input": [
      "%%javascript\n",
      "\n",
      "IPython.notebook.select(0).insert_cell_above(\"markdown\"); //Create a new markdown cell at the top of the Notebook\n",
      "\n",
      "var cells = IPython.notebook.get_cells();\n",
      "var toc_cell = cells[0];\n",
      "var toc_text = \"#Table of Contents:  \\n\";\n",
      "\n",
      "for (var i = 0; i < cells.length; i++){\n",
      "    var cell = cells[i];\n",
      "    if(cell.cell_type == \"heading\"){\n",
      "        var cell_text = cell.get_text();\n",
      "        for (var j = 0; j < cell.level -1; j++){ //Loop to add the proper amount of tabs based on header level\n",
      "            toc_text += \"\\t\";\n",
      "        }\n",
      "        toc_text += \"* [\";\n",
      "        toc_text += cell_text;\n",
      "        toc_text += \"](#\";\n",
      "        \n",
      "        var link_text = cell_text.replace(/\\s+$/g, \"\") //Delete trailing spaces before they become \"-\"\n",
      "        link_text = link_text.replace(/\\(/g, \"%28\"); //Replace left parentheses with their encoding\n",
      "        link_text = link_text.replace(/\\)/g, \"%29\"); //Replace right parentheses with their encoding\n",
      "        link_text = link_text.replace(/ /g, \"-\"); //Replace all spaces with dashes to create links\n",
      "        \n",
      "        toc_text += link_text;\n",
      "        toc_text += \")\\n\";\n",
      "    }\n",
      "}\n",
      "\n",
      "toc_cell.unrender();\n",
      "toc_cell.set_text(toc_text);\n",
      "toc_cell.render();"
     ],
     "language": "python",
     "metadata": {},
     "outputs": [
      {
       "javascript": [
        "\n",
        "IPython.notebook.select(0).insert_cell_above(\"markdown\"); //Create a new markdown cell at the top of the Notebook\n",
        "\n",
        "var cells = IPython.notebook.get_cells();\n",
        "var toc_cell = cells[0];\n",
        "var toc_text = \"#Table of Contents:  \\n\";\n",
        "\n",
        "for (var i = 0; i < cells.length; i++){\n",
        "    var cell = cells[i];\n",
        "    if(cell.cell_type == \"heading\"){\n",
        "        var cell_text = cell.get_text();\n",
        "        for (var j = 0; j < cell.level -1; j++){ //Loop to add the proper amount of tabs based on header level\n",
        "            toc_text += \"\\t\";\n",
        "        }\n",
        "        toc_text += \"* [\";\n",
        "        toc_text += cell_text;\n",
        "        toc_text += \"](#\";\n",
        "        \n",
        "        var link_text = cell_text.replace(/\\s+$/g, \"\") //Delete trailing spaces before they become \"-\"\n",
        "        link_text = link_text.replace(/\\(/g, \"%28\"); //Replace left parentheses with their encoding\n",
        "        link_text = link_text.replace(/\\)/g, \"%29\"); //Replace right parentheses with their encoding\n",
        "        link_text = link_text.replace(/ /g, \"-\"); //Replace all spaces with dashes to create links\n",
        "        \n",
        "        toc_text += link_text;\n",
        "        toc_text += \")\\n\";\n",
        "    }\n",
        "}\n",
        "\n",
        "toc_cell.unrender();\n",
        "toc_cell.set_text(toc_text);\n",
        "toc_cell.render();"
       ],
       "metadata": {},
       "output_type": "display_data",
       "text": [
        "<IPython.core.display.Javascript at 0x1e964d0>"
       ]
      }
     ],
     "prompt_number": 5
    }
   ],
   "metadata": {}
  }
 ]
}