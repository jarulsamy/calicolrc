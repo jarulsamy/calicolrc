{
 "metadata": {
  "name": "",
  "signature": "sha256:18e418e6e6cc0eab600a616c23d02c73e6b55531dc7a4e427cb9923acbdaa111"
 },
 "nbformat": 3,
 "nbformat_minor": 0,
 "worksheets": [
  {
   "cells": [
    {
     "cell_type": "markdown",
     "metadata": {},
     "source": [
      "#Table of Contents\n",
      "* [Getting to Know your Jupyter Notebook's Toolbar](#Getting-to-Know-your-Jupyter-Notebook's-Toolbar)\n",
      "* [Different Kinds of Cells](#Different-Kinds-of-Cells)\n",
      "\t* [Code Cells](#Code-Cells)\n",
      "\t\t* [Code Cell Layout](#Code-Cell-Layout)\n",
      "\t\t\t* [Row Configuration (Default Setting)](#Row-Configuration-%28Default-Setting%29)\n",
      "\t\t\t* [Cell Tabbing](#Cell-Tabbing)\n",
      "\t\t\t* [Column Configuration](#Column-Configuration)\n",
      "\t* [Markdown Cells](#Markdown-Cells)\n",
      "\t* [Raw Cells](#Raw-Cells)\n",
      "\t* [Header Cells](#Header-Cells)\n",
      "\t\t* [Linking](#Linking)\n",
      "\t\t* [Automatic Section Numbering and Table of Contents Support](#Automatic-Section-Numbering-and-Table-of-Contents-Support)\n",
      "\t\t\t* [Automatic Section Numbering](#Automatic-Section-Numbering)\n",
      "\t\t\t* [Table of Contents Support](#Table-of-Contents-Support)\n",
      "\t\t\t* [A Few Things to Keep in Mind When Using Both Automatic Section Numbering and Table of Contents Support](#A-Few-Things-to-Keep-in-Mind-When-Using-Both-Automatic-Section-Numbering-and-Table-of-Contents-Support)\n",
      "* [Turning Your Jupyter Notebook into a Slideshow](#Turning-Your-Jupyter-Notebook-into-a-Slideshow)\n",
      "* [Bibliographic Support](#Bibliographic-Support)\n",
      "\t* [Formatting Your Bibliography Notebook](#Formatting-Your-Bibliography-Notebook)\n",
      "\t* [Cite Commands and Citation IDs](#Cite-Commands-and-Citation-IDs)\n",
      "* [Keyboard Shortcuts](#Keyboard-Shortcuts)\n",
      "* [Using Markdown Cells for Writing](#Using-Markdown-Cells-for-Writing)\n",
      "\t* [Block Elements](#Block-Elements)\n",
      "\t\t* [Paragraph Breaks](#Paragraph-Breaks)\n",
      "\t\t* [Line Breaks](#Line-Breaks)\n",
      "\t\t\t* [Hard-Wrapping and Soft-Wrapping](#Hard-Wrapping-and-Soft-Wrapping)\n",
      "\t\t\t* [Soft-Wrapping](#Soft-Wrapping)\n",
      "\t\t\t* [Hard-Wrapping](#Hard-Wrapping)\n",
      "\t\t* [Headers](#Headers)\n",
      "\t\t* [Block Quotes](#Block-Quotes)\n",
      "\t\t\t* [Standard Block Quoting](#Standard-Block-Quoting)\n",
      "\t\t\t* [Nested Block Quoting](#Nested-Block-Quoting)\n",
      "\t\t* [Lists](#Lists)\n",
      "\t\t\t* [Ordered Lists](#Ordered-Lists)\n",
      "\t\t\t* [Bulleted Lists](#Bulleted-Lists)\n",
      "\t\t* [Section Breaks](#Section-Breaks)\n",
      "\t* [Backslash Escape](#Backslash-Escape)\n",
      "\t* [Hyperlinks](#Hyperlinks)\n",
      "\t\t* [Automatic Links](#Automatic-Links)\n",
      "\t\t* [Standard Links Without Mouse-Over Titles](#Standard-Links-Without-Mouse-Over-Titles)\n",
      "\t\t* [Standard Links With Mouse-Over Titles](#Standard-Links-With-Mouse-Over-Titles)\n",
      "\t\t* [Reference Links](#Reference-Links)\n",
      "\t\t* [Notebook-Internal Links](#Notebook-Internal-Links)\n",
      "\t\t\t* [Standard Notebook-Internal Links Without Mouse-Over Titles](#Standard-Notebook-Internal-Links-Without-Mouse-Over-Titles)\n",
      "\t\t\t* [Standard Notebook-Internal Links With Mouse-Over Titles](#Standard-Notebook-Internal-Links-With-Mouse-Over-Titles)\n",
      "\t\t\t* [Reference-Style Notebook-Internal Links](#Reference-Style-Notebook-Internal-Links)\n",
      "\t* [Tables](#Tables)\n",
      "\t\t* [Cell Justification](#Cell-Justification)\n",
      "\t* [Style and Emphasis](#Style-and-Emphasis)\n",
      "\t* [Other Characters](#Other-Characters)\n",
      "\t* [Including Code Examples](#Including-Code-Examples)\n",
      "\t* [Images](#Images)\n",
      "\t\t* [Images from the Internet](#Images-from-the-Internet)\n",
      "\t\t\t* [Reference-Style Images from the Internet](#Reference-Style-Images-from-the-Internet)\n",
      "\t* [LaTeX Math](#LaTeX-Math)\n",
      "* [hhhhhhhh](#hhhhhhhh)\n"
     ]
    },
    {
     "cell_type": "heading",
     "level": 1,
     "metadata": {},
     "source": [
      "Getting to Know your Jupyter Notebook's Toolbar"
     ]
    },
    {
     "cell_type": "markdown",
     "metadata": {
      "slideshow": {
       "slide_type": "fragment"
      }
     },
     "source": [
      "At the top of your Jupyter Notebook window there is a toolbar. It looks like this:"
     ]
    },
    {
     "cell_type": "markdown",
     "metadata": {
      "slideshow": {
       "slide_type": "fragment"
      }
     },
     "source": [
      "![](jupytertoolbar.png)"
     ]
    },
    {
     "cell_type": "markdown",
     "metadata": {
      "slideshow": {
       "slide_type": "fragment"
      }
     },
     "source": [
      "Below is a table which helpfully pairs a picture of each of the items in your toolbar with a corresponding explanation of its function. "
     ]
    },
    {
     "cell_type": "markdown",
     "metadata": {
      "slideshow": {
       "slide_type": "fragment"
      }
     },
     "source": [
      "Button|Function\n",
      "-|-\n",
      "![](jupytertoolbarsave.png)|This is your save button. You can click this button to save your notebook at any time, though keep in mind that Jupyter Notebooks automatically save your progress very frequently.  \n",
      "![](jupytertoolbarnewcell.png)|This is the new cell button. You can click this button any time you want a new cell in your Jupyter Notebook. \n",
      "![](jupytertoolbarcutcell.png)|This is the cut cell button. If you click this button, the cell you currently have selected will be deleted from your Notebook. \n",
      "![](jupytertoolbarcopycell.png)|This is the copy cell button. If you click this button, the currently selected cell will be dupilicated and stored in your clipboard. \n",
      "![](jupytertoolbarpastecell.png)|This is the past button. It allows you to paste the duplicated cell from your clipboard into your notebook. \n",
      "![](jupytertoolbarupdown.png)|These buttons allow you to move the location of a selected cell within a Notebook. Simply select the cell you wish to move and click either the up or down button until the cell is in the location you want it to be.\n",
      "![](jupytertoolbarrun.png)|This button will \"run\" your cell, meaning that it will interpret your input and render the output in a way that depends on [what kind of cell] [cell kind] you're using. \n",
      "![](jupytertoolbarstop.png)|This is the stop button. Clicking this button will stop your cell from continuing to run. This tool can be useful if you are trying to execute more complicated code, which can sometimes take a while, and you want to edit the cell before waiting for it to finish rendering. \n",
      "![](jupytertoolbarrestartkernel.png)|This is the restart kernel button. See your kernel documentation for more information.\n",
      "![](jupytertoolbarcellkind.png)|This is a drop down menu which allows you to tell your Notebook how you want it to interpret any given cell. You can read more about the [different kinds of cells] [cell kind] in the following section. \n",
      "![](jupytertoolbartoolbartype.png)|Individual cells can have their own toolbars. This is a drop down menu from which you can select the type of toolbar that you'd like to use with the cells in your Notebook. Some of the options in the cell toolbar menu will only work in [certain kinds of cells][cell kind]. \"None,\" which is how you specify that you do not want any cell toolbars, is the default setting. If you select \"Edit Metadata,\" a toolbar that allows you to edit data about [Code Cells][code cells] directly will appear in the corner of all the Code cells in your notebook. If you select \"Raw Cell Format,\" a tool bar that gives you several formatting options will appear in the corner of all your [Raw Cells][raw cells]. If you want to view and present your notebook as a slideshow, you can select \"Slideshow\" and a toolbar that enables you to organize your cells in to slides, sub-slides, and slide fragments will appear in the corner of every cell. Go to [this section][slideshow] for more information on how to create a slideshow out of your Jupyter Notebook. \n",
      "![](jupytertoolbarsectionnumbering.png)|Clicking this button will automatically number your Notebook's sections. For more information, check out the Reference Guide's [section on Automatic Section Numbering][section numbering]\n",
      "![](jupytertoolbartableofcontents.png)|Clicking this button will generate a table of contents using the titles you've given your Notebook's sections. For more information, check out the Reference Guide's [section on Table of Contents Support][table of contents].\n",
      "![](jupytertoolbarbib.png)|Clicking this button will search your document for [cite commands][] and automatically generate intext citations as well as a references cell at the end of your Notebook. For more information, you can read the Reference Guide's [section on Bibliographic Support][bib support]\n",
      "![](jupytertoolbartab.png)|Clicking this button will toggle [cell tabbing][], which you can learn more about in the Reference Guides' [section on the layout options for Code Cells][cell layout]\n",
      "\n",
      "[cell kind]: #2.-Different-Kinds-of-Cells \"Different Kinds of Cells\"\n",
      "[code cells]: #2.1-Code-Cells \"Code Cells\"\n",
      "[raw cells]: #2.3-Raw-Cells \"Raw Cells\"\n",
      "[slideshow]: #3.-Turning-Your-Jupyter-Notebook-into-a-Slideshow \"Turning Your Jupyter Notebook Into a Slideshow\"\n",
      "[section numbering]: #Automatic-Section-Numbering\n",
      "[table of contents]: #Table-of-Contents-Support\n",
      "[cell tabbing]: #Cell-Tabbing\n",
      "[cell layout]: #Code-Cell-Layout\n",
      "[bib support]: #Bibliographic-Support\n",
      "[cite commands]: #Cite-Commands-and-Citation-IDs"
     ]
    },
    {
     "cell_type": "heading",
     "level": 1,
     "metadata": {
      "slideshow": {
       "slide_type": "slide"
      }
     },
     "source": [
      "Different Kinds of Cells"
     ]
    },
    {
     "cell_type": "markdown",
     "metadata": {},
     "source": [
      "There are essentially four kinds of cells in your Jupyter notebook: Code Cells, Markdown Cells, Raw Cells, and Header Cells, though there are six levels of Header Cells.  "
     ]
    },
    {
     "cell_type": "heading",
     "level": 2,
     "metadata": {},
     "source": [
      "Code Cells"
     ]
    },
    {
     "cell_type": "markdown",
     "metadata": {},
     "source": [
      "By default, Jupyter Notebooks' Code Cells will execute Python. Jupyter Notebooks generally also support JavaScript, Python, HTML, and Bash commands. For a more comprehensive list, see your Kernel's documentation. "
     ]
    },
    {
     "cell_type": "heading",
     "level": 3,
     "metadata": {},
     "source": [
      "Code Cell Layout"
     ]
    },
    {
     "cell_type": "heading",
     "level": 4,
     "metadata": {},
     "source": [
      "Row Configuration (Default Setting)"
     ]
    },
    {
     "cell_type": "heading",
     "level": 4,
     "metadata": {},
     "source": [
      "Cell Tabbing"
     ]
    },
    {
     "cell_type": "heading",
     "level": 4,
     "metadata": {},
     "source": [
      "Column Configuration"
     ]
    },
    {
     "cell_type": "heading",
     "level": 2,
     "metadata": {},
     "source": [
      "Markdown Cells"
     ]
    },
    {
     "cell_type": "markdown",
     "metadata": {},
     "source": [
      "In Jupyter Notebooks, Markdown Cells are the easiest way to write and format text. For a more thorough explanation of how to write in Markdown cells, refer to [this section of the guide][writing markdown].\n",
      "\n",
      "[writing markdown]: #6.-Using-Markdown-Cells-for-Writing \"Using Markdown Cells for Writing\"\n",
      "\n"
     ]
    },
    {
     "cell_type": "heading",
     "level": 2,
     "metadata": {},
     "source": [
      "Raw Cells"
     ]
    },
    {
     "cell_type": "markdown",
     "metadata": {},
     "source": [
      "Raw Cells, unlike all other Jupyter Notebook cells, have no input-output disction. This means that Raw Cells cannot be rendered into anything other than what they already are. If you click the run button in your tool bar with a Raw Cell selected, the cell will remain exactly as is and your Jupyter Notebook will automatically select the cell directly below it. Raw cells have no style options, just the same monospace font that you use in all other unrendered Notebook cells. You cannot bold, itallicize, or enlarge any text or characters in a Raw Cell. \n",
      "\n",
      "Because they have no rendered form, Raw Cells are mainly used to create examples. If you save and close your Notebook and then reopen it, all of the Code, Markdown, and Header Cells will automatically render in whatever form you left them when you first closed the document. This means  that if you wanted to preserve the unrendered version of a cell, say if you were writing a computer science paper and needed code examples, or if you were writing [documentation on how to use Markdown] [writing markdown] and needed to demonstrate what input would yield which output, then you might want to use a Raw Cell to make sure your examples stayed in their most useful form. \n",
      "\n",
      "[writing markdown]: #6.-Using-Markdown-Cells-for-Writing \"Using Markdown Cells for Writing\""
     ]
    },
    {
     "cell_type": "heading",
     "level": 2,
     "metadata": {},
     "source": [
      "Header Cells"
     ]
    },
    {
     "cell_type": "markdown",
     "metadata": {},
     "source": [
      "While it is possible to organize your document using [Markdown headers][], Header Cells provide a more deeply structural organization for your Notebook and thus there are several advantages to using them. \n",
      "\n",
      "[Markdown headers]: #6.3.3-Headers \"Headers\" "
     ]
    },
    {
     "cell_type": "heading",
     "level": 3,
     "metadata": {},
     "source": [
      "Linking"
     ]
    },
    {
     "cell_type": "markdown",
     "metadata": {},
     "source": [
      "Header Cells have specific locations inside your Notebook. This means you can use them to [create Notebook-internal links](#7.7.6.3.5-Notebook-Internal-Links \"Notebook-Internal Links\")."
     ]
    },
    {
     "cell_type": "heading",
     "level": 3,
     "metadata": {},
     "source": [
      "Automatic Section Numbering and Table of Contents Support"
     ]
    },
    {
     "cell_type": "markdown",
     "metadata": {},
     "source": [
      "Your Jupyter Notebook has two helpful tools that utilize the structural organization that Header Cells give your document: automatic section numbering and table of content generation. "
     ]
    },
    {
     "cell_type": "heading",
     "level": 4,
     "metadata": {},
     "source": [
      "Automatic Section Numbering"
     ]
    },
    {
     "cell_type": "markdown",
     "metadata": {},
     "source": [
      "Suppose you are writing a paper and, as is prone to happening when you have a lot of complicate thoughts buzzing around your brain, you've reorganized your ideas several times. Automatic section numbering will go through your Notebook and number your sections and subsection as designated by your Header Cells. This means that if you've moved one or more big sections around several times, you won't have to go through your paper and renumber it, as well as all its subsections, yourself. \n",
      "\n",
      "**Notes:** Even if you have previously numbered your sections, Automatic Section Numbering will go through your document, delete the current section numbers, and replace them the correct number in a linear sequence. This means that if your third section was once your second, Automatic Section Numbering will delete the \"2\" in front of your section's name and replace it with a \"3.\" \n",
      "\n",
      "While this function saves you a lot of time, it creates one limitation. Maybe you're writing a paper about children's books and one of the books you're discussing is called **`2 Cats`**. You've unsurprisingly titled the section where you summarize and analyze this book **`2 Cats`**. Automatic Section Numbering will assume the number 2 is section information and delete it, leaving just the title **`Cats`** behind. If you bold, itallicize, or place the title of the section inside quotes, however, the entire section title will be be preserved without any trouble. It should also be noted that even if you must title a section with a number occuring before any letters and you do not want to bold it, itallicize it, or place it inside quotes, then you can always run Automatic Section Numbering and then go to that section and retype its name by hand. \n",
      "\n",
      "Because Automatic Section Numbering uses your header cells, its performance relies somewhat on the clarity of your organization. If you have two sections that begin with Header 1 Cells in your paper, and each of the sections has two subsections that begin with Header 2 Cells, Automatic Section Numbering will number them 1, 1.1, 1.2, 2, 2.1, and 2.2 respectively. If, however, you have used a Header 3 Cell to indicate the beginning of what would have been section 2.1, Automatic Section Numbering will number that section 2.0.1 and an error message will appear telling you that \"You placed a Header 3 cell under a Header 2 Cell in section 2\". Similarly, if you begin your paper with any Header Cell smaller than a Header 1, say a Header 3 Cell, then Automatic Section Numbering will number your first section 0.0.3 and an error message will appear telling you that \"Notebook begins with a Header 3 Cell.\"\n"
     ]
    },
    {
     "cell_type": "heading",
     "level": 4,
     "metadata": {},
     "source": [
      "Table of Contents Support"
     ]
    },
    {
     "cell_type": "markdown",
     "metadata": {},
     "source": [
      "The Table of Contents tool will automatically generate a table of contents for your paper by taking all your Header Cell titles and ordering them in a list, which it will place in a new cell at the very beginning of you Notebook. Because your Notebook does note utilize formal page breaks or numbers, each listed section will be hyperlinked to the actual section within your document.\n",
      "\n",
      "**Notes:**Because Table of Contents Support uses your header cells, its performance relies somewhat on the clarity of your organization. If you have two sections that begin with Header 1 Cells in your paper, and each of the sections has two subsections that begin with Header 2 Cells, Table of Contents will order them in the following way:\n",
      "\n",
      "* 1.\n",
      "   * 1.1\n",
      "   * 1.2\n",
      "* 2.\n",
      "   * 2.1\n",
      "   * 2.2\n",
      "    \n",
      "\n",
      "If, however, you have used a Header 3 Cell to indicate the beginning of what would have been section 2.1, Table of Contents Support will insert a dummy line so that your table of contents looks like this:\n",
      "\n",
      "\n",
      "* 1.\n",
      "   * 1.1\n",
      "   * 1.2\n",
      "* 2.\n",
      "   * &nbsp;           \n",
      "       * 2.0.1\n",
      "   * 2.2\n",
      "\n"
     ]
    },
    {
     "cell_type": "heading",
     "level": 4,
     "metadata": {},
     "source": [
      "A Few Things to Keep in Mind When Using Both Automatic Section Numbering and Table of Contents Support"
     ]
    },
    {
     "cell_type": "markdown",
     "metadata": {},
     "source": [
      "If you have already generated a table of contents and you then run Automatic Section Numbering, your table of contents will also update with the section numbering. If you decide to undo Automatic Section Numbering, your table of contents will still be updated to reflect the new unumbered section titles. Automatic Section Numbering will always automatically update an existing table of contents. It will do this for you if you have rearranged already numbered Header Cells AND if you have introduced new unnumbered Header Cells. \n",
      "\n",
      "If, however, you use Automatic Section Numbering and after that you create a new unnumbered Header Cell, and THEN you use the Table of Contents Support, the new Header Cell will not be numbered to match the other sections and it will appear unnumbered in the generated table of contents. This means that if you have already used Automatic Section Numbering and you introduce new unnumbered cells and then wish to generate a table of contents using the Notebook's Table of Contents Support, you will have to use Automatic Section Numbering before generating your table of contents. "
     ]
    },
    {
     "cell_type": "heading",
     "level": 1,
     "metadata": {},
     "source": [
      "Turning Your Jupyter Notebook into a Slideshow"
     ]
    },
    {
     "cell_type": "heading",
     "level": 1,
     "metadata": {},
     "source": [
      "Bibliographic Support"
     ]
    },
    {
     "cell_type": "markdown",
     "metadata": {},
     "source": [
      "Bibliographic Support in your Notebook does two big things and they both happen when you click the Generate References button in your toolbar. First, the software searches your note\n",
      "\n"
     ]
    },
    {
     "cell_type": "markdown",
     "metadata": {},
     "source": [
      "References are generated without a header cell, just a [markdown header][]. This means that if you want a References section to appear in your table of contents, you will have to unrender the References cell, delete the \"References\" header, make a Header Cell of the appropriate level and title it \"References\" yourself, and then generate a table of contents using [Table of Contents Support][table of contents].\n",
      "\n",
      "[markdown header]:#Headers\n",
      "[table of contents]: #Table-of-Contents-Support"
     ]
    },
    {
     "cell_type": "heading",
     "level": 2,
     "metadata": {},
     "source": [
      "Formatting Your Bibliography Notebook"
     ]
    },
    {
     "cell_type": "markdown",
     "metadata": {},
     "source": [
      "Below is an example from [this sample history paper][samplepaper] about the fictional island nation of Calico. (None of the entries contain information about real books or articles):"
     ]
    },
    {
     "cell_type": "raw",
     "metadata": {},
     "source": [
      "%%bibtex\n",
      "\n",
      "@book{wellfarecut,\n",
      "    title = {Our Greatest Threat: The Rise of Anti-Wellfare Politics in Calico in the 21st Century},\n",
      "    author = {Jacob, Bernadette},\n",
      "    year = {2010},\n",
      "    publisher = {Jupyter University Press}\n",
      "}\n",
      "         \n",
      "        \n",
      "         \n",
      "@article{militaryex2,\n",
      "    title = {Rethinking Calican Military Expansion for the New Century},\n",
      "    author = {Collier, Brian F.},\n",
      "    journal = {Modern Politics},\n",
      "    volume = {60},\n",
      "    issue = {25},\n",
      "    pages = {35 - 70},\n",
      "    year = {2012} \n",
      "}\n",
      "\n",
      "@article{militaryex1,\n",
      "    title = {Conservative Majority Passes Budget to Grow Military},\n",
      "    author = {Lane, Lois},\n",
      "    journal = {The Daily Calican},\n",
      "    month = {October 19th, 2011},\n",
      "    pages = {15 - 17},\n",
      "    year = {2011}\n",
      "}\n",
      "\n",
      "@article{oildrill,\n",
      "    title = {Oil Drilling Off the Coast of Jupyter Approved for Early Next Year},\n",
      "    author = {Marks, Meghan L.},\n",
      "    journal = {The Python Gazette},\n",
      "    month = {December 5th, 2012},\n",
      "    pages = {8 - 9},\n",
      "    year = {2012}\n",
      "}\n",
      "\n",
      "@article{rieseinterview,\n",
      "    title = {Interview with Up and Coming Freshman Senator, Alec Riese of Python},\n",
      "    author = {Wilmington, Oliver},\n",
      "    journal = {The Jupyter Times},\n",
      "    month = {November 24th, 2012},\n",
      "    pages = {4 - 7},\n",
      "    year = {2012}\n",
      "}\n",
      "\n",
      "@book{calicoww2:1,\n",
      "    title = {Calico and WWII: Untold History},\n",
      "    author = {French, Viola},\n",
      "    year = {1997},\n",
      "    publisher = {Calicia City Free Press}\n",
      "}\n",
      "\n",
      "@book{calicoww2:2,\n",
      "    title = {Rebuilding Calico After Japanese Occupation},\n",
      "    author = {Kepps, Milo },\n",
      "    year = {2002},\n",
      "    publisher = {Python Books}\n",
      "}"
     ]
    },
    {
     "cell_type": "heading",
     "level": 2,
     "metadata": {},
     "source": [
      "Cite Commands and Citation IDs"
     ]
    },
    {
     "cell_type": "code",
     "collapsed": false,
     "input": [],
     "language": "python",
     "metadata": {},
     "outputs": []
    },
    {
     "cell_type": "heading",
     "level": 1,
     "metadata": {},
     "source": [
      "Keyboard Shortcuts"
     ]
    },
    {
     "cell_type": "markdown",
     "metadata": {},
     "source": [
      "Jupyter Notbooks support many helpful Keyboard shortcuts, including ones for most of the buttons in [your toolbar][]. To view these shortcuts, you can click the help menu and then select Keyboard Shortcuts, as pictured below. \n",
      "\n",
      "[your toolbar]: #1.-Getting-to-Know-your-Jupyter-Notebook's-Toolbar \"Getting to know Your Jupyter Notebook's Toolbar\""
     ]
    },
    {
     "cell_type": "markdown",
     "metadata": {},
     "source": [
      "![](keyboardshortcuts.png)"
     ]
    },
    {
     "cell_type": "heading",
     "level": 1,
     "metadata": {},
     "source": [
      "Using Markdown Cells for Writing"
     ]
    },
    {
     "cell_type": "markdown",
     "metadata": {},
     "source": [
      "**Why aren't there font and font size selection drop down menus, buttons I can press to bold and italicize my text, or other advanced style options in my Notebook?**"
     ]
    },
    {
     "cell_type": "markdown",
     "metadata": {},
     "source": [
      "When you use Microsoft Word, Google Docs, Apple Pages, Open Office, or any other word processing software, you generally use your mouse to select various style options, like line spacing, font size, font color, paragraph format etc. This kind of system is often describes as a WYSIWYG (What You See Is What You Get) interface. This means that the input (what you tell the computer) exactly matches the output (what the computer gives back to you). If you type the letter \u2018G\u2019, highlight it, select the color green and up the font size to 64 pt, your wordprocessor will show you a fairly large green colored letter \u2018G.\u2019 And if you print out that document you will print out a fairly large green colored letter \u2018G\u2019. \n",
      "\n",
      "This Notebook, however, does not use a WYSIWYG interface. Instead it uses something called a \"[markup Language][]\". When you use a a markup language, your input does not necessarily exactly equal your output.\n",
      "\n",
      "\n",
      "[markup language]: http://en.wikipedia.org/wiki/Markup_language \"Wikipedia Article on Markup\"\n",
      "\n"
     ]
    },
    {
     "cell_type": "markdown",
     "metadata": {},
     "source": [
      "For example, if I type \"#Header 1\" at the beginning of a cell, but then press Shift-Enter (or click the play button at the top of the window), this notebook will turn my input into a somewhat different output in the following way:"
     ]
    },
    {
     "cell_type": "markdown",
     "metadata": {},
     "source": [
      "<pre>\n",
      "#Header 1\n",
      "</pre>"
     ]
    },
    {
     "cell_type": "markdown",
     "metadata": {},
     "source": [
      "#Header 1"
     ]
    },
    {
     "cell_type": "markdown",
     "metadata": {},
     "source": [
      "And if I type **`##Header 2`** (at the beginning of a cell), this notebook will turn that input into another output:"
     ]
    },
    {
     "cell_type": "markdown",
     "metadata": {},
     "source": [
      "<pre>\n",
      "##Header 2\n",
      "</pre>"
     ]
    },
    {
     "cell_type": "markdown",
     "metadata": {},
     "source": [
      "##Header 2"
     ]
    },
    {
     "cell_type": "markdown",
     "metadata": {},
     "source": [
      "In these examples, the hashtags are markers which tell the Notebook how to typeset the text. There are many markup languages, but one family, or perhaps guiding philosophy, of markup languages is called \"Markdown,\" named somewhat jokingly for its simplicity. Your Notebook uses \"marked,\" a Markdown library of typeset and other formatting instructions, like the hashtags in the examples above.\n",
      "\n",
      "Markdown is a markup language that generates HTML, which the cell can interpret and render. This means that Markdown Cells can also render plain HTML code. If you're interested in learning HTML, check out this [helpful online tutorial][html tutorial].\n",
      "\n",
      "[html tutorial]: http://www.w3schools.com/html/ \"w3schools.com HTML Tutorial\""
     ]
    },
    {
     "cell_type": "markdown",
     "metadata": {},
     "source": [
      "**Why Use Markdown (and not a WYSIWYG)?**"
     ]
    },
    {
     "cell_type": "markdown",
     "metadata": {},
     "source": [
      "Why is Markdown better? Well, it\u2019s worth saying that maybe it isn't. Mainly, it\u2019s not actually a question of better or worse, but of what\u2019s in front of you and of who you are. A definitive answer depends on the user and on that user\u2019s goals and experience. These Notebooks don't use Markdown because it's definitely better, but rather because it's different and thus encourages users to think about their work differently. \n",
      "\n",
      "It is very important for computer science students to learn how to conceptualize input and output as dependent, but also distinct. One good reason to use Markdown is that it encourages this kind of thinking. Relatedly, it might also promote focus on substance over surface aesthetic. Markdown is somewhat limited in its style options, which means that there are inherently fewer non-subject-specifc concerns to agonize over while working. It is the conceit of this philosophy that you would, by using Markdown and this Notebook, begin to think of the specific stylistic rendering of your cells as distinct from what you type into those same cells, and thus also think of the content of your writing as necessarily separate from its formating and appearance. "
     ]
    },
    {
     "cell_type": "heading",
     "level": 2,
     "metadata": {},
     "source": [
      "Block Elements"
     ]
    },
    {
     "cell_type": "heading",
     "level": 3,
     "metadata": {},
     "source": [
      "Paragraph Breaks"
     ]
    },
    {
     "cell_type": "markdown",
     "metadata": {},
     "source": [
      "Paragraphs consist of one or more consecutive lines of text and they are separated by one or more blank lines. If a line contains only spaces, it is a blank line."
     ]
    },
    {
     "cell_type": "heading",
     "level": 3,
     "metadata": {},
     "source": [
      "Line Breaks"
     ]
    },
    {
     "cell_type": "heading",
     "level": 4,
     "metadata": {},
     "source": [
      "Hard-Wrapping and Soft-Wrapping"
     ]
    },
    {
     "cell_type": "markdown",
     "metadata": {},
     "source": [
      "If you're used to word processing software, you've been writing with automatically hard-wrapped lines and paragraphs. In a hard-wrapped paragraph the line breaks are not dependent on the size of the viewing window. If you click and drag your mouse to expand a word processing document, for example, the shape of the paragraphs and the length of the lines will not change. In other words, the length of a hard-wrapped line is determined either by the number of words in the line (in the case of word processing software where this number is predetermined and the program wraps for the user automatically), or individual intention (when a user manually presses an Enter or Return key to controll exactly how long a line is).\n",
      "\n",
      "Soft-wrapped paragraphs and lines, however, *do* depend on the size of their viewing window. If you increase the size of a window where soft-wrapped paragraphs are displayed, they too will expand into longer lines, becoming shorter and wider to fill the increased window space horizontally. Unsurprising, then, if you *narrow* a window, soft-wrapped lines will shrink and the paragraphs will become longer vertically. \n",
      "\n",
      "Markdown, unlike most word processing software, does not automatically hard-wrap. If you want your paragraphs to have a particular or deliberate shape and size, you must insert your own break by ending the line with two spaces and then typing Return.\n"
     ]
    },
    {
     "cell_type": "heading",
     "level": 4,
     "metadata": {},
     "source": [
      "Soft-Wrapping"
     ]
    },
    {
     "cell_type": "markdown",
     "metadata": {},
     "source": [
      "<tt>\n",
      "blah blah blah blah blah blah blah blah blah blah blah blah blah blah blah blah blah blah blah blah blah blah blah blah blah blah blah blah blah blah blah blah blah blah blah blah blah blah blah blah blah blah blah blah blah\n",
      "</tt>"
     ]
    },
    {
     "cell_type": "markdown",
     "metadata": {},
     "source": [
      "blah blah blah blah blah blah blah blah blah blah blah blah blah blah blah blah blah blah blah blah blah blah blah blah blah blah blah blah blah blah blah blah blah blah blah blah blah blah blah blah blah blah blah blah blah"
     ]
    },
    {
     "cell_type": "heading",
     "level": 4,
     "metadata": {},
     "source": [
      "Hard-Wrapping"
     ]
    },
    {
     "cell_type": "markdown",
     "metadata": {},
     "source": [
      "<tt>\n",
      "blah blah blah blah blah  \n",
      "blah blah blah blah blah blah blah blah blah  \n",
      "blah blah blah blah blah blah blah blah blah blah blah  \n",
      "blah blah blah blah blah  \n",
      "blah blah blah blah blah   \n",
      "blah blah blah blah blah blah blah blah blah blah blah blah blah  \n",
      "</tt>"
     ]
    },
    {
     "cell_type": "markdown",
     "metadata": {},
     "source": [
      "blah blah blah blah blah  \n",
      "blah blah blah blah blah blah blah blah blah  \n",
      "blah blah blah blah blah blah blah blah blah blah blah  \n",
      "blah blah blah blah blah  \n",
      "blah blah blah blah blah   \n",
      "blah blah blah blah blah blah blah blah blah blah blah blah blah  \n"
     ]
    },
    {
     "cell_type": "heading",
     "level": 3,
     "metadata": {},
     "source": [
      "Headers"
     ]
    },
    {
     "cell_type": "markdown",
     "metadata": {},
     "source": [
      "<pre>\n",
      "#Header 1\n",
      "</pre>"
     ]
    },
    {
     "cell_type": "markdown",
     "metadata": {},
     "source": [
      "#Header 1"
     ]
    },
    {
     "cell_type": "markdown",
     "metadata": {},
     "source": [
      "<pre>\n",
      "##Header 2\n",
      "</pre>"
     ]
    },
    {
     "cell_type": "markdown",
     "metadata": {},
     "source": [
      "##Header 2"
     ]
    },
    {
     "cell_type": "markdown",
     "metadata": {},
     "source": [
      "<pre>\n",
      "###Header 3\n",
      "</pre>"
     ]
    },
    {
     "cell_type": "markdown",
     "metadata": {},
     "source": [
      "###Header 3"
     ]
    },
    {
     "cell_type": "markdown",
     "metadata": {},
     "source": [
      "<pre>\n",
      "####Header 4\n",
      "</pre>"
     ]
    },
    {
     "cell_type": "markdown",
     "metadata": {},
     "source": [
      "####Header 4"
     ]
    },
    {
     "cell_type": "markdown",
     "metadata": {},
     "source": [
      "<pre>\n",
      "#####Header 5\n",
      "</pre>"
     ]
    },
    {
     "cell_type": "markdown",
     "metadata": {},
     "source": [
      "#####Header 5"
     ]
    },
    {
     "cell_type": "markdown",
     "metadata": {},
     "source": [
      "<pre>\n",
      "######Header 6\n",
      "</pre>"
     ]
    },
    {
     "cell_type": "markdown",
     "metadata": {},
     "source": [
      "######Header 6"
     ]
    },
    {
     "cell_type": "heading",
     "level": 3,
     "metadata": {},
     "source": [
      "Block Quotes"
     ]
    },
    {
     "cell_type": "heading",
     "level": 4,
     "metadata": {},
     "source": [
      "Standard Block Quoting"
     ]
    },
    {
     "cell_type": "markdown",
     "metadata": {},
     "source": [
      "<tt>\n",
      ">blah blah block quote blah blah block quote blah blah block  \n",
      "quote blah blah block quote blah blah block   \n",
      "quote blah blah block quote blah blah block quote blah blah block quote\n",
      "</tt>"
     ]
    },
    {
     "cell_type": "markdown",
     "metadata": {},
     "source": [
      ">blah blah block quote blah blah block quote blah blah block  \n",
      "quote blah blah block quote blah blah block   \n",
      "quote blah blah block quote blah blah block quote blah blah block quote"
     ]
    },
    {
     "cell_type": "markdown",
     "metadata": {},
     "source": [
      "**Note**: Block quotes work best if you intentionally hard-wrap the lines."
     ]
    },
    {
     "cell_type": "heading",
     "level": 4,
     "metadata": {},
     "source": [
      "Nested Block Quoting"
     ]
    },
    {
     "cell_type": "markdown",
     "metadata": {},
     "source": [
      "<tt>\n",
      ">blah blah block quote blah blah block quote blah blah block  \n",
      "block quote blah blah block block quote blah blah block  \n",
      ">>quote blah blah block quote blah blah  \n",
      "block block quote blah blah block   \n",
      ">>>quote blah blah block quote blah blah block quote blah blah block quote\n",
      "</tt>"
     ]
    },
    {
     "cell_type": "markdown",
     "metadata": {},
     "source": [
      ">blah blah block quote blah blah block quote blah blah block  \n",
      "block quote blah blah block block quote blah blah block  \n",
      ">>quote blah blah block quote blah blah  \n",
      "block block quote blah blah block   \n",
      ">>>quote blah blah block quote blah blah block quote blah blah block quote"
     ]
    },
    {
     "cell_type": "heading",
     "level": 3,
     "metadata": {},
     "source": [
      "Lists"
     ]
    },
    {
     "cell_type": "heading",
     "level": 4,
     "metadata": {},
     "source": [
      "Ordered Lists"
     ]
    },
    {
     "cell_type": "markdown",
     "metadata": {},
     "source": [
      "In Markdown, you can list items using numbers, a **`+`**, a **` - `**, or a **`*`**. However, if the first item in a list or sublist is numbered, Markdown will interpret the entire list as ordered and will automatically number the items linearly, no matter what character you use to denote any given separate item."
     ]
    },
    {
     "cell_type": "markdown",
     "metadata": {},
     "source": [
      "<pre>\n",
      "####Groceries:\n",
      "\n",
      "0. Fruit:\n",
      "    6. Pears\n",
      "    0. Peaches\n",
      "    3. Plums\n",
      "    4. Apples \n",
      "        2. Granny Smith \n",
      "        7. Gala\n",
      "    * Oranges\n",
      "    - Berries \n",
      "        8. Strawberries \n",
      "        + Blueberries\n",
      "        * Raspberries\n",
      "    - Bananas\n",
      "9. Bread:\n",
      "    9. Whole Wheat\n",
      "        0. With oats on crust\n",
      "        0. Without oats on crust\n",
      "    0. Rye \n",
      "    0. White\n",
      "0. Dairy:\n",
      "    0. Milk\n",
      "        0. Whole\n",
      "        0. Skim\n",
      "    0. Cheese\n",
      "        0. Wisconsin Cheddar\n",
      "        0. Pepper Jack\n",
      "</pre>"
     ]
    },
    {
     "cell_type": "markdown",
     "metadata": {},
     "source": [
      "####Groceries:\n",
      "\n",
      "0. Fruit:\n",
      "    6. Pears\n",
      "    0. Peaches\n",
      "    3. Plums\n",
      "    4. Apples \n",
      "        2. Granny Smith \n",
      "        7. Gala\n",
      "    * Oranges\n",
      "    - Berries \n",
      "        8. Strawberries \n",
      "        + Blueberries\n",
      "        * Raspberries\n",
      "    - Bananas\n",
      "9. Bread:\n",
      "    9. Whole Wheat\n",
      "        0. With oats on crust\n",
      "        0. Without oats on crust\n",
      "    0. Rye \n",
      "    0. White\n",
      "0. Dairy:\n",
      "    0. Milk\n",
      "        0. Whole\n",
      "        0. Skim\n",
      "    0. Cheese\n",
      "        0. Wisconsin Cheddar\n",
      "        0. Pepper Jack"
     ]
    },
    {
     "cell_type": "heading",
     "level": 4,
     "metadata": {},
     "source": [
      "Bulleted Lists"
     ]
    },
    {
     "cell_type": "markdown",
     "metadata": {},
     "source": [
      "If you begin your list or sublist with a **`+`**, a **` - `**, or a **`*`**, then Markdown will interpret the whole list as unordered and will use bullets regardless of the characters you type before any individual list item."
     ]
    },
    {
     "cell_type": "markdown",
     "metadata": {},
     "source": [
      "<pre>\n",
      "####Groceries:\n",
      "\n",
      "* Fruit:\n",
      "    * Pears\n",
      "    0. Peaches\n",
      "    3. Plums\n",
      "    4. Apples \n",
      "        - Granny Smith \n",
      "        7. Gala\n",
      "    * Oranges\n",
      "    - Berries \n",
      "        - Strawberries \n",
      "        + Blueberries\n",
      "        * Raspberries\n",
      "    - Bananas\n",
      "9. Bread:\n",
      "    * Whole Wheat\n",
      "        * With oats on crust\n",
      "        0. Without oats on crust\n",
      "    + Rye \n",
      "    0. White\n",
      "0. Dairy:\n",
      "    * Milk\n",
      "        + Whole\n",
      "        0. Skim\n",
      "    - Cheese\n",
      "        - Wisconsin Cheddar\n",
      "        0. Pepper Jack\n",
      "</pre>"
     ]
    },
    {
     "cell_type": "markdown",
     "metadata": {},
     "source": [
      "####Groceries:\n",
      "\n",
      "* Fruit:\n",
      "    * Pears\n",
      "    0. Peaches\n",
      "    3. Plums\n",
      "    4. Apples \n",
      "        - Granny Smith \n",
      "        7. Gala\n",
      "    * Oranges\n",
      "    - Berries \n",
      "        - Strawberries \n",
      "        + Blueberries\n",
      "        * Raspberries\n",
      "    - Bananas\n",
      "9. Bread:\n",
      "    * Whole Wheat\n",
      "        * With oats on crust\n",
      "        0. Without oats on crust\n",
      "    + Rye \n",
      "    0. White\n",
      "0. Dairy:\n",
      "    * Milk\n",
      "        + Whole\n",
      "        0. Skim\n",
      "    - Cheese\n",
      "        - Wisconsin Cheddar\n",
      "        0. Pepper Jack"
     ]
    },
    {
     "cell_type": "heading",
     "level": 3,
     "metadata": {},
     "source": [
      "Section Breaks"
     ]
    },
    {
     "cell_type": "markdown",
     "metadata": {},
     "source": [
      "<pre>\n",
      "___\n",
      "</pre>"
     ]
    },
    {
     "cell_type": "markdown",
     "metadata": {},
     "source": [
      "___ "
     ]
    },
    {
     "cell_type": "markdown",
     "metadata": {},
     "source": [
      "<pre>\n",
      "***\n",
      "</pre>"
     ]
    },
    {
     "cell_type": "markdown",
     "metadata": {},
     "source": [
      "***"
     ]
    },
    {
     "cell_type": "markdown",
     "metadata": {},
     "source": [
      "<pre>------</pre>"
     ]
    },
    {
     "cell_type": "markdown",
     "metadata": {},
     "source": [
      "------"
     ]
    },
    {
     "cell_type": "markdown",
     "metadata": {},
     "source": [
      "<pre>\n",
      "* * *\n",
      "</pre>"
     ]
    },
    {
     "cell_type": "markdown",
     "metadata": {},
     "source": [
      "* * *"
     ]
    },
    {
     "cell_type": "markdown",
     "metadata": {},
     "source": [
      "<pre>_ _ _</pre>"
     ]
    },
    {
     "cell_type": "markdown",
     "metadata": {},
     "source": [
      "_ _ _"
     ]
    },
    {
     "cell_type": "markdown",
     "metadata": {},
     "source": [
      "<pre>\n",
      "- - -\n",
      "</pre>"
     ]
    },
    {
     "cell_type": "markdown",
     "metadata": {},
     "source": [
      "- - -"
     ]
    },
    {
     "cell_type": "heading",
     "level": 2,
     "metadata": {},
     "source": [
      "Backslash Escape"
     ]
    },
    {
     "cell_type": "markdown",
     "metadata": {},
     "source": [
      "What happens if you want to include a literal character, like a **`#`**, that usually has a specific function in Markdown? Backslash Escape is a function that prevents Markdown from interpreting a character as an instruction, rather than as the character itself. It works like this:"
     ]
    },
    {
     "cell_type": "markdown",
     "metadata": {},
     "source": [
      "<pre>\n",
      "\\# Wow, this isn't a header. \n",
      "# This is definitely a header.\n",
      "</pre>"
     ]
    },
    {
     "cell_type": "markdown",
     "metadata": {},
     "source": [
      "\\# Wow, this isn't a header. \n",
      "# This is definitely a header."
     ]
    },
    {
     "cell_type": "markdown",
     "metadata": {},
     "source": [
      "Markdown allows you to use a backslash to escape from the functions of the following characters:\n",
      "* \\   backslash\n",
      "* `   backtick\n",
      "* \\*   asterisk\n",
      "* _   underscore\n",
      "* {}  curly braces\n",
      "* []  square brackets\n",
      "* ()  parentheses\n",
      "* \\#   hashtag\n",
      "* \\+   plus sign|\n",
      "* \\-   minus sign (hyphen)\n",
      "* .   dot\n",
      "* !   exclamation mark"
     ]
    },
    {
     "cell_type": "heading",
     "level": 2,
     "metadata": {},
     "source": [
      "Hyperlinks"
     ]
    },
    {
     "cell_type": "heading",
     "level": 3,
     "metadata": {},
     "source": [
      "Automatic Links"
     ]
    },
    {
     "cell_type": "markdown",
     "metadata": {},
     "source": [
      "<pre>\n",
      "http://en.wikipedia.org\n",
      "</pre>"
     ]
    },
    {
     "cell_type": "markdown",
     "metadata": {},
     "source": [
      "http://en.wikipedia.org"
     ]
    },
    {
     "cell_type": "heading",
     "level": 3,
     "metadata": {},
     "source": [
      "Standard Links Without Mouse-Over Titles"
     ]
    },
    {
     "cell_type": "markdown",
     "metadata": {},
     "source": [
      "<pre>\n",
      "[click this link](http://en.wikipedia.org)\n",
      "</pre>"
     ]
    },
    {
     "cell_type": "markdown",
     "metadata": {},
     "source": [
      "[click this link](http://en.wikipedia.org)"
     ]
    },
    {
     "cell_type": "heading",
     "level": 3,
     "metadata": {},
     "source": [
      "Standard Links With Mouse-Over Titles"
     ]
    },
    {
     "cell_type": "markdown",
     "metadata": {},
     "source": [
      "<pre>\n",
      "[click this link](http://en.wikipedia.org \"Wikipedia\")\n",
      "</pre>"
     ]
    },
    {
     "cell_type": "markdown",
     "metadata": {},
     "source": [
      "[click this link](http://en.wikipedia.org \"Wikipedia\")"
     ]
    },
    {
     "cell_type": "heading",
     "level": 3,
     "metadata": {},
     "source": [
      "Reference Links"
     ]
    },
    {
     "cell_type": "markdown",
     "metadata": {},
     "source": [
      "Suppose you are writing a document in which you intend to include many links. The format above is a little arduous and if you have to do it repeatedly *while* you're trying to focus on the content of what you're writing, it's going to be a really big pain. \n",
      "\n",
      "Fortunately, there is an alternative way to insert hyperlinks into your text, one where you indicate that there is a link, name that link, and then use the name to provide the actualy URL later on when you're less in the writing zone. This method can be thought of as a \"reference-style\" link because it is similar to using in-text citations and then defining those citations later in a more detailed reference section or bibliography. \n"
     ]
    },
    {
     "cell_type": "markdown",
     "metadata": {},
     "source": [
      "<pre>\n",
      "This is [a reference] [identification tag for link]\n",
      "\n",
      "[identification tag for link]: http://en.wikipedia.org/wiki/Chile \"Wikipedia Article About Chile\"\n",
      "</pre>"
     ]
    },
    {
     "cell_type": "markdown",
     "metadata": {},
     "source": [
      "This is [a reference] [identification tag for link]\n",
      "\n",
      "[identification tag for link]: http://en.wikipedia.org/wiki/Chile \"Wikipedia Article About Chile\""
     ]
    },
    {
     "cell_type": "markdown",
     "metadata": {},
     "source": [
      "**Note:** The \"identification tag for link\" can be anything. For example:"
     ]
    },
    {
     "cell_type": "markdown",
     "metadata": {},
     "source": [
      "<pre>\n",
      "This is [a reference] [lfskdhflhslgfh333676]\n",
      "\n",
      "[lfskdhflhslgfh333676]: http://en.wikipedia.org/wiki/Chile \"Wikipedia Article About Chile\"\n",
      "</pre>"
     ]
    },
    {
     "cell_type": "markdown",
     "metadata": {},
     "source": [
      "This is [a reference] [lfskdhflhslgfh333676]\n",
      "\n",
      "[lfskdhflhslgfh333676]: http://en.wikipedia.org/wiki/Chile \"Wikipedia Article About Chile\""
     ]
    },
    {
     "cell_type": "markdown",
     "metadata": {},
     "source": [
      "This means you can give your link an intuitive, easy to remember, and relevant ID:"
     ]
    },
    {
     "cell_type": "markdown",
     "metadata": {},
     "source": [
      "<pre>\n",
      "This is [a reference] [Chile]\n",
      "\n",
      "[chile]: http://en.wikipedia.org/wiki/Chile \"Wikipedia Article About Chile\"\n",
      "</pre>"
     ]
    },
    {
     "cell_type": "markdown",
     "metadata": {},
     "source": [
      "This is [a reference] [Chile]\n",
      "\n",
      "[chile]: http://en.wikipedia.org/wiki/Chile \"Wikipedia Article About Chile\""
     ]
    },
    {
     "cell_type": "markdown",
     "metadata": {},
     "source": [
      "**Note**: Link IDs are not case-sensitive."
     ]
    },
    {
     "cell_type": "markdown",
     "metadata": {},
     "source": [
      "If you don't want to give your link an ID, you don't have to. As a short cut, Markdown will understand if you just use the words in the first set of brackets to define the link later on. This works in the following way:"
     ]
    },
    {
     "cell_type": "markdown",
     "metadata": {},
     "source": [
      "<pre>\n",
      "This is [a reference] []\n",
      "\n",
      "[a reference]: http://en.wikipedia.org/wiki/Chile \"Wikipedia Article About Chile\"\n",
      "</pre>"
     ]
    },
    {
     "cell_type": "markdown",
     "metadata": {},
     "source": [
      "This is [a reference] []\n",
      "\n",
      "[a reference]: http://en.wikipedia.org/wiki/Chile \"Wikipedia Article About Chile\""
     ]
    },
    {
     "cell_type": "markdown",
     "metadata": {},
     "source": [
      "Another really hepful feature of a reference-style link is that you can define the link anywhere in the cell. (must be in the cell) For example:\n"
     ]
    },
    {
     "cell_type": "markdown",
     "metadata": {},
     "source": [
      "<pre>\n",
      "This is [a reference] [ref] blah blah blah blah blah blah blah blah blah blah blah blah blah blah blah blah blah blah blah blah blah blah blah blah blah blah blah blah blah blah blah blah blah blah blah blah blah blah blah blah blah blah blah blah blah blah blah blah blah blah blah blah blah blah blah blah blah blah blah blah blah blah blah blah blah blah blah blah blah blah blah blah blah blah blah blah blah blah blah blah blah blah blah blah blah blah blah blah blah blah blah blah blah blah blah blah blah blah blah blah blah blah blah blah blah blah blah blah blah blah blah blah\n",
      "blah blah blah blah blah blah blah blah blah blah blah blah blah blah blah blah blah blah blah blah blah blah blah blah blah blah blah blah blah blah blah blah blah blah blah blah blah blah blah blah blah blah blah blah blah blah blah blah blah blah blah blah blah blah blah blah\n",
      "\n",
      "[ref]: http://en.wikipedia.org/wiki/Chile \"Wikipedia Article About Chile\"\n",
      "</pre>"
     ]
    },
    {
     "cell_type": "markdown",
     "metadata": {},
     "source": [
      "This is [a reference] [ref] blah blah blah blah blah blah blah blah blah blah blah blah blah blah blah blah blah blah blah blah blah blah blah blah blah blah blah blah blah blah blah blah blah blah blah blah blah blah blah blah blah blah blah blah blah blah blah blah blah blah blah blah blah blah blah blah blah blah blah blah blah blah blah blah blah blah blah blah blah blah blah blah blah blah blah blah blah blah blah blah blah blah blah blah blah blah blah blah blah blah blah blah blah blah blah blah blah blah blah blah blah blah blah blah blah blah blah blah blah blah blah blah\n",
      "blah blah blah blah blah blah blah blah blah blah blah blah blah blah blah blah blah blah blah blah blah blah blah blah blah blah blah blah blah blah blah blah blah blah blah blah blah blah blah blah blah blah blah blah blah blah blah blah blah blah blah blah blah blah blah blah\n",
      "\n",
      "[ref]: http://en.wikipedia.org/wiki/Chile \"Wikipedia Article About Chile\""
     ]
    },
    {
     "cell_type": "markdown",
     "metadata": {},
     "source": [
      "**Note:** Providing a mouse-over title for any link, regardless of whether it is a standard or reference-stlye type, is optional. With reference-style links, you can include the mouse-over title by placing it in quotes, single quotes, or parentheses. For standard links, you can only define a mouse-over title in quotes.\n",
      "\n"
     ]
    },
    {
     "cell_type": "heading",
     "level": 3,
     "metadata": {},
     "source": [
      "Notebook-Internal Links"
     ]
    },
    {
     "cell_type": "markdown",
     "metadata": {},
     "source": [
      "When you create a Header you also create a discrete location within your Notebook. This means that, just like you can link to a specific location on the web, you can also link to a Header Cell inside your Notebook. Internal links have very similar Markdown formatting to regular links. The only difference is that the name of the link, which is the URL in the case of external links, is just a hashtag plus the name of the Header Cell you are linking to (case-sensitive) with dashes in between every word. If you hover your mouse over a Header Cell, a blue greek pi letter will appear next to your title. If you click on it, the URL at the top of your window will change and the internal link to that section will appear last in the address. You can copy and paste it in order to make an internal link inside a Markdown Cell.  "
     ]
    },
    {
     "cell_type": "heading",
     "level": 4,
     "metadata": {},
     "source": [
      "Standard Notebook-Internal Links Without Mouse-Over Titles"
     ]
    },
    {
     "cell_type": "markdown",
     "metadata": {},
     "source": [
      "<pre>\n",
      "[Here's a link to the section of Automatic Section Numbering](#Automatic-Section-Numbering)\n",
      "</pre>"
     ]
    },
    {
     "cell_type": "markdown",
     "metadata": {},
     "source": [
      "[Here's a link to the section of Automatic Section Numbering](#7.7.2.4.2.1-Automatic-Section-Numbering)"
     ]
    },
    {
     "cell_type": "heading",
     "level": 4,
     "metadata": {},
     "source": [
      "Standard Notebook-Internal Links With Mouse-Over Titles"
     ]
    },
    {
     "cell_type": "markdown",
     "metadata": {},
     "source": [
      "<pre>\n",
      "[Here's a link to the section on lists](#Lists \"Lists\")\n",
      "</pre>"
     ]
    },
    {
     "cell_type": "markdown",
     "metadata": {},
     "source": [
      "[Here's a link to the section of Automatic Section Numbering](#7.7.2.4.2.1-Automatic-Section-Numbering)"
     ]
    },
    {
     "cell_type": "heading",
     "level": 4,
     "metadata": {},
     "source": [
      "Reference-Style Notebook-Internal Links"
     ]
    },
    {
     "cell_type": "markdown",
     "metadata": {},
     "source": [
      "<pre>\n",
      "[Here's a link to the section on Table of Contents Support][TOC]\n",
      "\n",
      "[TOC]: #Table-of-Contents-Support\n",
      "</pre>"
     ]
    },
    {
     "cell_type": "markdown",
     "metadata": {},
     "source": [
      "[Here's a link to the section on Table of Contents Support][TOC]\n",
      "\n",
      "[TOC]: #Table-of-Contents-Support"
     ]
    },
    {
     "cell_type": "heading",
     "level": 2,
     "metadata": {},
     "source": [
      "Tables"
     ]
    },
    {
     "cell_type": "markdown",
     "metadata": {},
     "source": [
      "In Markdown, you can make a table by using vertical bars and dashes to define the cell and header borders:"
     ]
    },
    {
     "cell_type": "markdown",
     "metadata": {},
     "source": [
      "<pre>\n",
      "|Header|Header|Header|Header|\n",
      "|------|------|------|------|\n",
      "|Cell  |Cell  |Cell  | Cell |\n",
      "|Cell  |Cell  |Cell  | Cell |\n",
      "|Cell  |Cell  |Cell  | Cell |\n",
      "|Cell  |Cell  |Cell  | Cell |\n",
      "</pre>"
     ]
    },
    {
     "cell_type": "markdown",
     "metadata": {},
     "source": [
      "|Header|Header|Header|Header|\n",
      "|------|------|------|------|\n",
      "|Cell  |Cell  |Cell  | Cell |\n",
      "|Cell  |Cell  |Cell  | Cell |\n",
      "|Cell  |Cell  |Cell  | Cell |\n",
      "|Cell  |Cell  |Cell  | Cell |\n"
     ]
    },
    {
     "cell_type": "markdown",
     "metadata": {},
     "source": [
      "Making a table this way might be especially useful if you want your document to be legible both rendered and unrendered. However, you don't *need* to includ all of those dashes, vertical bars, and spaces for Markdown to understand that you're making a table. Here's the bare minium you would need to create the table above:  "
     ]
    },
    {
     "cell_type": "markdown",
     "metadata": {},
     "source": [
      "<pre>\n",
      "Header|Header|Header|Header\n",
      "-|-|-|-\n",
      "Cell|Cell|Cell|Cell\n",
      "Cell|Cell|Cell|Cell\n",
      "Cell|Cell|Cell|Cell\n",
      "Cell|Cell|Cell|Cell\n",
      "</pre>"
     ]
    },
    {
     "cell_type": "markdown",
     "metadata": {},
     "source": [
      "Header|Header|Header|Header\n",
      "-|-|-|-\n",
      "Cell|Cell|Cell|Cell\n",
      "Cell|Cell|Cell|Cell\n",
      "Cell|Cell|Cell|Cell\n",
      "Cell|Cell|Cell|Cell\n"
     ]
    },
    {
     "cell_type": "markdown",
     "metadata": {},
     "source": [
      "It's important to note that the second line of dashes and vertical bars is essential. If you have just the line of headers and the second line of dashes and vertical bars, that's enough for Markdown to make a table. \n",
      "\n",
      "Another important formatting issue has to do with the vertical bars that define the left and right edges of the table. If you include all the vertical bars on the far left and right of the table, like in the first example above, Markdown will ignore them completely. *But*, if you leave out some and include others, Markdown will interpret any extra vertical bar as an additional cell on the side that the bar appears in the unrendered version of the text. This also means that if you include the far left or right vertical bar in the second line of bars and dashes, you must include all of the otherwise optional vertical bars (like in the first example above)."
     ]
    },
    {
     "cell_type": "heading",
     "level": 3,
     "metadata": {},
     "source": [
      "Cell Justification"
     ]
    },
    {
     "cell_type": "markdown",
     "metadata": {},
     "source": [
      "If not otherwise specified the text in each header and cell of a table will justify to the left. If, however, you wish to specify either right justification or centering, you may do so like this: "
     ]
    },
    {
     "cell_type": "markdown",
     "metadata": {},
     "source": [
      "<pre>\n",
      "**Centered, Right-Justified, and Regular Cells and Headers**:\n",
      "\n",
      "centered header  |  regular header  |  right-justified header  |  centered header  |  regular header  \n",
      ":-:|-|-:|:-:|-\n",
      "centered cell|regular cell|right-justified cell|centered cell|regular cell\n",
      "centered cell|regular cell|right-justified cell|centered cell|regular cell\n",
      "</pre>"
     ]
    },
    {
     "cell_type": "markdown",
     "metadata": {},
     "source": [
      "**Centered, Right-Justified, and Regular Cells and Headers**:\n",
      "\n",
      "centered header  |  regular header  |  right-justified header  |  centered header  |  regular header  \n",
      ":-:|-|-:|:-:|-\n",
      "centered cell|regular cell|right-justified cell|centered cell|regular cell\n",
      "centered cell|regular cell|right-justified cell|centered cell|regular cell\n"
     ]
    },
    {
     "cell_type": "markdown",
     "metadata": {},
     "source": [
      "While it is dificult to see that the headers are differently justified from one another, this is just because the longest line of characters in any column defines the width of the headers and cells in that column. "
     ]
    },
    {
     "cell_type": "markdown",
     "metadata": {},
     "source": [
      "**Note:** You cannot make tables directly beneath a line of text. You must put a blank line between the end of a paragraph and the beginning of a table. "
     ]
    },
    {
     "cell_type": "heading",
     "level": 2,
     "metadata": {},
     "source": [
      "Style and Emphasis"
     ]
    },
    {
     "cell_type": "markdown",
     "metadata": {},
     "source": [
      "<pre>\n",
      "*Italics*\n",
      "</pre>"
     ]
    },
    {
     "cell_type": "markdown",
     "metadata": {},
     "source": [
      "*Italics*"
     ]
    },
    {
     "cell_type": "markdown",
     "metadata": {},
     "source": [
      "<pre>\n",
      "_Italics_\n",
      "</pre>"
     ]
    },
    {
     "cell_type": "markdown",
     "metadata": {},
     "source": [
      "_Italics_"
     ]
    },
    {
     "cell_type": "markdown",
     "metadata": {},
     "source": [
      "<pre>\n",
      "**Bold**\n",
      "</pre>"
     ]
    },
    {
     "cell_type": "markdown",
     "metadata": {},
     "source": [
      "**Bold**"
     ]
    },
    {
     "cell_type": "markdown",
     "metadata": {},
     "source": [
      "<pre>\n",
      "__Bold__\n",
      "</pre>"
     ]
    },
    {
     "cell_type": "markdown",
     "metadata": {},
     "source": [
      "__Bold__"
     ]
    },
    {
     "cell_type": "markdown",
     "metadata": {},
     "source": [
      "**Note:** If you want actual asterisks or underscores to appear in your text, you can use the [backslash escape function] [backslash] like this:\n",
      "\n",
      "[backslash]: #6.4-Backslash-Escape \"Backslash Escape\""
     ]
    },
    {
     "cell_type": "markdown",
     "metadata": {},
     "source": [
      "<pre>\n",
      "\\*awesome asterisks\\* and \\_incredible under scores\\_\n",
      "</pre>"
     ]
    },
    {
     "cell_type": "markdown",
     "metadata": {},
     "source": [
      "\\*awesome asterisks\\* and \\_incredible under scores\\_"
     ]
    },
    {
     "cell_type": "heading",
     "level": 2,
     "metadata": {},
     "source": [
      "Other Characters"
     ]
    },
    {
     "cell_type": "markdown",
     "metadata": {},
     "source": [
      "<pre>\n",
      "Ampersand &amp;amp; Ampersand\n",
      "</pre>"
     ]
    },
    {
     "cell_type": "markdown",
     "metadata": {},
     "source": [
      "Ampersand &amp; Ampersand"
     ]
    },
    {
     "cell_type": "markdown",
     "metadata": {},
     "source": [
      "<pre>\n",
      "&amp;lt; angle brackets &amp;gt;\n",
      "</pre>"
     ]
    },
    {
     "cell_type": "markdown",
     "metadata": {},
     "source": [
      "&lt; angle brackets &gt;"
     ]
    },
    {
     "cell_type": "markdown",
     "metadata": {},
     "source": [
      "<pre>\n",
      "&amp;quot; quotes &amp;quot;\n",
      "</pre>"
     ]
    },
    {
     "cell_type": "markdown",
     "metadata": {},
     "source": [
      "&quot; quotes &quot; "
     ]
    },
    {
     "cell_type": "heading",
     "level": 2,
     "metadata": {},
     "source": [
      "Including Code Examples"
     ]
    },
    {
     "cell_type": "markdown",
     "metadata": {},
     "source": [
      "If you want to signify that a particular section of text is actually an example of code, you can use backquotes to suround the code example. These will switch the font to monospace, which creates a clear visual formatting difference between the text that is meant to be code and the text that isn't. Here's an example:"
     ]
    },
    {
     "cell_type": "markdown",
     "metadata": {},
     "source": [
      "<pre>\n",
      "`monospace`\n",
      "</pre>"
     ]
    },
    {
     "cell_type": "markdown",
     "metadata": {},
     "source": [
      "`monospace`"
     ]
    },
    {
     "cell_type": "markdown",
     "metadata": {},
     "source": [
      "**Note:** If you want to include a literal backquote in your code example you must suround the whole text block in double backquotes like this: "
     ]
    },
    {
     "cell_type": "markdown",
     "metadata": {},
     "source": [
      "<pre>\n",
      "`` Look at this literal backquote ` ``\n",
      "</pre>"
     ]
    },
    {
     "cell_type": "markdown",
     "metadata": {},
     "source": [
      "`` Look at this literal backquote ` ``"
     ]
    },
    {
     "cell_type": "heading",
     "level": 2,
     "metadata": {},
     "source": [
      "Images"
     ]
    },
    {
     "cell_type": "heading",
     "level": 3,
     "metadata": {},
     "source": [
      "Images from the Internet"
     ]
    },
    {
     "cell_type": "markdown",
     "metadata": {},
     "source": [
      "Inserting an image from the internet is almost identical to inserting a link. You just also type a **`!`** before the first set of brackets:"
     ]
    },
    {
     "cell_type": "markdown",
     "metadata": {},
     "source": [
      "<pre>\n",
      "![It doesn't matter what you write here](http://upload.wikimedia.org/wikipedia/commons/thumb/b/b7/South_African_Giraffe,_head.jpg/877px-South_African_Giraffe,_head.jpg \"Picture of a Giraffe)\n",
      "</pre>"
     ]
    },
    {
     "cell_type": "markdown",
     "metadata": {},
     "source": [
      "![It doesn't matter what I write here](http://upload.wikimedia.org/wikipedia/commons/thumb/b/b7/South_African_Giraffe,_head.jpg/877px-South_African_Giraffe,_head.jpg \"Picture of a Giraffe\")"
     ]
    },
    {
     "cell_type": "markdown",
     "metadata": {},
     "source": [
      "**Note:** Unlike with a link, the words that you type in the first set of brackets do not appear when they are rendered into html by Markdown. "
     ]
    },
    {
     "cell_type": "heading",
     "level": 4,
     "metadata": {},
     "source": [
      "Reference-Style Images from the Internet"
     ]
    },
    {
     "cell_type": "markdown",
     "metadata": {},
     "source": [
      "Just like with links, you can also use a reference-style format when inserting images from the internet. This involves indicating where you want to place a picture, giving that picture an ID tag, and then later defining that ID tag. The process is nearly identical to using the reference-style format to insert a link:"
     ]
    },
    {
     "cell_type": "markdown",
     "metadata": {},
     "source": [
      "<pre>\n",
      "![][giraffe]\n",
      "\n",
      "[giraffe]:http://upload.wikimedia.org/wikipedia/commons/thumb/b/b7/South_African_Giraffe,_head.jpg/877px-South_African_Giraffe,_head.jpg \"Picture of a Giraffe\"\n",
      "</pre>"
     ]
    },
    {
     "cell_type": "markdown",
     "metadata": {},
     "source": [
      "![][giraffe]\n",
      "\n",
      "[giraffe]: http://upload.wikimedia.org/wikipedia/commons/thumb/b/b7/South_African_Giraffe,_head.jpg/877px-South_African_Giraffe,_head.jpg \"Picture of a Giraffe\""
     ]
    },
    {
     "cell_type": "heading",
     "level": 2,
     "metadata": {},
     "source": [
      "LaTeX Math"
     ]
    },
    {
     "cell_type": "markdown",
     "metadata": {},
     "source": [
      "Jupyter Notebooks' Markdown cells support LateX for formatting mathematical equations. To tell Markdown to interpret your text as LaTex, surround your input with dollar signs like this:"
     ]
    },
    {
     "cell_type": "markdown",
     "metadata": {},
     "source": [
      "<pre>\n",
      "$2x+3y=z$\n",
      "</pre>"
     ]
    },
    {
     "cell_type": "markdown",
     "metadata": {},
     "source": [
      "$2x+3y=z$"
     ]
    },
    {
     "cell_type": "markdown",
     "metadata": {},
     "source": [
      "If you want your LaTex equations to be indented towards the center of the cell, surround your input with two dollar signs on each side like this: "
     ]
    },
    {
     "cell_type": "markdown",
     "metadata": {},
     "source": [
      "<pre>\n",
      "$$2x+3y=z$$\n",
      "</pre>"
     ]
    },
    {
     "cell_type": "markdown",
     "metadata": {},
     "source": [
      "$$2x+3y=z$$"
     ]
    },
    {
     "cell_type": "markdown",
     "metadata": {},
     "source": [
      "For a comprehensive guide to the mathematical symbols and notations supported by Jupyter Notebooks' Markdown cells, check out [Martin Keefe's helpful reference materials on the subject][mkeefe].\n",
      "\n",
      "[mkeefe]: http://martinkeefe.com/math/mathjax1 \"Martin Keefe's MathJax Guide\""
     ]
    }
   ],
   "metadata": {}
  }
 ]
}