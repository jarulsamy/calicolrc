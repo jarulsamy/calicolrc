{
 "metadata": {
  "name": "",
  "signature": "sha256:8a2efe93c53719930e6e35994bedc7de8dbe8f87c431a67c39e64c70d279fb54"
 },
 "nbformat": 3,
 "nbformat_minor": 0,
 "worksheets": [
  {
   "cells": [
    {
     "cell_type": "markdown",
     "metadata": {},
     "source": [
      "Below is a map of the Allies and the Axis countries during World War II. The dark green countries are the Axis, the very faint greeen countries are the most important Allies, and the beige countries are the lesser Allies."
     ]
    },
    {
     "cell_type": "code",
     "collapsed": false,
     "input": [
      "GeoChart(calico.GetSession(), ['Country', 'Allegiance & Importance'], {'United States': 20, 'United Kingdom': 20, 'France': 20, 'China': 20, 'Poland': 10, 'Canada': 10, 'Australia': 10, 'New Zealand': 10, 'Yugoslavia': 10, 'Greece': 10, 'Netherlands': 10, 'Belgium': 10, 'South Africa': 10, 'Norway': 10, 'Czech Republic': 10, 'Slovakia': 10, 'Ethiopia': 10, 'Brazil': 10, 'Denmark': 10, 'Luxembourg': 10, 'Cuba': 10, 'Mexico': 10, 'Russia': 20, 'Ukraine': 20, 'Uzbekistan': 20, 'Kazakhstan': 20, 'Belarus': 20, 'Georgia': 20, 'Azerbaijan': 20, 'Moldova': 20, 'Kirghizstan': 20, 'Armenia': 20, 'Latvia': 20, 'Estonia': 20, 'Lithuania': 20, 'Turkmenistan': 20, 'Tajikistan': 20, 'Germany': 100, 'Japan': 100, 'Italy': 100, 'Hungary': 100, 'Romania':100, 'Bulgaria': 100 }, {\"width\": 900})"
     ],
     "language": "python",
     "metadata": {
      "format": "tab"
     },
     "outputs": [
      {
       "html": [
        "<div id=\"chart_div_29\" style=\"height: 300px;\"></div>\n",
        "<script type=\"text/javascript\">\n",
        "  require(['https://www.google.com/jsapi'], function () {\n",
        "      function draw() {\n",
        "        var chart = new google.visualization.GeoChart(document.getElementById('chart_div_29'));\n",
        "        chart.draw(google.visualization.arrayToDataTable([['Country', 'Allegiance & Importance'],\n",
        "['Hungary', 100],\n",
        "['Germany', 100],\n",
        "['Tajikistan', 20],\n",
        "['Brazil', 10],\n",
        "['Netherlands', 10],\n",
        "['Kazakhstan', 20],\n",
        "['Turkmenistan', 20],\n",
        "['Yugoslavia', 10],\n",
        "['Slovakia', 10],\n",
        "['Canada', 10],\n",
        "['Luxembourg', 10],\n",
        "['Moldova', 20],\n",
        "['Mexico', 10],\n",
        "['Bulgaria', 100],\n",
        "['Estonia', 20],\n",
        "['Cuba', 10],\n",
        "['Azerbaijan', 20],\n",
        "['Kirghizstan', 20],\n",
        "['Ethiopia', 10],\n",
        "['Australia', 10],\n",
        "['Greece', 10],\n",
        "['Poland', 10],\n",
        "['Ukraine', 20],\n",
        "['Latvia', 20],\n",
        "['Czech Republic', 10],\n",
        "['Lithuania', 20],\n",
        "['Japan', 100],\n",
        "['South Africa', 10],\n",
        "['China', 20],\n",
        "['Romania', 100],\n",
        "['Denmark', 10],\n",
        "['Uzbekistan', 20],\n",
        "['Russia', 20],\n",
        "['Italy', 100],\n",
        "['Belgium', 10],\n",
        "['New Zealand', 10],\n",
        "['Armenia', 20],\n",
        "['United Kingdom', 20],\n",
        "['Belarus', 20],\n",
        "['Georgia', 20],\n",
        "['Norway', 10],\n",
        "['France', 20],\n",
        "['United States', 20]]), {'width': 900});\n",
        "      }\n",
        "      google.load('visualization', '1.0',\n",
        "                  {'callback': draw, 'packages':['geochart']});\n",
        "  });\n",
        "</script>\n"
       ],
       "metadata": {},
       "output_type": "pyout",
       "prompt_number": 43,
       "text": [
        "<GeoChart availble for viewing in notebook>"
       ]
      }
     ],
     "prompt_number": 43
    },
    {
     "cell_type": "markdown",
     "metadata": {},
     "source": [
      "**Notes:** Right now, this appears to be the only easy way to get colors onto a map in the iCalico Notebook. This was definitely a huge pain. I couldn't specify one number for a group of countries and the colors don't contrast well because they're on a gradient. Furthermore, there is no way to include a key that actually indicates what my map is about, because I'm not using the spectrum/scaling function to talk about data, rather I'm using the map in a way it isn't supposed to be used--simply to add color. It would also be nice if the code above the map could dissappear with its rendering. \n",
      "\n",
      "Perhaps this a silly or unfixable point, but I also think it's worth saying that I had to look up all the modern day countries that used to be the Soviet Union. The presence of any historical mapping at all would be pretty nice. \n"
     ]
    },
    {
     "cell_type": "code",
     "collapsed": false,
     "input": [],
     "language": "python",
     "metadata": {},
     "outputs": []
    },
    {
     "cell_type": "code",
     "collapsed": false,
     "input": [],
     "language": "python",
     "metadata": {},
     "outputs": []
    },
    {
     "cell_type": "code",
     "collapsed": false,
     "input": [],
     "language": "python",
     "metadata": {},
     "outputs": []
    }
   ],
   "metadata": {}
  }
 ]
}