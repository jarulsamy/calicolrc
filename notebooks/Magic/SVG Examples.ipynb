{
 "metadata": {
  "name": "",
  "signature": "sha256:5d491386d3f97e08344f03233f46c7599c622dc62c236639a6f4ce17d34c34d9"
 },
 "nbformat": 3,
 "nbformat_minor": 0,
 "worksheets": [
  {
   "cells": [
    {
     "cell_type": "markdown",
     "metadata": {},
     "source": [
      "SVG Cell Magic\n",
      "==============\n",
      "\n",
      "The following examples show demonstrations of using the %%svg cell magic with Calico.\n"
     ]
    },
    {
     "cell_type": "code",
     "collapsed": false,
     "input": [
      "%%svg\n",
      "\n",
      "<?xml version=\"1.0\"?>\n",
      "<svg xmlns=\"http://www.w3.org/2000/svg\" width=\"450\" height=\"350\">\n",
      "  <g style=\"fill-opacity:0.7;\">\n",
      "    <circle cx=\"6.5cm\" cy=\"2cm\" r=\"100\" style=\"&entity1;\" transform=\"translate(0,50)\" />\n",
      "    <circle cx=\"6.5cm\" cy=\"2cm\" r=\"100\" style=\"&entity2;\" transform=\"translate(70,150)\" />\n",
      "    <circle cx=\"6.5cm\" cy=\"2cm\" r=\"100\" style=\"fill:green;\" transform=\"translate(-70,150)\"/>\n",
      "  </g>\n",
      "</svg>"
     ],
     "language": "python",
     "metadata": {},
     "outputs": [
      {
       "metadata": {},
       "output_type": "display_data",
       "svg": [
        "\n",
        "<?xml version=\"1.0\"?>\n",
        "<svg xmlns=\"http://www.w3.org/2000/svg\" width=\"450\" height=\"350\">\n",
        "  <g style=\"fill-opacity:0.7;\">\n",
        "    <circle cx=\"6.5cm\" cy=\"2cm\" r=\"100\" style=\"&entity1;\" transform=\"translate(0,50)\" />\n",
        "    <circle cx=\"6.5cm\" cy=\"2cm\" r=\"100\" style=\"&entity2;\" transform=\"translate(70,150)\" />\n",
        "    <circle cx=\"6.5cm\" cy=\"2cm\" r=\"100\" style=\"fill:green;\" transform=\"translate(-70,150)\"/>\n",
        "  </g>\n",
        "</svg>\n"
       ],
       "text": [
        "Calico.MimeRepresentation"
       ]
      }
     ],
     "prompt_number": 1
    },
    {
     "cell_type": "code",
     "collapsed": false,
     "input": [],
     "language": "python",
     "metadata": {},
     "outputs": []
    }
   ],
   "metadata": {}
  }
 ]
}