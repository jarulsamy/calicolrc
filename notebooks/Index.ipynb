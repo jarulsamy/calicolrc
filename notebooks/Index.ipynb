{
 "metadata": {
  "name": "", 
  "signature": ""
 }, 
 "nbformat": 3, 
 "nbformat_minor": 0, 
 "worksheets": [
  {
   "cells": [
    {
     "cell_type": "markdown", 
     "collapsed": false, 
     "metadata": {}, 
     "source": [
      "Calico Notebooks\n", 
      "----------------\n", 
      "\n", 
      "You can find these notebooks statically viewable on the web here: \n", 
      "\n", 
      "http://nbviewer.ipython.org/urls/bitbucket.org/ipre/calico/raw/master/notebooks/Index.ipynb\n", 
      "\n"
     ]
    }, 
    {
     "cell_type": "markdown", 
     "collapsed": false, 
     "metadata": {}, 
     "source": [
      "Subfolders in .:\n", 
      "\n", 
      "* [Advanced](Advanced/Index.ipynb)\n", 
      "* [BrainScrew](BrainScrew/Index.ipynb)\n", 
      "* [FSharp](FSharp/Index.ipynb)\n", 
      "* [Java](Java/Index.ipynb)\n", 
      "* [LC3](LC3/Index.ipynb)\n", 
      "* [Logo](Logo/Index.ipynb)\n", 
      "* [Python](Python/Index.ipynb)\n", 
      "* [Ruby](Ruby/Index.ipynb)\n", 
      "* [SIGCSE](SIGCSE/Index.ipynb)\n", 
      "* [Scheme](Scheme/Index.ipynb)\n"
     ]
    }, 
    {
     "cell_type": "markdown", 
     "collapsed": false, 
     "metadata": {}, 
     "source": [
      "Notebooks in .:\n", 
      "\n", 
      "*  [Calico Overview](Calico Overview.ipynb)\n"
     ]
    }
   ], 
   "metadata": {}
  }
 ]
}