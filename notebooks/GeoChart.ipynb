{
 "metadata": {
  "name": "",
  "signature": "sha256:7902e0ff1d8b5dde43bc251062a1d73f66d1b99fa7f1b7e919f82998c814e0e6"
 },
 "nbformat": 3,
 "nbformat_minor": 0,
 "worksheets": [
  {
   "cells": [
    {
     "cell_type": "code",
     "collapsed": false,
     "input": [
      "#import IPython.display as calico"
     ],
     "language": "python",
     "metadata": {},
     "outputs": [],
     "prompt_number": 2
    },
    {
     "cell_type": "code",
     "collapsed": false,
     "input": [
      "def GeoChart(keys, data, **kwargs):\n",
      "    table = \"{},\\n\".format(keys)\n",
      "    for i in data:\n",
      "        table += \"['{}', {}],\\n\".format(i, data[i])\n",
      "    options = \"\"\n",
      "    for arg, value in kwargs.iteritems():\n",
      "        if isinstance(value, bool):\n",
      "            value = 'true' if value else 'false'\n",
      "        elif isinstance(value, dict):\n",
      "            items = \"\"\n",
      "            for k, v in value.iteritems():\n",
      "                items += \"{}: {},\".format(k, v)\n",
      "            value = \"{{{}}}\".format(items)\n",
      "        options += \"{}:{},\\n\".format(arg, value)\n",
      "    return calico.Javascript(\"\"\"\n",
      "           function draw() {{\n",
      "              var chart = new google.visualization.GeoChart(element[0]);\n",
      "              chart.draw(google.visualization.arrayToDataTable([{}]), {{{}}});\n",
      "            }}\n",
      "           google.load('visualization', '1.0',\n",
      "             {{'callback': draw, 'packages':['geochart']}});\n",
      "        \"\"\".format(table, options), lib=\"https://www.google.com/jsapi\")"
     ],
     "language": "python",
     "metadata": {},
     "outputs": [],
     "prompt_number": 11
    },
    {
     "cell_type": "code",
     "collapsed": false,
     "input": [
      "color = {'Netherlands': 2.0, 'Denmark': 1.0, 'Luxembourg': 4.0, 'France': 2.0, 'Germany': 3.0, 'Belgium': 1.0}"
     ],
     "language": "python",
     "metadata": {},
     "outputs": [],
     "prompt_number": 12
    },
    {
     "cell_type": "code",
     "collapsed": false,
     "input": [
      "GeoChart(['Country', 'Color'], color, region=150, legend=False, height=500,\n",
      "         colorAxis={'colors': ['#ff9900', '#3366cc', '#109618', '#dc3912']})"
     ],
     "language": "python",
     "metadata": {},
     "outputs": [
      {
       "javascript": [
        "require(['https://www.google.com/jsapi'], function () {\n",
        "\n",
        "           function draw() {\n",
        "              var chart = new google.visualization.GeoChart(element[0]);\n",
        "              chart.draw(google.visualization.arrayToDataTable([['Country', 'Color'],\n",
        "['Germany', 3.0],\n",
        "['Belgium', 1.0],\n",
        "['Luxembourg', 4.0],\n",
        "['Netherlands', 2.0],\n",
        "['France', 2.0],\n",
        "['Denmark', 1.0],\n",
        "]), {region:150,\n",
        "colorAxis:{colors: ['#ff9900', '#3366cc', '#109618', '#dc3912'],},\n",
        "height:500,\n",
        "legend:false,\n",
        "});\n",
        "            }\n",
        "           google.load('visualization', '1.0',\n",
        "             {'callback': draw, 'packages':['geochart']});\n",
        "        \n",
        "});\n"
       ],
       "metadata": {},
       "output_type": "pyout",
       "prompt_number": 13,
       "text": [
        "<JavaScript viewable in executing notebook>"
       ]
      }
     ],
     "prompt_number": 13
    },
    {
     "cell_type": "code",
     "collapsed": false,
     "input": [
      "color = {'Netherlands': 1.0, 'Denmark': 2.0, 'Luxembourg': 3.0, 'France': 4.0, 'Germany': 5.0, 'Belgium': 6.0}"
     ],
     "language": "python",
     "metadata": {},
     "outputs": [],
     "prompt_number": 14
    },
    {
     "cell_type": "code",
     "collapsed": false,
     "input": [
      "GeoChart(['Country', 'Color'], color, region=150, legend=False, height=500,\n",
      "         colorAxis={'colors': ['#ff9900', '#3366cc', '#109618', '#dc3912']})"
     ],
     "language": "python",
     "metadata": {},
     "outputs": [
      {
       "javascript": [
        "require(['https://www.google.com/jsapi'], function () {\n",
        "\n",
        "           function draw() {\n",
        "              var chart = new google.visualization.GeoChart(element[0]);\n",
        "              chart.draw(google.visualization.arrayToDataTable([['Country', 'Color'],\n",
        "['Germany', 5.0],\n",
        "['Belgium', 6.0],\n",
        "['Luxembourg', 3.0],\n",
        "['Netherlands', 1.0],\n",
        "['France', 4.0],\n",
        "['Denmark', 2.0],\n",
        "]), {region:150,\n",
        "colorAxis:{colors: ['#ff9900', '#3366cc', '#109618', '#dc3912'],},\n",
        "height:500,\n",
        "legend:false,\n",
        "});\n",
        "            }\n",
        "           google.load('visualization', '1.0',\n",
        "             {'callback': draw, 'packages':['geochart']});\n",
        "        \n",
        "});\n"
       ],
       "metadata": {},
       "output_type": "pyout",
       "prompt_number": 15,
       "text": [
        "<JavaScript viewable in executing notebook>"
       ]
      }
     ],
     "prompt_number": 15
    },
    {
     "cell_type": "code",
     "collapsed": false,
     "input": [],
     "language": "python",
     "metadata": {},
     "outputs": [],
     "prompt_number": 7
    },
    {
     "cell_type": "code",
     "collapsed": false,
     "input": [],
     "language": "python",
     "metadata": {},
     "outputs": []
    }
   ],
   "metadata": {}
  }
 ]
}