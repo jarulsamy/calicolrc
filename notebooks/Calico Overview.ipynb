{
 "metadata": {
  "name": "",
  "signature": "sha256:b5228c66f208f7db74b3093307c5faa5cc39104e9cb6d2163b88ec0d65805287"
 },
 "nbformat": 3,
 "nbformat_minor": 0,
 "worksheets": [
  {
   "cells": [
    {
     "cell_type": "markdown",
     "metadata": {},
     "source": [
      "![Calico Project](http://calicoproject.org/wiki/images/d/d1/CalicoLogo.gif)\n",
      "\n",
      "# Calico Overview #\n",
      "\n",
      "Calico is a programming environment for exploring computation. It is composed of three components:\n",
      "\n",
      "* Scripting Languages (such as Python, Java, Scheme, and others)\n",
      "* Libraries for doing things (such as Graphics, Processing, and robotics) \n",
      "* IDEs (environments for writing code)\n",
      "\n",
      "The goal is to make scripting easy, fun, and engaging. Calico is an easy install for Windows, Linux, and Mac, and comes with everything you need to program graphics, sound, robots, and more. \n",
      "\n",
      "Calico's languages span the spectrum from a drag-and-drop language called Jigsaw (inspired by Scratch), to a sophisticated implementation of Scheme, and many languages in the middle. Almost all of the languages can share common libraries, and interoperate with each other. For example, you can share data structures and functions between languages.\n",
      "\n",
      "Visit [Calico project](http://calicoproject.org/) to find out more about it.\n",
      "\n",
      "Below you will find a collection of Notebooks demonstrating each language. We will add to these over time.\n",
      "\n",
      "To browse all Calico example notebooks, see:\n",
      "\n",
      "[Index](Index.ipynb)\n",
      "\n",
      "## Scripting Languages ##\n",
      "\n",
      "Some of the languages that come with Calico:\n",
      "\n",
      "* [Python](http://calicoproject.org/Calico_Python) - version of the standard, similar to Python 3\n",
      "* [Java](http://calicoproject.org/Calico_java) - interactive Java\n",
      "* [Scheme](http://calicoproject.org/Calico_Scheme) - powerful language, written in Scheme\n",
      "* [Ruby](http://calicoproject.org/Calico_Ruby) - version of the standard\n",
      "* [Basic](http://calicoproject.org/Calico_Basic) - old-school \"10 PRINT 'Hello World'\"\n",
      "* [Logo](http://calicoproject.org/Calico_Logo) - based on the original\n",
      "* [Boo](http://calicoproject.org/Calico_Boo) - similar to Python\n",
      "* [BrainScrew](http://calicoproject.org/Calico_BrainScrew) - for fun!\n",
      "* [Collaborate](http://calicoproject.org/Calico_Collaborate) - cooperative editing (requires Calico IDE)\n",
      "* [Console](http://calicoproject.org/Calico_Console) - a shell language\n",
      "* [Jigsaw](http://calicoproject.org/Calico_Jigsaw) - drag-and-drop language inspired by Scratch (requires Calico IDE)\n",
      "* [LC3](http://calicoproject.org/Calico_LC3) - the \"litte computer\" assembly language\n",
      "* [Spreadsheet](http://calicoproject.org/Calico_Spreadsheet) - a spreadsheet view, integrated with languages (requires the Calico IDE)\n",
      "\n",
      "## Libraries ## \n",
      "\n",
      "Some of the libraries that come with Calico:\n",
      "\n",
      "* [Myro](http://calicoproject.org/Calico_Myro) - for exploring robots, real and simulated\n",
      "* [Graphics](http://calicoproject.org/Calico_Graphics) - object-oriented graphics library\n",
      "* [Processing](http://calicoproject.org/Calico_Processing) - for exporing art \n",
      "* [MyROS](http://calicoproject.org/Calico_MyROS) - advanced robotics\n"
     ]
    },
    {
     "cell_type": "markdown",
     "metadata": {},
     "source": [
      "# Examples #\n",
      "\n",
      "Just a few quick examples, showing some functionality. Normally, of course, a student or researcher would probably only work in a single language. \n",
      "\n",
      "----"
     ]
    },
    {
     "cell_type": "code",
     "collapsed": false,
     "input": [
      "%%%lang python\n",
      "print(\"Hello, world!\")"
     ],
     "language": "python",
     "metadata": {},
     "outputs": [
      {
       "metadata": {},
       "output_type": "pyout",
       "prompt_number": 1,
       "text": [
        "'Calico Language is now \"Python\"'"
       ]
      },
      {
       "output_type": "stream",
       "stream": "stdout",
       "text": [
        "Hello, world!"
       ]
      },
      {
       "output_type": "stream",
       "stream": "stdout",
       "text": [
        "\n"
       ]
      }
     ],
     "prompt_number": 1
    },
    {
     "cell_type": "code",
     "collapsed": false,
     "input": [
      "%%%lang scheme\n",
      "(print 'hello 'world)"
     ],
     "language": "python",
     "metadata": {},
     "outputs": [
      {
       "metadata": {},
       "output_type": "pyout",
       "prompt_number": 2,
       "text": [
        "'Calico Language is now \"Scheme\"'"
       ]
      },
      {
       "output_type": "stream",
       "stream": "stdout",
       "text": [
        "hello"
       ]
      },
      {
       "output_type": "stream",
       "stream": "stdout",
       "text": [
        "\n"
       ]
      },
      {
       "output_type": "stream",
       "stream": "stdout",
       "text": [
        "world"
       ]
      },
      {
       "output_type": "stream",
       "stream": "stdout",
       "text": [
        "\n"
       ]
      }
     ],
     "prompt_number": 2
    },
    {
     "cell_type": "code",
     "collapsed": false,
     "input": [
      "(print (choose 'hello 'world))\n",
      "(choose)\n",
      "(choose)\n",
      "(choose)"
     ],
     "language": "python",
     "metadata": {},
     "outputs": [
      {
       "output_type": "stream",
       "stream": "stdout",
       "text": [
        "hello"
       ]
      },
      {
       "output_type": "stream",
       "stream": "stdout",
       "text": [
        "\n"
       ]
      },
      {
       "output_type": "stream",
       "stream": "stdout",
       "text": [
        "world"
       ]
      },
      {
       "output_type": "stream",
       "stream": "stdout",
       "text": [
        "\n"
       ]
      },
      {
       "metadata": {},
       "output_type": "pyout",
       "prompt_number": 3,
       "text": [
        "'no more choices'"
       ]
      }
     ],
     "prompt_number": 3
    },
    {
     "cell_type": "code",
     "collapsed": false,
     "input": [
      "%%%lang BASIC"
     ],
     "language": "python",
     "metadata": {},
     "outputs": [
      {
       "metadata": {},
       "output_type": "pyout",
       "prompt_number": 4,
       "text": [
        "'Calico Language is now \"Basic\"'"
       ]
      }
     ],
     "prompt_number": 4
    },
    {
     "cell_type": "code",
     "collapsed": false,
     "input": [
      "10 x = 1\n",
      "20 print \"hello \";\n",
      "30 print \"world\"\n",
      "40 x = x + 1\n",
      "50 if x < 10 then GOTO 20"
     ],
     "language": "python",
     "metadata": {},
     "outputs": [
      {
       "metadata": {},
       "output_type": "pyout",
       "prompt_number": 4,
       "text": [
        "'Ok'"
       ]
      }
     ],
     "prompt_number": 4
    },
    {
     "cell_type": "code",
     "collapsed": false,
     "input": [
      "run\n"
     ],
     "language": "python",
     "metadata": {},
     "outputs": [
      {
       "output_type": "stream",
       "stream": "stdout",
       "text": [
        "hello "
       ]
      },
      {
       "output_type": "stream",
       "stream": "stdout",
       "text": [
        "world"
       ]
      },
      {
       "output_type": "stream",
       "stream": "stdout",
       "text": [
        "\n"
       ]
      },
      {
       "output_type": "stream",
       "stream": "stdout",
       "text": [
        "hello "
       ]
      },
      {
       "output_type": "stream",
       "stream": "stdout",
       "text": [
        "world"
       ]
      },
      {
       "output_type": "stream",
       "stream": "stdout",
       "text": [
        "\n"
       ]
      },
      {
       "output_type": "stream",
       "stream": "stdout",
       "text": [
        "hello "
       ]
      },
      {
       "output_type": "stream",
       "stream": "stdout",
       "text": [
        "world"
       ]
      },
      {
       "output_type": "stream",
       "stream": "stdout",
       "text": [
        "\n"
       ]
      },
      {
       "output_type": "stream",
       "stream": "stdout",
       "text": [
        "hello "
       ]
      },
      {
       "output_type": "stream",
       "stream": "stdout",
       "text": [
        "world"
       ]
      },
      {
       "output_type": "stream",
       "stream": "stdout",
       "text": [
        "\n"
       ]
      },
      {
       "output_type": "stream",
       "stream": "stdout",
       "text": [
        "hello "
       ]
      },
      {
       "output_type": "stream",
       "stream": "stdout",
       "text": [
        "world"
       ]
      },
      {
       "output_type": "stream",
       "stream": "stdout",
       "text": [
        "\n"
       ]
      },
      {
       "output_type": "stream",
       "stream": "stdout",
       "text": [
        "hello "
       ]
      },
      {
       "output_type": "stream",
       "stream": "stdout",
       "text": [
        "world"
       ]
      },
      {
       "output_type": "stream",
       "stream": "stdout",
       "text": [
        "\n"
       ]
      },
      {
       "output_type": "stream",
       "stream": "stdout",
       "text": [
        "hello "
       ]
      },
      {
       "output_type": "stream",
       "stream": "stdout",
       "text": [
        "world"
       ]
      },
      {
       "output_type": "stream",
       "stream": "stdout",
       "text": [
        "\n"
       ]
      },
      {
       "output_type": "stream",
       "stream": "stdout",
       "text": [
        "hello "
       ]
      },
      {
       "output_type": "stream",
       "stream": "stdout",
       "text": [
        "world"
       ]
      },
      {
       "output_type": "stream",
       "stream": "stdout",
       "text": [
        "\n"
       ]
      },
      {
       "output_type": "stream",
       "stream": "stdout",
       "text": [
        "hello "
       ]
      },
      {
       "output_type": "stream",
       "stream": "stdout",
       "text": [
        "world"
       ]
      },
      {
       "output_type": "stream",
       "stream": "stdout",
       "text": [
        "\n"
       ]
      },
      {
       "metadata": {},
       "output_type": "pyout",
       "prompt_number": 5,
       "text": [
        "'Ok'"
       ]
      }
     ],
     "prompt_number": 5
    },
    {
     "cell_type": "code",
     "collapsed": false,
     "input": [
      "%%%lang Java\n",
      "System.out.println(\"Hello, World!\");"
     ],
     "language": "python",
     "metadata": {},
     "outputs": [
      {
       "metadata": {},
       "output_type": "pyout",
       "prompt_number": 6,
       "text": [
        "'Calico Language is now \"Java\"'"
       ]
      },
      {
       "output_type": "stream",
       "stream": "stdout",
       "text": [
        "Hello, World!"
       ]
      },
      {
       "output_type": "stream",
       "stream": "stdout",
       "text": [
        "\n"
       ]
      }
     ],
     "prompt_number": 6
    },
    {
     "cell_type": "code",
     "collapsed": false,
     "input": [
      "%%%lang boo\n",
      "print(\"Hello, there!\")"
     ],
     "language": "python",
     "metadata": {},
     "outputs": [
      {
       "metadata": {},
       "output_type": "pyout",
       "prompt_number": 7,
       "text": [
        "'Calico Language is now \"Boo\"'"
       ]
      },
      {
       "output_type": "stream",
       "stream": "stdout",
       "text": [
        "Hello, there!"
       ]
      },
      {
       "output_type": "stream",
       "stream": "stdout",
       "text": [
        "\n"
       ]
      }
     ],
     "prompt_number": 7
    },
    {
     "cell_type": "code",
     "collapsed": false,
     "input": [
      "%%%lang console\n",
      "echo \"Hello world\""
     ],
     "language": "python",
     "metadata": {},
     "outputs": [
      {
       "metadata": {},
       "output_type": "pyout",
       "prompt_number": 8,
       "text": [
        "'Calico Language is now \"Console\"'"
       ]
      },
      {
       "output_type": "stream",
       "stream": "stdout",
       "text": [
        "Hello world"
       ]
      },
      {
       "output_type": "stream",
       "stream": "stdout",
       "text": [
        "\n"
       ]
      },
      {
       "metadata": {},
       "output_type": "pyout",
       "prompt_number": 8,
       "text": [
        "'Ok'"
       ]
      }
     ],
     "prompt_number": 8
    },
    {
     "cell_type": "code",
     "collapsed": false,
     "input": [
      "%%%lang logo"
     ],
     "language": "python",
     "metadata": {},
     "outputs": [
      {
       "metadata": {},
       "output_type": "pyout",
       "prompt_number": 9,
       "text": [
        "'Calico Language is now \"Logo\"'"
       ]
      }
     ],
     "prompt_number": 9
    },
    {
     "cell_type": "code",
     "collapsed": false,
     "input": [
      "print [Hello World, from Logo!]"
     ],
     "language": "python",
     "metadata": {},
     "outputs": [
      {
       "output_type": "stream",
       "stream": "stdout",
       "text": [
        "Hello World , from Logo!"
       ]
      },
      {
       "output_type": "stream",
       "stream": "stdout",
       "text": [
        "\n"
       ]
      }
     ],
     "prompt_number": 10
    },
    {
     "cell_type": "code",
     "collapsed": false,
     "input": [],
     "language": "python",
     "metadata": {},
     "outputs": []
    }
   ],
   "metadata": {}
  }
 ]
}