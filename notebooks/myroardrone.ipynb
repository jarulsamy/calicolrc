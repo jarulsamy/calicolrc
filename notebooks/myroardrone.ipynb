{
 "metadata": {
  "name": ""
 },
 "nbformat": 3,
 "nbformat_minor": 0,
 "worksheets": [
  {
   "cells": [
    {
     "cell_type": "heading",
     "level": 2,
     "metadata": {},
     "source": [
      "Flying a Drone from Myro"
     ]
    },
    {
     "cell_type": "code",
     "collapsed": false,
     "input": [
      "from Myro import *\n",
      "makeRobot(\"ROSARDrone\", \"10.10.19.120\")"
     ],
     "language": "python",
     "metadata": {},
     "outputs": []
    },
    {
     "cell_type": "markdown",
     "metadata": {},
     "source": [
      "Time to take off!"
     ]
    },
    {
     "cell_type": "code",
     "collapsed": false,
     "input": [
      "speak(\"Please prepare for liftoff\")\n",
      "for i in range(10, 0, -1):\n",
      "    speak(str(i))\n",
      "\n",
      "reset()\n",
      "takeoff()"
     ],
     "language": "python",
     "metadata": {},
     "outputs": []
    },
    {
     "cell_type": "markdown",
     "metadata": {},
     "source": [
      "And snap a picture:"
     ]
    },
    {
     "cell_type": "code",
     "collapsed": false,
     "input": [
      "takePicture()"
     ],
     "language": "python",
     "metadata": {},
     "outputs": []
    },
    {
     "cell_type": "markdown",
     "metadata": {},
     "source": [
      "<img src = \"files/119snap.png\" width = 200>"
     ]
    },
    {
     "cell_type": "markdown",
     "metadata": {},
     "source": [
      "Using a list of pictures (for ten seconds) to create an animated gif."
     ]
    },
    {
     "cell_type": "code",
     "collapsed": true,
     "input": [
      "lst = []\n",
      "for t in timer(10):\n",
      "    p = takePicture()\n",
      "    lst.append(p)\n",
      "    show(p)\n",
      "land()\n",
      "\n",
      "savePicture(lst, \"119animation.gif\")"
     ],
     "language": "python",
     "metadata": {},
     "outputs": []
    },
    {
     "cell_type": "markdown",
     "metadata": {},
     "source": [
      "<img src = \"files/119animation.gif\" width = 200>"
     ]
    }
   ],
   "metadata": {}
  }
 ]
}