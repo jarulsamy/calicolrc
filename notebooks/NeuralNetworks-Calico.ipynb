{
 "metadata": {
  "name": ""
 },
 "nbformat": 3,
 "nbformat_minor": 0,
 "worksheets": [
  {
   "cells": [
    {
     "cell_type": "markdown",
     "metadata": {},
     "source": [
      "#Neural Networks#\n",
      "\n",
      "###Introduction###\n",
      "\n",
      "We will assume that you have already been exposed to neural network modeling. This section is designed to quickly help you recap the basics that you will need in order to create and experiment with neural networks in Pyrobot.\n",
      "\n",
      ">*\"Pyrobot is really a great system\" --Douglas Blank*\n",
      "\n",
      "See the [Pyrobot website](http://pyrorobotics.com) for more info.\n",
      "\n",
      "We will concentrate mostly on **backpropagation networks** here. A typical backprop network is a three layer network containing **input**, **hidden**, and **output** layers. Each layer contains a collection of nodes. Typically, the nodes in a layer are fully connected to the next layer. For instance, every input node will have a weighted connection to every hidden node. Similarly, every hidden node will have a `weighted connection` to every output node.\n",
      "\n",
      "Processing in a backprop network works as follows. Input is propagated forward from the input layer through the hidden layer and finally through the output layer to produce a response. Each node, regardless of the layer it is in, uses the same transfer function in order to propagate its information forward to the next layer. This is described next.\n",
      "\n",
      "###Transfer function of a node###\n",
      "\n",
      "Each node maintains an activation value that depends on the activation values of its incoming neighbors, the weights from its incoming neighbors, and its own default bias value. To compute this activation value, we first calculate the node's net input.\n",
      "\n",
      "The net input is a weighted sum of all the incoming activations plus the node's bias value:\n",
      "\n",
      "$net_i = \\sum\\limits_{j=1}^n w_{ij} x_j + b_i$\n",
      "\n",
      "Here is some corresponding Python code to compute this function for each node:"
     ]
    },
    {
     "cell_type": "raw",
     "metadata": {},
     "source": [
      "for i in toNodes:\n",
      "   netInput[i] = bias[i]\n",
      "   for j in fromNodes:\n",
      "      netInput[i] += (weight[i][j] * activation[j]) "
     ]
    },
    {
     "cell_type": "markdown",
     "metadata": {},
     "source": [
      "where `weight[i][j]` is the weight $w_{ij}$, or connection strength, from the $j^{th}$ node to the $i^{th}$ node, `activation[j]` is the activation signal $x_j$ of the $j^{th}$ input node, and `bias[i]` is the bias value $b_i$ of the $i^{th}$ node. "
     ]
    },
    {
     "cell_type": "markdown",
     "metadata": {},
     "source": [
      "After computing the net input, each node has to compute its output activation. The value that results from applying the activation function to the net input is the signal that will be sent as output to all the nodes in the next layer. The activation function used in backprop networks is generally:\n",
      "\n",
      "$a_i = \\sigma(net_i)$\n",
      "\n",
      "where $\\sigma(x) = \\frac{1}{1 + e^{-x}}$"
     ]
    },
    {
     "cell_type": "raw",
     "metadata": {},
     "source": [
      "def activationFunction(netInput):\n",
      "    return 1.0 / (1.0 + exp(-netInput))\n",
      "\n",
      "for i in toNodes:\n",
      "    activation[i] = activationFunction(netInput[i])"
     ]
    },
    {
     "cell_type": "markdown",
     "metadata": {},
     "source": [
      "This $\\sigma$ is the activation function, as shown in the plot below. Notice that the function is monotonically increasing and bounded by 0.0 and 1.0 as the net input approaches negative infinity and positive infinity, respectively."
     ]
    },
    {
     "cell_type": "code",
     "collapsed": false,
     "input": [
      "from IPython.display import Image\n",
      "Image(\"http://cs.brynmawr.edu/~dkumar/wikigifs/sigmoid.jpeg\")"
     ],
     "language": "python",
     "metadata": {},
     "outputs": [
      {
       "jpeg": "/9j/4AAQSkZJRgABAQEASABIAAD/2wBDAAUDBAQEAwUEBAQFBQUGBwwIBwcHBw8LCwkMEQ8SEhEP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\nFSglLfRohmu5JIz2zaCLaE6
       "metadata": {},
       "output_type": "pyout",
       "prompt_number": 10,
       "text": [
        "<IPython.core.display.Image at 0xa89c0ac>"
       ]
      }
     ],
     "prompt_number": 10
    }
   ],
   "metadata": {}
  }
 ]
}
