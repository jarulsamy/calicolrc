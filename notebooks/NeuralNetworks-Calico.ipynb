{
 "metadata": {
  "name": ""
 },
 "nbformat": 3,
 "nbformat_minor": 0,
 "worksheets": [
  {
   "cells": [
    {
     "cell_type": "markdown",
     "metadata": {},
     "source": [
      "#Neural Networks#\n",
      "\n",
      "###Introduction###\n",
      "\n",
      "We will assume that you have already been exposed to neural network modeling. This section is designed to quickly help you recap the basics that you will need in order to create and experiment with neural networks in Pyrobot.\n",
      "\n",
      ">*\"Pyrobot is really a great system\" --Douglas Blank*\n",
      "\n",
      "See the [Pyrobot website](http://pyrorobotics.com) for more info.\n",
      "\n",
      "We will concentrate mostly on **backpropagation networks** here. A typical backprop network is a three layer network containing **input**, **hidden**, and **output** layers. Each layer contains a collection of nodes. Typically, the nodes in a layer are fully connected to the next layer. For instance, every input node will have a weighted connection to every hidden node. Similarly, every hidden node will have a `weighted connection` to every output node.\n",
      "\n",
      "Processing in a backprop network works as follows. Input is propagated forward from the input layer through the hidden layer and finally through the output layer to produce a response. Each node, regardless of the layer it is in, uses the same transfer function in order to propagate its information forward to the next layer. This is described next.\n",
      "\n",
      "###Transfer function of a node###\n",
      "\n",
      "Each node maintains an activation value that depends on the activation values of its incoming neighbors, the weights from its incoming neighbors, and its own default bias value. To compute this activation value, we first calculate the node's net input.\n",
      "\n",
      "The net input is a weighted sum of all the incoming activations plus the node's bias value:\n",
      "\n",
      "$net_i = \\sum\\limits_{j=1}^n w_{ij} x_j + b_i$\n",
      "\n",
      "Here is some corresponding Python code to compute this function for each node:"
     ]
    },
    {
     "cell_type": "raw",
     "metadata": {},
     "source": [
      "for i in toNodes:\n",
      "   netInput[i] = bias[i]\n",
      "   for j in fromNodes:\n",
      "      netInput[i] += (weight[i][j] * activation[j]) "
     ]
    },
    {
     "cell_type": "markdown",
     "metadata": {},
     "source": [
      "where `weight[i][j]` is the weight $w_{ij}$, or connection strength, from the $j^{th}$ node to the $i^{th}$ node, `activation[j]` is the activation signal $x_j$ of the $j^{th}$ input node, and `bias[i]` is the bias value $b_i$ of the $i^{th}$ node. "
     ]
    },
    {
     "cell_type": "markdown",
     "metadata": {},
     "source": [
      "After computing the net input, each node has to compute its output activation. The value that results from applying the activation function to the net input is the signal that will be sent as output to all the nodes in the next layer. The activation function used in backprop networks is generally:\n",
      "\n",
      "$a_i = \\sigma(net_i)$\n",
      "\n",
      "where $\\sigma(x) = \\frac{1}{1 + e^{-x}}$"
     ]
    },
    {
     "cell_type": "raw",
     "metadata": {},
     "source": [
      "def activationFunction(netInput):\n",
      "    return 1.0 / (1.0 + exp(-netInput))\n",
      "\n",
      "for i in toNodes:\n",
      "    activation[i] = activationFunction(netInput[i])"
     ]
    },
    {
     "cell_type": "markdown",
     "metadata": {},
     "source": [
      "This $\\sigma$ is the activation function, as shown in the plot below. Notice that the function is monotonically increasing and bounded by 0.0 and 1.0 as the net input approaches negative infinity and positive infinity, respectively."
     ]
    },
    {
     "cell_type": "code",
     "collapsed": false,
     "input": [
      "from IPython.display import Image\n",
      "Image(\"http://cs.brynmawr.edu/~dkumar/wikigifs/sigmoid.jpeg\")"
     ],
     "language": "python",
     "metadata": {},
     "outputs": [
      {
       "jpeg": "[encoded data removed]",
       "metadata": {},
       "output_type": "pyout",
       "prompt_number": 10,
       "text": [
        "<IPython.core.display.Image at 0xa89c0ac>"
       ]
      }
     ],
     "prompt_number": 10
    }
   ],
   "metadata": {}
  }
 ]
}
