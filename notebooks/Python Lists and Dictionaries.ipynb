{
 "metadata": {
  "name": ""
 },
 "nbformat": 3,
 "nbformat_minor": 0,
 "worksheets": [
  {
   "cells": [
    {
     "cell_type": "markdown",
     "metadata": {},
     "source": [
      "Exploring Lists and Dicts in Python\n",
      "==================================="
     ]
    },
    {
     "cell_type": "markdown",
     "metadata": {},
     "source": [
      "Let's do some timing tests to explore using lists and dicts.\n",
      "\n",
      "First, let's import some timing code:"
     ]
    },
    {
     "cell_type": "code",
     "collapsed": false,
     "input": [
      "import time"
     ],
     "language": "python",
     "metadata": {},
     "outputs": [],
     "prompt_number": 2
    },
    {
     "cell_type": "markdown",
     "metadata": {},
     "source": [
      "And you can use it like this:"
     ]
    },
    {
     "cell_type": "code",
     "collapsed": false,
     "input": [
      "time.time()"
     ],
     "language": "python",
     "metadata": {},
     "outputs": [
      {
       "metadata": {},
       "output_type": "pyout",
       "prompt_number": 3,
       "text": [
        "1392031103.78419"
       ]
      }
     ],
     "prompt_number": 3
    },
    {
     "cell_type": "markdown",
     "metadata": {},
     "source": [
      "So, time.time() returns a number representing the current time.\n",
      "\n",
      "We could use it to see how long something takes:"
     ]
    },
    {
     "cell_type": "code",
     "collapsed": false,
     "input": [
      "time.time() - time.time()"
     ],
     "language": "python",
     "metadata": {},
     "outputs": [
      {
       "metadata": {},
       "output_type": "pyout",
       "prompt_number": 4,
       "text": [
        "-3.814697265625E-05"
       ]
      }
     ],
     "prompt_number": 4
    },
    {
     "cell_type": "raw",
     "metadata": {},
     "source": [
      "Let's write a function to see how long something takes:"
     ]
    },
    {
     "cell_type": "code",
     "collapsed": false,
     "input": [
      "def timeit(f):\n",
      "    start = time.time()\n",
      "    f()\n",
      "    print(time.time() - start)"
     ],
     "language": "python",
     "metadata": {},
     "outputs": [],
     "prompt_number": 5
    },
    {
     "cell_type": "markdown",
     "metadata": {},
     "source": [
      "We can use it like so:"
     ]
    },
    {
     "cell_type": "code",
     "collapsed": false,
     "input": [
      "def addem():\n",
      "    L = []\n",
      "    for i in range(10000000):\n",
      "        L.append(i)\n",
      "\n",
      "timeit(addem)"
     ],
     "language": "python",
     "metadata": {},
     "outputs": [
      {
       "output_type": "stream",
       "stream": "stdout",
       "text": [
        "1.56428527832"
       ]
      },
      {
       "output_type": "stream",
       "stream": "stdout",
       "text": [
        "\n"
       ]
      }
     ],
     "prompt_number": 6
    },
    {
     "cell_type": "markdown",
     "metadata": {},
     "source": [
      "We can use some advanced features of Python to make it so that we can pass values to the function $f$ that we are timing."
     ]
    },
    {
     "cell_type": "code",
     "collapsed": false,
     "input": [
      "def timeit(f, *args, **kwargs):\n",
      "    start = time.time()\n",
      "    f(*args, **kwargs)\n",
      "    print(time.time() - start)"
     ],
     "language": "python",
     "metadata": {},
     "outputs": [],
     "prompt_number": 7
    },
    {
     "cell_type": "code",
     "collapsed": false,
     "input": [
      "def addem(count):\n",
      "    L = []\n",
      "    for i in range(count):\n",
      "        L.append(i)\n",
      "\n",
      "timeit(addem, 1000)"
     ],
     "language": "python",
     "metadata": {},
     "outputs": [
      {
       "output_type": "stream",
       "stream": "stdout",
       "text": [
        "0.00363922119141"
       ]
      },
      {
       "output_type": "stream",
       "stream": "stdout",
       "text": [
        "\n"
       ]
      }
     ],
     "prompt_number": 8
    },
    {
     "cell_type": "code",
     "collapsed": false,
     "input": [
      "timeit(addem, 1000)"
     ],
     "language": "python",
     "metadata": {},
     "outputs": [
      {
       "output_type": "stream",
       "stream": "stdout",
       "text": [
        "0.000289916992188"
       ]
      },
      {
       "output_type": "stream",
       "stream": "stdout",
       "text": [
        "\n"
       ]
      }
     ],
     "prompt_number": 9
    },
    {
     "cell_type": "code",
     "collapsed": false,
     "input": [
      "timeit(addem, 1000)"
     ],
     "language": "python",
     "metadata": {},
     "outputs": [
      {
       "output_type": "stream",
       "stream": "stdout",
       "text": [
        "0.000404357910156"
       ]
      },
      {
       "output_type": "stream",
       "stream": "stdout",
       "text": [
        "\n"
       ]
      }
     ],
     "prompt_number": 10
    },
    {
     "cell_type": "markdown",
     "metadata": {},
     "source": [
      "Does the list L contain 523? Yes, because we know it contains all numbers between 0 and 999 inclusive. In fact a good name for `addem` might be `range` because it does the same thing.\n",
      "\n",
      "Let's make `addem` add random numbers:"
     ]
    },
    {
     "cell_type": "code",
     "collapsed": false,
     "input": [
      "import random"
     ],
     "language": "python",
     "metadata": {},
     "outputs": [],
     "prompt_number": 11
    },
    {
     "cell_type": "code",
     "collapsed": false,
     "input": [
      "random.random()"
     ],
     "language": "python",
     "metadata": {},
     "outputs": [
      {
       "metadata": {},
       "output_type": "pyout",
       "prompt_number": 12,
       "text": [
        "0.578806091835166"
       ]
      }
     ],
     "prompt_number": 12
    },
    {
     "cell_type": "code",
     "collapsed": false,
     "input": [
      "random.randint(0, 3)"
     ],
     "language": "python",
     "metadata": {},
     "outputs": [
      {
       "metadata": {},
       "output_type": "pyout",
       "prompt_number": 13,
       "text": [
        "2"
       ]
      }
     ],
     "prompt_number": 13
    },
    {
     "cell_type": "markdown",
     "metadata": {},
     "source": [
      "What does `random.randint(start, stop)` do?\n",
      "\n",
      "Let's change addem so that it adds a certain number of random numbers, between 0 and maxint:"
     ]
    },
    {
     "cell_type": "code",
     "collapsed": false,
     "input": [
      "def addem(count, maxint):\n",
      "    L = []\n",
      "    for i in range(count):\n",
      "        L.append(random.randint(0, maxint))\n",
      "    return L"
     ],
     "language": "python",
     "metadata": {},
     "outputs": [],
     "prompt_number": 14
    },
    {
     "cell_type": "code",
     "collapsed": false,
     "input": [
      "addem(100, 10)"
     ],
     "language": "python",
     "metadata": {},
     "outputs": [
      {
       "metadata": {},
       "output_type": "pyout",
       "prompt_number": 15,
       "text": [
        "[3, 8, 9, 8, 8, 2, 4, 1, 4, 7, 10, 4, 10, 5, 9, 8, 5, 0, 1, 1, 8, 5, 5, 2, 7, 3, 4, 0, 7, 0, 7, 10, 8, 4, 3, 5, 2, 8, 4, 2, 3, 0, 3, 5, 7, 7, 3, 1, 5, 4, 9, 0, 10, 5, 0, 4, 0, 5, 4, 3, 0, 6, 8, 1, 4, 10, 0, 5, 8, 2, 4, 4, 6, 8, 3, 7, 6, 10, 1, 2, 2, 10, 6, 4, 0, 0, 1, 6, 10, 4, 4, 7, 10, 2, 8, 10, 4, 6, 1, 0]"
       ]
      }
     ],
     "prompt_number": 15
    },
    {
     "cell_type": "markdown",
     "metadata": {},
     "source": [
      "Now, let's write a function that will search for a number:"
     ]
    },
    {
     "cell_type": "code",
     "collapsed": false,
     "input": [
      "def find(list, item):\n",
      "    for i in list:\n",
      "        if ...:\n",
      "            return True\n",
      "    return False"
     ],
     "language": "python",
     "metadata": {},
     "outputs": [
      {
       "output_type": "stream",
       "stream": "stderr",
       "text": [
        "  File \"\", line 3\n",
        "            if ...:\n",
        "\n",
        "               ^\n",
        "SyntaxError: unexpected token '.'\n",
        "\n"
       ]
      }
     ],
     "prompt_number": 4
    },
    {
     "cell_type": "markdown",
     "metadata": {},
     "source": [
      "How long does it take to find if something is in a list? in a dict? "
     ]
    },
    {
     "cell_type": "markdown",
     "metadata": {},
     "source": [
      "Designing your own Classes\n",
      "==========================\n",
      "\n",
      "How does something like `list` and `dict` come about? "
     ]
    },
    {
     "cell_type": "code",
     "collapsed": false,
     "input": [],
     "language": "python",
     "metadata": {},
     "outputs": []
    }
   ],
   "metadata": {}
  }
 ]
}