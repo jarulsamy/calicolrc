{
 "metadata": {
  "name": "",
  "signature": "sha256:56b370758a702428ddc01d52aa683b9673026bd768fcc671e1133d88045f6435"
 },
 "nbformat": 3,
 "nbformat_minor": 0,
 "worksheets": [
  {
   "cells": [
    {
     "cell_type": "markdown",
     "metadata": {},
     "source": [
      "Exploring Lists and Dicts in Python\n",
      "==================================="
     ]
    },
    {
     "cell_type": "markdown",
     "metadata": {},
     "source": [
      "Let's do some timing tests to explore using lists and dicts.\n",
      "\n",
      "First, let's import some timing code:"
     ]
    },
    {
     "cell_type": "code",
     "collapsed": false,
     "input": [
      "import time"
     ],
     "language": "python",
     "metadata": {},
     "outputs": [],
     "prompt_number": 1
    },
    {
     "cell_type": "markdown",
     "metadata": {},
     "source": [
      "And you can use it like this:"
     ]
    },
    {
     "cell_type": "code",
     "collapsed": false,
     "input": [
      "time.time()"
     ],
     "language": "python",
     "metadata": {},
     "outputs": [
      {
       "metadata": {},
       "output_type": "pyout",
       "prompt_number": 2,
       "text": [
        "1392049686.71137"
       ]
      }
     ],
     "prompt_number": 2
    },
    {
     "cell_type": "markdown",
     "metadata": {},
     "source": [
      "So, time.time() returns a number representing the current time.\n",
      "\n",
      "We could use it to see how long something takes:"
     ]
    },
    {
     "cell_type": "code",
     "collapsed": false,
     "input": [
      "time.time() - time.time()"
     ],
     "language": "python",
     "metadata": {},
     "outputs": [
      {
       "metadata": {},
       "output_type": "pyout",
       "prompt_number": 3,
       "text": [
        "-6.103515625E-05"
       ]
      }
     ],
     "prompt_number": 3
    },
    {
     "cell_type": "raw",
     "metadata": {},
     "source": [
      "Let's write a function to see how long something takes:"
     ]
    },
    {
     "cell_type": "code",
     "collapsed": false,
     "input": [
      "def timeit(f):\n",
      "    start = time.time()\n",
      "    f()\n",
      "    print(time.time() - start)"
     ],
     "language": "python",
     "metadata": {},
     "outputs": [],
     "prompt_number": 4
    },
    {
     "cell_type": "markdown",
     "metadata": {},
     "source": [
      "We can use it like so:"
     ]
    },
    {
     "cell_type": "code",
     "collapsed": false,
     "input": [
      "def addem():\n",
      "    L = []\n",
      "    for i in range(10000000):\n",
      "        L.append(i)\n",
      "\n",
      "timeit(addem)"
     ],
     "language": "python",
     "metadata": {},
     "outputs": [
      {
       "output_type": "stream",
       "stream": "stdout",
       "text": [
        "1.65251922607"
       ]
      },
      {
       "output_type": "stream",
       "stream": "stdout",
       "text": [
        "\n"
       ]
      }
     ],
     "prompt_number": 5
    },
    {
     "cell_type": "markdown",
     "metadata": {},
     "source": [
      "We can use some advanced features of Python to make it so that we can pass values to the function $f$ that we are timing."
     ]
    },
    {
     "cell_type": "code",
     "collapsed": false,
     "input": [
      "def timeit(f, *args, **kwargs):\n",
      "    start = time.time()\n",
      "    f(*args, **kwargs)\n",
      "    print(time.time() - start)"
     ],
     "language": "python",
     "metadata": {},
     "outputs": [],
     "prompt_number": 6
    },
    {
     "cell_type": "code",
     "collapsed": false,
     "input": [
      "def addem(count):\n",
      "    L = []\n",
      "    for i in range(count):\n",
      "        L.append(i)\n",
      "\n",
      "timeit(addem, 1000)"
     ],
     "language": "python",
     "metadata": {},
     "outputs": [
      {
       "output_type": "stream",
       "stream": "stdout",
       "text": [
        "0.00413513183594"
       ]
      },
      {
       "output_type": "stream",
       "stream": "stdout",
       "text": [
        "\n"
       ]
      }
     ],
     "prompt_number": 7
    },
    {
     "cell_type": "code",
     "collapsed": false,
     "input": [
      "timeit(addem, 1000)"
     ],
     "language": "python",
     "metadata": {},
     "outputs": [
      {
       "output_type": "stream",
       "stream": "stdout",
       "text": [
        "0.000480651855469"
       ]
      },
      {
       "output_type": "stream",
       "stream": "stdout",
       "text": [
        "\n"
       ]
      }
     ],
     "prompt_number": 8
    },
    {
     "cell_type": "code",
     "collapsed": false,
     "input": [
      "timeit(addem, 1000)"
     ],
     "language": "python",
     "metadata": {},
     "outputs": [
      {
       "output_type": "stream",
       "stream": "stdout",
       "text": [
        "0.000282287597656"
       ]
      },
      {
       "output_type": "stream",
       "stream": "stdout",
       "text": [
        "\n"
       ]
      }
     ],
     "prompt_number": 9
    },
    {
     "cell_type": "markdown",
     "metadata": {},
     "source": [
      "Does the list L contain 523? Yes, because we know it contains all numbers between 0 and 999 inclusive. In fact a good name for `addem` might be `range` because it does the same thing.\n",
      "\n",
      "Let's make `addem` add random numbers:"
     ]
    },
    {
     "cell_type": "code",
     "collapsed": false,
     "input": [
      "import random"
     ],
     "language": "python",
     "metadata": {},
     "outputs": [],
     "prompt_number": 1
    },
    {
     "cell_type": "code",
     "collapsed": false,
     "input": [
      "random.random()"
     ],
     "language": "python",
     "metadata": {},
     "outputs": [
      {
       "metadata": {},
       "output_type": "pyout",
       "prompt_number": 11,
       "text": [
        "0.201483504940515"
       ]
      }
     ],
     "prompt_number": 11
    },
    {
     "cell_type": "code",
     "collapsed": false,
     "input": [
      "random.randint(0, 3)"
     ],
     "language": "python",
     "metadata": {},
     "outputs": [
      {
       "metadata": {},
       "output_type": "pyout",
       "prompt_number": 12,
       "text": [
        "3"
       ]
      }
     ],
     "prompt_number": 12
    },
    {
     "cell_type": "markdown",
     "metadata": {},
     "source": [
      "What does `random.randint(start, stop)` do?\n",
      "\n",
      "Let's change addem so that it adds a certain number of random numbers, between 0 and maxint:"
     ]
    },
    {
     "cell_type": "code",
     "collapsed": false,
     "input": [
      "def addem(count, maxint):\n",
      "    L = []\n",
      "    for i in range(count):\n",
      "        L.append(random.randint(0, maxint))\n",
      "    return L"
     ],
     "language": "python",
     "metadata": {},
     "outputs": [],
     "prompt_number": 2
    },
    {
     "cell_type": "code",
     "collapsed": false,
     "input": [
      "addem(100, 10)"
     ],
     "language": "python",
     "metadata": {},
     "outputs": [
      {
       "metadata": {},
       "output_type": "pyout",
       "prompt_number": 14,
       "text": [
        "[6, 4, 5, 8, 8, 1, 4, 7, 10, 4, 10, 2, 3, 0, 1, 5, 9, 2, 5, 7, 3, 3, 8, 7, 2, 5, 2, 2, 8, 3, 0, 8, 4, 9, 7, 7, 3, 9, 2, 7, 9, 10, 4, 4, 3, 6, 3, 9, 3, 7, 9, 7, 10, 9, 8, 8, 10, 6, 1, 1, 8, 5, 5, 2, 5, 10, 9, 9, 7, 6, 1, 10, 10, 9, 8, 6, 4, 9, 10, 5, 5, 6, 1, 7, 6, 5, 3, 1, 4, 7, 9, 5, 2, 7, 6, 9, 0, 6, 7, 8]"
       ]
      }
     ],
     "prompt_number": 14
    },
    {
     "cell_type": "markdown",
     "metadata": {},
     "source": [
      "Now, let's write a function that will search for a number:"
     ]
    },
    {
     "cell_type": "code",
     "collapsed": false,
     "input": [
      "def find(list, item):\n",
      "    count = 0\n",
      "    for i in list:\n",
      "        if item == i:\n",
      "            return count\n",
      "        count += 1\n",
      "    return -1"
     ],
     "language": "python",
     "metadata": {},
     "outputs": [],
     "prompt_number": 4
    },
    {
     "cell_type": "code",
     "collapsed": false,
     "input": [
      "def f1():\n",
      "    print(\"hi\")\n",
      "    \n",
      "def f2():\n",
      "    return \"hi\""
     ],
     "language": "python",
     "metadata": {},
     "outputs": [],
     "prompt_number": 16
    },
    {
     "cell_type": "code",
     "collapsed": false,
     "input": [
      "print(f2())"
     ],
     "language": "python",
     "metadata": {},
     "outputs": [
      {
       "output_type": "stream",
       "stream": "stdout",
       "text": [
        "hi"
       ]
      },
      {
       "output_type": "stream",
       "stream": "stdout",
       "text": [
        "\n"
       ]
      }
     ],
     "prompt_number": 17
    },
    {
     "cell_type": "code",
     "collapsed": false,
     "input": [
      "f1()"
     ],
     "language": "python",
     "metadata": {},
     "outputs": [
      {
       "output_type": "stream",
       "stream": "stdout",
       "text": [
        "hi"
       ]
      },
      {
       "output_type": "stream",
       "stream": "stdout",
       "text": [
        "\n"
       ]
      }
     ],
     "prompt_number": 18
    },
    {
     "cell_type": "code",
     "collapsed": false,
     "input": [
      "list = addem(1000, 1000)"
     ],
     "language": "python",
     "metadata": {},
     "outputs": [],
     "prompt_number": 19
    },
    {
     "cell_type": "code",
     "collapsed": false,
     "input": [
      "x = 10000\n",
      "list = addem(x, x)\n",
      "total = 0\n",
      "for i in range(x):\n",
      "    if find(list, i) >= 0:\n",
      "        total += 1\n",
      "print(total/x)"
     ],
     "language": "python",
     "metadata": {},
     "outputs": [
      {
       "output_type": "stream",
       "stream": "stdout",
       "text": [
        "0.6312"
       ]
      },
      {
       "output_type": "stream",
       "stream": "stdout",
       "text": [
        "\n"
       ]
      }
     ],
     "prompt_number": 5
    },
    {
     "cell_type": "markdown",
     "metadata": {},
     "source": [
      "How long does it take to find if something is in a list? in a dict?"
     ]
    },
    {
     "cell_type": "markdown",
     "metadata": {},
     "source": [
      "Designing your own Classes\n",
      "==========================\n",
      "\n",
      "How does something like `list` and `dict` come about? "
     ]
    },
    {
     "cell_type": "code",
     "collapsed": false,
     "input": [],
     "language": "python",
     "metadata": {},
     "outputs": []
    }
   ],
   "metadata": {}
  }
 ]
}