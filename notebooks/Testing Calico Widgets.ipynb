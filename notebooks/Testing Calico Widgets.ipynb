{
 "metadata": {
  "name": "",
  "signature": "sha256:f939ed1145fea1a04a41a0cd4450af0b05b76cb3329bedce533f7b77d7c58383"
 },
 "nbformat": 3,
 "nbformat_minor": 0,
 "worksheets": [
  {
   "cells": [
    {
     "cell_type": "code",
     "collapsed": false,
     "input": [
      "widget = calico.FloatSliderWidget()\n",
      "calico.display(widget)"
     ],
     "language": "python",
     "metadata": {},
     "outputs": [],
     "prompt_number": 1
    },
    {
     "cell_type": "code",
     "collapsed": false,
     "input": [
      "widget.value"
     ],
     "language": "python",
     "metadata": {},
     "outputs": [
      {
       "metadata": {},
       "output_type": "pyout",
       "prompt_number": 2,
       "text": [
        "0"
       ]
      }
     ],
     "prompt_number": 2
    },
    {
     "cell_type": "code",
     "collapsed": false,
     "input": [
      "x = 0\n",
      "def test(a, b):\n",
      "    global x\n",
      "    x = b\n",
      "    print(a, b)\n",
      "\n",
      "widget.on_value_change(test, \"value\")"
     ],
     "language": "python",
     "metadata": {},
     "outputs": [],
     "prompt_number": 3
    },
    {
     "cell_type": "code",
     "collapsed": false,
     "input": [
      "x"
     ],
     "language": "python",
     "metadata": {},
     "outputs": [
      {
       "metadata": {},
       "output_type": "pyout",
       "prompt_number": 5,
       "text": [
        "0"
       ]
      }
     ],
     "prompt_number": 5
    },
    {
     "cell_type": "code",
     "collapsed": false,
     "input": [
      "print(x)"
     ],
     "language": "python",
     "metadata": {},
     "outputs": [
      {
       "output_type": "stream",
       "stream": "stdout",
       "text": [
        "0"
       ]
      },
      {
       "output_type": "stream",
       "stream": "stdout",
       "text": [
        "\n"
       ]
      }
     ]
    },
    {
     "cell_type": "code",
     "collapsed": false,
     "input": [
      "[x for x in dir(calico) if x.endswith(\"Widget\") and x.startswith(\"make\")]"
     ],
     "language": "python",
     "metadata": {},
     "outputs": [
      {
       "metadata": {},
       "output_type": "pyout",
       "prompt_number": 7,
       "text": [
        "['makeBoundedFloatTextWidget', 'makeBoundedIntTextWidget', 'makeButtonWidget', 'makeCheckboxWidget', 'makeContainerWidget', 'makeDropdownWidget', 'makeFloatProgressWidget', 'makeFloatSliderWidget', 'makeFloatTextProgressWidget', 'makeFloatTextWidget', 'makeHTMLWidget', 'makeImageWidget', 'makeIntProgressWidget', 'makeIntSliderWidget', 'makeIntTextWidget', 'makeLatexWidget', 'makePopupWidget', 'makeRadioButtonsWidget', 'makeSelectWidget', 'makeSelectionWidget', 'makeTextWidget', 'makeTextareaWidget', 'makeToggleButtonWidget', 'makeToogleButtonsWidget']"
       ]
      }
     ],
     "prompt_number": 7
    },
    {
     "cell_type": "code",
     "collapsed": false,
     "input": [
      "button = calico.ButtonWidget()\n",
      "calico.display(button)"
     ],
     "language": "python",
     "metadata": {},
     "outputs": []
    },
    {
     "cell_type": "code",
     "collapsed": false,
     "input": [
      "button.description = \"Press me!\""
     ],
     "language": "python",
     "metadata": {},
     "outputs": [],
     "prompt_number": 9
    },
    {
     "cell_type": "code",
     "collapsed": false,
     "input": [
      "button.on_click(lambda obj: print(\"Ouch!\"))"
     ],
     "language": "python",
     "metadata": {},
     "outputs": []
    },
    {
     "cell_type": "code",
     "collapsed": false,
     "input": [
      "import time\n",
      "for s in \"This is a test\".split():\n",
      "    button.description = s\n",
      "    time.sleep(1)"
     ],
     "language": "python",
     "metadata": {},
     "outputs": [],
     "prompt_number": 11
    },
    {
     "cell_type": "code",
     "collapsed": false,
     "input": [
      "checkbox = calico.CheckboxWidget(description=\"I like food\")\n",
      "calico.display(checkbox)"
     ],
     "language": "python",
     "metadata": {},
     "outputs": []
    },
    {
     "cell_type": "code",
     "collapsed": false,
     "input": [
      "checkbox.value"
     ],
     "language": "python",
     "metadata": {},
     "outputs": [
      {
       "metadata": {},
       "output_type": "pyout",
       "prompt_number": 13,
       "text": [
        "False"
       ]
      }
     ],
     "prompt_number": 13
    },
    {
     "cell_type": "code",
     "collapsed": false,
     "input": [
      "checkbox.value"
     ],
     "language": "python",
     "metadata": {},
     "outputs": [
      {
       "metadata": {},
       "output_type": "pyout",
       "prompt_number": 14,
       "text": [
        "False"
       ]
      }
     ]
    },
    {
     "cell_type": "code",
     "collapsed": false,
     "input": [
      "checkbox.on_value_change(lambda value_name, new_value: print(value_name, new_value), \"value\")"
     ],
     "language": "python",
     "metadata": {},
     "outputs": [],
     "prompt_number": 15
    },
    {
     "cell_type": "code",
     "collapsed": false,
     "input": [
      "fpw = calico.FloatProgressWidget()\n",
      "calico.display(fpw)"
     ],
     "language": "python",
     "metadata": {},
     "outputs": []
    },
    {
     "cell_type": "code",
     "collapsed": false,
     "input": [
      "fpw.value = 50"
     ],
     "language": "python",
     "metadata": {},
     "outputs": [],
     "prompt_number": 17
    },
    {
     "cell_type": "code",
     "collapsed": false,
     "input": [
      "fpw.description = \"Float Progress Widget\""
     ],
     "language": "python",
     "metadata": {},
     "outputs": []
    },
    {
     "cell_type": "code",
     "collapsed": false,
     "input": [
      "widgets = [x for x in dir(calico) if x.endswith(\"Widget\") and x.startswith(\"make\")]"
     ],
     "language": "python",
     "metadata": {},
     "outputs": [],
     "prompt_number": 19
    },
    {
     "cell_type": "code",
     "collapsed": false,
     "input": [
      "w = []\n",
      "for widget in widgets:\n",
      "    w.append(getattr(calico, widget)())\n",
      "    try:\n",
      "        w[-1].description = w[-1].__class__.__name__\n",
      "    except:\n",
      "        print(w[-1].__class__.__name__, dir(w[-1]))\n",
      "for widget in w:\n",
      "    calico.display(widget)"
     ],
     "language": "python",
     "metadata": {},
     "outputs": [
      {
       "output_type": "stream",
       "stream": "stdout",
       "text": [
        "ContainerWidget"
       ]
      },
      {
       "output_type": "stream",
       "stream": "stdout",
       "text": [
        " "
       ]
      },
      {
       "output_type": "stream",
       "stream": "stdout",
       "text": [
        "['Dispatch', 'Equals', 'Finalize', 'GetDisplay', 'GetHashCode', 'GetInitialState', 'GetState', 'GetType', 'MemberwiseClone', 'ReferenceEquals', 'ToString', '__class__', '__delattr__', '__doc__', '__format__', '__getattribute__', '__hash__', '__init__', '__new__', '__reduce__', '__reduce_ex__', '__repr__', '__setattr__', '__sizeof__', '__str__', '__subclasshook__', '_view_name', 'children', 'comm_id', 'data', 'disabled', 'execution_count', 'get', 'get_css', 'onClick', 'on_click', 'on_click_func', 'on_value_change', 'on_value_change_callback', 'set', 'set_css', 'target_name', 'visible']"
       ]
      },
      {
       "output_type": "stream",
       "stream": "stdout",
       "text": [
        "\n"
       ]
      },
      {
       "output_type": "stream",
       "stream": "stdout",
       "text": [
        "ImageWidget"
       ]
      },
      {
       "output_type": "stream",
       "stream": "stdout",
       "text": [
        " "
       ]
      },
      {
       "output_type": "stream",
       "stream": "stdout",
       "text": [
        "['Dispatch', 'Equals', 'Finalize', 'GetDisplay', 'GetHashCode', 'GetInitialState', 'GetState', 'GetType', 'MemberwiseClone', 'ReferenceEquals', 'ToString', '__class__', '__delattr__', '__doc__', '__format__', '__getattribute__', '__hash__', '__init__', '__new__', '__reduce__', '__reduce_ex__', '__repr__', '__setattr__', '__sizeof__', '__str__', '__subclasshook__', '_b64value', '_view_name', 'comm_id', 'data', 'disabled', 'execution_count', 'format', 'get', 'get_css', 'height', 'onClick', 'on_click', 'on_click_func', 'on_value_change', 'on_value_change_callback', 'set', 'set_css', 'target_name', 'value', 'visible', 'width']"
       ]
      },
      {
       "output_type": "stream",
       "stream": "stdout",
       "text": [
        "\n"
       ]
      }
     ]
    },
    {
     "cell_type": "code",
     "collapsed": false,
     "input": [
      "t = calico.Table([[\"Doug\", 1, 2, 3], [\"Keith\", 4, 5, 6], [\"Stephanie\", 7, 8, 9]]); t"
     ],
     "language": "python",
     "metadata": {},
     "outputs": [
      {
       "output_type": "stream",
       "stream": "stdout",
       "text": [
        "<Calico.MimeRepresentation object at 0x000000000000002B [Calico.MimeRepresentation]>"
       ]
      },
      {
       "output_type": "stream",
       "stream": "stdout",
       "text": [
        "\n"
       ]
      }
     ],
     "prompt_number": 4
    },
    {
     "cell_type": "code",
     "collapsed": false,
     "input": [
      "t"
     ],
     "language": "python",
     "metadata": {},
     "outputs": [
      {
       "html": [
        "<table border=\"1\"><tr><th>Item1</th><th>Item2</th><th>Item3</th><th>Item4</th></tr><tr><td>Doug</td><td>1</td><td>2</td><td>3</td></tr><tr><td>Keith</td><td>4</td><td>5</td><td>6</td></tr><tr><td>Stephanie</td><td>7</td><td>8</td><td>9</td></tr></table>"
       ],
       "metadata": {},
       "output_type": "pyout",
       "prompt_number": 2,
       "text": [
        "<Table>"
       ]
      }
     ],
     "prompt_number": 2
    },
    {
     "cell_type": "code",
     "collapsed": false,
     "input": [
      "calico.display(t)"
     ],
     "language": "python",
     "metadata": {},
     "outputs": [
      {
       "html": [
        "<table border=\"1\"><tr><th>Item1</th><th>Item2</th><th>Item3</th><th>Item4</th></tr><tr><td>Doug</td><td>1</td><td>2</td><td>3</td></tr><tr><td>Keith</td><td>4</td><td>5</td><td>6</td></tr><tr><td>Stephanie</td><td>7</td><td>8</td><td>9</td></tr></table>"
       ],
       "metadata": {},
       "output_type": "display_data",
       "text": [
        "<Table>"
       ]
      }
     ],
     "prompt_number": 3
    },
    {
     "cell_type": "code",
     "collapsed": false,
     "input": [
      "_"
     ],
     "language": "python",
     "metadata": {},
     "outputs": [
      {
       "output_type": "stream",
       "stream": "stderr",
       "text": [
        "Traceback (most recent call last):\n",
        "  File \"<string>\", line unknown, in <module>\n",
        "  File \"<string>\", line 1, in <module>\n",
        "NameError: name '_' is not defined\n"
       ]
      }
     ],
     "prompt_number": 4
    },
    {
     "cell_type": "code",
     "collapsed": false,
     "input": [
      "print = calico.display"
     ],
     "language": "python",
     "metadata": {},
     "outputs": [],
     "prompt_number": 10
    },
    {
     "cell_type": "code",
     "collapsed": false,
     "input": [
      "t = calico.Table([[\"Doug\", 1, 2, 3], [\"Keith\", 4, 5, 6], [\"Stephanie\", 7, 8, 9]])\n",
      "print(t)"
     ],
     "language": "python",
     "metadata": {},
     "outputs": [
      {
       "output_type": "stream",
       "stream": "stdout",
       "text": [
        "<Calico.MimeRepresentation object at 0x000000000000002B [Calico.MimeRepresentation]>"
       ]
      },
      {
       "output_type": "stream",
       "stream": "stdout",
       "text": [
        "\n"
       ]
      }
     ],
     "prompt_number": 5
    },
    {
     "cell_type": "code",
     "collapsed": false,
     "input": [
      "calico.display(t)"
     ],
     "language": "python",
     "metadata": {},
     "outputs": [
      {
       "html": [
        "<table border=\"1\"><tr><th>Item1</th><th>Item2</th><th>Item3</th><th>Item4</th></tr><tr><td>Doug</td><td>1</td><td>2</td><td>3</td></tr><tr><td>Keith</td><td>4</td><td>5</td><td>6</td></tr><tr><td>Stephanie</td><td>7</td><td>8</td><td>9</td></tr></table>"
       ],
       "metadata": {},
       "output_type": "display_data",
       "text": [
        "<Table>"
       ]
      }
     ],
     "prompt_number": 4
    },
    {
     "cell_type": "code",
     "collapsed": false,
     "input": [
      "print = calico.display"
     ],
     "language": "python",
     "metadata": {},
     "outputs": [],
     "prompt_number": 6
    },
    {
     "cell_type": "code",
     "collapsed": false,
     "input": [
      "print(1)"
     ],
     "language": "python",
     "metadata": {},
     "outputs": [
      {
       "metadata": {},
       "output_type": "display_data",
       "text": [
        "1"
       ]
      }
     ],
     "prompt_number": 7
    },
    {
     "cell_type": "code",
     "collapsed": false,
     "input": [
      "print(t)"
     ],
     "language": "python",
     "metadata": {},
     "outputs": [
      {
       "html": [
        "<table border=\"1\"><tr><th>Item1</th><th>Item2</th><th>Item3</th><th>Item4</th></tr><tr><td>Doug</td><td>1</td><td>2</td><td>3</td></tr><tr><td>Keith</td><td>4</td><td>5</td><td>6</td></tr><tr><td>Stephanie</td><td>7</td><td>8</td><td>9</td></tr></table>"
       ],
       "metadata": {},
       "output_type": "display_data",
       "text": [
        "<Table>"
       ]
      }
     ],
     "prompt_number": 10
    },
    {
     "cell_type": "code",
     "collapsed": false,
     "input": [
      "t"
     ],
     "language": "python",
     "metadata": {},
     "outputs": [
      {
       "html": [
        "<table border=\"1\"><tr><th>Item1</th><th>Item2</th><th>Item3</th><th>Item4</th></tr><tr><td>Doug</td><td>1</td><td>2</td><td>3</td></tr><tr><td>Keith</td><td>4</td><td>5</td><td>6</td></tr><tr><td>Stephanie</td><td>7</td><td>8</td><td>9</td></tr></table>"
       ],
       "metadata": {},
       "output_type": "pyout",
       "prompt_number": 8,
       "text": [
        "<Table>"
       ]
      }
     ],
     "prompt_number": 8
    },
    {
     "cell_type": "code",
     "collapsed": false,
     "input": [
      "print(1)"
     ],
     "language": "python",
     "metadata": {},
     "outputs": [
      {
       "metadata": {},
       "output_type": "display_data",
       "text": [
        "1"
       ]
      }
     ],
     "prompt_number": 9
    },
    {
     "cell_type": "code",
     "collapsed": false,
     "input": [
      ":lang scheme\n",
      "(calico.display t)"
     ],
     "language": "python",
     "metadata": {},
     "outputs": [
      {
       "metadata": {},
       "output_type": "pyout",
       "prompt_number": 13,
       "text": [
        "'Calico Language is now \"Scheme\"'"
       ]
      },
      {
       "output_type": "stream",
       "stream": "stderr",
       "text": [
        "Traceback (most recent call last):"
       ]
      },
      {
       "output_type": "stream",
       "stream": "stderr",
       "text": [
        "\n"
       ]
      },
      {
       "output_type": "stream",
       "stream": "stderr",
       "text": [
        "System.ArgumentException: failed to convert parameters"
       ]
      },
      {
       "output_type": "stream",
       "stream": "stderr",
       "text": [
        "\n"
       ]
      }
     ],
     "prompt_number": 13
    },
    {
     "cell_type": "code",
     "collapsed": false,
     "input": [
      ":lang java\n",
      "calico.display(1, 2);"
     ],
     "language": "python",
     "metadata": {},
     "outputs": [
      {
       "metadata": {},
       "output_type": "pyout",
       "prompt_number": 15,
       "text": [
        "'Calico Language is now \"Java\"'"
       ]
      },
      {
       "metadata": {},
       "output_type": "display_data",
       "text": [
        "1"
       ]
      },
      {
       "metadata": {},
       "output_type": "display_data",
       "text": [
        "2"
       ]
      }
     ],
     "prompt_number": 15
    },
    {
     "cell_type": "code",
     "collapsed": false,
     "input": [
      ":lang python"
     ],
     "language": "python",
     "metadata": {},
     "outputs": [
      {
       "metadata": {},
       "output_type": "pyout",
       "prompt_number": 16,
       "text": [
        "'Calico Language is now \"Python\"'"
       ]
      }
     ],
     "prompt_number": 16
    },
    {
     "cell_type": "code",
     "collapsed": false,
     "input": [
      "__builtins__[\"print\"] = calico.display"
     ],
     "language": "python",
     "metadata": {},
     "outputs": [],
     "prompt_number": 3
    },
    {
     "cell_type": "code",
     "collapsed": false,
     "input": [],
     "language": "python",
     "metadata": {},
     "outputs": []
    }
   ],
   "metadata": {}
  }
 ]
}