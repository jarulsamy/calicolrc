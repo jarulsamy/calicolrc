{
 "metadata": {
  "name": "",
  "signature": "sha256:3575034146fe123188d0f222b8ab76d6843f0d602cacf4f4e05e936731b0c2a1"
 },
 "nbformat": 3,
 "nbformat_minor": 0,
 "worksheets": [
  {
   "cells": [
    {
     "cell_type": "code",
     "collapsed": false,
     "input": [
      "widget = calico.FloatSliderWidget()\n",
      "calico.display(widget)"
     ],
     "language": "python",
     "metadata": {},
     "outputs": []
    },
    {
     "cell_type": "code",
     "collapsed": false,
     "input": [
      "widget.value"
     ],
     "language": "python",
     "metadata": {},
     "outputs": [
      {
       "metadata": {},
       "output_type": "pyout",
       "prompt_number": 3,
       "text": [
        "0"
       ]
      }
     ],
     "prompt_number": 3
    },
    {
     "cell_type": "code",
     "collapsed": false,
     "input": [
      "x = 0\n",
      "def test(a, b):\n",
      "    global x\n",
      "    x = b\n",
      "    print(a, b)\n",
      "\n",
      "widget.on_value_change(test, \"value\")"
     ],
     "language": "python",
     "metadata": {},
     "outputs": []
    },
    {
     "cell_type": "code",
     "collapsed": false,
     "input": [
      "x"
     ],
     "language": "python",
     "metadata": {},
     "outputs": [
      {
       "metadata": {},
       "output_type": "pyout",
       "prompt_number": 5,
       "text": [
        "0"
       ]
      }
     ],
     "prompt_number": 5
    },
    {
     "cell_type": "code",
     "collapsed": false,
     "input": [
      "print(x)"
     ],
     "language": "python",
     "metadata": {},
     "outputs": [
      {
       "output_type": "stream",
       "stream": "stdout",
       "text": [
        "0"
       ]
      },
      {
       "output_type": "stream",
       "stream": "stdout",
       "text": [
        "\n"
       ]
      }
     ]
    },
    {
     "cell_type": "code",
     "collapsed": false,
     "input": [
      "[x for x in dir(calico) if x.endswith(\"Widget\") and x.startswith(\"make\")]"
     ],
     "language": "python",
     "metadata": {},
     "outputs": [
      {
       "metadata": {},
       "output_type": "pyout",
       "prompt_number": 7,
       "text": [
        "['makeBoundedFloatTextWidget', 'makeBoundedIntTextWidget', 'makeButtonWidget', 'makeCheckboxWidget', 'makeContainerWidget', 'makeDropdownWidget', 'makeFloatProgressWidget', 'makeFloatSliderWidget', 'makeFloatTextProgressWidget', 'makeFloatTextWidget', 'makeHTMLWidget', 'makeImageWidget', 'makeIntProgressWidget', 'makeIntSliderWidget', 'makeIntTextWidget', 'makeLatexWidget', 'makePopupWidget', 'makeRadioButtonsWidget', 'makeSelectWidget', 'makeSelectionWidget', 'makeTextWidget', 'makeTextareaWidget', 'makeToggleButtonWidget', 'makeToogleButtonsWidget']"
       ]
      }
     ],
     "prompt_number": 7
    },
    {
     "cell_type": "code",
     "collapsed": false,
     "input": [
      "button = calico.ButtonWidget()\n",
      "calico.display(button)"
     ],
     "language": "python",
     "metadata": {},
     "outputs": []
    },
    {
     "cell_type": "code",
     "collapsed": false,
     "input": [
      "button.description = \"Press me!\""
     ],
     "language": "python",
     "metadata": {},
     "outputs": [],
     "prompt_number": 9
    },
    {
     "cell_type": "code",
     "collapsed": false,
     "input": [
      "button.on_click(lambda obj: print(\"Ouch!\"))"
     ],
     "language": "python",
     "metadata": {},
     "outputs": []
    },
    {
     "cell_type": "code",
     "collapsed": false,
     "input": [
      "import time\n",
      "for s in \"This is a test\".split():\n",
      "    button.description = s\n",
      "    time.sleep(1)"
     ],
     "language": "python",
     "metadata": {},
     "outputs": [],
     "prompt_number": 11
    },
    {
     "cell_type": "code",
     "collapsed": false,
     "input": [
      "checkbox = calico.CheckboxWidget(description=\"I like food\")\n",
      "calico.display(checkbox)"
     ],
     "language": "python",
     "metadata": {},
     "outputs": []
    },
    {
     "cell_type": "code",
     "collapsed": false,
     "input": [
      "checkbox.value"
     ],
     "language": "python",
     "metadata": {},
     "outputs": [
      {
       "metadata": {},
       "output_type": "pyout",
       "prompt_number": 13,
       "text": [
        "False"
       ]
      }
     ],
     "prompt_number": 13
    },
    {
     "cell_type": "code",
     "collapsed": false,
     "input": [
      "checkbox.value"
     ],
     "language": "python",
     "metadata": {},
     "outputs": [
      {
       "metadata": {},
       "output_type": "pyout",
       "prompt_number": 14,
       "text": [
        "False"
       ]
      }
     ]
    },
    {
     "cell_type": "code",
     "collapsed": false,
     "input": [
      "checkbox.on_value_change(lambda value_name, new_value: print(value_name, new_value), \"value\")"
     ],
     "language": "python",
     "metadata": {},
     "outputs": [],
     "prompt_number": 15
    },
    {
     "cell_type": "code",
     "collapsed": false,
     "input": [
      "fpw = calico.FloatProgressWidget()\n",
      "calico.display(fpw)"
     ],
     "language": "python",
     "metadata": {},
     "outputs": []
    },
    {
     "cell_type": "code",
     "collapsed": false,
     "input": [
      "fpw.value = 50"
     ],
     "language": "python",
     "metadata": {},
     "outputs": [],
     "prompt_number": 17
    },
    {
     "cell_type": "code",
     "collapsed": false,
     "input": [
      "fpw.description = \"Float Progress Widget\""
     ],
     "language": "python",
     "metadata": {},
     "outputs": []
    },
    {
     "cell_type": "code",
     "collapsed": false,
     "input": [
      "widgets = [x for x in dir(calico) if x.endswith(\"Widget\") and x.startswith(\"make\")]"
     ],
     "language": "python",
     "metadata": {},
     "outputs": [],
     "prompt_number": 19
    },
    {
     "cell_type": "code",
     "collapsed": false,
     "input": [
      "w = []\n",
      "for widget in widgets:\n",
      "    w.append(getattr(calico, widget)())\n",
      "    try:\n",
      "        w[-1].description = w[-1].__class__.__name__\n",
      "    except:\n",
      "        print(w[-1].__class__.__name__, dir(w[-1]))\n",
      "for widget in w:\n",
      "    calico.display(widget)"
     ],
     "language": "python",
     "metadata": {},
     "outputs": [
      {
       "output_type": "stream",
       "stream": "stdout",
       "text": [
        "ContainerWidget"
       ]
      },
      {
       "output_type": "stream",
       "stream": "stdout",
       "text": [
        " "
       ]
      },
      {
       "output_type": "stream",
       "stream": "stdout",
       "text": [
        "['Dispatch', 'Equals', 'Finalize', 'GetDisplay', 'GetHashCode', 'GetInitialState', 'GetState', 'GetType', 'MemberwiseClone', 'ReferenceEquals', 'ToString', '__class__', '__delattr__', '__doc__', '__format__', '__getattribute__', '__hash__', '__init__', '__new__', '__reduce__', '__reduce_ex__', '__repr__', '__setattr__', '__sizeof__', '__str__', '__subclasshook__', '_view_name', 'children', 'comm_id', 'data', 'disabled', 'execution_count', 'get', 'get_css', 'onClick', 'on_click', 'on_click_func', 'on_value_change', 'on_value_change_callback', 'set', 'set_css', 'target_name', 'visible']"
       ]
      },
      {
       "output_type": "stream",
       "stream": "stdout",
       "text": [
        "\n"
       ]
      },
      {
       "output_type": "stream",
       "stream": "stdout",
       "text": [
        "ImageWidget"
       ]
      },
      {
       "output_type": "stream",
       "stream": "stdout",
       "text": [
        " "
       ]
      },
      {
       "output_type": "stream",
       "stream": "stdout",
       "text": [
        "['Dispatch', 'Equals', 'Finalize', 'GetDisplay', 'GetHashCode', 'GetInitialState', 'GetState', 'GetType', 'MemberwiseClone', 'ReferenceEquals', 'ToString', '__class__', '__delattr__', '__doc__', '__format__', '__getattribute__', '__hash__', '__init__', '__new__', '__reduce__', '__reduce_ex__', '__repr__', '__setattr__', '__sizeof__', '__str__', '__subclasshook__', '_b64value', '_view_name', 'comm_id', 'data', 'disabled', 'execution_count', 'format', 'get', 'get_css', 'height', 'onClick', 'on_click', 'on_click_func', 'on_value_change', 'on_value_change_callback', 'set', 'set_css', 'target_name', 'value', 'visible', 'width']"
       ]
      },
      {
       "output_type": "stream",
       "stream": "stdout",
       "text": [
        "\n"
       ]
      }
     ]
    },
    {
     "cell_type": "code",
     "collapsed": false,
     "input": [],
     "language": "python",
     "metadata": {},
     "outputs": []
    }
   ],
   "metadata": {}
  }
 ]
}