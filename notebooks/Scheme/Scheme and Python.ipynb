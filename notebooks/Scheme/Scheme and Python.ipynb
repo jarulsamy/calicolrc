{
 "metadata": {
  "name": "",
  "signature": "sha256:263f0216285e4c93be2d1db01c461be7596878ca93a5bad57d0bc6ccf2f0c038"
 },
 "nbformat": 3,
 "nbformat_minor": 0,
 "worksheets": [
  {
   "cells": [
    {
     "cell_type": "code",
     "collapsed": false,
     "input": [
      "%%%lang scheme\n",
      "(define! factorial\n",
      "     (lambda (n)\n",
      "          (if (= n 1)\n",
      "              1\n",
      "              (* n (factorial (- n 1))))))"
     ],
     "language": "python",
     "metadata": {},
     "outputs": [
      {
       "output_type": "stream",
       "stream": "stdout",
       "text": [
        "Calico Language is now \"Scheme\""
       ]
      },
      {
       "output_type": "stream",
       "stream": "stdout",
       "text": [
        "\n"
       ]
      }
     ],
     "prompt_number": 12
    },
    {
     "cell_type": "code",
     "collapsed": false,
     "input": [
      "%%%lang python\n",
      "print(factorial(50))"
     ],
     "language": "python",
     "metadata": {},
     "outputs": [
      {
       "output_type": "stream",
       "stream": "stdout",
       "text": [
        "Calico Language is now \"Python\""
       ]
      },
      {
       "output_type": "stream",
       "stream": "stdout",
       "text": [
        "\n"
       ]
      },
      {
       "output_type": "stream",
       "stream": "stdout",
       "text": [
        "30414093201713378043612608166064768844377641568960512000000000000"
       ]
      },
      {
       "output_type": "stream",
       "stream": "stdout",
       "text": [
        "\n"
       ]
      }
     ],
     "prompt_number": 14
    },
    {
     "cell_type": "code",
     "collapsed": false,
     "input": [],
     "language": "python",
     "metadata": {},
     "outputs": []
    }
   ],
   "metadata": {}
  }
 ]
}