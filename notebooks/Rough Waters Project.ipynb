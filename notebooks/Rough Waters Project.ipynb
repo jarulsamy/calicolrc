{
 "metadata": {
  "name": "",
  "signature": "sha256:93130358f46a0d5168202f22e190e1eb0592627b84b63518a985960b88ec542a"
 },
 "nbformat": 3,
 "nbformat_minor": 0,
 "worksheets": [
  {
   "cells": [
    {
     "cell_type": "code",
     "collapsed": false,
     "input": [
      "import random\n",
      "\n",
      "class Fish:\n",
      "    def __init__(self, name):\n",
      "        self.name = name\n",
      "        self.x = random.randint(0, 800)\n",
      "        self.y = random.randint(0, 600)\n",
      "        self.z = random.random()\n",
      "        self.speed = 0\n",
      "        self.direction = \"left\"\n",
      "        self.rotation = 0\n",
      "        print(\"Hi, I am a fish named\", self.name)"
     ],
     "language": "python",
     "metadata": {},
     "outputs": [],
     "prompt_number": 16
    },
    {
     "cell_type": "code",
     "collapsed": false,
     "input": [
      "fish1 = Fish(\"Nemo\")"
     ],
     "language": "python",
     "metadata": {},
     "outputs": [
      {
       "output_type": "stream",
       "stream": "stdout",
       "text": [
        "Hi, I am a fish named"
       ]
      },
      {
       "output_type": "stream",
       "stream": "stdout",
       "text": [
        " "
       ]
      },
      {
       "output_type": "stream",
       "stream": "stdout",
       "text": [
        "Nemo"
       ]
      },
      {
       "output_type": "stream",
       "stream": "stdout",
       "text": [
        "\n"
       ]
      }
     ],
     "prompt_number": 17
    },
    {
     "cell_type": "code",
     "collapsed": false,
     "input": [
      "fish1"
     ],
     "language": "python",
     "metadata": {},
     "outputs": [
      {
       "metadata": {},
       "output_type": "pyout",
       "prompt_number": 18,
       "text": [
        "<__builtin__.Fish instance at 0x000000000000002E>"
       ]
      }
     ],
     "prompt_number": 18
    },
    {
     "cell_type": "code",
     "collapsed": false,
     "input": [
      "fish2 = Fish(\"Dori\")"
     ],
     "language": "python",
     "metadata": {},
     "outputs": [
      {
       "output_type": "stream",
       "stream": "stdout",
       "text": [
        "Hi, I am a fish named"
       ]
      },
      {
       "output_type": "stream",
       "stream": "stdout",
       "text": [
        " "
       ]
      },
      {
       "output_type": "stream",
       "stream": "stdout",
       "text": [
        "Dori"
       ]
      },
      {
       "output_type": "stream",
       "stream": "stdout",
       "text": [
        "\n"
       ]
      }
     ],
     "prompt_number": 19
    },
    {
     "cell_type": "code",
     "collapsed": false,
     "input": [
      "fish2.name"
     ],
     "language": "python",
     "metadata": {},
     "outputs": [
      {
       "metadata": {},
       "output_type": "pyout",
       "prompt_number": 20,
       "text": [
        "'Dori'"
       ]
      }
     ],
     "prompt_number": 20
    },
    {
     "cell_type": "code",
     "collapsed": false,
     "input": [
      "fish2.x, fish2.y"
     ],
     "language": "python",
     "metadata": {},
     "outputs": [
      {
       "metadata": {},
       "output_type": "pyout",
       "prompt_number": 21,
       "text": [
        "(408, 123)"
       ]
      }
     ],
     "prompt_number": 21
    },
    {
     "cell_type": "code",
     "collapsed": false,
     "input": [
      "fish1.x, fish1.y"
     ],
     "language": "python",
     "metadata": {},
     "outputs": [
      {
       "metadata": {},
       "output_type": "pyout",
       "prompt_number": 22,
       "text": [
        "(628, 285)"
       ]
      }
     ],
     "prompt_number": 22
    },
    {
     "cell_type": "code",
     "collapsed": false,
     "input": [
      "fish2.z\n"
     ],
     "language": "python",
     "metadata": {},
     "outputs": [
      {
       "metadata": {},
       "output_type": "pyout",
       "prompt_number": 24,
       "text": [
        "0.388204738212845"
       ]
      }
     ],
     "prompt_number": 24
    },
    {
     "cell_type": "code",
     "collapsed": false,
     "input": [
      "from Graphics import Picture, Window"
     ],
     "language": "python",
     "metadata": {},
     "outputs": [],
     "prompt_number": 1
    },
    {
     "cell_type": "code",
     "collapsed": false,
     "input": [
      "window = Window(300, 200)"
     ],
     "language": "python",
     "metadata": {},
     "outputs": [],
     "prompt_number": 2
    },
    {
     "cell_type": "code",
     "collapsed": false,
     "input": [
      "pic = Picture(\"fish1.gif\")"
     ],
     "language": "python",
     "metadata": {},
     "outputs": [],
     "prompt_number": 5
    },
    {
     "cell_type": "code",
     "collapsed": false,
     "input": [
      "pic.draw(window)\n",
      "pic.outline = None"
     ],
     "language": "python",
     "metadata": {},
     "outputs": [],
     "prompt_number": 8
    },
    {
     "cell_type": "code",
     "collapsed": false,
     "input": [
      "import random\n",
      "from Graphics import Picture, Window, Color\n",
      "\n",
      "class Fish:\n",
      "    def __init__(self, filename):\n",
      "        self.filename = filename\n",
      "        self.picture = Picture(filename)\n",
      "        self.picture.outline = None\n",
      "        self.x = random.randint(0, 500)\n",
      "        self.y = random.randint(0, 500)\n",
      "        self.z = random.random()\n",
      "        self.speed = 2\n",
      "        self.direction = \"right\"\n",
      "        self.rotation = 0 \n",
      "    def putInOcean(self, ocean):\n",
      "        self.ocean = ocean\n",
      "        self.picture.draw(ocean)\n",
      "        self.picture.moveTo(self.x, self.y)\n",
      "    def step(self):\n",
      "        if self.direction == \"left\":\n",
      "            self.x = self.x + self.speed\n",
      "        else:\n",
      "            self.x = self.x - self.speed\n",
      "        if self.x > ocean.width:\n",
      "            ## flip image\n",
      "            self.direction = \"left\"\n",
      "        if self.x < 0:\n",
      "            ## flip image\n",
      "            self.direction = \"right\"\n",
      "        self.picture.moveTo(self.x, self.y)\n",
      "        \n",
      "ocean = Window(500, 500)\n",
      "ocean.setBackground(Color(0, 0, 255))\n",
      "fish = Fish(\"fish1.gif\")\n",
      "fish.putInOcean(ocean)\n",
      "\n",
      "while True:\n",
      "    fish.step()\n",
      "    ocean.step()\n"
     ],
     "language": "python",
     "metadata": {},
     "outputs": [
      {
       "output_type": "stream",
       "stream": "stderr",
       "text": [
        "Traceback (most recent call last):\n",
        "  File \"<string>\", line 34, in <module>\n",
        "  File \"<string>\", line 7, in __init__\n",
        "Exception: Failed to open file 'fish1.gif': No such file or directory\n"
       ]
      }
     ],
     "prompt_number": 1
    },
    {
     "cell_type": "code",
     "collapsed": false,
     "input": [
      "fish.step()"
     ],
     "language": "python",
     "metadata": {},
     "outputs": [],
     "prompt_number": 85
    }
   ],
   "metadata": {}
  }
 ]
}