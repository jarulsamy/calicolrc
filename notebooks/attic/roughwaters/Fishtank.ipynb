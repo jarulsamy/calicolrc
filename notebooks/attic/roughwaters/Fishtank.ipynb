{
 "metadata": {
  "name": "",
  "signature": "sha256:9be6a4e9c35748fdec9895cdfac0b2aeabf5a666544400d5baa6f8d964230c42"
 },
 "nbformat": 3,
 "nbformat_minor": 0,
 "worksheets": [
  {
   "cells": [
    {
     "cell_type": "code",
     "collapsed": false,
     "input": [
      "import random\n",
      "from Graphics import Picture, Window, Color\n",
      "\n",
      "class Animal:\n",
      "    def __init__(self, filename):\n",
      "        self.filename = filename\n",
      "        self.picture = Picture(filename)\n",
      "        self.picture.outline = None\n",
      "        self.x = random.randint(0, 500)\n",
      "        self.y = random.randint(0, 500)\n",
      "        self.z = random.random()\n",
      "        self.speed = 2\n",
      "        self.size = 1.0\n",
      "        self.direction = \"right\"\n",
      "        self.rotation = 0 \n",
      "        self.t = 0\n",
      "        self.initialize()\n",
      "    def initialize(self):\n",
      "        pass\n",
      "    def putInOcean(self, ocean):\n",
      "        self.ocean = ocean\n",
      "        self.picture.draw(ocean)\n",
      "        self.picture.moveTo(self.x, self.y)\n",
      "    def step(self):\n",
      "        pass\n",
      "\n",
      "class Dolphin(Animal):\n",
      "    def initialize(self):\n",
      "        self.state = \"going down\"\n",
      "        self.xdirection = \"left\"\n",
      "        self.t = 0\n",
      "    def step(self):\n",
      "        if self.state == \"going up\":\n",
      "            self.going_up()\n",
      "        elif self.state == \"going down\":\n",
      "            self.going_down()\n",
      "        elif self.state == \"needs air\":\n",
      "            self.needs_air()\n",
      "        elif self.state == \"gets air\":\n",
      "            self.gets_air()\n",
      "        elif self.state == \"dead\":\n",
      "            self.dead()\n",
      "        else:\n",
      "            raise Exception(\"bad state: \" + self.state)\n",
      "        ### --- check to make sure in bounds\n",
      "        if self.picture.x <= 0:\n",
      "            self.xdirection = \"right\"\n",
      "            self.picture.scaleTo(1.1)\n",
      "        elif self.picture.x >= ocean.width:\n",
      "            self.xdirection = \"left\"\n",
      "            self.picture.scaleTo(0.9)\n",
      "        ## move the animal\n",
      "        if self.xdirection == \"left\":\n",
      "            self.x -= 1\n",
      "        else:\n",
      "            self.x += 1\n",
      "        self.picture.moveTo(self.x, self.y)\n",
      "        self.t += 1\n",
      "        \n",
      "    def going_up(self):\n",
      "        if self.y < 10:\n",
      "            self.state = \"going down\"\n",
      "            self.t = 0\n",
      "        else:\n",
      "            self.y -= 1\n",
      "    def going_down(self):\n",
      "        if self.y > 300:\n",
      "            self.state = \"going up\"\n",
      "            self.t = 0\n",
      "        else:\n",
      "            self.y += 1\n",
      "    def needs_air(self):\n",
      "        if self.y < 10:\n",
      "            self.state = \"going down\"\n",
      "            self.t = 0\n",
      "        else:\n",
      "            self.y -= 1\n",
      "    def gets_air(self):\n",
      "        print(\"Gulp!\")\n",
      "        self.state = \"going down\"\n",
      "        self.t = 0\n",
      "    def dead(self):\n",
      "        pass\n",
      "        \n",
      "ocean = Window(500, 500)\n",
      "ocean.setBackground(Color(0, 0, 255))\n",
      "background = Picture(\"background.jpg\")\n",
      "background.scale(3.0)\n",
      "#background = Picture(\"http://baldwinschool.haikulearning.com/\"\n",
      "#                     \"lblankenship1/computerscienceii/wk/2936341/cms_file/show_img/\"\n",
      "#                     \"20254735.jpg\")\n",
      "background.draw(ocean)"
     ],
     "language": "python",
     "metadata": {},
     "outputs": [],
     "prompt_number": 49
    },
    {
     "cell_type": "code",
     "collapsed": false,
     "input": [
      "fishes = [Dolphin(\"fish1.gif\"), Dolphin(\"puffer.gif\"), Dolphin(\"fish1.gif\")]\n",
      "\n",
      "for fish in fishes:\n",
      "    fish.putInOcean(ocean)\n",
      "\n",
      "while True:\n",
      "    for fish in fishes:\n",
      "        fish.picture.speak(str(fish.t))\n",
      "        fish.step()\n",
      "        if random.random() < .1:\n",
      "            background.move(random.randint(-1,1), \n",
      "                       random.randint(-1,1))\n",
      "    ocean.step(.01)"
     ],
     "language": "python",
     "metadata": {},
     "outputs": [
      {
       "output_type": "stream",
       "stream": "stderr",
       "text": [
        "Running script aborted!"
       ]
      },
      {
       "output_type": "stream",
       "stream": "stderr",
       "text": [
        "\n"
       ]
      }
     ],
     "prompt_number": 50
    },
    {
     "cell_type": "code",
     "collapsed": false,
     "input": [
      "fishes[1].picture.speak()"
     ],
     "language": "python",
     "metadata": {},
     "outputs": [],
     "prompt_number": 38
    },
    {
     "cell_type": "code",
     "collapsed": false,
     "input": [],
     "language": "python",
     "metadata": {},
     "outputs": []
    }
   ],
   "metadata": {}
  }
 ]
}