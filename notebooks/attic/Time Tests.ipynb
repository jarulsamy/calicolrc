{
 "metadata": {
  "name": "",
  "signature": "sha256:c602ae62199e9e0cac776f5f0c75cf8b31375bddf2a2b72b7df411a5cb9d5d19"
 },
 "nbformat": 3,
 "nbformat_minor": 0,
 "worksheets": [
  {
   "cells": [
    {
     "cell_type": "code",
     "collapsed": false,
     "input": [
      "import time\n",
      "def clock():\n",
      "    return time.clock()"
     ],
     "language": "python",
     "metadata": {},
     "outputs": [],
     "prompt_number": 1
    },
    {
     "cell_type": "code",
     "collapsed": false,
     "input": [
      "%%lang scheme\n",
      "(use-stack-trace #f)"
     ],
     "language": "python",
     "metadata": {},
     "outputs": [],
     "prompt_number": 2
    },
    {
     "cell_type": "code",
     "collapsed": false,
     "input": [
      "%%lang scheme\n",
      "(define! scheme_test \n",
      "  (lambda (size)\n",
      "    (let* ((start (clock)))\n",
      "        (using \"Graphics\")\n",
      "        (define picture (Graphics.Picture size size))\n",
      "        (for-each (lambda (pixel) (pixel.setColor (Graphics.Color 255 0 0))) (picture.getPixels))\n",
      "        (- (clock) start))))"
     ],
     "language": "python",
     "metadata": {},
     "outputs": [],
     "prompt_number": 3
    },
    {
     "cell_type": "code",
     "collapsed": false,
     "input": [
      "%%lang scheme\n",
      "(define! scheme_test \n",
      "  (lambda (size)\n",
      "    (using \"Graphics\")\n",
      "    (let* ((start (clock))\n",
      "           (color Graphics.Color)\n",
      "           (set-color! Graphics.setColor)\n",
      "           (the-color (color 255 0 0))\n",
      "           (f (lambda (pixel) (set-color! pixel the-color))))\n",
      "        (define picture (Graphics.Picture size size))\n",
      "        (for-each f (picture.getPixels))\n",
      "        (- (clock) start))))"
     ],
     "language": "python",
     "metadata": {},
     "outputs": [],
     "prompt_number": 10
    },
    {
     "cell_type": "code",
     "collapsed": false,
     "input": [
      "def python_test(size):\n",
      "    start = clock()\n",
      "    import Graphics\n",
      "    picture = Graphics.Picture(size, size)\n",
      "    for pixel in picture.getPixels():\n",
      "        pixel.setColor(Graphics.Color(255,0,0))\n",
      "    return clock() - start"
     ],
     "language": "python",
     "metadata": {},
     "outputs": [],
     "prompt_number": 12
    },
    {
     "cell_type": "code",
     "collapsed": false,
     "input": [
      "%%time\n",
      "from Widgets import Lines\n",
      "sizes = range(5, 50, 5)\n",
      "lines = Lines(5, 50, 5)\n",
      "lines = Lines(lines, [scheme_test(size) for size in sizes], \"Scheme\") \n",
      "lines = Lines(lines, [python_test(size) for size in sizes], \"Python\")"
     ],
     "language": "python",
     "metadata": {},
     "outputs": [
      {
       "output_type": "stream",
       "stream": "stdout",
       "text": [
        "Time: 02 s, 554 ms"
       ]
      },
      {
       "output_type": "stream",
       "stream": "stdout",
       "text": [
        "\n"
       ]
      }
     ],
     "prompt_number": 13
    },
    {
     "cell_type": "code",
     "collapsed": false,
     "input": [
      "calico.LineChart(lines, {\"width\": 700, \"chartArea\": {\"width\": 500}})"
     ],
     "language": "python",
     "metadata": {},
     "outputs": [
      {
       "javascript": [
        "require(['https://www.google.com/jsapi'], function () {\n",
        "function draw() {  var chart = new google.visualization.LineChart(element[0]);\n",
        "  chart.draw(google.visualization.arrayToDataTable([['x', 'Scheme', 'Python'],\n",
        "['5', 0.0160637999999977, 0.00116060000000573],\n",
        "['10', 0.0429314000000005, 0.00144079999999747],\n",
        "['15', 0.0781470999999954, 0.000322800000006396],\n",
        "['20', 0.149180400000006, 0.000469400000000064],\n",
        "['25', 0.216275100000004, 0.00064810000000648],\n",
        "['30', 0.333651200000006, 0.000862300000008531],\n",
        "['35', 0.433089300000006, 0.00116890000001035],\n",
        "['40', 0.567157399999999, 0.00147620000001325],\n",
        "['45', 0.702143300000003, 0.00177220000000489]]), {'chartArea': {'width': 500}, 'width': 700});\n",
        "}\n",
        "google.load('visualization', '1.0',\n",
        "            {'callback': draw, 'packages':['corechart']});\n",
        "\n",
        "});\n"
       ],
       "metadata": {},
       "output_type": "display_data",
       "text": [
        "<JavaScript viewable in executing notebook>"
       ]
      },
      {
       "metadata": {},
       "output_type": "pyout",
       "prompt_number": 14,
       "text": [
        "Widgets+LineChart"
       ]
      }
     ],
     "prompt_number": 14
    },
    {
     "cell_type": "code",
     "collapsed": false,
     "input": [
      "%%lang Scheme\n",
      "%%time\n",
      "(define fib\n",
      "  (lambda (n)\n",
      "    (if (< n 2)\n",
      "    1\n",
      "    (+ (fib (- n 1))\n",
      "       (fib (- n 2))))))\n",
      "\n",
      "(display (fib 35)) ;; probably about 45 minutes, or more"
     ],
     "language": "python",
     "metadata": {},
     "outputs": [
      {
       "output_type": "stream",
       "stream": "stdout",
       "text": [
        "\"14930352\""
       ]
      },
      {
       "output_type": "stream",
       "stream": "stdout",
       "text": [
        "Time: 16 s, 744 ms"
       ]
      },
      {
       "output_type": "stream",
       "stream": "stdout",
       "text": [
        "\n"
       ]
      }
     ],
     "prompt_number": 28
    },
    {
     "cell_type": "code",
     "collapsed": false,
     "input": [
      "%%lang Scheme\n",
      "%%time\n",
      "(define fib\n",
      "  (lambda (n)\n",
      "    (if (< n 2)\n",
      "        1\n",
      "        (+ (fib (- n 1))\n",
      "           (fib (- n 2))))))\n",
      "\n",
      "(fib 23)"
     ],
     "language": "python",
     "metadata": {},
     "outputs": [
      {
       "output_type": "stream",
       "stream": "stdout",
       "text": [
        "Time: 05 s, 196 ms"
       ]
      },
      {
       "output_type": "stream",
       "stream": "stdout",
       "text": [
        "\n"
       ]
      },
      {
       "metadata": {},
       "output_type": "pyout",
       "prompt_number": 7,
       "text": [
        "46368"
       ]
      }
     ],
     "prompt_number": 7
    },
    {
     "cell_type": "code",
     "collapsed": false,
     "input": [
      "%%lang scheme\n",
      "(define fib (lambda (n) (if (< n 2) 1 (+ (fib (- n 1)) (fib (- n 2))))))\n",
      "\n",
      "(define fib-cps\n",
      "  (lambda (n k)\n",
      "    (cond\n",
      "      ((= n 1) (k 1))\n",
      "      ((= n 2) (k 1))\n",
      "      (else (fib-cps (- n 1)\n",
      "       (lambda (v1)\n",
      "         (fib-cps (- n 2)\n",
      "           (lambda (v2)\n",
      "             (k (+ v1 v2))))))))))\n"
     ],
     "language": "python",
     "metadata": {},
     "outputs": [],
     "prompt_number": 8
    },
    {
     "cell_type": "code",
     "collapsed": false,
     "input": [
      "%%lang scheme\n",
      "%%time\n",
      "(fib-cps 23 (lambda (v) v))"
     ],
     "language": "python",
     "metadata": {},
     "outputs": [
      {
       "output_type": "stream",
       "stream": "stdout",
       "text": [
        "Time: 05 s, 239 ms"
       ]
      },
      {
       "output_type": "stream",
       "stream": "stdout",
       "text": [
        "\n"
       ]
      },
      {
       "metadata": {},
       "output_type": "pyout",
       "prompt_number": 9,
       "text": [
        "28657"
       ]
      }
     ],
     "prompt_number": 9
    },
    {
     "cell_type": "code",
     "collapsed": false,
     "input": [
      "%%lang scheme\n",
      "%%time\n",
      "(fib 23)"
     ],
     "language": "python",
     "metadata": {},
     "outputs": [
      {
       "output_type": "stream",
       "stream": "stdout",
       "text": [
        "Time: 04 s, 638 ms"
       ]
      },
      {
       "output_type": "stream",
       "stream": "stdout",
       "text": [
        "\n"
       ]
      },
      {
       "metadata": {},
       "output_type": "pyout",
       "prompt_number": 12,
       "text": [
        "46368"
       ]
      }
     ],
     "prompt_number": 12
    },
    {
     "cell_type": "code",
     "collapsed": false,
     "input": [
      "%%lang scheme\n",
      "\n",
      " "
     ],
     "language": "python",
     "metadata": {},
     "outputs": [],
     "prompt_number": 11
    },
    {
     "cell_type": "code",
     "collapsed": false,
     "input": [],
     "language": "python",
     "metadata": {},
     "outputs": []
    }
   ],
   "metadata": {}
  }
 ]
}