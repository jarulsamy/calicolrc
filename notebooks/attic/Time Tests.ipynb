{
 "metadata": {
  "name": "",
  "signature": "sha256:e11e54fe5f554f7a64fd08ac5da12ba53f6d8517d8fa64a7a8862c739509193f"
 },
 "nbformat": 3,
 "nbformat_minor": 0,
 "worksheets": [
  {
   "cells": [
    {
     "cell_type": "code",
     "collapsed": false,
     "input": [
      "import time\n",
      "def clock():\n",
      "    return time.clock()"
     ],
     "language": "python",
     "metadata": {},
     "outputs": [],
     "prompt_number": 1
    },
    {
     "cell_type": "code",
     "collapsed": false,
     "input": [
      "%%lang scheme\n",
      "(use-stack-trace #f)"
     ],
     "language": "python",
     "metadata": {},
     "outputs": [],
     "prompt_number": 2
    },
    {
     "cell_type": "code",
     "collapsed": false,
     "input": [
      "%%lang scheme\n",
      "(define! scheme_test \n",
      "  (lambda (size)\n",
      "    (using \"Graphics\")\n",
      "    (let* ((start (clock))\n",
      "           (color Graphics.Color)\n",
      "           (set-color! Graphics.setColor)\n",
      "           (the-color (color 255 0 0))\n",
      "           (f (lambda (pixel) (set-color! pixel the-color))))\n",
      "        (define picture (Graphics.Picture size size))\n",
      "        (for-each f (picture.getPixels))\n",
      "        (- (clock) start))))"
     ],
     "language": "python",
     "metadata": {},
     "outputs": [],
     "prompt_number": 3
    },
    {
     "cell_type": "code",
     "collapsed": false,
     "input": [
      "def python_test(size):\n",
      "    start = clock()\n",
      "    import Graphics\n",
      "    picture = Graphics.Picture(size, size)\n",
      "    for pixel in picture.getPixels():\n",
      "        pixel.setColor(Graphics.Color(255,0,0))\n",
      "    return clock() - start"
     ],
     "language": "python",
     "metadata": {},
     "outputs": [],
     "prompt_number": 4
    },
    {
     "cell_type": "code",
     "collapsed": false,
     "input": [
      "%%time\n",
      "from Widgets import Lines\n",
      "sizes = range(5, 50, 5)\n",
      "lines = Lines(5, 50, 5)\n",
      "lines = Lines(lines, [scheme_test(size) for size in sizes], \"Scheme\") \n",
      "lines = Lines(lines, [python_test(size) for size in sizes], \"Python\")"
     ],
     "language": "python",
     "metadata": {},
     "outputs": [
      {
       "output_type": "stream",
       "stream": "stdout",
       "text": [
        "Time: 02 s, 616 ms"
       ]
      },
      {
       "output_type": "stream",
       "stream": "stdout",
       "text": [
        "\n"
       ]
      }
     ],
     "prompt_number": 5
    },
    {
     "cell_type": "code",
     "collapsed": false,
     "input": [
      "calico.LineChart(lines, {\"width\": 700, \"chartArea\": {\"width\": 500}})"
     ],
     "language": "python",
     "metadata": {},
     "outputs": [
      {
       "html": [
        "<div id=\"chart_div_1\" style=\"height: 300px;\"></div>\n",
        "<script type=\"text/javascript\">\n",
        "  require(['https://www.google.com/jsapi'], function () {\n",
        "      function draw() {\n",
        "        var chart = new google.visualization.LineChart(document.getElementById('chart_div_1'));\n",
        "        chart.draw(google.visualization.arrayToDataTable([['x', 'Scheme', 'Python'],\n",
        "['5', 0.0376875, 0.00294080000000019],\n",
        "['10', 0.0513137, 0.00549130000000009],\n",
        "['15', 0.0842504, 0.00176679999999996],\n",
        "['20', 0.1545257, 0.00086239999999993],\n",
        "['25', 0.2201708, 0.00117630000000002],\n",
        "['30', 0.3130541, 0.00168640000000009],\n",
        "['35', 0.4317313, 0.00208060000000021],\n",
        "['40', 0.5712111, 0.00283850000000019],\n",
        "['45', 0.7073561, 0.00330299999999983]]), {'chartArea': {'width': 500}, 'width': 700});\n",
        "      }\n",
        "      google.load('visualization', '1.0',\n",
        "                  {'callback': draw, 'packages':['corechart']});\n",
        "  });\n",
        "</script>\n"
       ],
       "metadata": {},
       "output_type": "pyout",
       "prompt_number": 6,
       "text": [
        "<LineChart availble for viewing in notebook>"
       ]
      }
     ],
     "prompt_number": 6
    },
    {
     "cell_type": "code",
     "collapsed": false,
     "input": [],
     "language": "python",
     "metadata": {},
     "outputs": []
    }
   ],
   "metadata": {}
  }
 ]
}