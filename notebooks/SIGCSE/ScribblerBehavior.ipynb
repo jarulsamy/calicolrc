{
 "metadata": {
  "name": "",
  "signature": "sha256:982907228bc4ae5a80913528096e9e3138a5962ca1b559c06f6e3e003fe4592d"
 },
 "nbformat": 3,
 "nbformat_minor": 0,
 "worksheets": [
  {
   "cells": [
    {
     "cell_type": "code",
     "collapsed": false,
     "input": [
      "from Myro import *"
     ],
     "language": "python",
     "metadata": {},
     "outputs": [],
     "prompt_number": 1
    },
    {
     "cell_type": "code",
     "collapsed": false,
     "input": [
      "init(\"sim\")"
     ],
     "language": "python",
     "metadata": {},
     "outputs": [
      {
       "output_type": "stream",
       "stream": "stdout",
       "text": [
        "You are using:"
       ]
      },
      {
       "output_type": "stream",
       "stream": "stdout",
       "text": [
        "\n"
       ]
      },
      {
       "output_type": "stream",
       "stream": "stdout",
       "text": [
        "   Simulated Fluke, version 1.0.0"
       ]
      },
      {
       "output_type": "stream",
       "stream": "stdout",
       "text": [
        "\n"
       ]
      },
      {
       "output_type": "stream",
       "stream": "stdout",
       "text": [
        "   Simulated Scribbler 2, version 1.0.0"
       ]
      },
      {
       "output_type": "stream",
       "stream": "stdout",
       "text": [
        "\n"
       ]
      },
      {
       "output_type": "stream",
       "stream": "stdout",
       "text": [
        "Hello, my name is 'Scribby'!"
       ]
      },
      {
       "output_type": "stream",
       "stream": "stdout",
       "text": [
        "\n"
       ]
      }
     ],
     "prompt_number": 2
    },
    {
     "cell_type": "code",
     "collapsed": false,
     "input": [
      "from Myro import *\n",
      "\n",
      "cruiseSpeed = 0.75\n",
      "turnSpeed = 0.5\n",
      "\n",
      "def cruise():\n",
      "    return True, cruiseSpeed, 0\n",
      "\n",
      "def avoid():\n",
      "    # see if there are any obstacles\n",
      "    L = getIR(\"left\")\n",
      "    R = getIR(\"right\")\n",
      "\n",
      "    if L == 0:\n",
      "        print (\"Turning Right\")\n",
      "        return True, -cruiseSpeed, -turnSpeed\n",
      "    elif R == 0:\n",
      "        print (\"Turning Left\")\n",
      "        return True, -cruiseSpeed, turnSpeed\n",
      "    else:\n",
      "        return False, 0, 0\n",
      "\n",
      "def userControl():\n",
      "    r,t = getGamepadNow(\"axis\")\n",
      "    if abs(t) > 0.01 or abs(r) > 0.01:\n",
      "        print (\"User Override\")\n",
      "        return True, -t, -r\n",
      "    else:\n",
      "        return False, 0, 0\n",
      "\n",
      "def arbitrate(behaviors):\n",
      "    for b in behaviors:\n",
      "        activated, t, r = b()\n",
      "        if activated:\n",
      "            return t,r\n",
      "\n",
      "    return 0, 0\n",
      "\n",
      "#initialize()\n",
      "setForwardness('scribbler-forward')\n",
      "behaviors = [avoid, cruise]\n",
      "\n",
      "for t in timer(15):\n",
      "    t, r = arbitrate(behaviors) \n",
      "    move(t, r)\n",
      "    \n",
      "stop()\n",
      "p = takePicture()\n",
      "show(p)\n",
      "calico.display(p)"
     ],
     "language": "python",
     "metadata": {},
     "outputs": [
      {
       "output_type": "stream",
       "stream": "stdout",
       "text": [
        "Turning Left"
       ]
      },
      {
       "output_type": "stream",
       "stream": "stdout",
       "text": [
        "\n"
       ]
      },
      {
       "output_type": "stream",
       "stream": "stdout",
       "text": [
        "Turning Right"
       ]
      },
      {
       "output_type": "stream",
       "stream": "stdout",
       "text": [
        "\n"
       ]
      },
      {
       "output_type": "stream",
       "stream": "stdout",
       "text": [
        "Turning Right"
       ]
      },
      {
       "output_type": "stream",
       "stream": "stdout",
       "text": [
        "\n"
       ]
      },
      {
       "output_type": "stream",
       "stream": "stdout",
       "text": [
        "Turning Right"
       ]
      },
      {
       "output_type": "stream",
       "stream": "stdout",
       "text": [
        "\n"
       ]
      },
      {
       "output_type": "stream",
       "stream": "stdout",
       "text": [
        "Turning Right"
       ]
      },
      {
       "output_type": "stream",
       "stream": "stdout",
       "text": [
        "\n"
       ]
      },
      {
       "output_type": "stream",
       "stream": "stdout",
       "text": [
        "Turning Right"
       ]
      },
      {
       "output_type": "stream",
       "stream": "stdout",
       "text": [
        "\n"
       ]
      },
      {
       "output_type": "stream",
       "stream": "stdout",
       "text": [
        "Turning Right"
       ]
      },
      {
       "output_type": "stream",
       "stream": "stdout",
       "text": [
        "\n"
       ]
      },
      {
       "output_type": "stream",
       "stream": "stdout",
       "text": [
        "Turning Right"
       ]
      },
      {
       "output_type": "stream",
       "stream": "stdout",
       "text": [
        "\n"
       ]
      },
      {
       "output_type": "stream",
       "stream": "stdout",
       "text": [
        "Turning Right"
       ]
      },
      {
       "output_type": "stream",
       "stream": "stdout",
       "text": [
        "\n"
       ]
      },
      {
       "output_type": "stream",
       "stream": "stdout",
       "text": [
        "Turning Right"
       ]
      },
      {
       "output_type": "stream",
       "stream": "stdout",
       "text": [
        "\n"
       ]
      },
      {
       "output_type": "stream",
       "stream": "stdout",
       "text": [
        "Turning Right"
       ]
      },
      {
       "output_type": "stream",
       "stream": "stdout",
       "text": [
        "\n"
       ]
      },
      {
       "output_type": "stream",
       "stream": "stdout",
       "text": [
        "Turning Right"
       ]
      },
      {
       "output_type": "stream",
       "stream": "stdout",
       "text": [
        "\n"
       ]
      },
      {
       "output_type": "stream",
       "stream": "stdout",
       "text": [
        "Turning Right"
       ]
      },
      {
       "output_type": "stream",
       "stream": "stdout",
       "text": [
        "\n"
       ]
      },
      {
       "metadata": {},
       "output_type": "display_data",
       "text": [
        "<Picture (width=256, height=192)>"
       ]
      }
     ],
     "prompt_number": 3
    },
    {
     "cell_type": "code",
     "collapsed": false,
     "input": [
      "calico.display(p)"
     ],
     "language": "python",
     "metadata": {},
     "outputs": [
      {
       "metadata": {},
       "output_type": "display_data",
       "text": [
        "<Picture (width=256, height=192)>"
       ]
      }
     ],
     "prompt_number": 4
    },
    {
     "cell_type": "code",
     "collapsed": false,
     "input": [],
     "language": "python",
     "metadata": {},
     "outputs": []
    }
   ],
   "metadata": {}
  }
 ]
}