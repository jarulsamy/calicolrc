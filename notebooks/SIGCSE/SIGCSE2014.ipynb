{
 "metadata": {
  "celltoolbar": "Slideshow",
  "name": "",
  "signature": "sha256:885174805d863a54dc999472efad04f869b0ed5afb9e485934831d0dce0563fe"
 },
 "nbformat": 3,
 "nbformat_minor": 0,
 "worksheets": [
  {
   "cells": [
    {
     "cell_type": "markdown",
     "metadata": {
      "slideshow": {
       "slide_type": "slide"
      }
     },
     "source": [
      "#(De-)Coding the Drone\n",
      "\n",
      "<img align = \"left\" src = \"http://drablab.org/keithohara/images/cmsc119-fall2013.png\">\n",
      "\n",
      "## Bard College - CMSC 119 - Fall 2013"
     ]
    },
    {
     "cell_type": "markdown",
     "metadata": {
      "slideshow": {
       "slide_type": "slide"
      }
     },
     "source": [
      "## Bard College's [Center for the Study of the Drone](http://dronecenter.bard.edu/)\n",
      "<img src = \"http://drablab.org/blithewood.jpg\">\n",
      "Photo Courtesy of [Tushev Aerials](http://www.tushevs.com/)"
     ]
    },
    {
     "cell_type": "markdown",
     "metadata": {
      "slideshow": {
       "slide_type": "slide"
      }
     },
     "source": [
      "##Course Themes\n",
      "<img src = \"http://blog.drablab.org/wp-content/uploads/2013/08/DSCN0107.jpg\" align = \"right\" width = 500>\n",
      "1. Literacy\n",
      "2. Autonomy\n",
      "3. Privacy\n"
     ]
    },
    {
     "cell_type": "markdown",
     "metadata": {
      "slideshow": {
       "slide_type": "slide"
      }
     },
     "source": [
      "##Course Hardware\n",
      "<img src = \"http://ardrone2.parrot.com/media/uploads/photos/album/thumb/ardrone2_outdoor_bottom.png\" align = \"right\" width = 200>\n",
      "<img src = \"http://www.betterbots.com/images/scribbler2.jpg\" align = \"right\" width = 200>\n",
      "<img src = \"http://drablab.org/keithohara/images/arduino.jpg\" align = \"right\" width = 200>\n",
      "1. Arduino\n",
      "2. Scribbler\n",
      "3. AR Drone"
     ]
    },
    {
     "cell_type": "markdown",
     "metadata": {
      "slideshow": {
       "slide_type": "slide"
      }
     },
     "source": [
      "##Course Texts\n",
      "<img align = \"right\" width = \"150\" src = \"http://drablab.org/keithohara/images/b2b.jpg\">\n",
      "<img align = \"right\" width = \"150\" src = \"http://upload.wikimedia.org/wikipedia/en/8/80/Humanusecover.jpg\">\n",
      "<img align = \"right\" width = \"150\" src = \"http://drablab.org/keithohara/images/code.jpg\"><br><br>\n",
      "<br>\n",
      "\n",
      "#### ... and ... lots of DIY Google Docs\n"
     ]
    },
    {
     "cell_type": "code",
     "collapsed": false,
     "input": [],
     "language": "python",
     "metadata": {},
     "outputs": []
    }
   ],
   "metadata": {}
  }
 ]
}