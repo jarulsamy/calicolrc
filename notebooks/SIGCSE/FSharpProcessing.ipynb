{
 "metadata": {
  "name": "",
  "signature": "sha256:8c76d69bff5d9b9042da2f7c7cac8859037ac719ea64345acb2f2e5a81ec3315"
 },
 "nbformat": 3,
 "nbformat_minor": 0,
 "worksheets": [
  {
   "cells": [
    {
     "cell_type": "code",
     "collapsed": false,
     "input": [
      "%%%lang fsharp"
     ],
     "language": "python",
     "metadata": {},
     "outputs": [
      {
       "output_type": "stream",
       "stream": "stdout",
       "text": [
        "Calico Language is now \"F#\""
       ]
      },
      {
       "output_type": "stream",
       "stream": "stdout",
       "text": [
        "\n"
       ]
      }
     ],
     "prompt_number": 1
    },
    {
     "cell_type": "code",
     "collapsed": false,
     "input": [
      "let mutable sx = 0.0    // x position\n",
      "let mutable sy = 0.0    // y position\n",
      "let mutable vx = 1.0    // x velocity\n",
      "let mutable vy = 1.0    // y velocity\n",
      "let mutable ay = 0.2    // y acceleration (gravity)\n",
      "\n",
      "Processing.window(500, 500)\n",
      "Processing.fill(255., 0., 0.)\n",
      "Processing.smooth()\n",
      "\n",
      "let draw() = \n",
      "    sx <- sx + vx\n",
      "    sy <- sy + vy\n",
      "    vy <- vy + ay\n",
      "\n",
      "    if sx <= 0.0 || sx >= Processing.width() then vx <- -vx\n",
      "\n",
      "    if sy >= (Processing.height()-10.0) then \n",
      "        sy <- (Processing.height()-10.0)\n",
      "        vy <- -0.9*vy\n",
      "\n",
      "    Processing.background(255.)\n",
      "    Processing.ellipse(sx, sy, 20., 20.)\n",
      "\n",
      "Processing.add_onLoop (new Processing.VoidDelegate (draw))\n",
      "Processing.loop()"
     ],
     "language": "python",
     "metadata": {},
     "outputs": [],
     "prompt_number": 47
    },
    {
     "cell_type": "code",
     "collapsed": false,
     "input": [],
     "language": "python",
     "metadata": {},
     "outputs": []
    }
   ],
   "metadata": {}
  }
 ]
}