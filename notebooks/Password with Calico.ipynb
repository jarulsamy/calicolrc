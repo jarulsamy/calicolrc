{
 "metadata": {
  "name": "",
  "signature": "sha256:02cd6f74f074d3539bf19dccf11eabd93b2cf16513fd19357a3fd2443d8daf67"
 },
 "nbformat": 3,
 "nbformat_minor": 0,
 "worksheets": [
  {
   "cells": [
    {
     "cell_type": "code",
     "collapsed": false,
     "input": [
      "calico.Javascript(\"\"\"require([\"notebook/js/widgets/widget\"], function(WidgetManager){\n",
      "    var PasswordView = WidgetManager._view_types['TextView'].extend({  \n",
      "        update: function(options){\n",
      "            this.$textbox.attr('type', 'password');\n",
      "            return PasswordView.__super__.update.apply(this);\n",
      "        },\n",
      "    });\n",
      "    WidgetManager.register_widget_view('PasswordView', PasswordView);\n",
      "});\"\"\")"
     ],
     "language": "python",
     "metadata": {},
     "outputs": [
      {
       "javascript": [
        "require([\"notebook/js/widgets/widget\"], function(WidgetManager){\n",
        "    var PasswordView = WidgetManager._view_types['TextView'].extend({  \n",
        "        update: function(options){\n",
        "            this.$textbox.attr('type', 'password');\n",
        "            return PasswordView.__super__.update.apply(this);\n",
        "        },\n",
        "    });\n",
        "    WidgetManager.register_widget_view('PasswordView', PasswordView);\n",
        "});"
       ],
       "metadata": {},
       "output_type": "pyout",
       "prompt_number": 22,
       "text": [
        "<JavaScript>"
       ]
      }
     ],
     "prompt_number": 22
    },
    {
     "cell_type": "code",
     "collapsed": false,
     "input": [
      "import Widgets"
     ],
     "language": "python",
     "metadata": {},
     "outputs": [],
     "prompt_number": 23
    },
    {
     "cell_type": "code",
     "collapsed": false,
     "input": [
      "import ZMQServer"
     ],
     "language": "python",
     "metadata": {},
     "outputs": [],
     "prompt_number": 24
    },
    {
     "cell_type": "code",
     "collapsed": false,
     "input": [
      "#tw = Widgets.TextWidget(ZMQServer.session)\n",
      "#tw._view_name = \"PasswordView\"\n",
      "# or:\n",
      "class PasswordWidget(Widgets.TextWidget):\n",
      "    def __init__(self, *args, **kwargs):\n",
      "        self._view_name = \"PasswordView\"\n",
      "\n",
      "tw = PasswordWidget(ZMQServer.session)"
     ],
     "language": "python",
     "metadata": {},
     "outputs": [],
     "prompt_number": 35
    },
    {
     "cell_type": "code",
     "collapsed": false,
     "input": [
      "calico.display(tw)"
     ],
     "language": "python",
     "metadata": {},
     "outputs": [],
     "prompt_number": 37
    },
    {
     "cell_type": "code",
     "collapsed": false,
     "input": [
      "calico.Login(\"dblank\", tw.value)"
     ],
     "language": "python",
     "metadata": {},
     "outputs": [],
     "prompt_number": 7
    },
    {
     "cell_type": "code",
     "collapsed": false,
     "input": [
      "tw.value"
     ],
     "language": "python",
     "metadata": {},
     "outputs": [
      {
       "metadata": {},
       "output_type": "pyout",
       "prompt_number": 43,
       "text": [
        "'hwl'"
       ]
      }
     ],
     "prompt_number": 43
    },
    {
     "cell_type": "code",
     "collapsed": false,
     "input": [
      "tw._view_name"
     ],
     "language": "python",
     "metadata": {},
     "outputs": [
      {
       "metadata": {},
       "output_type": "pyout",
       "prompt_number": 28,
       "text": [
        "'PasswordView'"
       ]
      }
     ],
     "prompt_number": 28
    },
    {
     "cell_type": "code",
     "collapsed": false,
     "input": [
      "dir(tw)"
     ],
     "language": "python",
     "metadata": {},
     "outputs": [
      {
       "metadata": {},
       "output_type": "pyout",
       "prompt_number": 39,
       "text": [
        "['Dispatch', 'Equals', 'Finalize', 'GetDisplay', 'GetHashCode', 'GetInitialState', 'GetState', 'GetType', 'MemberwiseClone', 'ReferenceEquals', 'ToString', '__class__', '__delattr__', '__dict__', '__doc__', '__format__', '__getattribute__', '__hash__', '__init__', '__module__', '__new__', '__reduce__', '__reduce_ex__', '__repr__', '__setattr__', '__sizeof__', '__str__', '__subclasshook__', '__weakref__', '_view_name', 'comm_id', 'data', 'description', 'disabled', 'get', 'get_css', 'onClick', 'on_click', 'on_click_func', 'on_value_change', 'on_value_change_func', 'set', 'set_css', 'target_name', 'update', 'value', 'visible']"
       ]
      }
     ],
     "prompt_number": 39
    },
    {
     "cell_type": "code",
     "collapsed": false,
     "input": [
      "tw.update({})"
     ],
     "language": "python",
     "metadata": {},
     "outputs": [],
     "prompt_number": 41
    },
    {
     "cell_type": "code",
     "collapsed": false,
     "input": [],
     "language": "python",
     "metadata": {},
     "outputs": []
    }
   ],
   "metadata": {}
  }
 ]
}